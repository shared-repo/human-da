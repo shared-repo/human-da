{
 "cells": [
  {
   "cell_type": "code",
   "execution_count": 1,
   "metadata": {},
   "outputs": [],
   "source": [
    "import numpy as np\n",
    "import pandas as pd\n",
    "import matplotlib.pyplot as plt"
   ]
  },
  {
   "cell_type": "code",
   "execution_count": null,
   "metadata": {},
   "outputs": [],
   "source": [
    "# 파일에서 데이터 읽기\n",
    "from sklearn.datasets import load_files # 여러 개의 파일에서 데이터를 읽는 도구\n",
    "\n",
    "reviews_train = load_files('data-files/aclImdb/train')\n",
    "reviews_test = load_files('data-files/aclImdb/test')"
   ]
  },
  {
   "cell_type": "code",
   "execution_count": null,
   "metadata": {},
   "outputs": [
    {
     "name": "stdout",
     "output_type": "stream",
     "text": [
      "dict_keys(['data', 'filenames', 'target_names', 'target', 'DESCR'])\n",
      "25000 25000\n",
      "(array([0, 1]), array([12500, 12500]))\n",
      "['neg', 'pos']\n",
      "b\"Zero Day leads you to think, even re-think why two boys/young men would do what they did - commit mutual suicide via slaughtering their classmates. It captures what must be beyond a bizarre mode of being for two humans who have decided to withdraw from common civility in order to define their own/mutual world via coupled destruction.<br /><br />It is not a perfect movie but given what money/time the filmmaker and actors had - it is a remarkable product. In terms of explaining the motives and actions of the two young suicide/murderers it is better than 'Elephant' - in terms of being a film that gets under our 'rationalistic' skin it is a far, far better film than almost anything you are likely to see. <br /><br />Flawed but honest with a terrible honesty.\"\n"
     ]
    }
   ],
   "source": [
    "# 데이터 기본 정보 탐색\n",
    "print( reviews_train.keys() )\n",
    "print( len( reviews_train['data'] ), len( reviews_test['data'] ) )\n",
    "print( np.unique(reviews_train['target'], return_counts=True) )\n",
    "print( reviews_train['target_names'])\n",
    "print( reviews_train['data'][0])"
   ]
  },
  {
   "cell_type": "code",
   "execution_count": 8,
   "metadata": {},
   "outputs": [],
   "source": [
    "# 효과적인 전처리를 위해 DataFrame으로 변환\n",
    "reviews_train_df = pd.DataFrame({'label': reviews_train['target'], \n",
    "                                 'review' : reviews_train['data']})\n",
    "reviews_test_df = pd.DataFrame({'label': reviews_test['target'], \n",
    "                                'review' : reviews_test['data']})"
   ]
  },
  {
   "cell_type": "code",
   "execution_count": 9,
   "metadata": {},
   "outputs": [
    {
     "data": {
      "text/html": [
       "<div>\n",
       "<style scoped>\n",
       "    .dataframe tbody tr th:only-of-type {\n",
       "        vertical-align: middle;\n",
       "    }\n",
       "\n",
       "    .dataframe tbody tr th {\n",
       "        vertical-align: top;\n",
       "    }\n",
       "\n",
       "    .dataframe thead th {\n",
       "        text-align: right;\n",
       "    }\n",
       "</style>\n",
       "<table border=\"1\" class=\"dataframe\">\n",
       "  <thead>\n",
       "    <tr style=\"text-align: right;\">\n",
       "      <th></th>\n",
       "      <th>label</th>\n",
       "      <th>review</th>\n",
       "    </tr>\n",
       "  </thead>\n",
       "  <tbody>\n",
       "    <tr>\n",
       "      <th>0</th>\n",
       "      <td>1</td>\n",
       "      <td>b\"Zero Day leads you to think, even re-think w...</td>\n",
       "    </tr>\n",
       "    <tr>\n",
       "      <th>1</th>\n",
       "      <td>0</td>\n",
       "      <td>b'Words can\\'t describe how bad this movie is....</td>\n",
       "    </tr>\n",
       "    <tr>\n",
       "      <th>2</th>\n",
       "      <td>1</td>\n",
       "      <td>b'Everyone plays their part pretty well in thi...</td>\n",
       "    </tr>\n",
       "    <tr>\n",
       "      <th>3</th>\n",
       "      <td>0</td>\n",
       "      <td>b'There are a lot of highly talented filmmaker...</td>\n",
       "    </tr>\n",
       "    <tr>\n",
       "      <th>4</th>\n",
       "      <td>0</td>\n",
       "      <td>b'I\\'ve just had the evidence that confirmed m...</td>\n",
       "    </tr>\n",
       "  </tbody>\n",
       "</table>\n",
       "</div>"
      ],
      "text/plain": [
       "   label                                             review\n",
       "0      1  b\"Zero Day leads you to think, even re-think w...\n",
       "1      0  b'Words can\\'t describe how bad this movie is....\n",
       "2      1  b'Everyone plays their part pretty well in thi...\n",
       "3      0  b'There are a lot of highly talented filmmaker...\n",
       "4      0  b'I\\'ve just had the evidence that confirmed m..."
      ]
     },
     "execution_count": 9,
     "metadata": {},
     "output_type": "execute_result"
    }
   ],
   "source": [
    "# 데이터 프레임 확인\n",
    "reviews_train_df.head()"
   ]
  },
  {
   "cell_type": "code",
   "execution_count": 11,
   "metadata": {},
   "outputs": [],
   "source": [
    "# binary text -> char text\n",
    "reviews_train_df['review'] = reviews_train_df['review'].str.decode(encoding='utf-8')\n",
    "reviews_test_df['review'] = reviews_test_df['review'].str.decode(encoding='utf-8')"
   ]
  },
  {
   "cell_type": "code",
   "execution_count": 12,
   "metadata": {},
   "outputs": [
    {
     "data": {
      "text/html": [
       "<div>\n",
       "<style scoped>\n",
       "    .dataframe tbody tr th:only-of-type {\n",
       "        vertical-align: middle;\n",
       "    }\n",
       "\n",
       "    .dataframe tbody tr th {\n",
       "        vertical-align: top;\n",
       "    }\n",
       "\n",
       "    .dataframe thead th {\n",
       "        text-align: right;\n",
       "    }\n",
       "</style>\n",
       "<table border=\"1\" class=\"dataframe\">\n",
       "  <thead>\n",
       "    <tr style=\"text-align: right;\">\n",
       "      <th></th>\n",
       "      <th>label</th>\n",
       "      <th>review</th>\n",
       "    </tr>\n",
       "  </thead>\n",
       "  <tbody>\n",
       "    <tr>\n",
       "      <th>0</th>\n",
       "      <td>1</td>\n",
       "      <td>Zero Day leads you to think, even re-think why...</td>\n",
       "    </tr>\n",
       "    <tr>\n",
       "      <th>1</th>\n",
       "      <td>0</td>\n",
       "      <td>Words can't describe how bad this movie is. I ...</td>\n",
       "    </tr>\n",
       "    <tr>\n",
       "      <th>2</th>\n",
       "      <td>1</td>\n",
       "      <td>Everyone plays their part pretty well in this ...</td>\n",
       "    </tr>\n",
       "    <tr>\n",
       "      <th>3</th>\n",
       "      <td>0</td>\n",
       "      <td>There are a lot of highly talented filmmakers/...</td>\n",
       "    </tr>\n",
       "    <tr>\n",
       "      <th>4</th>\n",
       "      <td>0</td>\n",
       "      <td>I've just had the evidence that confirmed my s...</td>\n",
       "    </tr>\n",
       "  </tbody>\n",
       "</table>\n",
       "</div>"
      ],
      "text/plain": [
       "   label                                             review\n",
       "0      1  Zero Day leads you to think, even re-think why...\n",
       "1      0  Words can't describe how bad this movie is. I ...\n",
       "2      1  Everyone plays their part pretty well in this ...\n",
       "3      0  There are a lot of highly talented filmmakers/...\n",
       "4      0  I've just had the evidence that confirmed my s..."
      ]
     },
     "execution_count": 12,
     "metadata": {},
     "output_type": "execute_result"
    }
   ],
   "source": [
    "# decode 확인\n",
    "reviews_train_df.head()"
   ]
  },
  {
   "cell_type": "code",
   "execution_count": 13,
   "metadata": {},
   "outputs": [],
   "source": [
    "# 처리된 데이터 파일로 저장 ( 개별 파일에서 읽기 속도가 느려서 별도 파일로 저장 )\n",
    "reviews_train_df.to_csv('data-files/imdb_reviews_train.csv', index=False)\n",
    "reviews_test_df.to_csv('data-files/imdb_reviews_test.csv', index=False)"
   ]
  },
  {
   "cell_type": "code",
   "execution_count": 14,
   "metadata": {},
   "outputs": [
    {
     "data": {
      "text/html": [
       "<div>\n",
       "<style scoped>\n",
       "    .dataframe tbody tr th:only-of-type {\n",
       "        vertical-align: middle;\n",
       "    }\n",
       "\n",
       "    .dataframe tbody tr th {\n",
       "        vertical-align: top;\n",
       "    }\n",
       "\n",
       "    .dataframe thead th {\n",
       "        text-align: right;\n",
       "    }\n",
       "</style>\n",
       "<table border=\"1\" class=\"dataframe\">\n",
       "  <thead>\n",
       "    <tr style=\"text-align: right;\">\n",
       "      <th></th>\n",
       "      <th>label</th>\n",
       "      <th>review</th>\n",
       "    </tr>\n",
       "  </thead>\n",
       "  <tbody>\n",
       "    <tr>\n",
       "      <th>0</th>\n",
       "      <td>1</td>\n",
       "      <td>Zero Day leads you to think, even re-think why...</td>\n",
       "    </tr>\n",
       "    <tr>\n",
       "      <th>1</th>\n",
       "      <td>0</td>\n",
       "      <td>Words can't describe how bad this movie is. I ...</td>\n",
       "    </tr>\n",
       "    <tr>\n",
       "      <th>2</th>\n",
       "      <td>1</td>\n",
       "      <td>Everyone plays their part pretty well in this ...</td>\n",
       "    </tr>\n",
       "    <tr>\n",
       "      <th>3</th>\n",
       "      <td>0</td>\n",
       "      <td>There are a lot of highly talented filmmakers/...</td>\n",
       "    </tr>\n",
       "    <tr>\n",
       "      <th>4</th>\n",
       "      <td>0</td>\n",
       "      <td>I've just had the evidence that confirmed my s...</td>\n",
       "    </tr>\n",
       "  </tbody>\n",
       "</table>\n",
       "</div>"
      ],
      "text/plain": [
       "   label                                             review\n",
       "0      1  Zero Day leads you to think, even re-think why...\n",
       "1      0  Words can't describe how bad this movie is. I ...\n",
       "2      1  Everyone plays their part pretty well in this ...\n",
       "3      0  There are a lot of highly talented filmmakers/...\n",
       "4      0  I've just had the evidence that confirmed my s..."
      ]
     },
     "execution_count": 14,
     "metadata": {},
     "output_type": "execute_result"
    }
   ],
   "source": [
    "# 저장된 파일 테스트\n",
    "pd.read_csv('data-files/imdb_reviews_train.csv').head()"
   ]
  },
  {
   "cell_type": "code",
   "execution_count": 16,
   "metadata": {},
   "outputs": [
    {
     "name": "stdout",
     "output_type": "stream",
     "text": [
      "<class 'pandas.core.frame.DataFrame'>\n",
      "RangeIndex: 25000 entries, 0 to 24999\n",
      "Data columns (total 2 columns):\n",
      " #   Column  Non-Null Count  Dtype \n",
      "---  ------  --------------  ----- \n",
      " 0   label   25000 non-null  int64 \n",
      " 1   review  25000 non-null  object\n",
      "dtypes: int64(1), object(1)\n",
      "memory usage: 390.8+ KB\n",
      "<class 'pandas.core.frame.DataFrame'>\n",
      "RangeIndex: 25000 entries, 0 to 24999\n",
      "Data columns (total 2 columns):\n",
      " #   Column  Non-Null Count  Dtype \n",
      "---  ------  --------------  ----- \n",
      " 0   label   25000 non-null  int64 \n",
      " 1   review  25000 non-null  object\n",
      "dtypes: int64(1), object(1)\n",
      "memory usage: 390.8+ KB\n"
     ]
    }
   ],
   "source": [
    "# 데이터 정보 탐색 2\n",
    "reviews_train_df.info()\n",
    "reviews_test_df.info()"
   ]
  },
  {
   "cell_type": "code",
   "execution_count": 22,
   "metadata": {},
   "outputs": [],
   "source": [
    "# 데이터 전처리 : 대문자 -> 소문자\n",
    "\n",
    "reviews_train_df['review'] = reviews_train_df['review'].str.lower()\n",
    "reviews_test_df['review'] = reviews_test_df['review'].str.lower()"
   ]
  },
  {
   "cell_type": "code",
   "execution_count": 23,
   "metadata": {},
   "outputs": [
    {
     "data": {
      "text/plain": [
       "\"zero day leads you to think, even re-think why two boys/young men would do what they did - commit mutual suicide via slaughtering their classmates. it captures what must be beyond a bizarre mode of being for two humans who have decided to withdraw from common civility in order to define their own/mutual world via coupled destruction.<br /><br />it is not a perfect movie but given what money/time the filmmaker and actors had - it is a remarkable product. in terms of explaining the motives and actions of the two young suicide/murderers it is better than 'elephant' - in terms of being a film that gets under our 'rationalistic' skin it is a far, far better film than almost anything you are likely to see. <br /><br />flawed but honest with a terrible honesty.\""
      ]
     },
     "execution_count": 23,
     "metadata": {},
     "output_type": "execute_result"
    }
   ],
   "source": [
    "# review에 markup(tag)가 포함된 것 확인 : <br />\n",
    "reviews_train_df['review'][0]"
   ]
  },
  {
   "cell_type": "code",
   "execution_count": 25,
   "metadata": {},
   "outputs": [
    {
     "name": "stderr",
     "output_type": "stream",
     "text": [
      "C:\\Users\\human\\AppData\\Local\\Temp\\ipykernel_4912\\1110037150.py:8: MarkupResemblesLocatorWarning: The input looks more like a filename than markup. You may want to open this file and pass the filehandle into Beautiful Soup.\n",
      "  reviews_train_df['review'].map(lambda v: BeautifulSoup(v, 'html.parser').get_text())\n",
      "C:\\Users\\human\\AppData\\Local\\Temp\\ipykernel_4912\\1110037150.py:10: MarkupResemblesLocatorWarning: The input looks more like a filename than markup. You may want to open this file and pass the filehandle into Beautiful Soup.\n",
      "  reviews_test_df['review'].map(lambda v: BeautifulSoup(v, 'html.parser').get_text())\n"
     ]
    }
   ],
   "source": [
    "# 데이터 전처리 2 : markup 제거\n",
    "# reviews_train_df['review'] = reviews_train_df['review'].str.replace('<br />', '')\n",
    "\n",
    "from bs4 import BeautifulSoup\n",
    "\n",
    "# BeautifulSoup(\"<div>test</div>\").get_text() # --> test만 추출\n",
    "reviews_train_df['review'] = \\\n",
    "    reviews_train_df['review'].map(lambda v: BeautifulSoup(v, 'html.parser').get_text())\n",
    "reviews_test_df['review'] = \\\n",
    "    reviews_test_df['review'].map(lambda v: BeautifulSoup(v, 'html.parser').get_text())"
   ]
  },
  {
   "cell_type": "code",
   "execution_count": 26,
   "metadata": {},
   "outputs": [
    {
     "data": {
      "text/plain": [
       "\"zero day leads you to think, even re-think why two boys/young men would do what they did - commit mutual suicide via slaughtering their classmates. it captures what must be beyond a bizarre mode of being for two humans who have decided to withdraw from common civility in order to define their own/mutual world via coupled destruction.it is not a perfect movie but given what money/time the filmmaker and actors had - it is a remarkable product. in terms of explaining the motives and actions of the two young suicide/murderers it is better than 'elephant' - in terms of being a film that gets under our 'rationalistic' skin it is a far, far better film than almost anything you are likely to see. flawed but honest with a terrible honesty.\""
      ]
     },
     "execution_count": 26,
     "metadata": {},
     "output_type": "execute_result"
    }
   ],
   "source": [
    "reviews_train_df['review'][0]"
   ]
  },
  {
   "cell_type": "code",
   "execution_count": 29,
   "metadata": {},
   "outputs": [],
   "source": [
    "# 전처리 3 : 특수문자 제거 -> 영문자만 남겨두기 (정규표현식 사용)\n",
    "import re\n",
    "\n",
    "reviews_train_df['review'] = \\\n",
    "    reviews_train_df['review'].map(lambda v: re.sub('[^A-Za-z]', ' ', v))\n",
    "reviews_test_df['review'] = \\\n",
    "    reviews_test_df['review'].map(lambda v: re.sub('[^A-Za-z]', ' ', v))"
   ]
  },
  {
   "cell_type": "code",
   "execution_count": 31,
   "metadata": {},
   "outputs": [],
   "source": [
    "# 전처리 4 : 문장(single string) -> 단어(토큰) 리스트(string list)\n",
    "\n",
    "import nltk # 자연어 처리를 위한 패키지\n",
    "\n",
    "reviews_train_df['review'] = reviews_train_df['review'].map(nltk.word_tokenize)\n",
    "reviews_test_df['review'] = reviews_test_df['review'].map(nltk.word_tokenize)"
   ]
  },
  {
   "cell_type": "code",
   "execution_count": 51,
   "metadata": {},
   "outputs": [
    {
     "name": "stdout",
     "output_type": "stream",
     "text": [
      "['i', 'me', 'my', 'myself', 'we', 'our', 'ours', 'ourselves', 'you', \"you're\"] 179\n"
     ]
    }
   ],
   "source": [
    "# 전처리 5 : 불용어(stopwords) 제거\n",
    "\n",
    "# nltk.download('stopwords')\n",
    "from nltk.corpus import stopwords\n",
    "\n",
    "en_stopwords = stopwords.words('english') # english 불용어 사전 준비\n",
    "print(en_stopwords[:10], len(en_stopwords))\n",
    "# en_stopwords += ['test', 'xyz'] # 기존 stopwords에 새 단어 추가\n",
    "\n",
    "# reviews_train_df['review'][:10].map(lambda v: [ t for t in v if t not in en_stopwords ] )\n",
    "\n",
    "reviews_train_df['review'] = \\\n",
    "reviews_train_df['review'].map(lambda v: [ t for t in v if t not in en_stopwords ] )\n",
    "reviews_test_df['review'] = \\\n",
    "reviews_test_df['review'].map(lambda v: [ t for t in v if t not in en_stopwords ] )\n"
   ]
  },
  {
   "cell_type": "code",
   "execution_count": 55,
   "metadata": {},
   "outputs": [],
   "source": [
    "# 전처리 6 : 어근 추출 ( 단어 활용에 의해 철자가 달라진 단어를 표준화 또는 통합 )\n",
    "\n",
    "from nltk import PorterStemmer\n",
    "\n",
    "stemmer = PorterStemmer()\n",
    "# print(stemmer.stem('happy'), stemmer.stem('apples'), stemmer.stem('apple'))\n",
    "\n",
    "reviews_train_df['review'] = \\\n",
    "    reviews_train_df['review'].map(lambda v: [stemmer.stem(w) for w in v])\n",
    "reviews_test_df['review'] = \\\n",
    "    reviews_test_df['review'].map(lambda v: [stemmer.stem(w) for w in v])"
   ]
  },
  {
   "cell_type": "code",
   "execution_count": 58,
   "metadata": {},
   "outputs": [],
   "source": [
    "# 전처리 7 : 토큰 리스트(string list) -> 단일 문장 (single string)\n",
    "\n",
    "# print( '$'.join(['abc', 'def', 'xyz', '123']) )\n",
    "\n",
    "reviews_train_df['review'] = \\\n",
    "    reviews_train_df['review'].map(lambda v: ' '.join(v))\n",
    "reviews_test_df['review'] = \\\n",
    "    reviews_test_df['review'].map(lambda v: ' '.join(v))"
   ]
  },
  {
   "cell_type": "code",
   "execution_count": 59,
   "metadata": {},
   "outputs": [
    {
     "data": {
      "text/plain": [
       "'zero day lead think even think two boy young men would commit mutual suicid via slaughter classmat captur must beyond bizarr mode two human decid withdraw common civil order defin mutual world via coupl destruct perfect movi given money time filmmak actor remark product term explain motiv action two young suicid murder better eleph term film get rationalist skin far far better film almost anyth like see flaw honest terribl honesti'"
      ]
     },
     "execution_count": 59,
     "metadata": {},
     "output_type": "execute_result"
    }
   ],
   "source": [
    "reviews_train_df['review'][0]"
   ]
  },
  {
   "cell_type": "code",
   "execution_count": 60,
   "metadata": {},
   "outputs": [],
   "source": [
    "# 전처리 8 : string token -> numeric value\n",
    "\n",
    "from sklearn.feature_extraction.text import CountVectorizer\n",
    "\n",
    "cv = CountVectorizer()\n",
    "sparse_train_counts = cv.fit_transform(reviews_train_df['review'])\n",
    "sparse_test_counts = cv.transform(reviews_test_df['review']) # 테스트는 별도 훈련 없이 훈련 모델 사용"
   ]
  },
  {
   "cell_type": "code",
   "execution_count": null,
   "metadata": {},
   "outputs": [
    {
     "name": "stdout",
     "output_type": "stream",
     "text": [
      "단어사전의 크기 : 50573\n"
     ]
    }
   ],
   "source": [
    "# token -> number 변환기 확인\n",
    "# print( sparse_train_counts )\n",
    "print( \"단어사전의 크기 : {0}\".format(len( cv.vocabulary_.keys() ) ) )\n",
    "idx_to_word = { idx: word for word, idx in cv.vocabulary_.items() }"
   ]
  },
  {
   "cell_type": "code",
   "execution_count": 71,
   "metadata": {},
   "outputs": [
    {
     "data": {
      "text/plain": [
       "'amatuerish'"
      ]
     },
     "execution_count": 71,
     "metadata": {},
     "output_type": "execute_result"
    }
   ],
   "source": [
    "idx_to_word[1234]"
   ]
  },
  {
   "cell_type": "code",
   "execution_count": 72,
   "metadata": {},
   "outputs": [],
   "source": [
    "# 데이터 준비\n",
    "\n",
    "X_train, y_train = sparse_train_counts, reviews_train_df['label']\n",
    "X_test, y_test = sparse_test_counts, reviews_test_df['label']"
   ]
  },
  {
   "cell_type": "code",
   "execution_count": 78,
   "metadata": {},
   "outputs": [
    {
     "data": {
      "text/plain": [
       "(0.96112, 0.87204)"
      ]
     },
     "execution_count": 78,
     "metadata": {},
     "output_type": "execute_result"
    }
   ],
   "source": [
    "# 모델 훈련 (학습)\n",
    "\n",
    "from sklearn.linear_model import LogisticRegression\n",
    "\n",
    "logreg = LogisticRegression(C=0.1, max_iter=10000, random_state=42)\n",
    "logreg.fit(X_train, y_train)\n",
    "\n",
    "logreg.score(X_train, y_train), logreg.score(X_test, y_test)"
   ]
  },
  {
   "cell_type": "code",
   "execution_count": null,
   "metadata": {},
   "outputs": [],
   "source": []
  },
  {
   "cell_type": "code",
   "execution_count": 80,
   "metadata": {},
   "outputs": [
    {
     "name": "stdout",
     "output_type": "stream",
     "text": [
      "zero day lead think even think two boy young men would commit mutual suicid via slaughter classmat captur must beyond bizarr mode two human decid withdraw common civil order defin mutual world via coupl destruct perfect movi given money time filmmak actor remark product term explain motiv action two young suicid murder better eleph term film get rationalist skin far far better film almost anyth like see flaw honest terribl honesti\n",
      "[0 0 0 ... 0 0 0]\n"
     ]
    }
   ],
   "source": [
    "print( reviews_train_df['review'][0] )\n",
    "print( sparse_train_counts.toarray()[0])"
   ]
  },
  {
   "cell_type": "code",
   "execution_count": 86,
   "metadata": {},
   "outputs": [],
   "source": [
    "from sklearn.feature_extraction.text import TfidfTransformer, TfidfVectorizer\n",
    "\n",
    "# tv = TfidfVectorizer() # raw string -> tfidf\n",
    "# sparse_train_counts2 = tv.fit_transform(reviews_train_df['review'])\n",
    "# sparse_test_counts2 = tv.transform(reviews_test_df['review'])\n",
    "\n",
    "tt = TfidfTransformer() # int count data -> tfidf\n",
    "sparse_train_counts2 = tt.fit_transform(sparse_test_counts)\n",
    "sparse_test_counts2 = tt.transform(sparse_test_counts)"
   ]
  },
  {
   "cell_type": "code",
   "execution_count": 87,
   "metadata": {},
   "outputs": [],
   "source": [
    "# 데이터 준비\n",
    "\n",
    "X_train2, y_train2 = sparse_train_counts2, reviews_train_df['label']\n",
    "X_test2, y_test2 = sparse_test_counts2, reviews_test_df['label']"
   ]
  },
  {
   "cell_type": "code",
   "execution_count": 88,
   "metadata": {},
   "outputs": [
    {
     "data": {
      "text/plain": [
       "(0.97976, 0.85792)"
      ]
     },
     "execution_count": 88,
     "metadata": {},
     "output_type": "execute_result"
    }
   ],
   "source": [
    "# 모델 훈련 (학습)\n",
    "\n",
    "from sklearn.linear_model import LogisticRegression\n",
    "\n",
    "logreg2 = LogisticRegression(C=10, max_iter=10000, random_state=42)\n",
    "logreg2.fit(X_train2, y_train2)\n",
    "\n",
    "logreg2.score(X_train2, y_train2), logreg.score(X_test2, y_test2)"
   ]
  },
  {
   "cell_type": "code",
   "execution_count": 94,
   "metadata": {},
   "outputs": [
    {
     "data": {
      "text/plain": [
       "0        hate heather graham beauti hate fun watch movi...\n",
       "1        know movi receiv mani posit comment one call a...\n",
       "2        caught movi horror channel quit impress film g...\n",
       "3        nbc chanc make power religi epic along line te...\n",
       "4        look someth shock okay fine imageri film attem...\n",
       "                               ...                        \n",
       "24995    watch tip velvet sarah water decid watch finge...\n",
       "24996    three main charact hopeless yet feel sorri one...\n",
       "24997    review imdb documentari overr felt compel vent...\n",
       "24998    forget said emeril rachael ray irrit person fo...\n",
       "24999    could great film late poker pro pre poker craz...\n",
       "Name: review, Length: 25000, dtype: object"
      ]
     },
     "execution_count": 94,
     "metadata": {},
     "output_type": "execute_result"
    }
   ],
   "source": [
    "type(reviews_test_df['review'])\n",
    "reviews_test_df['review']"
   ]
  },
  {
   "cell_type": "code",
   "execution_count": null,
   "metadata": {},
   "outputs": [
    {
     "data": {
      "text/plain": [
       "array([1])"
      ]
     },
     "execution_count": 99,
     "metadata": {},
     "output_type": "execute_result"
    }
   ],
   "source": [
    "review = pd.Series([\"\"\"This movie reminds me of the value of family. \n",
    "I agree with my friend's comments.\n",
    "This movie would be one of the best animated movies in my life, too.\"\"\"])\n",
    "\n",
    "transformed_review = cv.transform(review)\n",
    "\n",
    "logreg.predict(transformed_review)"
   ]
  }
 ],
 "metadata": {
  "kernelspec": {
   "display_name": "human-da-env",
   "language": "python",
   "name": "python3"
  },
  "language_info": {
   "codemirror_mode": {
    "name": "ipython",
    "version": 3
   },
   "file_extension": ".py",
   "mimetype": "text/x-python",
   "name": "python",
   "nbconvert_exporter": "python",
   "pygments_lexer": "ipython3",
   "version": "3.12.7"
  }
 },
 "nbformat": 4,
 "nbformat_minor": 2
}
