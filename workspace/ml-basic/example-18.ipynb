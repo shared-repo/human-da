{
 "cells": [
  {
   "cell_type": "code",
   "execution_count": 1,
   "metadata": {},
   "outputs": [],
   "source": [
    "import numpy as np\n",
    "import pandas as pd\n",
    "import matplotlib.pyplot as plt"
   ]
  },
  {
   "cell_type": "code",
   "execution_count": 2,
   "metadata": {},
   "outputs": [],
   "source": [
    "# 데이터 읽기\n",
    "ratings_train = pd.read_csv(\"data-files/ratings_train.txt\", sep=\"\\t\")\n",
    "ratings_test = pd.read_csv(\"data-files/ratings_test.txt\", sep=\"\\t\")"
   ]
  },
  {
   "cell_type": "code",
   "execution_count": 3,
   "metadata": {},
   "outputs": [
    {
     "name": "stdout",
     "output_type": "stream",
     "text": [
      "(150000, 3) (50000, 3)\n",
      "0.49884666666666666 0.50346\n",
      "(array([0, 1]), array([75173, 74827]))\n"
     ]
    }
   ],
   "source": [
    "# 데이터 확인 1\n",
    "ratings_train.head()\n",
    "ratings_test.head()\n",
    "print( ratings_train.shape, ratings_test.shape )\n",
    "print( ratings_train['label'].mean(), ratings_test['label'].mean() )\n",
    "print( np.unique(ratings_train['label'], return_counts=True) )"
   ]
  },
  {
   "cell_type": "code",
   "execution_count": 4,
   "metadata": {},
   "outputs": [
    {
     "name": "stdout",
     "output_type": "stream",
     "text": [
      "<class 'pandas.core.frame.DataFrame'>\n",
      "RangeIndex: 150000 entries, 0 to 149999\n",
      "Data columns (total 3 columns):\n",
      " #   Column    Non-Null Count   Dtype \n",
      "---  ------    --------------   ----- \n",
      " 0   id        150000 non-null  int64 \n",
      " 1   document  149995 non-null  object\n",
      " 2   label     150000 non-null  int64 \n",
      "dtypes: int64(2), object(1)\n",
      "memory usage: 3.4+ MB\n",
      "<class 'pandas.core.frame.DataFrame'>\n",
      "RangeIndex: 50000 entries, 0 to 49999\n",
      "Data columns (total 3 columns):\n",
      " #   Column    Non-Null Count  Dtype \n",
      "---  ------    --------------  ----- \n",
      " 0   id        50000 non-null  int64 \n",
      " 1   document  49997 non-null  object\n",
      " 2   label     50000 non-null  int64 \n",
      "dtypes: int64(2), object(1)\n",
      "memory usage: 1.1+ MB\n"
     ]
    }
   ],
   "source": [
    "# 데이터 확인 2 --> missing value detected\n",
    "ratings_train.info()\n",
    "ratings_test.info()"
   ]
  },
  {
   "cell_type": "code",
   "execution_count": 5,
   "metadata": {},
   "outputs": [],
   "source": [
    "# 결측값 처리\n",
    "\n",
    "na_mask = ratings_train[\"document\"].isna()\n",
    "ratings_na_removed_train = ratings_train[~na_mask].copy() # ~ : not, & : and, | : or\n",
    "na_mask = ratings_test[\"document\"].isna()\n",
    "ratings_na_removed_test = ratings_test[~na_mask].copy()"
   ]
  },
  {
   "cell_type": "code",
   "execution_count": 6,
   "metadata": {},
   "outputs": [],
   "source": [
    "# 데이터 전처리 1 : 한글 문자와 영문자만 보존\n",
    "\n",
    "# ratings_na_removed_train.tail()\n",
    "import re\n",
    "\n",
    "ratings_na_removed_train['document'] = \\\n",
    "ratings_na_removed_train['document'].map(lambda v: re.sub(\"[^A-Za-zㄱ-힣]\", ' ', v))\n",
    "ratings_na_removed_test['document'] = \\\n",
    "ratings_na_removed_test['document'].map(lambda v: re.sub(\"[^A-Za-zㄱ-힣]\", ' ', v))"
   ]
  },
  {
   "cell_type": "code",
   "execution_count": 7,
   "metadata": {},
   "outputs": [],
   "source": [
    "# 한국어 처리 패키지 설치\n",
    "# !pip install Jpype1\n",
    "# !pip install konlpy"
   ]
  },
  {
   "cell_type": "code",
   "execution_count": 9,
   "metadata": {},
   "outputs": [
    {
     "name": "stdout",
     "output_type": "stream",
     "text": [
      "['아', '더빙', '진짜', '짜증나네요', '목소리']\n"
     ]
    }
   ],
   "source": [
    "# 형태소 분해 : 문장 -> 형태소 리스트\n",
    "\n",
    "from konlpy.tag import Okt # 한국어 사전 준비 ( 형태소 분할에 사용)\n",
    "\n",
    "okt = Okt()\n",
    "print( okt.morphs(ratings_na_removed_train['document'][0]) )\n",
    "\n",
    "ratings_na_removed_train['document'] = ratings_na_removed_train['document'].map(okt.morphs)\n",
    "ratings_na_removed_test['document'] = ratings_na_removed_test['document'].map(okt.morphs)"
   ]
  },
  {
   "cell_type": "code",
   "execution_count": 10,
   "metadata": {},
   "outputs": [],
   "source": [
    "ratings_na_removed_train.to_csv(\"data-files/ratings_train2.csv\", index=False)\n",
    "ratings_na_removed_test.to_csv(\"data-files/ratings_test2.csv\", index=False)"
   ]
  }
 ],
 "metadata": {
  "kernelspec": {
   "display_name": "human-da-env",
   "language": "python",
   "name": "python3"
  },
  "language_info": {
   "codemirror_mode": {
    "name": "ipython",
    "version": 3
   },
   "file_extension": ".py",
   "mimetype": "text/x-python",
   "name": "python",
   "nbconvert_exporter": "python",
   "pygments_lexer": "ipython3",
   "version": "3.12.7"
  }
 },
 "nbformat": 4,
 "nbformat_minor": 2
}
