{
 "cells": [
  {
   "cell_type": "code",
   "execution_count": 1,
   "metadata": {},
   "outputs": [],
   "source": [
    "import numpy as np\n",
    "import pandas as pd\n",
    "import matplotlib.pyplot as plt"
   ]
  },
  {
   "cell_type": "code",
   "execution_count": 2,
   "metadata": {},
   "outputs": [],
   "source": [
    "# 데이터 읽기\n",
    "ratings_train = pd.read_csv(\"data-files/ratings_train.txt\", sep=\"\\t\")\n",
    "ratings_test = pd.read_csv(\"data-files/ratings_test.txt\", sep=\"\\t\")"
   ]
  },
  {
   "cell_type": "code",
   "execution_count": 3,
   "metadata": {},
   "outputs": [
    {
     "name": "stdout",
     "output_type": "stream",
     "text": [
      "(150000, 3) (50000, 3)\n",
      "0.49884666666666666 0.50346\n",
      "(array([0, 1]), array([75173, 74827]))\n"
     ]
    }
   ],
   "source": [
    "# 데이터 확인 1\n",
    "ratings_train.head()\n",
    "ratings_test.head()\n",
    "print( ratings_train.shape, ratings_test.shape )\n",
    "print( ratings_train['label'].mean(), ratings_test['label'].mean() )\n",
    "print( np.unique(ratings_train['label'], return_counts=True) )"
   ]
  },
  {
   "cell_type": "code",
   "execution_count": 4,
   "metadata": {},
   "outputs": [
    {
     "name": "stdout",
     "output_type": "stream",
     "text": [
      "<class 'pandas.core.frame.DataFrame'>\n",
      "RangeIndex: 150000 entries, 0 to 149999\n",
      "Data columns (total 3 columns):\n",
      " #   Column    Non-Null Count   Dtype \n",
      "---  ------    --------------   ----- \n",
      " 0   id        150000 non-null  int64 \n",
      " 1   document  149995 non-null  object\n",
      " 2   label     150000 non-null  int64 \n",
      "dtypes: int64(2), object(1)\n",
      "memory usage: 3.4+ MB\n",
      "<class 'pandas.core.frame.DataFrame'>\n",
      "RangeIndex: 50000 entries, 0 to 49999\n",
      "Data columns (total 3 columns):\n",
      " #   Column    Non-Null Count  Dtype \n",
      "---  ------    --------------  ----- \n",
      " 0   id        50000 non-null  int64 \n",
      " 1   document  49997 non-null  object\n",
      " 2   label     50000 non-null  int64 \n",
      "dtypes: int64(2), object(1)\n",
      "memory usage: 1.1+ MB\n"
     ]
    }
   ],
   "source": [
    "# 데이터 확인 2 --> missing value detected\n",
    "ratings_train.info()\n",
    "ratings_test.info()"
   ]
  },
  {
   "cell_type": "code",
   "execution_count": 5,
   "metadata": {},
   "outputs": [],
   "source": [
    "# 결측값 처리\n",
    "\n",
    "na_mask = ratings_train[\"document\"].isna()\n",
    "ratings_na_removed_train = ratings_train[~na_mask].copy() # ~ : not, & : and, | : or\n",
    "na_mask = ratings_test[\"document\"].isna()\n",
    "ratings_na_removed_test = ratings_test[~na_mask].copy()"
   ]
  },
  {
   "cell_type": "code",
   "execution_count": 6,
   "metadata": {},
   "outputs": [],
   "source": [
    "# 데이터 전처리 1 : 한글 문자와 영문자만 보존\n",
    "\n",
    "# ratings_na_removed_train.tail()\n",
    "import re\n",
    "\n",
    "ratings_na_removed_train['document'] = \\\n",
    "ratings_na_removed_train['document'].map(lambda v: re.sub(\"[^A-Za-zㄱ-힣]\", ' ', v))\n",
    "ratings_na_removed_test['document'] = \\\n",
    "ratings_na_removed_test['document'].map(lambda v: re.sub(\"[^A-Za-zㄱ-힣]\", ' ', v))"
   ]
  },
  {
   "cell_type": "code",
   "execution_count": 7,
   "metadata": {},
   "outputs": [],
   "source": [
    "# 한국어 처리 패키지 설치\n",
    "# !pip install Jpype1\n",
    "# !pip install konlpy"
   ]
  },
  {
   "cell_type": "code",
   "execution_count": 9,
   "metadata": {},
   "outputs": [
    {
     "name": "stdout",
     "output_type": "stream",
     "text": [
      "['아', '더빙', '진짜', '짜증나네요', '목소리']\n"
     ]
    }
   ],
   "source": [
    "# 형태소 분해 : 문장 -> 형태소 리스트\n",
    "\n",
    "from konlpy.tag import Okt # 한국어 사전 준비 ( 형태소 분할에 사용)\n",
    "\n",
    "okt = Okt()\n",
    "print( okt.morphs(ratings_na_removed_train['document'][0]) )\n",
    "\n",
    "ratings_na_removed_train['document'] = ratings_na_removed_train['document'].map(okt.morphs)\n",
    "ratings_na_removed_test['document'] = ratings_na_removed_test['document'].map(okt.morphs)"
   ]
  },
  {
   "cell_type": "code",
   "execution_count": 10,
   "metadata": {},
   "outputs": [],
   "source": [
    "ratings_na_removed_train.to_csv(\"data-files/ratings_train2.csv\", index=False)\n",
    "ratings_na_removed_test.to_csv(\"data-files/ratings_test2.csv\", index=False)"
   ]
  },
  {
   "cell_type": "code",
   "execution_count": 8,
   "metadata": {},
   "outputs": [],
   "source": [
    "# 데이터 다시 읽어오기\n",
    "ratings_train2 = pd.read_csv(\"data-files/ratings_train2.csv\")\n",
    "ratings_test2 = pd.read_csv(\"data-files/ratings_test2.csv\")"
   ]
  },
  {
   "cell_type": "code",
   "execution_count": 9,
   "metadata": {},
   "outputs": [
    {
     "name": "stdout",
     "output_type": "stream",
     "text": [
      "<class 'pandas.core.frame.DataFrame'>\n",
      "RangeIndex: 149995 entries, 0 to 149994\n",
      "Data columns (total 3 columns):\n",
      " #   Column    Non-Null Count   Dtype \n",
      "---  ------    --------------   ----- \n",
      " 0   id        149995 non-null  int64 \n",
      " 1   document  149995 non-null  object\n",
      " 2   label     149995 non-null  int64 \n",
      "dtypes: int64(2), object(1)\n",
      "memory usage: 3.4+ MB\n"
     ]
    },
    {
     "data": {
      "text/html": [
       "<div>\n",
       "<style scoped>\n",
       "    .dataframe tbody tr th:only-of-type {\n",
       "        vertical-align: middle;\n",
       "    }\n",
       "\n",
       "    .dataframe tbody tr th {\n",
       "        vertical-align: top;\n",
       "    }\n",
       "\n",
       "    .dataframe thead th {\n",
       "        text-align: right;\n",
       "    }\n",
       "</style>\n",
       "<table border=\"1\" class=\"dataframe\">\n",
       "  <thead>\n",
       "    <tr style=\"text-align: right;\">\n",
       "      <th></th>\n",
       "      <th>id</th>\n",
       "      <th>document</th>\n",
       "      <th>label</th>\n",
       "    </tr>\n",
       "  </thead>\n",
       "  <tbody>\n",
       "    <tr>\n",
       "      <th>0</th>\n",
       "      <td>9976970</td>\n",
       "      <td>['아', '더빙', '진짜', '짜증나네요', '목소리']</td>\n",
       "      <td>0</td>\n",
       "    </tr>\n",
       "    <tr>\n",
       "      <th>1</th>\n",
       "      <td>3819312</td>\n",
       "      <td>['흠', '포스터', '보고', '초딩', '영화', '줄', '오버', '연기'...</td>\n",
       "      <td>1</td>\n",
       "    </tr>\n",
       "    <tr>\n",
       "      <th>2</th>\n",
       "      <td>10265843</td>\n",
       "      <td>['너', '무재', '밓었', '다그', '래서', '보는것을', '추천', '한...</td>\n",
       "      <td>0</td>\n",
       "    </tr>\n",
       "    <tr>\n",
       "      <th>3</th>\n",
       "      <td>9045019</td>\n",
       "      <td>['교도소', '이야기', '구먼', '솔직히', '재미', '는', '없다', '...</td>\n",
       "      <td>0</td>\n",
       "    </tr>\n",
       "    <tr>\n",
       "      <th>4</th>\n",
       "      <td>6483659</td>\n",
       "      <td>['사이', '몬페', '그', '의', '익살스런', '연기', '가', '돋보였...</td>\n",
       "      <td>1</td>\n",
       "    </tr>\n",
       "  </tbody>\n",
       "</table>\n",
       "</div>"
      ],
      "text/plain": [
       "         id                                           document  label\n",
       "0   9976970                  ['아', '더빙', '진짜', '짜증나네요', '목소리']      0\n",
       "1   3819312  ['흠', '포스터', '보고', '초딩', '영화', '줄', '오버', '연기'...      1\n",
       "2  10265843  ['너', '무재', '밓었', '다그', '래서', '보는것을', '추천', '한...      0\n",
       "3   9045019  ['교도소', '이야기', '구먼', '솔직히', '재미', '는', '없다', '...      0\n",
       "4   6483659  ['사이', '몬페', '그', '의', '익살스런', '연기', '가', '돋보였...      1"
      ]
     },
     "execution_count": 9,
     "metadata": {},
     "output_type": "execute_result"
    }
   ],
   "source": [
    "# 문제 확인 : document 컬럼이 문자열 형식으로 저장됨 -> 리스트로 변경 필요\n",
    "ratings_train2.info()\n",
    "ratings_train2.head()"
   ]
  },
  {
   "cell_type": "code",
   "execution_count": 10,
   "metadata": {},
   "outputs": [
    {
     "name": "stdout",
     "output_type": "stream",
     "text": [
      "'\n",
      "456\n",
      "456\n"
     ]
    }
   ],
   "source": [
    "# document 컬럼 자료형 변경 : string -> list\n",
    "\n",
    "print( \"['123', '456', '789']\"[1] )\n",
    "print( ['123', '456', '789'][1] )\n",
    "print( eval(\"['123', '456', '789']\")[1] ) # eval : 문자열 -> 파이썬 코드\n",
    "\n",
    "ratings_train2['document'] = ratings_train2['document'].map(eval)\n",
    "ratings_test2['document'] = ratings_test2['document'].map(eval)\n"
   ]
  },
  {
   "cell_type": "code",
   "execution_count": 11,
   "metadata": {},
   "outputs": [
    {
     "data": {
      "text/plain": [
       "(list, list)"
      ]
     },
     "execution_count": 11,
     "metadata": {},
     "output_type": "execute_result"
    }
   ],
   "source": [
    "# 변환 확인\n",
    "type( ratings_train2['document'][0] ), type( ratings_test2['document'][0] )"
   ]
  },
  {
   "cell_type": "code",
   "execution_count": 12,
   "metadata": {},
   "outputs": [],
   "source": [
    "# token 리스트 -> 단일 문자열\n",
    "ratings_train2['document'] = ratings_train2['document'].str.join(' ')\n",
    "ratings_test2['document'] = ratings_test2['document'].str.join(' ')"
   ]
  },
  {
   "cell_type": "code",
   "execution_count": 14,
   "metadata": {},
   "outputs": [],
   "source": [
    "# 전처리 결과 파일에 저장\n",
    "ratings_train2.to_csv(\"data-files/processed_ratings_train.csv\", index=False)\n",
    "ratings_test2.to_csv(\"data-files/processed_ratings_test.csv\", index=False)"
   ]
  },
  {
   "cell_type": "code",
   "execution_count": 2,
   "metadata": {},
   "outputs": [],
   "source": [
    "# 데이터 다시 읽어오기\n",
    "ratings_train3 = pd.read_csv(\"data-files/processed_ratings_train.csv\")\n",
    "ratings_test3 = pd.read_csv(\"data-files/processed_ratings_test.csv\")\n",
    "\n",
    "ratings_train3 = ratings_train3.dropna()\n",
    "ratings_test3 = ratings_test3.dropna()"
   ]
  },
  {
   "cell_type": "code",
   "execution_count": 3,
   "metadata": {},
   "outputs": [],
   "source": [
    "# 문자열 -> 숫자 ( encoding )\n",
    "from sklearn.feature_extraction.text import CountVectorizer, TfidfVectorizer, TfidfTransformer\n",
    "\n",
    "cv = CountVectorizer(ngram_range=(1, 2))\n",
    "cv_train_counts = cv.fit_transform(ratings_train3['document'])\n",
    "cv_test_counts = cv.transform(ratings_test3['document'])\n",
    "\n",
    "tv = TfidfVectorizer(ngram_range=(1, 2))\n",
    "tv_train_counts = tv.fit_transform(ratings_train3['document'])\n",
    "tv_test_counts = tv.transform(ratings_test3['document'])\n",
    "\n",
    "tt = TfidfTransformer()\n",
    "tt_train_counts = tt.fit_transform(cv_train_counts)\n",
    "tt_test_counts = tt.transform(cv_test_counts)"
   ]
  },
  {
   "cell_type": "code",
   "execution_count": 40,
   "metadata": {},
   "outputs": [
    {
     "name": "stdout",
     "output_type": "stream",
     "text": [
      "818928 <class 'dict'>\n",
      "['거들 먹거리', '먹거리 필리핀', '필리핀 혼혈', '혼혈 착하다', '최고봉 방황', '방황 우울했던', '우울했던 자화상', '수간', '최초 수간', '수간 하는']\n"
     ]
    }
   ],
   "source": [
    "# print( cv_train_counts )\n",
    "print( len(cv.vocabulary_), type(cv.vocabulary_) )\n",
    "print( list(cv.vocabulary_.keys())[-10:] )"
   ]
  },
  {
   "cell_type": "code",
   "execution_count": null,
   "metadata": {},
   "outputs": [
    {
     "name": "stdout",
     "output_type": "stream",
     "text": [
      "뭐 야 이 평점 들 은 나쁘진 않지만 점 짜 리 는 더 더욱 아니잖아\n",
      "나쁘진 나쁘진 않지만 더욱\n",
      "<Compressed Sparse Row sparse matrix of dtype 'int64'\n",
      "\twith 561244 stored elements and shape (49874, 818928)>\n",
      "  Coords\tValues\n",
      "  (2, 111482)\t1\n",
      "  (2, 111500)\t1\n",
      "  (2, 171807)\t1\n",
      "  (2, 425319)\t1\n",
      "  (2, 446076)\t1\n",
      "  (2, 750576)\t1\n",
      "  (3, 223683)\t1\n",
      "  (3, 301880)\t1\n",
      "  (3, 302241)\t1\n",
      "  (3, 445599)\t1\n",
      "  (3, 480792)\t1\n",
      "  (3, 525390)\t1\n",
      "  (3, 525658)\t1\n",
      "  (3, 669106)\t1\n",
      "  (3, 669178)\t1\n",
      "  (3, 685301)\t1\n",
      "  (4, 115910)\t1\n",
      "  (4, 154647)\t1\n",
      "  (4, 337067)\t1\n",
      "  (4, 410384)\t1\n",
      "  (4, 425039)\t1\n",
      "  (4, 680155)\t1\n",
      "  (4, 776323)\t1\n",
      "  (5, 505550)\t1\n",
      "  (5, 553761)\t2\n",
      "  :\t:\n",
      "  (49871, 303442)\t1\n",
      "  (49871, 336671)\t1\n",
      "  (49871, 336672)\t1\n",
      "  (49871, 525180)\t1\n",
      "  (49871, 525219)\t1\n",
      "  (49871, 662523)\t1\n",
      "  (49872, 91203)\t1\n",
      "  (49872, 91544)\t1\n",
      "  (49872, 367496)\t1\n",
      "  (49872, 367548)\t1\n",
      "  (49872, 376549)\t1\n",
      "  (49872, 376578)\t1\n",
      "  (49872, 470323)\t1\n",
      "  (49872, 470429)\t1\n",
      "  (49872, 482763)\t1\n",
      "  (49872, 505550)\t1\n",
      "  (49872, 511656)\t1\n",
      "  (49872, 622112)\t1\n",
      "  (49872, 622664)\t1\n",
      "  (49872, 641504)\t1\n",
      "  (49872, 641662)\t1\n",
      "  (49872, 722830)\t1\n",
      "  (49872, 789501)\t1\n",
      "  (49873, 219040)\t1\n",
      "  (49873, 567063)\t1\n"
     ]
    }
   ],
   "source": [
    "idx_to_token = { idx: token for token, idx in cv.vocabulary_.items() }\n",
    "print( ratings_test3['document'][2] )\n",
    "print(idx_to_token[111482], idx_to_token[111500], idx_to_token[171807])\n",
    "print( cv_test_counts )"
   ]
  },
  {
   "cell_type": "code",
   "execution_count": 41,
   "metadata": {},
   "outputs": [
    {
     "name": "stdout",
     "output_type": "stream",
     "text": [
      "0.9174202172096909\n",
      "0.8390544171311706\n"
     ]
    }
   ],
   "source": [
    "# 모델 훈련 및 평가\n",
    "from sklearn.linear_model import LogisticRegression\n",
    "\n",
    "logreg = LogisticRegression()\n",
    "logreg.fit(tv_train_counts, ratings_train3['label'])\n",
    "\n",
    "print( logreg.score(tv_train_counts, ratings_train3['label']) )\n",
    "print( logreg.score(tv_test_counts, ratings_test3['label']) )"
   ]
  }
 ],
 "metadata": {
  "kernelspec": {
   "display_name": "human-da-env",
   "language": "python",
   "name": "python3"
  },
  "language_info": {
   "codemirror_mode": {
    "name": "ipython",
    "version": 3
   },
   "file_extension": ".py",
   "mimetype": "text/x-python",
   "name": "python",
   "nbconvert_exporter": "python",
   "pygments_lexer": "ipython3",
   "version": "3.12.7"
  }
 },
 "nbformat": 4,
 "nbformat_minor": 2
}
