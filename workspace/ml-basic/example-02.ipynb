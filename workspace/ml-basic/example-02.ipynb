{
 "cells": [
  {
   "cell_type": "code",
   "execution_count": 1,
   "metadata": {},
   "outputs": [],
   "source": [
    "import numpy as np\n",
    "import pandas as pd\n",
    "import matplotlib.pyplot as plt\n",
    "\n",
    "from sklearn.datasets import load_iris, load_wine"
   ]
  },
  {
   "cell_type": "code",
   "execution_count": 38,
   "metadata": {},
   "outputs": [],
   "source": [
    "class AdalineGD:\n",
    "\n",
    "    def __init__(self, eta, n_iter): # 초기화 함수 : 객체 생성할 때 자동 호출\n",
    "        self.eta = eta          # 가중치 갱신 비율, 학습률\n",
    "        self.n_iter = n_iter    # 학습 반복 횟수\n",
    "\n",
    "    def net_input(self, X):\n",
    "        return np.dot(X, self.w[1:]) + self.w[0] # x1*w1 + x2*w2 + ... + xn*wn + w0\n",
    "\n",
    "    def activation(self, X):\n",
    "        return self.net_input(X) # 항등함수 : 입력값 그대로 활성화 출력\n",
    "    \n",
    "    def predict(self, X):\n",
    "        output = self.activation(X)\n",
    "        return np.where(output > 0, 1, -1)\n",
    "    \n",
    "    def fit(self, X, y):\n",
    "        self.w = np.zeros(X.shape[1] + 1) # X.shape : 2차원 배열의 열 갯수\n",
    "        self.cost = [] # 오차 배열 만들기 (오차 로그용)\n",
    "\n",
    "        for idx in np.arange(self.n_iter): # 학습 반복\n",
    "            output = self.activation(X)\n",
    "            errors = y - output  # 오차 계산 (실제값 - 출력값)            \n",
    "            delta = self.eta * X.T.dot(errors) # 학습률 * 기울기(미분)\n",
    "            self.w[1:] += delta     # 가중치 업데이트\n",
    "            self.w[0] += self.eta * errors.sum()      # 가중치(편향) 업데이트\n",
    "            self.cost.append( (errors**2).sum() )\n",
    "\n",
    "        return self\n"
   ]
  },
  {
   "cell_type": "code",
   "execution_count": 5,
   "metadata": {},
   "outputs": [],
   "source": [
    "iris_dataset = load_iris()\n",
    "X = iris_dataset['data'][:100]\n",
    "y = iris_dataset['target'][:100]\n",
    "y = np.where(y == 0, 1, -1)"
   ]
  },
  {
   "cell_type": "code",
   "execution_count": 48,
   "metadata": {},
   "outputs": [
    {
     "data": {
      "text/plain": [
       "<__main__.AdalineGD at 0x2003822d010>"
      ]
     },
     "execution_count": 48,
     "metadata": {},
     "output_type": "execute_result"
    }
   ],
   "source": [
    "model = AdalineGD(0.00001, n_iter=5000) # AdalineGD 인스턴스(객체) 만들기\n",
    "model.fit(X, y)"
   ]
  },
  {
   "cell_type": "code",
   "execution_count": 49,
   "metadata": {},
   "outputs": [
    {
     "data": {
      "text/plain": [
       "(array([ 0.07055571,  0.10562385,  0.35424752, -0.54202746, -0.25106858]),\n",
       " [np.float64(100.0),\n",
       "  np.float64(99.48959321565404),\n",
       "  np.float64(98.99539307141738),\n",
       "  np.float64(98.51593613603924),\n",
       "  np.float64(98.0499022784305),\n",
       "  np.float64(97.59610058950068),\n",
       "  np.float64(97.15345668724511),\n",
       "  np.float64(96.72100126916885),\n",
       "  np.float64(96.29785978949086),\n",
       "  np.float64(95.88324315061244)],\n",
       " [np.float64(3.8475478914252146),\n",
       "  np.float64(3.847542279317196),\n",
       "  np.float64(3.847536667498966),\n",
       "  np.float64(3.847531055970474),\n",
       "  np.float64(3.8475254447316627),\n",
       "  np.float64(3.847519833782483),\n",
       "  np.float64(3.8475142231228863),\n",
       "  np.float64(3.847508612752813),\n",
       "  np.float64(3.847503002672215),\n",
       "  np.float64(3.847497392881042)])"
      ]
     },
     "execution_count": 49,
     "metadata": {},
     "output_type": "execute_result"
    }
   ],
   "source": [
    "model.w, model.cost[:10], model.cost[-10:]"
   ]
  },
  {
   "cell_type": "code",
   "execution_count": 47,
   "metadata": {},
   "outputs": [
    {
     "name": "stdout",
     "output_type": "stream",
     "text": [
      "Accuracty : 0.5\n"
     ]
    }
   ],
   "source": [
    "correct = []\n",
    "for idx in range(X.shape[0]):\n",
    "    pv = model.predict(X[idx])\n",
    "    correct.append(pv == y[idx])\n",
    "\n",
    "print(\"Accuracty : {0}\".format( np.mean(correct) ) )\n"
   ]
  },
  {
   "cell_type": "code",
   "execution_count": 44,
   "metadata": {},
   "outputs": [
    {
     "data": {
      "image/png": "[encoded data removed]",
      "text/plain": [
       "<Figure size 640x480 with 1 Axes>"
      ]
     },
     "metadata": {},
     "output_type": "display_data"
    }
   ],
   "source": [
    "plt.plot(np.arange(len(model.cost)), model.cost)\n",
    "# plt.plot(np.arange(0, len(model.cost[-1000:])), model.cost[-1000:])\n",
    "plt.show()"
   ]
  }
 ],
 "metadata": {
  "kernelspec": {
   "display_name": "human-da-env",
   "language": "python",
   "name": "python3"
  },
  "language_info": {
   "codemirror_mode": {
    "name": "ipython",
    "version": 3
   },
   "file_extension": ".py",
   "mimetype": "text/x-python",
   "name": "python",
   "nbconvert_exporter": "python",
   "pygments_lexer": "ipython3",
   "version": "3.12.7"
  }
 },
 "nbformat": 4,
 "nbformat_minor": 2
}
