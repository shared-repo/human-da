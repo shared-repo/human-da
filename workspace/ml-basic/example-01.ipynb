{
 "cells": [
  {
   "cell_type": "code",
   "execution_count": 2,
   "metadata": {},
   "outputs": [],
   "source": [
    "import numpy as np\n",
    "import pandas as pd\n",
    "import matplotlib.pyplot as plt\n",
    "\n",
    "from sklearn.datasets import load_iris"
   ]
  },
  {
   "cell_type": "code",
   "execution_count": 3,
   "metadata": {},
   "outputs": [],
   "source": [
    "iris_dataset = load_iris()"
   ]
  },
  {
   "cell_type": "code",
   "execution_count": null,
   "metadata": {},
   "outputs": [
    {
     "name": "stdout",
     "output_type": "stream",
     "text": [
      "<class 'sklearn.utils._bunch.Bunch'>\n",
      "dict_keys(['data', 'target', 'frame', 'target_names', 'DESCR', 'feature_names', 'filename', 'data_module'])\n",
      "[[5.1 3.5 1.4 0.2]\n",
      " [4.9 3.  1.4 0.2]\n",
      " [4.7 3.2 1.3 0.2]]\n",
      "[0 0 0]\n",
      "[0 1 2]\n",
      "['setosa' 'versicolor' 'virginica']\n"
     ]
    }
   ],
   "source": [
    "# scikit-learn이 제공하는 데이터셋의 구조 확인\n",
    "print( type(iris_dataset) ) # iris_dataset 은 dict와 유사한 구조\n",
    "print( iris_dataset.keys() )\n",
    "# print( iris_dataset['DESCR'] )\n",
    "print( iris_dataset['data'][:3, :] )        # feature(X)에 해당하는 데이터 \n",
    "print( iris_dataset['target'][:3] )         # target(y)에 해당하는 데이터\n",
    "print( np.unique(iris_dataset['target']) )  # target(y)에 해당하는 데이터\n",
    "print( iris_dataset['target_names'] )       # target(y)의 실제 값"
   ]
  },
  {
   "cell_type": "code",
   "execution_count": 13,
   "metadata": {},
   "outputs": [],
   "source": [
    "def net_input(X, w): # X : 1D array, w : 1D array\n",
    "    # return sum([x*w for x, w in zip(X, w[1:])]) + w[0]\n",
    "    return np.dot(X, w[1:]) + w[0] # w1*x1 + w2*x2 + ... wn*xn + w0*1"
   ]
  },
  {
   "cell_type": "code",
   "execution_count": 15,
   "metadata": {},
   "outputs": [
    {
     "data": {
      "text/plain": [
       "np.int64(710)"
      ]
     },
     "execution_count": 15,
     "metadata": {},
     "output_type": "execute_result"
    }
   ],
   "source": [
    "net_input([1, 2, 3, 4, 5], [10, 20, 30, 40, 50, 60])"
   ]
  },
  {
   "cell_type": "code",
   "execution_count": 16,
   "metadata": {},
   "outputs": [],
   "source": [
    "def activation(v):\n",
    "    # if v > 0:\n",
    "    #     return 1\n",
    "    # else:\n",
    "    #     return -1\n",
    "    return 1 if v > 0 else -1"
   ]
  },
  {
   "cell_type": "code",
   "execution_count": 19,
   "metadata": {},
   "outputs": [
    {
     "data": {
      "text/plain": [
       "(1, -1)"
      ]
     },
     "execution_count": 19,
     "metadata": {},
     "output_type": "execute_result"
    }
   ],
   "source": [
    "activation(0.7), activation(-0.2)"
   ]
  },
  {
   "cell_type": "code",
   "execution_count": 20,
   "metadata": {},
   "outputs": [],
   "source": [
    "def predict(X, w):\n",
    "    net_value = net_input(X, w)\n",
    "    activated_value = activation(net_value)\n",
    "    return activated_value"
   ]
  }
 ],
 "metadata": {
  "kernelspec": {
   "display_name": "human-da-env",
   "language": "python",
   "name": "python3"
  },
  "language_info": {
   "codemirror_mode": {
    "name": "ipython",
    "version": 3
   },
   "file_extension": ".py",
   "mimetype": "text/x-python",
   "name": "python",
   "nbconvert_exporter": "python",
   "pygments_lexer": "ipython3",
   "version": "3.12.7"
  }
 },
 "nbformat": 4,
 "nbformat_minor": 2
}
