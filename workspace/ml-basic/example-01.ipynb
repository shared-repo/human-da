{
 "cells": [
  {
   "cell_type": "code",
   "execution_count": 90,
   "metadata": {},
   "outputs": [],
   "source": [
    "import numpy as np\n",
    "import pandas as pd\n",
    "import matplotlib.pyplot as plt\n",
    "\n",
    "from sklearn.datasets import load_iris, load_wine"
   ]
  },
  {
   "cell_type": "code",
   "execution_count": 3,
   "metadata": {},
   "outputs": [],
   "source": [
    "iris_dataset = load_iris()"
   ]
  },
  {
   "cell_type": "code",
   "execution_count": null,
   "metadata": {},
   "outputs": [
    {
     "name": "stdout",
     "output_type": "stream",
     "text": [
      "<class 'sklearn.utils._bunch.Bunch'>\n",
      "dict_keys(['data', 'target', 'frame', 'target_names', 'DESCR', 'feature_names', 'filename', 'data_module'])\n",
      "[[5.1 3.5 1.4 0.2]\n",
      " [4.9 3.  1.4 0.2]\n",
      " [4.7 3.2 1.3 0.2]]\n",
      "[0 0 0]\n",
      "[0 1 2]\n",
      "['setosa' 'versicolor' 'virginica']\n"
     ]
    }
   ],
   "source": [
    "# scikit-learn이 제공하는 데이터셋의 구조 확인\n",
    "print( type(iris_dataset) ) # iris_dataset 은 dict와 유사한 구조\n",
    "print( iris_dataset.keys() )\n",
    "# print( iris_dataset['DESCR'] )\n",
    "print( iris_dataset['data'][:3, :] )        # feature(X)에 해당하는 데이터 \n",
    "print( iris_dataset['target'][:3] )         # target(y)에 해당하는 데이터\n",
    "print( np.unique(iris_dataset['target']) )  # target(y)에 해당하는 데이터\n",
    "print( iris_dataset['target_names'] )       # target(y)의 실제 값"
   ]
  },
  {
   "cell_type": "code",
   "execution_count": 13,
   "metadata": {},
   "outputs": [],
   "source": [
    "def net_input(X, w): # X : 1D array, w : 1D array\n",
    "    # return sum([x*w for x, w in zip(X, w[1:])]) + w[0]\n",
    "    return np.dot(X, w[1:]) + w[0] # w1*x1 + w2*x2 + ... wn*xn + w0*1"
   ]
  },
  {
   "cell_type": "code",
   "execution_count": 15,
   "metadata": {},
   "outputs": [
    {
     "data": {
      "text/plain": [
       "np.int64(710)"
      ]
     },
     "execution_count": 15,
     "metadata": {},
     "output_type": "execute_result"
    }
   ],
   "source": [
    "net_input([1, 2, 3, 4, 5], [10, 20, 30, 40, 50, 60])"
   ]
  },
  {
   "cell_type": "code",
   "execution_count": 16,
   "metadata": {},
   "outputs": [],
   "source": [
    "def activation(v):\n",
    "    # if v > 0:\n",
    "    #     return 1\n",
    "    # else:\n",
    "    #     return -1\n",
    "    return 1 if v > 0 else -1"
   ]
  },
  {
   "cell_type": "code",
   "execution_count": 19,
   "metadata": {},
   "outputs": [
    {
     "data": {
      "text/plain": [
       "(1, -1)"
      ]
     },
     "execution_count": 19,
     "metadata": {},
     "output_type": "execute_result"
    }
   ],
   "source": [
    "activation(0.7), activation(-0.2)"
   ]
  },
  {
   "cell_type": "code",
   "execution_count": 20,
   "metadata": {},
   "outputs": [],
   "source": [
    "def predict(X, w):\n",
    "    net_value = net_input(X, w)\n",
    "    activated_value = activation(net_value)\n",
    "    return activated_value"
   ]
  },
  {
   "cell_type": "code",
   "execution_count": 36,
   "metadata": {},
   "outputs": [],
   "source": [
    "def fit(X, y, eta, n_iter):    \n",
    "    \"\"\"\n",
    "    데이터를 사용해서 perceptron 모델을 훈련하는 함수\\n\\n\n",
    "    [전달인자]\n",
    "    1. X : feature\n",
    "    2. y : target\n",
    "    3. eta : 학습률\n",
    "    4. n_iter : 학습 반복 횟수\n",
    "    \"\"\"\n",
    "    w = np.zeros(X.shape[1] + 1) # X.shape : 2차원 배열의 열 갯수\n",
    "    errors = np.zeros(n_iter) # 학습 반복 횟수 크기의 오차 배열 만들기 (오차 로그용)\n",
    "\n",
    "    for idx in np.arange(n_iter): # 학습 반복\n",
    "        sum_of_error = 0\n",
    "        for xv, t in zip(X, y): # 한 행의 입력 + 타겟을 뽑아서 학습 실행 * 행 갯수\n",
    "            output = predict(xv, w) # net_input + activation -> 1 or -1 반환\n",
    "            error = t - output      # 오차 계산 (실제값 - 출력값)\n",
    "            sum_of_error += error   # 현재 학습 반복의 에러를 합산\n",
    "            delta = eta * error     # 가중치 업데이트에 적용할 값 계산\n",
    "            w[1:] += delta * xv     # 가중치 업데이트\n",
    "            w[0] += delta * 1       # 가중치(편향) 업데이트\n",
    "\n",
    "        errors[idx] = sum_of_error  # 에러 로그에 현재 학습 반복의 에러 추가\n",
    "\n",
    "    return w, errors\n",
    "\n"
   ]
  },
  {
   "cell_type": "code",
   "execution_count": 75,
   "metadata": {},
   "outputs": [
    {
     "data": {
      "image/png": "[encoded data removed]",
      "text/plain": [
       "<Figure size 640x480 with 1 Axes>"
      ]
     },
     "metadata": {},
     "output_type": "display_data"
    }
   ],
   "source": [
    "# 구분이 잘되는 품종 찾기\n",
    "X = iris_dataset['data']\n",
    "plt.scatter(X[:50, 0], X[:50, 1], label='s')\n",
    "plt.scatter(X[50:100, 0], X[50:100, 1], label='vs')\n",
    "plt.scatter(X[100:150, 0], X[100:150, 1], label='vc')\n",
    "plt.legend()\n",
    "plt.show()"
   ]
  },
  {
   "cell_type": "code",
   "execution_count": 87,
   "metadata": {},
   "outputs": [],
   "source": [
    "X = iris_dataset['data'][:100]\n",
    "y = iris_dataset['target'][:100] # 0 : 50개, 1 : 50개\n",
    "# y = list( map(lambda v: -1 if v == 0 else 1, y) ) # 0 -> -1, 1 -> 1 로 변경\n",
    "y = np.where(y == 0, -1, 1) # y의 각 값이 0이면 -1, 아니면 1로 변경 ( 모델과 출력 값이 같도록 수정)\n",
    "eta, n_iter = 0.1, 10\n",
    "\n",
    "result_w, result_errors = fit(X, y, eta, n_iter)"
   ]
  },
  {
   "cell_type": "code",
   "execution_count": 88,
   "metadata": {},
   "outputs": [
    {
     "data": {
      "text/plain": [
       "(array([-0.2 , -0.22, -0.72,  1.04,  0.44]),\n",
       " array([ 2., -2., -2.,  0.,  0.,  0.,  0.,  0.,  0.,  0.]))"
      ]
     },
     "execution_count": 88,
     "metadata": {},
     "output_type": "execute_result"
    }
   ],
   "source": [
    "result_w, result_errors"
   ]
  },
  {
   "cell_type": "code",
   "execution_count": 89,
   "metadata": {},
   "outputs": [
    {
     "name": "stdout",
     "output_type": "stream",
     "text": [
      "Accuracy : 1.0\n"
     ]
    }
   ],
   "source": [
    "sum_of_error = 0\n",
    "for vx, t in zip(X, y):\n",
    "    predicted_value = predict(vx, result_w) # 학습된 가중치를 사용해서 값 예측    \n",
    "    sum_of_error += (predicted_value != t)  # 예측이 틀리면 error 1 증가\n",
    "\n",
    "print(\"Accuracy : {0}\".format(1 - (sum_of_error / 100))) # 정확도(에러/데이터갯수) 출력 \n",
    "    "
   ]
  },
  {
   "cell_type": "code",
   "execution_count": 91,
   "metadata": {},
   "outputs": [],
   "source": [
    "wine_dataset = load_wine()"
   ]
  },
  {
   "cell_type": "code",
   "execution_count": 97,
   "metadata": {},
   "outputs": [
    {
     "data": {
      "text/plain": [
       "dict_keys(['data', 'target', 'frame', 'target_names', 'DESCR', 'feature_names'])"
      ]
     },
     "execution_count": 97,
     "metadata": {},
     "output_type": "execute_result"
    }
   ],
   "source": [
    "wine_dataset.keys()\n",
    "# wine_dataset['target'], wine_dataset['target_names']\n",
    "# print( wine_dataset['DESCR'] )"
   ]
  },
  {
   "cell_type": "code",
   "execution_count": null,
   "metadata": {},
   "outputs": [],
   "source": [
    "# wine_dataset을 사용해서 class_0과 나머지를 구분하는 이진 퍼셉트론 모델 사용"
   ]
  }
 ],
 "metadata": {
  "kernelspec": {
   "display_name": "human-da-env",
   "language": "python",
   "name": "python3"
  },
  "language_info": {
   "codemirror_mode": {
    "name": "ipython",
    "version": 3
   },
   "file_extension": ".py",
   "mimetype": "text/x-python",
   "name": "python",
   "nbconvert_exporter": "python",
   "pygments_lexer": "ipython3",
   "version": "3.12.7"
  }
 },
 "nbformat": 4,
 "nbformat_minor": 2
}
