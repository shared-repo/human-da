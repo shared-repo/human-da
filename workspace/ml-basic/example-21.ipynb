{
 "cells": [
  {
   "cell_type": "code",
   "execution_count": 8,
   "metadata": {},
   "outputs": [],
   "source": [
    "# install recommender system package : scikit-surprise\n",
    "\n",
    "# scikit-surprise compatible numpy version == 1.26.4\n",
    "\n",
    "# %conda install -c conda-forge scikit-surprise\n",
    "# !pip install scikit-surprise\n",
    "\n",
    "# !pip list | findstr scikit-surprise\n",
    "# !pip list | findstr numpy\n",
    "# !pip install numpy==1.26.4"
   ]
  },
  {
   "cell_type": "code",
   "execution_count": 4,
   "metadata": {},
   "outputs": [],
   "source": [
    "import numpy as np\n",
    "import pandas as pd\n",
    "import matplotlib.pyplot as plt\n",
    "import seaborn as sns"
   ]
  },
  {
   "cell_type": "code",
   "execution_count": 9,
   "metadata": {},
   "outputs": [
    {
     "name": "stdout",
     "output_type": "stream",
     "text": [
      "1.1.4\n",
      "1.26.4\n"
     ]
    }
   ],
   "source": [
    "# 추천시스템 전용 패키지 확인\n",
    "import surprise\n",
    "\n",
    "print(surprise.__version__)\n",
    "print(np.__version__)"
   ]
  },
  {
   "cell_type": "code",
   "execution_count": 10,
   "metadata": {},
   "outputs": [],
   "source": [
    "# 데이터 준비 1.\n",
    "from surprise import Dataset\n",
    "\n",
    "data = Dataset.load_builtin(\"ml-100k\")"
   ]
  },
  {
   "cell_type": "code",
   "execution_count": 11,
   "metadata": {},
   "outputs": [],
   "source": [
    "# 데이터 준비 2\n",
    "\n",
    "from surprise import Reader # 데이터를 읽을 때 읽는 방법을 설정하는 클래스\n",
    "\n",
    "ratings_small = pd.read_csv('data-files/ml-latest-small/ratings.csv')\n",
    "data2 = Dataset.load_from_df(ratings_small[['userId', 'movieId', 'rating']],\n",
    "                             Reader(rating_scale=(0.5, 5)))"
   ]
  },
  {
   "cell_type": "code",
   "execution_count": 12,
   "metadata": {},
   "outputs": [
    {
     "data": {
      "text/plain": [
       "min    0.5\n",
       "max    5.0\n",
       "Name: rating, dtype: float64"
      ]
     },
     "execution_count": 12,
     "metadata": {},
     "output_type": "execute_result"
    }
   ],
   "source": [
    "ratings_small['rating'].agg(['min', 'max'])"
   ]
  },
  {
   "cell_type": "code",
   "execution_count": null,
   "metadata": {},
   "outputs": [],
   "source": [
    "# 데이터 준비 3\n",
    "\n",
    "from surprise import Reader # 데이터를 읽을 때 읽는 방법을 설정하는 클래스\n",
    "\n",
    "data3 = Dataset.load_from_file('data-files/ml-latest-small/ratings.csv',\n",
    "                             Reader(rating_scale=(0.5, 5), sep=',', skip_lines=1))"
   ]
  },
  {
   "cell_type": "code",
   "execution_count": 17,
   "metadata": {},
   "outputs": [],
   "source": [
    "# from sklearn.model_selection import train_test_split\n",
    "from surprise.model_selection import train_test_split\n",
    "\n",
    "trainset, testset = train_test_split(data3, random_state=42)"
   ]
  },
  {
   "cell_type": "code",
   "execution_count": 18,
   "metadata": {},
   "outputs": [],
   "source": [
    "from surprise import KNNBasic\n",
    "\n",
    "knn_model = KNNBasic(sim_options={ 'name': \"cosine\", 'user_based':False })"
   ]
  },
  {
   "cell_type": "code",
   "execution_count": 19,
   "metadata": {},
   "outputs": [
    {
     "name": "stdout",
     "output_type": "stream",
     "text": [
      "Computing the cosine similarity matrix...\n",
      "Done computing similarity matrix.\n"
     ]
    },
    {
     "data": {
      "text/plain": [
       "<surprise.prediction_algorithms.knns.KNNBasic at 0x1383a689370>"
      ]
     },
     "execution_count": 19,
     "metadata": {},
     "output_type": "execute_result"
    }
   ],
   "source": [
    "knn_model.fit(trainset)"
   ]
  },
  {
   "cell_type": "code",
   "execution_count": null,
   "metadata": {},
   "outputs": [
    {
     "name": "stdout",
     "output_type": "stream",
     "text": [
      "[('140', '6765', 3.5), ('603', '290', 4.0), ('438', '5055', 4.0)]\n",
      "user: 140        item: 6765       r_ui = None   est = 3.42   {'actual_k': 40, 'was_impossible': False}\n",
      "user: 603        item: 290        r_ui = None   est = 3.55   {'actual_k': 40, 'was_impossible': False}\n"
     ]
    }
   ],
   "source": [
    "# 개별 값 예측\n",
    "print( testset[:3] )\n",
    "print( knn_model.predict('140', '6765') )\n",
    "print( knn_model.predict('603', '290') )"
   ]
  },
  {
   "cell_type": "code",
   "execution_count": 26,
   "metadata": {},
   "outputs": [
    {
     "data": {
      "text/plain": [
       "[Prediction(uid='140', iid='6765', r_ui=3.5, est=3.425, details={'actual_k': 40, 'was_impossible': False}),\n",
       " Prediction(uid='603', iid='290', r_ui=4.0, est=3.55, details={'actual_k': 40, 'was_impossible': False}),\n",
       " Prediction(uid='438', iid='5055', r_ui=4.0, est=3.1625, details={'actual_k': 40, 'was_impossible': False})]"
      ]
     },
     "execution_count": 26,
     "metadata": {},
     "output_type": "execute_result"
    }
   ],
   "source": [
    "# 다수 예측\n",
    "predictions = knn_model.test(testset)\n",
    "predictions[:3]"
   ]
  },
  {
   "cell_type": "code",
   "execution_count": 28,
   "metadata": {},
   "outputs": [
    {
     "name": "stdout",
     "output_type": "stream",
     "text": [
      "MAE:  0.7615\n",
      "0.7614697475628528\n",
      "RMSE: 0.9800\n",
      "0.97995665962038\n"
     ]
    }
   ],
   "source": [
    "from surprise import accuracy\n",
    "\n",
    "print( accuracy.mae(predictions=predictions) )\n",
    "print( accuracy.rmse(predictions=predictions) )"
   ]
  }
 ],
 "metadata": {
  "kernelspec": {
   "display_name": "human-da-env",
   "language": "python",
   "name": "python3"
  },
  "language_info": {
   "codemirror_mode": {
    "name": "ipython",
    "version": 3
   },
   "file_extension": ".py",
   "mimetype": "text/x-python",
   "name": "python",
   "nbconvert_exporter": "python",
   "pygments_lexer": "ipython3",
   "version": "3.12.7"
  }
 },
 "nbformat": 4,
 "nbformat_minor": 2
}
