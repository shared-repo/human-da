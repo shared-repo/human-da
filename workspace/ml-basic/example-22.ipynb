{
 "cells": [
  {
   "cell_type": "code",
   "execution_count": null,
   "metadata": {},
   "outputs": [],
   "source": [
    "import numpy as np\n",
    "import pandas as pd\n",
    "import matplotlib.pyplot as plt\n",
    "import seaborn as sns\n",
    "\n",
    "import surprise"
   ]
  },
  {
   "cell_type": "code",
   "execution_count": 19,
   "metadata": {},
   "outputs": [],
   "source": [
    "# 데이터 준비\n",
    "\n",
    "from surprise import Reader, Dataset # 데이터를 읽을 때 읽는 방법을 설정하는 클래스\n",
    "\n",
    "movies_small = pd.read_csv('data-files/ml-latest-small/movies.csv')\n",
    "ratings_small = pd.read_csv('data-files/ml-latest-small/ratings.csv')\n",
    "data = Dataset.load_from_df(ratings_small[['userId', 'movieId', 'rating']],\n",
    "                            Reader(rating_scale=(0.5, 5)))"
   ]
  },
  {
   "cell_type": "code",
   "execution_count": 4,
   "metadata": {},
   "outputs": [],
   "source": [
    "trainset = data.build_full_trainset()\n",
    "testset = trainset.build_testset()"
   ]
  },
  {
   "cell_type": "code",
   "execution_count": 7,
   "metadata": {},
   "outputs": [
    {
     "data": {
      "text/plain": [
       "(100836, (1, 1, 4.0))"
      ]
     },
     "execution_count": 7,
     "metadata": {},
     "output_type": "execute_result"
    }
   ],
   "source": [
    "len(testset), testset[0]"
   ]
  },
  {
   "cell_type": "code",
   "execution_count": 9,
   "metadata": {},
   "outputs": [
    {
     "data": {
      "text/plain": [
       "<surprise.prediction_algorithms.matrix_factorization.SVD at 0x19470722ae0>"
      ]
     },
     "execution_count": 9,
     "metadata": {},
     "output_type": "execute_result"
    }
   ],
   "source": [
    "# 모델 훈련 (학습)\n",
    "from surprise import SVD\n",
    "\n",
    "svd = SVD(n_factors=100, n_epochs=20, random_state=42)\n",
    "\n",
    "svd.fit(trainset)"
   ]
  },
  {
   "cell_type": "code",
   "execution_count": null,
   "metadata": {},
   "outputs": [],
   "source": [
    "# 26번 사용자가 시청하지 않은 영화 평점 예측\n",
    "\n",
    "print( ratings_small[ratings_small['userId'] == 26].shape )\n",
    "\n",
    "uid_mask = ratings_small['userId'] == 26\n",
    "ratings_small[uid_mask][[\"userId\", \"movieId\"]] # 26번 사용자가 평점 부여한 영화 조회\n"
   ]
  },
  {
   "cell_type": "code",
   "execution_count": 16,
   "metadata": {},
   "outputs": [],
   "source": [
    "def select_unrated_movies(ratings, user_id):\n",
    "    all_movie_id = ratings['movieId'].unique() # 모든 영화 id\n",
    "    uid_mask = ratings_small['userId'] == user_id\n",
    "    rated_movie_ids = ratings[uid_mask]['movieId'].values # 평가한 영화 id\n",
    "    unrated_movies = [ mid for mid in all_movie_id if mid not in rated_movie_ids ]\n",
    "    return unrated_movies\n"
   ]
  },
  {
   "cell_type": "code",
   "execution_count": 21,
   "metadata": {},
   "outputs": [
    {
     "name": "stdout",
     "output_type": "stream",
     "text": [
      "[1, 3, 6, 50, 70, 101, 110, 151, 157, 163]\n"
     ]
    },
    {
     "data": {
      "text/html": [
       "<div>\n",
       "<style scoped>\n",
       "    .dataframe tbody tr th:only-of-type {\n",
       "        vertical-align: middle;\n",
       "    }\n",
       "\n",
       "    .dataframe tbody tr th {\n",
       "        vertical-align: top;\n",
       "    }\n",
       "\n",
       "    .dataframe thead th {\n",
       "        text-align: right;\n",
       "    }\n",
       "</style>\n",
       "<table border=\"1\" class=\"dataframe\">\n",
       "  <thead>\n",
       "    <tr style=\"text-align: right;\">\n",
       "      <th></th>\n",
       "      <th>movieId</th>\n",
       "      <th>title</th>\n",
       "      <th>genres</th>\n",
       "    </tr>\n",
       "  </thead>\n",
       "  <tbody>\n",
       "    <tr>\n",
       "      <th>0</th>\n",
       "      <td>1</td>\n",
       "      <td>Toy Story (1995)</td>\n",
       "      <td>Adventure|Animation|Children|Comedy|Fantasy</td>\n",
       "    </tr>\n",
       "  </tbody>\n",
       "</table>\n",
       "</div>"
      ],
      "text/plain": [
       "   movieId             title                                       genres\n",
       "0        1  Toy Story (1995)  Adventure|Animation|Children|Comedy|Fantasy"
      ]
     },
     "execution_count": 21,
     "metadata": {},
     "output_type": "execute_result"
    }
   ],
   "source": [
    "print( select_unrated_movies(ratings_small, 26)[:10] )\n",
    "movies_small[movies_small['movieId'] == 1]"
   ]
  },
  {
   "cell_type": "code",
   "execution_count": 22,
   "metadata": {},
   "outputs": [
    {
     "data": {
      "text/plain": [
       "Prediction(uid=26, iid=1, r_ui=None, est=3.7843049838259457, details={'was_impossible': False})"
      ]
     },
     "execution_count": 22,
     "metadata": {},
     "output_type": "execute_result"
    }
   ],
   "source": [
    "svd.predict(26, 1)"
   ]
  },
  {
   "cell_type": "code",
   "execution_count": 66,
   "metadata": {},
   "outputs": [
    {
     "data": {
      "text/plain": [
       "Index(['movieId', 'title', 'genres'], dtype='object')"
      ]
     },
     "execution_count": 66,
     "metadata": {},
     "output_type": "execute_result"
    }
   ],
   "source": [
    "movies_small.columns"
   ]
  },
  {
   "cell_type": "code",
   "execution_count": 75,
   "metadata": {},
   "outputs": [],
   "source": [
    "def get_movie_title(movies, movie_id):\n",
    "    movie_id_mask = movies['movieId'] == movie_id\n",
    "    return movies[movie_id_mask]['title'].values[0]\n",
    "\n",
    "def recommend_movies(ratings, movies, user_id, top_n=10):\n",
    "    unrated_movie_ids = select_unrated_movies(ratings, user_id)\n",
    "\n",
    "    predictions = [ svd.predict(user_id, movie_id) for movie_id in unrated_movie_ids ]\n",
    "    predictions.sort(key=lambda p: p.est, reverse=True) # 예상평점기준 내림차순 정렬\n",
    "\n",
    "    top_n_predictions = predictions[:top_n]\n",
    "    recommendations = [ (p.iid, get_movie_title(movies, p.iid)) for p in top_n_predictions ]\n",
    "\n",
    "    return recommendations\n"
   ]
  },
  {
   "cell_type": "code",
   "execution_count": 76,
   "metadata": {},
   "outputs": [
    {
     "data": {
      "text/plain": [
       "[(1148, 'Wallace & Gromit: The Wrong Trousers (1993)'),\n",
       " (318, 'Shawshank Redemption, The (1994)'),\n",
       " (858, 'Godfather, The (1972)'),\n",
       " (1204, 'Lawrence of Arabia (1962)'),\n",
       " (1262, 'Great Escape, The (1963)'),\n",
       " (56782, 'There Will Be Blood (2007)'),\n",
       " (58559, 'Dark Knight, The (2008)'),\n",
       " (2959, 'Fight Club (1999)'),\n",
       " (1213, 'Goodfellas (1990)'),\n",
       " (750,\n",
       "  'Dr. Strangelove or: How I Learned to Stop Worrying and Love the Bomb (1964)')]"
      ]
     },
     "execution_count": 76,
     "metadata": {},
     "output_type": "execute_result"
    }
   ],
   "source": [
    "recommend_movies(ratings_small, movies_small, 26)"
   ]
  },
  {
   "cell_type": "code",
   "execution_count": 80,
   "metadata": {},
   "outputs": [
    {
     "data": {
      "text/plain": [
       "[9    GoldenEye (1995)\n",
       " Name: title, dtype: object,\n",
       " 32    Babe (1995)\n",
       " Name: title, dtype: object,\n",
       " 43    Seven (a.k.a. Se7en) (1995)\n",
       " Name: title, dtype: object,\n",
       " 123    Apollo 13 (1995)\n",
       " Name: title, dtype: object,\n",
       " 126    Batman Forever (1995)\n",
       " Name: title, dtype: object,\n",
       " 138    Die Hard: With a Vengeance (1995)\n",
       " Name: title, dtype: object,\n",
       " 156    Net, The (1995)\n",
       " Name: title, dtype: object,\n",
       " 176    Waterworld (1995)\n",
       " Name: title, dtype: object,\n",
       " 192    Disclosure (1994)\n",
       " Name: title, dtype: object,\n",
       " 249    Natural Born Killers (1994)\n",
       " Name: title, dtype: object,\n",
       " 257    Pulp Fiction (1994)\n",
       " Name: title, dtype: object,\n",
       " 260    Quiz Show (1994)\n",
       " Name: title, dtype: object,\n",
       " 302    Ace Ventura: Pet Detective (1994)\n",
       " Name: title, dtype: object,\n",
       " 307    Clear and Present Danger (1994)\n",
       " Name: title, dtype: object,\n",
       " 314    Forrest Gump (1994)\n",
       " Name: title, dtype: object,\n",
       " 337    True Lies (1994)\n",
       " Name: title, dtype: object,\n",
       " 378    Cliffhanger (1993)\n",
       " Name: title, dtype: object,\n",
       " 395    Firm, The (1993)\n",
       " Name: title, dtype: object,\n",
       " 398    Fugitive, The (1993)\n",
       " Name: title, dtype: object,\n",
       " 509    Batman (1989)\n",
       " Name: title, dtype: object,\n",
       " 510    Silence of the Lambs, The (1991)\n",
       " Name: title, dtype: object]"
      ]
     },
     "execution_count": 80,
     "metadata": {},
     "output_type": "execute_result"
    }
   ],
   "source": [
    "uid_mask = ratings_small['userId'] == 26\n",
    "rated_movie_ids = ratings_small[uid_mask][\"movieId\"] # 26번 사용자가 평점 부여한 영화 조회\n",
    "[ movies_small[movies_small[\"movieId\"] == movie_id][\"title\"] for movie_id in rated_movie_ids ]\n"
   ]
  }
 ],
 "metadata": {
  "kernelspec": {
   "display_name": "human-da-env",
   "language": "python",
   "name": "python3"
  },
  "language_info": {
   "codemirror_mode": {
    "name": "ipython",
    "version": 3
   },
   "file_extension": ".py",
   "mimetype": "text/x-python",
   "name": "python",
   "nbconvert_exporter": "python",
   "pygments_lexer": "ipython3",
   "version": "3.12.7"
  }
 },
 "nbformat": 4,
 "nbformat_minor": 2
}
