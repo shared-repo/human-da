{
 "cells": [
  {
   "cell_type": "code",
   "execution_count": 7,
   "metadata": {},
   "outputs": [],
   "source": [
    "# 클래스 만들기\n",
    "\n",
    "class Employee:\n",
    "    '''직원 정보를 관리하는 클래스'''\n",
    "\n",
    "    def __init__(self): # __init__ : 인스턴스 만들 때 자동호출되는 함수 : 초기화 함수\n",
    "        print('객체가 생성됩니다.')\n",
    "        pass\n",
    "\n",
    "    def display(self): # 함수, 첫 번째 전달인자는 반드시 self\n",
    "        print(\"display function\")\n"
   ]
  },
  {
   "cell_type": "code",
   "execution_count": 9,
   "metadata": {},
   "outputs": [
    {
     "name": "stdout",
     "output_type": "stream",
     "text": [
      "객체가 생성됩니다.\n"
     ]
    }
   ],
   "source": [
    "# 인스턴스(객체) 만들기\n",
    "employee = Employee()\n",
    "\n",
    "# employee.display() # 클래스의 멤버에 접근할 때 dot(.) 연산자 사용"
   ]
  }
 ],
 "metadata": {
  "kernelspec": {
   "display_name": "human-da-env",
   "language": "python",
   "name": "python3"
  },
  "language_info": {
   "codemirror_mode": {
    "name": "ipython",
    "version": 3
   },
   "file_extension": ".py",
   "mimetype": "text/x-python",
   "name": "python",
   "nbconvert_exporter": "python",
   "pygments_lexer": "ipython3",
   "version": "3.12.7"
  }
 },
 "nbformat": 4,
 "nbformat_minor": 2
}
