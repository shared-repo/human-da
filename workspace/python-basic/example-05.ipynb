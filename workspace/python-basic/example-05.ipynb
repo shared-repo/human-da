{
 "cells": [
  {
   "cell_type": "code",
   "execution_count": 10,
   "metadata": {},
   "outputs": [],
   "source": [
    "# 클래스 만들기\n",
    "\n",
    "class Employee:\n",
    "    '''직원 정보를 관리하는 클래스'''\n",
    "\n",
    "    def __init__(self): # __init__ : 인스턴스 만들 때 자동 호출되는 함수 : 초기화 함수\n",
    "\n",
    "        # 보통 __init__ 함수에서 변수를 만듭니다. (다른 함수에서 만드는 것 가능)\n",
    "        self.name = \"John Doe\"\n",
    "        self.phone = '010-6598-1247'\n",
    "        self.email = 'johndoe@example.com'\n",
    "\n",
    "        print('객체가 생성됩니다.')\n",
    "\n",
    "    def display(self): # 함수, 첫 번째 전달인자는 반드시 self\n",
    "        # print(\"display function\")\n",
    "        print(f\"[{self.name}][{self.phone}][{self.email}]\")\n"
   ]
  },
  {
   "cell_type": "code",
   "execution_count": null,
   "metadata": {},
   "outputs": [
    {
     "name": "stdout",
     "output_type": "stream",
     "text": [
      "객체가 생성됩니다.\n",
      "[John Doe][010-6598-1247][johndoe@example.com]\n",
      "객체가 생성됩니다.\n",
      "[John Doe][010-6598-1247][johndoe@example.com]\n"
     ]
    }
   ],
   "source": [
    "# 인스턴스(객체) 만들기\n",
    "employee = Employee() # 이 때 __init__ 함수 호출\n",
    "employee.display() # 클래스의 멤버에 접근할 때 dot(.) 연산자 사용\n",
    "\n",
    "employee2 = Employee()\n",
    "employee2.display()"
   ]
  },
  {
   "cell_type": "code",
   "execution_count": null,
   "metadata": {},
   "outputs": [],
   "source": []
  },
  {
   "cell_type": "code",
   "execution_count": null,
   "metadata": {},
   "outputs": [],
   "source": [
    "# 클래스 만들기 2\n",
    "\n",
    "class Employee2:\n",
    "\n",
    "    def __init__(self, name, phone, email): # __init__ : 인스턴스 만들 때 자동 호출되는 함수 : 초기화 함수\n",
    "        # 보통 __init__ 함수에서 변수를 만듭니다. (다른 함수에서 만드는 것 가능)\n",
    "        self.name = name\n",
    "        self.phone = phone\n",
    "        self.email = email\n",
    "\n",
    "    def display(self): # 함수, 첫 번째 전달인자는 반드시 self\n",
    "        print(f\"[{self.name}][{self.phone}][{self.email}]\")"
   ]
  },
  {
   "cell_type": "code",
   "execution_count": null,
   "metadata": {},
   "outputs": [
    {
     "name": "stdout",
     "output_type": "stream",
     "text": [
      "[장동건][010-6523-9987][jdk@example.com]\n",
      "[김윤석][010-4215-3369][kys@example.com]\n",
      "[김윤석][010-5589-4477][kys@example.com]\n"
     ]
    }
   ],
   "source": [
    "# 인스턴스(객체) 만들기 2\n",
    "employee = Employee2(\"장동건\", '010-6523-9987', 'jdk@example.com') # 이 때 __init__ 함수 호출\n",
    "employee.display() # 인스턴스의 멤버에 접근할 때 dot(.) 연산자 사용\n",
    "\n",
    "employee2 = Employee2(\"김윤석\", '010-4215-3369', 'kys@example.com')\n",
    "employee2.display()\n",
    "employee2.phone = '010-5589-4477' # 인스턴스 멤버 변수 값 변경\n",
    "employee2.display()"
   ]
  },
  {
   "cell_type": "code",
   "execution_count": null,
   "metadata": {},
   "outputs": [],
   "source": []
  },
  {
   "cell_type": "code",
   "execution_count": null,
   "metadata": {},
   "outputs": [],
   "source": [
    "# 클래스 만들기 3\n",
    "\n",
    "class Employee3:\n",
    "\n",
    "    empCount = 0 # 공유 변수 : 이 클래스로 만드는 모든 인스턴스가 공유하는 변수\n",
    "\n",
    "    def __init__(self, name, phone, email): # __init__ : 인스턴스 만들 때 자동 호출되는 함수 : 초기화 함수\n",
    "        # 보통 __init__ 함수에서 변수를 만듭니다. (다른 함수에서 만드는 것 가능)\n",
    "        self.name = name\n",
    "        self.phone = phone\n",
    "        self.email = email\n",
    "        Employee3.empCount += 1\n",
    "\n",
    "    def displayEmpCount(self):\n",
    "        print(f\"Employee Count : {Employee3.empCount}\")\n",
    "\n",
    "    @staticmethod # 이 메서드는 클래스의 멤버로 만듭니다. (인스턴스의 멤버가 아닙니다)\n",
    "    def displayEmpCount2():\n",
    "        print(f\"Employee Count : {Employee3.empCount}\")\n",
    "\n",
    "    def display(self): # 함수, 첫 번째 전달인자는 반드시 self\n",
    "        print(f\"[{self.name}][{self.phone}][{self.email}]\")"
   ]
  },
  {
   "cell_type": "code",
   "execution_count": null,
   "metadata": {},
   "outputs": [
    {
     "name": "stdout",
     "output_type": "stream",
     "text": [
      "0 0\n",
      "100 100\n"
     ]
    }
   ],
   "source": [
    "# 공유 변수 테스트 1\n",
    "e31 = Employee3('a', 'b', 'c')\n",
    "e32 = Employee3('d', 'e', 'f')\n",
    "print(e31.empCount, e32.empCount)\n",
    "# e31.empCount = 100 # 인스턴스의 멤버를 사용 (없으면 해당 인스턴스에 변수를 새로 만들어요)\n",
    "Employee3.empCount = 100 # 클래스의 멤버 사용\n",
    "print(e31.empCount, e32.empCount)"
   ]
  },
  {
   "cell_type": "code",
   "execution_count": null,
   "metadata": {},
   "outputs": [
    {
     "name": "stdout",
     "output_type": "stream",
     "text": [
      "Employee Count : 4\n",
      "Employee Count : 4\n",
      "Employee Count : 4\n",
      "Employee Count : 4\n"
     ]
    }
   ],
   "source": [
    "# 공유 변수 테스트 1\n",
    "e33 = Employee3('a', 'b', 'c') # empCount += 1\n",
    "e34 = Employee3('d', 'e', 'f') # empCount += 1\n",
    "\n",
    "e33.displayEmpCount()\n",
    "e34.displayEmpCount()\n",
    "\n",
    "Employee3.displayEmpCount2()\n"
   ]
  },
  {
   "cell_type": "code",
   "execution_count": null,
   "metadata": {},
   "outputs": [],
   "source": []
  },
  {
   "cell_type": "code",
   "execution_count": 12,
   "metadata": {},
   "outputs": [],
   "source": [
    "# 상속 클래스 만들기\n",
    "\n",
    "class Parent:\n",
    "\n",
    "    def __init__(self):\n",
    "        print('----------> Parent.__init__')\n",
    "\n",
    "    def parent_function(self):\n",
    "        print(\"----------> Parent.parent_function\")\n",
    "\n",
    "    def parent_function2(self):\n",
    "        print(\"----------> Parent.parent_function2\")\n",
    "\n",
    "class Child(Parent): # 상속 발생 : Parent class 의 모든 멤버를 자동으로 포함\n",
    "\n",
    "    def __init__(self):\n",
    "        super().__init__()\n",
    "        print('----------> Child.__init__')\n",
    "\n",
    "    def child_function(self):\n",
    "        print(\"----------> Child.child_function\")\n",
    "\n",
    "    # 메서드 재정의 (overriding) : 부모 클래스로부터 상속한 메서드의 내용만 수정\n",
    "    def parent_function2(self):\n",
    "        super().parent_function2() # 부모 클래스의 함수 명시적으로 호출\n",
    "        print(\"----------> Child.modified parent_function2\")\n"
   ]
  },
  {
   "cell_type": "code",
   "execution_count": 13,
   "metadata": {},
   "outputs": [
    {
     "name": "stdout",
     "output_type": "stream",
     "text": [
      "----------> Parent.__init__\n",
      "----------> Parent.parent_function\n",
      "----------> Parent.parent_function2\n",
      "----------> Parent.__init__\n",
      "----------> Child.__init__\n",
      "----------> Child.child_function\n",
      "----------> Parent.parent_function\n",
      "----------> Parent.parent_function2\n",
      "----------> Child.modified parent_function2\n"
     ]
    }
   ],
   "source": [
    "# 상속 클래스 사용\n",
    "parent = Parent()\n",
    "parent.parent_function()\n",
    "parent.parent_function2() # Parent 클래스에서 만든 함수 호출\n",
    "\n",
    "child = Child()\n",
    "child.child_function()\n",
    "child.parent_function() # Child 클래스에 만든 함수가 아니지만 상속 받아서 호출 가능\n",
    "child.parent_function2() # Child 클래스가 수정한 함수 호출"
   ]
  }
 ],
 "metadata": {
  "kernelspec": {
   "display_name": "human-da-env",
   "language": "python",
   "name": "python3"
  },
  "language_info": {
   "codemirror_mode": {
    "name": "ipython",
    "version": 3
   },
   "file_extension": ".py",
   "mimetype": "text/x-python",
   "name": "python",
   "nbconvert_exporter": "python",
   "pygments_lexer": "ipython3",
   "version": "3.12.7"
  }
 },
 "nbformat": 4,
 "nbformat_minor": 2
}
