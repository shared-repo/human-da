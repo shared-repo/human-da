{
 "cells": [
  {
   "cell_type": "code",
   "execution_count": 1,
   "metadata": {},
   "outputs": [],
   "source": [
    "import os\n",
    "os.environ[\"OPENAI_API_KEY\"] = \"\""
   ]
  },
  {
   "cell_type": "code",
   "execution_count": 2,
   "metadata": {},
   "outputs": [
    {
     "data": {
      "text/plain": [
       "('data-files/2016-10-20-news.txt', <http.client.HTTPMessage at 0x200950e60d0>)"
      ]
     },
     "execution_count": 2,
     "metadata": {},
     "output_type": "execute_result"
    }
   ],
   "source": [
    "import urllib.request as request\n",
    "\n",
    "request.urlretrieve(\"https://raw.githubusercontent.com/lovit/soynlp/master/tutorials/2016-10-20.txt\",\n",
    "                    \"data-files/2016-10-20-news.txt\")"
   ]
  },
  {
   "cell_type": "code",
   "execution_count": 3,
   "metadata": {},
   "outputs": [
    {
     "name": "stdout",
     "output_type": "stream",
     "text": [
      "18085369\n"
     ]
    }
   ],
   "source": [
    "with open('data-files/2016-10-20-news.txt') as f:\n",
    "    news_data = f.read()\n",
    "\n",
    "print(len(news_data))"
   ]
  },
  {
   "cell_type": "code",
   "execution_count": 4,
   "metadata": {},
   "outputs": [],
   "source": [
    "from langchain_text_splitters import RecursiveCharacterTextSplitter"
   ]
  },
  {
   "cell_type": "code",
   "execution_count": 5,
   "metadata": {},
   "outputs": [],
   "source": [
    "# 지정된 문자( \"\\n\\n\", \"\\n\", space, ..) 기준으로 chunk_size에 이를 때까지 분할\n",
    "text_splitter = RecursiveCharacterTextSplitter(chunk_size=500, chunk_overlap=100)"
   ]
  },
  {
   "cell_type": "code",
   "execution_count": 6,
   "metadata": {},
   "outputs": [],
   "source": [
    "news_chunks = text_splitter.create_documents([news_data])"
   ]
  },
  {
   "cell_type": "code",
   "execution_count": 10,
   "metadata": {},
   "outputs": [
    {
     "data": {
      "text/plain": [
       "Document(metadata={}, page_content='오패산터널 총격전 용의자 검거 서울 연합뉴스 경찰 관계자들이 19일 오후 서울 강북구 오패산 터널 인근에서 사제 총기를 발사해 경찰을 살해한 용의자 성모씨를 검거하고 있다 성씨는 검거 당시 서바이벌 게임에서 쓰는 방탄조끼에 헬멧까지 착용한 상태였다 독자제공 영상 캡처 연합뉴스  서울 연합뉴스 김은경 기자 사제 총기로 경찰을 살해한 범인 성모 46 씨는 주도면밀했다  경찰에 따르면 성씨는 19일 오후 강북경찰서 인근 부동산 업소 밖에서 부동산업자 이모 67 씨가 나오기를 기다렸다 이씨와는 평소에도 말다툼을 자주 한 것으로 알려졌다  이씨가 나와 걷기 시작하자 성씨는 따라가면서 미리 준비해온 사제 총기를 이씨에게 발사했다 총알이 빗나가면서 이씨는 도망갔다 그 빗나간 총알은 지나가던 행인 71 씨의 배를 스쳤다  성씨는 강북서 인근 치킨집까지 이씨 뒤를 쫓으며 실랑이하다 쓰러뜨린 후 총기와 함께 가져온 망치로 이씨 머리를 때렸다  이 과정에서 오후 6시 20분께 강북구 번동 길 위에서')"
      ]
     },
     "execution_count": 10,
     "metadata": {},
     "output_type": "execute_result"
    }
   ],
   "source": [
    "news_chunks[0]\n",
    "news_chunks[1]"
   ]
  },
  {
   "cell_type": "code",
   "execution_count": 13,
   "metadata": {},
   "outputs": [
    {
     "name": "stdout",
     "output_type": "stream",
     "text": [
      "다  성씨는 강북서 인근 치킨집까지 이씨 뒤를 쫓으며 실랑이하다 쓰러뜨린 후 총기와 함께 가져온 망치로 이씨 머리를 때렸다  이 과정에서 오후 6시 20분께 강북구 번동 길 위에서\n",
      "성씨는 강북서 인근 치킨집까지 이씨 뒤를 쫓으며 실랑이하다 쓰러뜨린 후 총기와 함께 가져온 망치로 이씨 머리를 때렸다  이 과정에서 오후 6시 20분께 강북구 번동 길 위에서 사람\n"
     ]
    }
   ],
   "source": [
    "print( news_chunks[1].page_content[-100:] )\n",
    "print( news_chunks[2].page_content[:100] )"
   ]
  },
  {
   "cell_type": "code",
   "execution_count": 17,
   "metadata": {},
   "outputs": [
    {
     "name": "stdout",
     "output_type": "stream",
     "text": [
      "50777\n",
      "17 498 496\n"
     ]
    }
   ],
   "source": [
    "print( len(news_chunks) )\n",
    "print( len(news_chunks[0].page_content), \n",
    "       len(news_chunks[1].page_content), \n",
    "       len(news_chunks[2].page_content) )"
   ]
  },
  {
   "cell_type": "code",
   "execution_count": null,
   "metadata": {},
   "outputs": [],
   "source": [
    "# !pip install langchain_experimental"
   ]
  },
  {
   "cell_type": "code",
   "execution_count": 21,
   "metadata": {},
   "outputs": [],
   "source": [
    "from langchain_openai import OpenAIEmbeddings\n",
    "from langchain_experimental.text_splitter import SemanticChunker"
   ]
  },
  {
   "cell_type": "code",
   "execution_count": 28,
   "metadata": {},
   "outputs": [
    {
     "name": "stdout",
     "output_type": "stream",
     "text": [
      "7460\n"
     ]
    }
   ],
   "source": [
    "request.urlretrieve(\"https://raw.githubusercontent.com/chatgpt-kr/openai-api-tutorial/main/ch06/test.txt\",\n",
    "                    \"data-files/semantic-chunker-test.txt\")\n",
    "with open('data-files/semantic-chunker-test.txt') as f:\n",
    "    test_data = f.read()\n",
    "\n",
    "print(len(test_data))"
   ]
  },
  {
   "cell_type": "code",
   "execution_count": 30,
   "metadata": {},
   "outputs": [],
   "source": [
    "# 문장단위로 구분 후 각 문장의 Embedding 유사도를 기준으로 병합 수행\n",
    "text_splitter2 = SemanticChunker(OpenAIEmbeddings())\n",
    "chunks_by_semantic = text_splitter2.create_documents([test_data])"
   ]
  },
  {
   "cell_type": "code",
   "execution_count": 31,
   "metadata": {},
   "outputs": [
    {
     "name": "stdout",
     "output_type": "stream",
     "text": [
      "10\n"
     ]
    }
   ],
   "source": [
    "print( len(chunks_by_semantic) )"
   ]
  },
  {
   "cell_type": "code",
   "execution_count": 33,
   "metadata": {},
   "outputs": [
    {
     "data": {
      "text/plain": [
       "Document(metadata={}, page_content='그는 자신의 능력으로 이 영예를 얻었다는 사실에 큰 긍지를 느꼈다. 이 상을 받은 학생들은 곧바로 대한민국 최고의 대학에 진학할 수 있었고, 이는 엄청난 특혜였다. 박민호 역시 서울대학교 컴퓨터공학과에 입학했다. 작은 어촌마을에서 자란 그에게 서울은 전혀 다른 세상이었다. 높은 빌딩들과 복잡한 지하철, 그리고 끊임없이 움직이는 사람들. 모든 것이 새롭고 놀라웠다. 서울대학교에서의 4년은 박민호에게 큰 도전이었다. 학업의 난이도는 그가 예상했던 것보다 훨씬 높았고, 대도시의 생활 역시 적응하기 쉽지 않았다. 그러나 그는 포기하지 않았다. 밤을 새워가며 공부했고, 모르는 것이 있으면 교수님들을 찾아가 끊임없이 질문했다. 그의 열정과 노력은 곧 결실을 맺었고, 그는 학과에서 상위권의 성적을 유지할 수 있었다. 현재 박민호는 미국 실리콘밸리의 한 유명 IT 기업에서 인공지능 연구원으로 일하고 있다. 그러나 서울대 졸업 후 여러 차례의 좌절과 실패를 겪으며 IT 업계에서 성공하기까지 그의 여정은 결코 순탄하지 않았다. 그 과정에는 수많은 도전과 좌절, 그리고 새로운 시작이 있었다. 어린 시절과 꿈\\n박민호가 태어난 어촌마을은 오랜 역사를 지니고 있었다. 이 마을은 조선 시대부터 어업이 번성한 곳으로, 수백 년 동안 변함없이 바다를 삶의 터전으로 삼아온 사람들의 이야기가 깃든 곳이었다. 박민호는 1985년 이 마을에서 태어났다. 그의 아버지는 3대째 이어온 가업을 이어받아 어부로 일하며 생계를 이어갔다. 어린 시절 박민호는 종종 아버지와 함께 바다에 나갔다. 출렁이는 파도와 끝없이 펼쳐진 수평선을 바라보며, 그는 언젠가 이 바다를 넘어 더 넓은 세상으로 나아가고 싶다는 생각을 했다. 아버지는 그런 아들의 꿈을 알아챘는지, 박민호에게 자주 이런 말을 했다. \"민호야, 공부를 열심히 해서 어촌을 벗어나 큰 세상으로 나가야 한다.\" 아버지는 박민호에게 어촌의 한계를 벗어나 더 큰 꿈을 이루기를 바랐다. 그러나 13세 때 예기치 못한 비극이 찾아왔다. 아버지가 폭풍우 속에서 조업을 하다 바다에서 사고로 사망한 것이다. 이 소식을 들었을 때 박민호는 큰 충격에 빠졌다. 아버지의 장례식 날, 그는 밤새 울며 아버지와의 추억을 되새겼다. 특히 아버지가 늘 강조하던 \\'공부\\'에 대한 말씀이 계속해서 귓가에 맴돌았다. 한동안 방황하던 그는 결국 아버지의 유언을 마음에 새기고 공부에 전념하기로 결심했다. 그때부터 박민호의 생활은 180도 바뀌었다. 학교가 끝나면 곧장 도서관으로 향했고, 밤늦게까지 책과 씨름했다. 주말에도 그의 일과는 다르지 않았다. 친구들이 놀러 가자고 할 때마다 그는 공부를 핑계로 거절했다. 이런 노력 끝에 고등학교 졸업반이 되었을 때 그는 대통령 과학 장학생으로 선정될 만큼 뛰어난 성적을 거두었다. 그러나 기쁨도 잠시, 현실적인 문제가 그를 기다리고 있었다. 가족의 경제적 어려움 때문에 서울에서 대학을 다니는 것은 큰 부담이었다. 어머니는 눈물을 흘리며 민호에게 지역 대학을 가라고 권했다. 하지만 박민호는 포기하지 않았다. 그는 다양한 장학금을 알아보고 지원했으며, 아르바이트를 병행하며 학업을 이어갈 계획을 세웠다. 그의 의지를 본 어머니는 결국 그의 선택을 존중해주기로 했다. 어머니는 박민호에게 말했다. \"네 아버지가 살아계셨다면 얼마나 자랑스러워하셨을까.\" 이 말을 들은 박민호는 더욱 강한 의지를 가지고 서울로 향했다. 대학 시절과 군 생활\\n서울대학교에 입학한 박민호는 4년 동안 컴퓨터 공학을 공부하며 여러 연구 프로젝트에 참여했다. 2000년대 초반 대한민국은 IT 붐이 일어나던 시기였다. 인터넷과 모바일 기술이 급속도로 발전하며 새로운 기회의 시대가 열리고 있었다. 박민호는 이런 시대의 흐름을 타고 더 큰 꿈을 꾸기 시작했다. 그러나 현실은 녹록지 않았다. 경제적 어려움과 여러 차례의 좌절을 겪으며 학업을 이어갔다. 대학 시절, 그는 공부 외에도 여러 어려움을 겪었다. 경제적으로 어려운 환경에서 학업을 이어가며, 각종 아르바이트를 병행했다. 그는 편의점, 식당, 심지어 연구 보조 아르바이트까지 하며 학비와 생활비를 마련했다. 때로는 너무 힘들어 포기하고 싶은 순간도 있었다.')"
      ]
     },
     "execution_count": 33,
     "metadata": {},
     "output_type": "execute_result"
    }
   ],
   "source": [
    "chunks_by_semantic[1]"
   ]
  }
 ],
 "metadata": {
  "kernelspec": {
   "display_name": "human-dl-env2",
   "language": "python",
   "name": "python3"
  },
  "language_info": {
   "codemirror_mode": {
    "name": "ipython",
    "version": 3
   },
   "file_extension": ".py",
   "mimetype": "text/x-python",
   "name": "python",
   "nbconvert_exporter": "python",
   "pygments_lexer": "ipython3",
   "version": "3.9.21"
  }
 },
 "nbformat": 4,
 "nbformat_minor": 2
}
