{
 "cells": [
  {
   "cell_type": "code",
   "execution_count": 3,
   "metadata": {},
   "outputs": [],
   "source": [
    "import openai"
   ]
  },
  {
   "cell_type": "code",
   "execution_count": 4,
   "metadata": {},
   "outputs": [],
   "source": [
    "OPENAI_API_KEY = \"\"\n",
    "\n",
    "client = openai.OpenAI(api_key=OPENAI_API_KEY) # openai api service에 연결된 객체"
   ]
  },
  {
   "cell_type": "code",
   "execution_count": 6,
   "metadata": {},
   "outputs": [],
   "source": [
    "response = client.chat.completions.create(\n",
    "    model='gpt-4-turbo',\n",
    "    messages=[\n",
    "        {\n",
    "            \"role\": \"user\", \n",
    "            \"content\" : [\n",
    "                { \"type\": \"text\", \"text\": \"이미지에 대해 설명해 주세요\" },\n",
    "                { \n",
    "                    'type': \"image_url\",\n",
    "                    'image_url': {\n",
    "                        'url': 'https://upload.wikimedia.org/wikipedia/commons/thumb/d/dd/Gfp-wisconsin-madison-the-nature-boardwalk.jpg/2560px-Gfp-wisconsin-madison-the-nature-boardwalk.jpg'\n",
    "                    }\n",
    "                }\n",
    "            ]\n",
    "        }\n",
    "    ],\n",
    "    max_tokens=300\n",
    ")"
   ]
  },
  {
   "cell_type": "code",
   "execution_count": 7,
   "metadata": {},
   "outputs": [
    {
     "name": "stdout",
     "output_type": "stream",
     "text": [
      "이 사진은 넓은 초록색 초원과 그 사이로 놓인 나무 데크길을 보여줍니다. 나무 데크는 사진의 왼쪽 앞부분에서 시작하여 오른쪽 먼 곳까지 이어져 있습니다. 주변은 높게 자란 풀과 작은 관목들로 둘러싸여 있으며, 멀리 나무들이 띄엄띄엄 보입니다. 하늘은 맑고 푸르며, 구름이 산뜻하게 퍼져 있습니다. 이 풍경은 자연 속의 평화와 고요함을 전달하며, 여유롭게 산책하기 좋은 장소로 보입니다.\n"
     ]
    }
   ],
   "source": [
    "print(response.choices[0].message.content)"
   ]
  }
 ],
 "metadata": {
  "kernelspec": {
   "display_name": "human-dl-env2",
   "language": "python",
   "name": "python3"
  },
  "language_info": {
   "codemirror_mode": {
    "name": "ipython",
    "version": 3
   },
   "file_extension": ".py",
   "mimetype": "text/x-python",
   "name": "python",
   "nbconvert_exporter": "python",
   "pygments_lexer": "ipython3",
   "version": "3.9.21"
  }
 },
 "nbformat": 4,
 "nbformat_minor": 2
}
