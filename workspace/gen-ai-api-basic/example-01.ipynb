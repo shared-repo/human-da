{
 "cells": [
  {
   "cell_type": "code",
   "execution_count": null,
   "metadata": {},
   "outputs": [],
   "source": [
    "# !pip install openai"
   ]
  },
  {
   "cell_type": "code",
   "execution_count": 2,
   "metadata": {},
   "outputs": [],
   "source": [
    "import openai"
   ]
  },
  {
   "cell_type": "code",
   "execution_count": 3,
   "metadata": {},
   "outputs": [],
   "source": [
    "OPENAI_API_KEY = \"\"\n",
    "\n",
    "client = openai.OpenAI(api_key=OPENAI_API_KEY) # openai api service에 연결된 객체"
   ]
  },
  {
   "cell_type": "code",
   "execution_count": 4,
   "metadata": {},
   "outputs": [],
   "source": [
    "response = client.chat.completions.create(\n",
    "    model=\"gpt-3.5-turbo\",\n",
    "    messages=[\n",
    "        { \"role\": \"user\", \"content\": \"계란찜 요리법을 알려주세요\" }\n",
    "    ]\n",
    ")"
   ]
  },
  {
   "cell_type": "code",
   "execution_count": 8,
   "metadata": {},
   "outputs": [
    {
     "name": "stdout",
     "output_type": "stream",
     "text": [
      "계란찜은 쉽고 간단하게 만들 수 있는 한국 전통 요리 중 하나입니다. 아래는 계란찜 요리법입니다.\n",
      "\n",
      "재료:\n",
      "- 계란 4개\n",
      "- 물 1컵\n",
      "- 소금 1작은술\n",
      "- 다진 파 또는 깨 적당량 (옵션)\n",
      "\n",
      "1. 냄비에 물을 넣고 소금을 넣어 소금물을 만듭니다.\n",
      "\n",
      "2. 달걀 4개를 깨서 볼에 넣고 거품기로 풀어줍니다.\n",
      "\n",
      "3. 달걀물을 체에 걸러서 부드러운 달걀물을 만들어줍니다.\n",
      "\n",
      "4. 작은 달걀찜틀에 달걀물을 붓고 물을 부어줍니다.\n",
      "\n",
      "5. 뚜껑을 덮고 약불에서 10-15분 정도 쪄줍니다.\n",
      "\n",
      "6. 젓가락으로 찜이 익었는지 확인 후 다 진 파나 깨를 뿌려서 멋을 내줍니다.\n",
      "\n",
      "7. 그릇에 담아서 내놓으면 완성입니다.\n",
      "\n",
      "맛있는 계란찜이 완성되었습니다. 계란 찜은 간단한 재료로 만들 수 있고 부드러운 식감이 입안 가득 전해집니다. 맛있는 한끼 식사로나 유지성요리로 마음 풀기 딱 좋은 메뉴로 건강하고 영양있게 식사 할 수 있는 메뉴입니다. 함께 마련된 어른 마무리해요.\n"
     ]
    }
   ],
   "source": [
    "print( response.choices[0].message.content )"
   ]
  },
  {
   "cell_type": "code",
   "execution_count": 10,
   "metadata": {},
   "outputs": [
    {
     "name": "stdout",
     "output_type": "stream",
     "text": [
      "23\n",
      "479\n"
     ]
    }
   ],
   "source": [
    "print ( response.usage.prompt_tokens )\n",
    "print ( response.usage.completion_tokens )"
   ]
  },
  {
   "cell_type": "code",
   "execution_count": 13,
   "metadata": {},
   "outputs": [],
   "source": [
    "response = client.chat.completions.create(\n",
    "    model=\"gpt-3.5-turbo\",\n",
    "    messages=[\n",
    "        # { \"role\": \"system\", \"content\": \"You are a translator that translates users' inputs. If the input is in Korean, it must be translated into English. This must be strictly adhered to.\" },\n",
    "        { \"role\": \"user\", \"content\": \"어묵탕 요리법을 알려주세요\" }\n",
    "    ]\n",
    ")"
   ]
  },
  {
   "cell_type": "code",
   "execution_count": 14,
   "metadata": {},
   "outputs": [
    {
     "name": "stdout",
     "output_type": "stream",
     "text": [
      "어묵탕은 한국 전통 음식 중 하나로, 맑은 국물과 쫄깃한 어묵이 어우러진 맛있는 요리입니다. 아래는 어묵탕을 만드는 간단한 레시피 입니다.\n",
      "\n",
      "재료:\n",
      "- 어묵 200g\n",
      "- 물 5컵\n",
      "- 대파 1대\n",
      "- 마늘 4개\n",
      "- 양파 1개\n",
      "- 간장 1큰술\n",
      "- 소금 약간\n",
      "- 후추 약간\n",
      "- 다진 마늘 1큰술\n",
      "- 고추가루 1작은술 (선택사항)\n",
      "- 참기름 1큰술\n",
      "\n",
      "1. 대파와 양파를 송송 썰어 준비합니다.\n",
      "2. 어묵을 물에 담가 소금을 약간 넣고 풀어줍니다.\n",
      "3. 냄비에 물을 끓여 양파, 마늘, 다진 마늘, 간장, 소금, 후추를 넣고 끓입니다.\n",
      "4. 물이 끓어오르면 어묵과 대파를 넣고 뚜껑을 닫은 채로 10분간 더 끓입니다.\n",
      "5. 고추가루와 참기름을 넣고 끓여 1~2분 정도 우려내면 완성입니다.\n",
      "\n",
      "이렇게 간단하게 어묵탕을 만들 수 있습니다. 맑은 국물과 쫄깃한 어묵의 조화가 맛있습니다. 맛있게 드세요!\n"
     ]
    }
   ],
   "source": [
    "print( response.choices[0].message.content )"
   ]
  },
  {
   "cell_type": "code",
   "execution_count": 15,
   "metadata": {},
   "outputs": [],
   "source": [
    "response = client.chat.completions.create(\n",
    "    model=\"gpt-3.5-turbo\",\n",
    "    messages=[\n",
    "        { \"role\": \"system\", \"content\": \"You are a helpful assistant\" },\n",
    "        { \"role\": \"user\", \"content\": \"2020년 한국시리즈 우승팀을 알려주세요\" },\n",
    "        { \"role\": \"assistant\", \"content\": \"2020년 한국시리즈 우승팀은 NC 다이노스입니다.\"},\n",
    "        { \"role\": \"user\", \"content\": \"마지막 경기가 열린 장소를 알려주세요\"}\n",
    "    ]\n",
    ")"
   ]
  },
  {
   "cell_type": "code",
   "execution_count": 16,
   "metadata": {},
   "outputs": [
    {
     "name": "stdout",
     "output_type": "stream",
     "text": [
      "2020년 한국시리즈 마지막 경기는 잠실야구장에서 열렸습니다.\n"
     ]
    }
   ],
   "source": [
    "print(response.choices[0].message.content)"
   ]
  },
  {
   "cell_type": "code",
   "execution_count": 17,
   "metadata": {},
   "outputs": [],
   "source": [
    "response = client.chat.completions.create(\n",
    "    model=\"gpt-3.5-turbo\",\n",
    "    messages=[        \n",
    "        { \"role\": \"user\", \"content\": \"마지막 경기가 열린 장소를 알려주세요\"}\n",
    "    ]\n",
    ")"
   ]
  },
  {
   "cell_type": "code",
   "execution_count": 18,
   "metadata": {},
   "outputs": [
    {
     "name": "stdout",
     "output_type": "stream",
     "text": [
      "죄송하지만, 질문이 구체적으로 어떤 경기를 의미하는지 밝혀주셔야 정확한 답변을 드릴 수 있습니다. 어떤 스포츠 경기이며, 어느 지역에서 열린 것인지 등 좀 더 자세한 정보를 제공해주시면 안내해드리겠습니다.\n"
     ]
    }
   ],
   "source": [
    "print(response.choices[0].message.content)"
   ]
  }
 ],
 "metadata": {
  "kernelspec": {
   "display_name": "human-dl-env2",
   "language": "python",
   "name": "python3"
  },
  "language_info": {
   "codemirror_mode": {
    "name": "ipython",
    "version": 3
   },
   "file_extension": ".py",
   "mimetype": "text/x-python",
   "name": "python",
   "nbconvert_exporter": "python",
   "pygments_lexer": "ipython3",
   "version": "3.9.21"
  }
 },
 "nbformat": 4,
 "nbformat_minor": 2
}
