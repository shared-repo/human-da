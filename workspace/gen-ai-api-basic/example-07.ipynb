{
 "cells": [
  {
   "cell_type": "code",
   "execution_count": 1,
   "metadata": {},
   "outputs": [],
   "source": [
    "import os\n",
    "os.environ[\"OPENAI_API_KEY\"] = \"\""
   ]
  },
  {
   "cell_type": "code",
   "execution_count": 2,
   "metadata": {},
   "outputs": [],
   "source": [
    "from langchain_openai import ChatOpenAI"
   ]
  },
  {
   "cell_type": "code",
   "execution_count": 3,
   "metadata": {},
   "outputs": [],
   "source": [
    "llm = ChatOpenAI(\n",
    "    model_name=\"gpt-3.5-turbo\",\n",
    "    temperature=0.1 # 일관성 vs 다양성(창의성) : 0.0 ~ 2.0\n",
    ")"
   ]
  },
  {
   "cell_type": "code",
   "execution_count": 4,
   "metadata": {},
   "outputs": [],
   "source": [
    "result = llm.invoke(\"세종대왕이 누구인지 설명해 주세요\")"
   ]
  },
  {
   "cell_type": "code",
   "execution_count": 6,
   "metadata": {},
   "outputs": [
    {
     "data": {
      "text/plain": [
       "'세종대왕은 조선시대 4대 왕 중 한 명으로, 조선시대의 제4대 군주이자 문신이다. 세종대왕은 1418년에 태어나 1450년부터 1452년까지 조선의 왕위에 오르고 1418년부터 1450년까지 32년 동안 통치했다. 세종대왕은 조선시대의 가장 위대한 왕 중 한 명으로 꼽히며, 한글을 창제하고 과학기술, 문화, 예술 등을 발전시킨 것으로 유명하다. 또한 세종대왕은 백성을 위한 정책을 실시하여 조선시대의 경제와 사회 발전에 크게 기여했다.'"
      ]
     },
     "execution_count": 6,
     "metadata": {},
     "output_type": "execute_result"
    }
   ],
   "source": [
    "result.content"
   ]
  },
  {
   "cell_type": "code",
   "execution_count": 7,
   "metadata": {},
   "outputs": [],
   "source": [
    "result2 = llm.invoke(\"고려시대 명장 이순신장군에 대해 설명해주세요\")"
   ]
  },
  {
   "cell_type": "code",
   "execution_count": 8,
   "metadata": {},
   "outputs": [
    {
     "data": {
      "text/plain": [
       "'이순신(1536-1598)은 조선시대의 무신 이순신 장군으로, 고려시대 명장으로도 불립니다. 그는 조선시대 최고의 무신이자 해상전쟁의 전략가로서 유명하며, 일본의 침략을 막는 데 큰 역할을 했습니다.\\n\\n이순신은 전쟁에서의 뛰어난 전략과 무기력을 바탕으로 많은 전투에서 승리를 거두었고, 특히 거북선을 이용한 해상전투에서 그의 능력을 발휘했습니다. 그의 대표적인 전투로는 명량해전이 있으며, 이 해전에서 이순신은 일본의 강력한 함대를 물리치고 조선을 지키는 데 성공했습니다.\\n\\n이순신은 뛰어난 전략가로서뿐만 아니라, 훌륭한 지도자로서도 인정받았습니다. 그는 병사들을 잘 다스리고 지휘하는 능력을 보여주었으며, 그의 지휘하에 전투에 참여한 병사들은 높은 전투력을 보였습니다.\\n\\n이순신은 조선시대의 역사에서 가장 뛰어난 무신 중 한 명으로 평가되며, 그의 업적은 조선시대의 국익을 지키는 데 큰 기여를 했습니다. 현재까지도 그의 업적은 많은 사람들에게 존경받고 있습니다.'"
      ]
     },
     "execution_count": 8,
     "metadata": {},
     "output_type": "execute_result"
    }
   ],
   "source": [
    "result2.content"
   ]
  },
  {
   "cell_type": "code",
   "execution_count": 9,
   "metadata": {},
   "outputs": [],
   "source": [
    "from langchain_core.prompts import PromptTemplate"
   ]
  },
  {
   "cell_type": "code",
   "execution_count": 10,
   "metadata": {},
   "outputs": [],
   "source": [
    "template = \"{who}가 누구인지 설명해주세요\"\n",
    "prompt = PromptTemplate(template=template, input_variables=[\"who\"])\n",
    "\n",
    "llm_chain = prompt | llm # | -> 작업 연결 : a | b -> a를 처리하고 결과를 이용해서 b 실행"
   ]
  },
  {
   "cell_type": "code",
   "execution_count": 11,
   "metadata": {},
   "outputs": [],
   "source": [
    "result = llm_chain.invoke({\"who\": \"안중근의사\"})"
   ]
  },
  {
   "cell_type": "code",
   "execution_count": 12,
   "metadata": {},
   "outputs": [
    {
     "data": {
      "text/plain": [
       "'안중근(1879-1910)은 대한독립운동가이자 독립운동의 선봉장으로 활동한 한국의 역사적 인물입니다. 안중근은 일제 강점기 시대에 일본의 식민지화 정책에 항거하고 대한독립을 위해 투쟁했습니다. 그는 1909년 일본 경찰서를 습격하여 일본 총독 이토 히로부미를 암살하려는 시도를 하였으나 실패하여 체포되었고, 1910년 3월 26일 서울 경성감옥에서 일본군에 의해 목숨을 잃었습니다. 안중근의 희생은 대한민국의 독립운동사에 큰 영향을 미쳤으며, 그의 희생은 대한독립을 위한 투쟁의 상징으로 기억되고 있습니다.'"
      ]
     },
     "execution_count": 12,
     "metadata": {},
     "output_type": "execute_result"
    }
   ],
   "source": [
    "result.content"
   ]
  },
  {
   "cell_type": "code",
   "execution_count": null,
   "metadata": {},
   "outputs": [],
   "source": []
  }
 ],
 "metadata": {
  "kernelspec": {
   "display_name": "human-dl-env2",
   "language": "python",
   "name": "python3"
  },
  "language_info": {
   "codemirror_mode": {
    "name": "ipython",
    "version": 3
   },
   "file_extension": ".py",
   "mimetype": "text/x-python",
   "name": "python",
   "nbconvert_exporter": "python",
   "pygments_lexer": "ipython3",
   "version": "3.9.21"
  }
 },
 "nbformat": 4,
 "nbformat_minor": 2
}
