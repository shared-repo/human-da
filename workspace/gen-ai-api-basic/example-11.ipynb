{
 "cells": [
  {
   "cell_type": "code",
   "execution_count": 10,
   "metadata": {},
   "outputs": [],
   "source": [
    "import urllib.request as request\n",
    "from langchain.document_loaders import PyPDFLoader\n",
    "from langchain.vectorstores import Chroma\n",
    "from langchain.text_splitter import RecursiveCharacterTextSplitter\n",
    "from langchain.embeddings import OpenAIEmbeddings\n",
    "from langchain.prompts import PromptTemplate\n",
    "from langchain_openai import ChatOpenAI\n",
    "from langchain.chains import RetrievalQA"
   ]
  },
  {
   "cell_type": "code",
   "execution_count": 11,
   "metadata": {},
   "outputs": [],
   "source": [
    "import os\n",
    "os.environ[\"OPENAI_API_KEY\"] = \"\""
   ]
  },
  {
   "cell_type": "code",
   "execution_count": 12,
   "metadata": {},
   "outputs": [
    {
     "data": {
      "text/plain": [
       "('data-files/economy-dictionary.pdf',\n",
       " <http.client.HTTPMessage at 0x1c7374bc310>)"
      ]
     },
     "execution_count": 12,
     "metadata": {},
     "output_type": "execute_result"
    }
   ],
   "source": [
    "request.urlretrieve(\"https://github.com/chatgpt-kr/openai-api-tutorial/raw/main/ch07/2020_%EA%B2%BD%EC%A0%9C%EA%B8%88%EC%9C%B5%EC%9A%A9%EC%96%B4%20700%EC%84%A0_%EA%B2%8C%EC%8B%9C.pdf\",\n",
    "                    \"data-files/economy-dictionary.pdf\")"
   ]
  },
  {
   "cell_type": "code",
   "execution_count": 13,
   "metadata": {},
   "outputs": [
    {
     "name": "stdout",
     "output_type": "stream",
     "text": [
      "CPU times: total: 16.9 s\n",
      "Wall time: 17 s\n"
     ]
    }
   ],
   "source": [
    "%%time\n",
    "# pdf 파일의 텍스트 정보를 읽어서 페이지 단위로 반환\n",
    "loader = PyPDFLoader('data-files/economy-dictionary.pdf')\n",
    "pages = loader.load_and_split()"
   ]
  },
  {
   "cell_type": "code",
   "execution_count": 14,
   "metadata": {},
   "outputs": [
    {
     "name": "stdout",
     "output_type": "stream",
     "text": [
      "366\n",
      "352\n"
     ]
    }
   ],
   "source": [
    "print( len(pages) )\n",
    "# print( pages[0].page_content )\n",
    "# print( pages[12].page_content ) # 0 ~ 12번 문서는 목차\n",
    "# print( pages[-1].page_content ) # 마지막 문서는 기타 정보\n",
    "\n",
    "pages2 = pages[13:-1] # 불필요한 문서(페이지) 제거\n",
    "print(len(pages2))"
   ]
  },
  {
   "cell_type": "code",
   "execution_count": 15,
   "metadata": {},
   "outputs": [],
   "source": [
    "text_splitter = RecursiveCharacterTextSplitter(chunk_size=1000, chunk_overlap=100)"
   ]
  },
  {
   "cell_type": "code",
   "execution_count": 16,
   "metadata": {},
   "outputs": [],
   "source": [
    "documents = text_splitter.split_documents(pages2)"
   ]
  },
  {
   "cell_type": "code",
   "execution_count": 17,
   "metadata": {},
   "outputs": [
    {
     "data": {
      "text/plain": [
       "646"
      ]
     },
     "execution_count": 17,
     "metadata": {},
     "output_type": "execute_result"
    }
   ],
   "source": [
    "len(documents)"
   ]
  },
  {
   "cell_type": "code",
   "execution_count": 18,
   "metadata": {},
   "outputs": [],
   "source": [
    "# 분할된 문서들을 vectordb에 저장 (여기서는 Chroma)\n",
    "\n",
    "chroma_db = Chroma.from_documents(documents, OpenAIEmbeddings()) # 메모리에 저장\n",
    "# chroma_db = Chroma.from_documents(documents, OpenAIEmbeddings(), \n",
    "#                                   persist_directory=\"vectordb/chroma.economy.db\") # 파일로 저장"
   ]
  },
  {
   "cell_type": "code",
   "execution_count": 19,
   "metadata": {},
   "outputs": [
    {
     "data": {
      "text/plain": [
       "646"
      ]
     },
     "execution_count": 19,
     "metadata": {},
     "output_type": "execute_result"
    }
   ],
   "source": [
    "chroma_db._collection.count()"
   ]
  },
  {
   "cell_type": "code",
   "execution_count": 20,
   "metadata": {},
   "outputs": [
    {
     "name": "stdout",
     "output_type": "stream",
     "text": [
      "ids\n",
      "embeddings\n",
      "documents\n",
      "uris\n",
      "data\n",
      "metadatas\n",
      "included\n"
     ]
    }
   ],
   "source": [
    "# 데이터 저장 구조 (구성) 확인\n",
    "# for k, v in chroma_db._collection.get().items(): # items() : key, value from dict\n",
    "#     print(k)\n",
    "\n",
    "for k in chroma_db._collection.get(): # key from dict\n",
    "    print(k)"
   ]
  },
  {
   "cell_type": "code",
   "execution_count": 21,
   "metadata": {},
   "outputs": [
    {
     "data": {
      "text/plain": [
       "array([[-0.0077088 , -0.0075166 ,  0.014182  , ..., -0.01861645,\n",
       "        -0.00669286, -0.00903364],\n",
       "       [ 0.00170697, -0.01484938,  0.03096656, ...,  0.00016448,\n",
       "        -0.00243612, -0.01603626],\n",
       "       [-0.01100211, -0.00490143,  0.03516901, ..., -0.00774796,\n",
       "         0.00382345, -0.02089929],\n",
       "       ...,\n",
       "       [ 0.00093808, -0.02087439,  0.05270585, ..., -0.01743532,\n",
       "        -0.00393228, -0.00537856],\n",
       "       [-0.01949805, -0.03509107,  0.01503709, ..., -0.00687449,\n",
       "        -0.00983716, -0.01018292],\n",
       "       [-0.0089351 , -0.02862453,  0.02305268, ...,  0.00560877,\n",
       "        -0.00409497, -0.00419903]])"
      ]
     },
     "execution_count": 21,
     "metadata": {},
     "output_type": "execute_result"
    }
   ],
   "source": [
    "chroma_db._collection.get()[\"ids\"] # 데이터 반환\n",
    "chroma_db._collection.get()[\"embeddings\"] # 어떤 데이터는 None으로 반환\n",
    "chroma_db._collection.get(include=[\"embeddings\"])['embeddings']"
   ]
  },
  {
   "cell_type": "code",
   "execution_count": 22,
   "metadata": {},
   "outputs": [],
   "source": [
    "embeddings = chroma_db._collection.get(include=[\"embeddings\"])['embeddings']"
   ]
  },
  {
   "cell_type": "code",
   "execution_count": 23,
   "metadata": {},
   "outputs": [
    {
     "data": {
      "text/plain": [
       "(646, 1536)"
      ]
     },
     "execution_count": 23,
     "metadata": {},
     "output_type": "execute_result"
    }
   ],
   "source": [
    "embeddings.shape"
   ]
  },
  {
   "cell_type": "code",
   "execution_count": 24,
   "metadata": {},
   "outputs": [],
   "source": [
    "# 유사도가 높은 2개의 문서를 반환하는 반환기로 설정\n",
    "retriever = chroma_db.as_retriever(search_kwargs={\"k\":2}) "
   ]
  },
  {
   "cell_type": "code",
   "execution_count": 25,
   "metadata": {},
   "outputs": [
    {
     "name": "stderr",
     "output_type": "stream",
     "text": [
      "C:\\Users\\human\\AppData\\Local\\Temp\\ipykernel_11860\\73732550.py:1: LangChainDeprecationWarning: The method `BaseRetriever.get_relevant_documents` was deprecated in langchain-core 0.1.46 and will be removed in 1.0. Use :meth:`~invoke` instead.\n",
      "  docs = retriever.get_relevant_documents(\"비트코인을 알려주세요\")\n"
     ]
    }
   ],
   "source": [
    "docs = retriever.get_relevant_documents(\"비트코인을 알려주세요\")"
   ]
  },
  {
   "cell_type": "code",
   "execution_count": 26,
   "metadata": {},
   "outputs": [
    {
     "name": "stdout",
     "output_type": "stream",
     "text": [
      "2\n",
      "page_content='139\n",
      "ㅂ \n",
      "비트코인\n",
      "비트코인(bitcoin)은 가상통화(암호통화)이자 디지털 지급시스템이다. 비트코인 시스템\n",
      "은 중앙 저장소 또는 단일 관리자가 없기 때문에 최초의 탈중앙화된 디지털통화라고 불린다. \n",
      "이는 사토시 나카모토라는 사람(집단)에 의해 만들어져서 2009년 개방형 소프트웨어로 \n",
      "배포되었다. 이 시스템은 공유형(peer-to-peer)이며, 거래는 중개자 없이 블록체인 소프트\n",
      "웨어를 이용하는 참여자(nodes) 사이에 직접 이뤄진다. 이런 거래들은 공유(P2P) 네트워크\n",
      "상 참여자의 작업증명(proof-of-work)을 통해 검증되고 공개된 분산원장인 블록체인에 \n",
      "기록된다. 승인된 거래의 새 그룹인 한 블록은 대략 10분에 한 번씩 만들어져서 블록체인에 \n",
      "추가되고 신속하게 모든 참여자에게 보내어진다. 비트코인은 대규모 전기를 사용하는 \n",
      "컴퓨터 처리 능력(power)을 활용해서 이뤄지는 기록보관 서비스인 채굴(mining)에 대한 \n",
      "보상으로 발행되고 있으며 다른 통화･상품･용역 등과 교환되어가고 있다. 중앙은행이 \n",
      "발행한 법정화폐가 아닌 비트코인은 비트코인 플랫폼에서 거래되며 투자대상으로서도 \n",
      "관심을 받고 있다. 하지만 급등한 가격 및 심한 변동 폭으로 거품논란이 크다. 또한 익명성으\n",
      "로 자금세탁 등 불법거래에 악용될 소지가 많아 중국 등 일부 국가에서 비트코인 등 가상통\n",
      "화의 거래를 규제하고 있다. 일본의 경우 비트코인의 거래이익에 대해 세금을 부과한다. \n",
      "비트코인은 추가되는 한 블록당 새로 12.5비트코인을 보상하는데(2016.7월 현재), 21만개\n",
      "가 채굴될 때(대략 4년)마다 그 보상이 반으로 줄어든다. 비트코인의 총량은 21백만개이며 \n",
      "2140년경 모두 채굴될 것으로 전망된다. 비트코인은 그 시스템의 설계시 그 수량을 한정시\n",
      "켜 놓았기 때문에 원칙적으로 인플레이션에 의해 가치가 떨어질 수 있는 화폐와 다른 \n",
      "속성을 지닌다. 한편 2017년 8월 1일 비트코인(classic bitcoin)에서 ‘비트코인캐시’(BCH)가,' metadata={'page': 155, 'source': 'data-files/economy-dictionary.pdf'}\n"
     ]
    }
   ],
   "source": [
    "print(len(docs))\n",
    "print(docs[0])"
   ]
  },
  {
   "cell_type": "code",
   "execution_count": 27,
   "metadata": {},
   "outputs": [],
   "source": [
    "# 템플릿 만들기\n",
    "template = \"\"\"\n",
    "당신은 한국은행에서 만든 금융 용어를 설명해주는 도우미입니다.\n",
    "주어진 검색 결과를 기반으로 답변해 주세요.\n",
    "검색 결과에 없는 내용은 답변할 수 없다고 해주세요.\n",
    "\n",
    "[검색결과]\n",
    "{context}\n",
    "\n",
    "질문: {question}\n",
    "답변:\"\"\"\n",
    "\n",
    "prompt = PromptTemplate.from_template(template=template)"
   ]
  },
  {
   "cell_type": "code",
   "execution_count": 28,
   "metadata": {},
   "outputs": [],
   "source": [
    "llm = ChatOpenAI(model=\"gpt-4o\", temperature=0)"
   ]
  },
  {
   "cell_type": "code",
   "execution_count": 29,
   "metadata": {},
   "outputs": [],
   "source": [
    "qa_chain = RetrievalQA.from_chain_type(\n",
    "    llm=llm,\n",
    "    chain_type_kwargs={\"prompt\": prompt},\n",
    "    retriever=retriever,\n",
    "    return_source_documents=True\n",
    ")"
   ]
  },
  {
   "cell_type": "code",
   "execution_count": 30,
   "metadata": {},
   "outputs": [
    {
     "data": {
      "text/plain": [
       "{'query': '비트코인은 무엇인가요?',\n",
       " 'result': '비트코인(bitcoin)은 가상통화(암호통화)이자 디지털 지급시스템으로, 중앙 저장소나 단일 관리자가 없는 최초의 탈중앙화된 디지털 통화입니다. 2009년 사토시 나카모토라는 사람(또는 집단)에 의해 개방형 소프트웨어로 배포되었습니다. 비트코인 시스템은 공유형(peer-to-peer) 네트워크를 통해 중개자 없이 거래가 이루어지며, 거래는 참여자(nodes) 사이에서 블록체인 소프트웨어를 이용해 직접 검증되고 기록됩니다. 비트코인은 채굴(mining)이라는 과정을 통해 발행되며, 다른 통화, 상품, 용역 등과 교환될 수 있습니다. 비트코인은 중앙은행이 발행한 법정화폐가 아니며, 투자 대상으로도 관심을 받고 있습니다. 그러나 가격의 급등과 변동성으로 인해 거품 논란이 있으며, 익명성으로 인해 자금세탁 등 불법 거래에 악용될 가능성이 있어 일부 국가에서는 거래를 규제하고 있습니다. 비트코인의 총량은 2100만 개로 한정되어 있으며, 2140년경 모두 채굴될 것으로 예상됩니다.',\n",
       " 'source_documents': [Document(metadata={'page': 155, 'source': 'data-files/economy-dictionary.pdf'}, page_content='139\\nㅂ \\n비트코인\\n비트코인(bitcoin)은 가상통화(암호통화)이자 디지털 지급시스템이다. 비트코인 시스템\\n은 중앙 저장소 또는 단일 관리자가 없기 때문에 최초의 탈중앙화된 디지털통화라고 불린다. \\n이는 사토시 나카모토라는 사람(집단)에 의해 만들어져서 2009년 개방형 소프트웨어로 \\n배포되었다. 이 시스템은 공유형(peer-to-peer)이며, 거래는 중개자 없이 블록체인 소프트\\n웨어를 이용하는 참여자(nodes) 사이에 직접 이뤄진다. 이런 거래들은 공유(P2P) 네트워크\\n상 참여자의 작업증명(proof-of-work)을 통해 검증되고 공개된 분산원장인 블록체인에 \\n기록된다. 승인된 거래의 새 그룹인 한 블록은 대략 10분에 한 번씩 만들어져서 블록체인에 \\n추가되고 신속하게 모든 참여자에게 보내어진다. 비트코인은 대규모 전기를 사용하는 \\n컴퓨터 처리 능력(power)을 활용해서 이뤄지는 기록보관 서비스인 채굴(mining)에 대한 \\n보상으로 발행되고 있으며 다른 통화･상품･용역 등과 교환되어가고 있다. 중앙은행이 \\n발행한 법정화폐가 아닌 비트코인은 비트코인 플랫폼에서 거래되며 투자대상으로서도 \\n관심을 받고 있다. 하지만 급등한 가격 및 심한 변동 폭으로 거품논란이 크다. 또한 익명성으\\n로 자금세탁 등 불법거래에 악용될 소지가 많아 중국 등 일부 국가에서 비트코인 등 가상통\\n화의 거래를 규제하고 있다. 일본의 경우 비트코인의 거래이익에 대해 세금을 부과한다. \\n비트코인은 추가되는 한 블록당 새로 12.5비트코인을 보상하는데(2016.7월 현재), 21만개\\n가 채굴될 때(대략 4년)마다 그 보상이 반으로 줄어든다. 비트코인의 총량은 21백만개이며 \\n2140년경 모두 채굴될 것으로 전망된다. 비트코인은 그 시스템의 설계시 그 수량을 한정시\\n켜 놓았기 때문에 원칙적으로 인플레이션에 의해 가치가 떨어질 수 있는 화폐와 다른 \\n속성을 지닌다. 한편 2017년 8월 1일 비트코인(classic bitcoin)에서 ‘비트코인캐시’(BCH)가,'),\n",
       "  Document(metadata={'page': 21, 'source': 'data-files/economy-dictionary.pdf'}, page_content='사용되고 있는 각종 포인트를 가상통화로 통칭하였다. 그러나 2009년 비트코인이 등장하면\\n서 가상통화의 개념이 변화되고 있다. 비트코인은 블록체인기술을 기반으로 하여 중앙운영\\n기관 없이 P2P(peer-to-peer) 거래가 가능한 분산형 시스템을 통해 발행･유통된다는 점에서 \\n발행기관이 중앙에서 발행･유통을 통제하는 기존의 사이버머니나 멤버십 포인트 등과 기반\\n이 완전히 상이하기 때문이다. 현재 비트코인 거래가 크게 늘어나고 가격도 급등한 가운데 \\n비트코인 이외에 많은 신종코인(Alt-coin)도 출현하면서 이들 가상통화를 구분할 필요성이 \\n발생하였다. 이에 따라 최근 IMF 등 국제기구에서는 비트코인류의 가상통화를 ‘암호통\\n화’(cryptocurrency)로 부르면서 종래의 가상통화의 하위 개념으로 분류하고 있는 추세이다.\\n 연관검색어 : 블록체인, 비트코인 \\n가상통화 ∙')]}"
      ]
     },
     "execution_count": 30,
     "metadata": {},
     "output_type": "execute_result"
    }
   ],
   "source": [
    "response = qa_chain.invoke(\"비트코인은 무엇인가요?\")\n",
    "response"
   ]
  },
  {
   "cell_type": "code",
   "execution_count": 31,
   "metadata": {},
   "outputs": [
    {
     "data": {
      "text/plain": [
       "{'query': '너 누구야?',\n",
       " 'result': '죄송하지만, 주어진 검색 결과에 해당하는 정보가 없습니다. 다른 질문을 해주시면 도움이 될 수 있는지 확인해보겠습니다.',\n",
       " 'source_documents': [Document(metadata={'page': 274, 'source': 'data-files/economy-dictionary.pdf'}, page_content='① 한 사람이 자백하고 다른 사람은 입을 다물었다면 자백한 사람은 1단위의 보상 , \\n입을 다문 사람은 2단위의 벌금형이 부과된다. ② 두 사람이 모두 자백하면 각각에게는 \\n1단위의 벌금형이 부과된다. ③ 두 사람이 모두 자백하지 않으면 Ⅰ과 Ⅱ는 혐의가'),\n",
       "  Document(metadata={'page': 306, 'source': 'data-files/economy-dictionary.pdf'}, page_content='달리는 차가 충돌하기 직전에 운전대를 바꾸는 사람이 겁쟁이(chicken)로 놀림을 받았다\\n고 한다. 이러한 종류의 게임에서 승리하기 위해서는 상대방에게 자신의 선택을 절대로 \\n바꾸지 않겠다는 의지를 정확히 전달하는 것이 매우 중요하다. 그러나 이해당사자가 \\n모두 자신에게 유리한 선택만을 고집할 경우 모두에게 최악의 결과가 도래하게 된다 . \\n게임 전문가들은 치킨게임이 이해당사자들 간에 반복될 경우 이론적으로는 자신에게 \\n가장 유리한 선택을 포기하게 됨으로써 최악의 상황에 도달하지는 않는다고 한다 . \\n 연관검색어 : 죄수의 딜레마')]}"
      ]
     },
     "execution_count": 31,
     "metadata": {},
     "output_type": "execute_result"
    }
   ],
   "source": [
    "response = qa_chain.invoke(\"너 누구야?\")\n",
    "response"
   ]
  },
  {
   "cell_type": "code",
   "execution_count": 33,
   "metadata": {},
   "outputs": [],
   "source": [
    "# !pip install gradio==4.44.1"
   ]
  },
  {
   "cell_type": "code",
   "execution_count": 34,
   "metadata": {},
   "outputs": [],
   "source": [
    "def get_chatbot_response(message):\n",
    "    chatbot_response = qa_chain.invoke(message)\n",
    "    return chatbot_response[\"result\"].strip()"
   ]
  },
  {
   "cell_type": "code",
   "execution_count": 35,
   "metadata": {},
   "outputs": [
    {
     "name": "stdout",
     "output_type": "stream",
     "text": [
      "Running on local URL:  http://127.0.0.1:7860\n",
      "\n",
      "To create a public link, set `share=True` in `launch()`.\n"
     ]
    },
    {
     "data": {
      "text/html": [
       "<div><iframe src=\"http://127.0.0.1:7860/\" width=\"100%\" height=\"500\" allow=\"autoplay; camera; microphone; clipboard-read; clipboard-write;\" frameborder=\"0\" allowfullscreen></iframe></div>"
      ],
      "text/plain": [
       "<IPython.core.display.HTML object>"
      ]
     },
     "metadata": {},
     "output_type": "display_data"
    },
    {
     "name": "stdout",
     "output_type": "stream",
     "text": [
      "Keyboard interruption in main thread... closing server.\n"
     ]
    },
    {
     "data": {
      "text/plain": []
     },
     "execution_count": 35,
     "metadata": {},
     "output_type": "execute_result"
    }
   ],
   "source": [
    "import gradio as gr\n",
    "\n",
    "# 인터페이스를 생성.\n",
    "with gr.Blocks() as demo:\n",
    "    chatbot = gr.Chatbot(label=\"경제금융용어 챗봇\") # 경제금융용어 챗봇 레이블을 좌측 상단에 구성\n",
    "    msg = gr.Textbox(label=\"질문해주세요!\")  # 하단의 채팅창의 레이블\n",
    "    clear = gr.Button(\"대화 초기화\")  # 대화 초기화 버튼\n",
    "\n",
    "    # 챗봇의 답변을 처리하는 함수\n",
    "    def respond(message, chat_history):\n",
    "      bot_message = get_chatbot_response(message)\n",
    "\n",
    "      # 채팅 기록에 사용자의 메시지와 봇의 응답을 추가.\n",
    "      chat_history.append((message, bot_message))\n",
    "      return \"\", chat_history\n",
    "\n",
    "    # 사용자의 입력을 제출(submit)하면 respond 함수가 호출.\n",
    "    msg.submit(respond, [msg, chatbot], [msg, chatbot])\n",
    "\n",
    "    # '초기화' 버튼을 클릭하면 채팅 기록을 초기화.\n",
    "    clear.click(lambda: None, None, chatbot, queue=False)\n",
    "\n",
    "# 인터페이스 실행.\n",
    "demo.launch(debug=True)"
   ]
  }
 ],
 "metadata": {
  "kernelspec": {
   "display_name": "human-dl-env2",
   "language": "python",
   "name": "python3"
  },
  "language_info": {
   "codemirror_mode": {
    "name": "ipython",
    "version": 3
   },
   "file_extension": ".py",
   "mimetype": "text/x-python",
   "name": "python",
   "nbconvert_exporter": "python",
   "pygments_lexer": "ipython3",
   "version": "3.9.21"
  }
 },
 "nbformat": 4,
 "nbformat_minor": 2
}
