{
 "cells": [
  {
   "cell_type": "code",
   "execution_count": null,
   "metadata": {},
   "outputs": [],
   "source": []
  },
  {
   "cell_type": "code",
   "execution_count": 5,
   "metadata": {},
   "outputs": [
    {
     "name": "stdout",
     "output_type": "stream",
     "text": [
      "{'response': {'service': {'name': 'address', 'version': '2.0', 'operation': 'getcoord', 'time': '19(ms)'}, 'status': 'OK', 'input': {'type': 'road', 'address': '경기도 평택시 동삭동'}, 'refined': {'text': '경기도 평택시 비전2로 23 (동삭동)', 'structure': {'level0': '대한민국', 'level1': '경기도', 'level2': '평택시', 'level3': '동삭동', 'level4L': '비전2로', 'level4LC': '', 'level4A': '동삭동', 'level4AC': '4122065000', 'level5': '23', 'detail': '동삭동 708-5 제2종근린생활시설 (이정연) 주건축물제1동'}}, 'result': {'crs': 'EPSG:4326', 'point': {'x': '127.096510171', 'y': '37.007874378'}}}}\n"
     ]
    }
   ],
   "source": [
    "import requests\n",
    "\n",
    "api_url = \"https://api.vworld.kr/req/address?\"\n",
    "params = {\n",
    "\t\"service\": \"address\",\n",
    "\t\"request\": \"getcoord\",\n",
    "\t\"crs\": \"epsg:4326\",\n",
    "\t\"address\": \"경기도 평택시 동삭동\",\n",
    "\t\"format\": \"json\",\n",
    "\t\"type\": \"road\",\n",
    "\t\"key\": \"DAFD1A1F-9A87-3795-9716-7170C43AF73B\"\n",
    "}\n",
    "response = requests.get(api_url, params=params)\n",
    "if response.status_code == 200:\n",
    "\tprint(response.json())\n",
    "\t\t\t\t\t"
   ]
  },
  {
   "cell_type": "code",
   "execution_count": 6,
   "metadata": {},
   "outputs": [
    {
     "name": "stdout",
     "output_type": "stream",
     "text": [
      "{\"documents\":[{\"address\":{\"address_name\":\"경기 평택시 동삭동\",\"b_code\":\"4122011900\",\"h_code\":\"4122065000\",\"main_address_no\":\"\",\"mountain_yn\":\"N\",\"region_1depth_name\":\"경기\",\"region_2depth_name\":\"평택시\",\"region_3depth_h_name\":\"동삭동\",\"region_3depth_name\":\"동삭동\",\"sub_address_no\":\"\",\"x\":\"127.097667874173\",\"y\":\"37.0138927319359\"},\"address_name\":\"경기 평택시 동삭동\",\"address_type\":\"REGION\",\"road_address\":null,\"x\":\"127.097667874173\",\"y\":\"37.0138927319359\"}],\"meta\":{\"is_end\":true,\"pageable_count\":1,\"total_count\":1}}\n"
     ]
    }
   ],
   "source": [
    "import os\n",
    "import sys\n",
    "import urllib.request # 웹 요청을 전송하고 응답을 수신하는 모듈 ( 브라우저 역할 )\n",
    "\n",
    "api_key = \"d521968522a7b6e1d1d38e13e83f1320\"\n",
    "\n",
    "encText = urllib.parse.quote(\"동삭동\")\n",
    "url = \"https://dapi.kakao.com/v2/local/search/address?query={0}&size={1}\".format(encText, 10)\n",
    "request = urllib.request.Request(url)\n",
    "\n",
    "request.add_header(\"Authorization\",\"KakaoAK {0}\".format(api_key))\n",
    "\n",
    "response = urllib.request.urlopen(request) # 요청 보내기 + 응답 수신\n",
    "\n",
    "rescode = response.getcode() # 응답코드 읽기\n",
    "if(rescode==200): # 정상 응답이라면\n",
    "    response_body = response.read() # 응답 데이터 읽기\n",
    "    print(response_body.decode('utf-8')) # binary 데이터를 utf-8 text 데이터로 변환\n",
    "else:\n",
    "    print(\"Error Code:\" + rescode)"
   ]
  },
  {
   "cell_type": "code",
   "execution_count": 7,
   "metadata": {},
   "outputs": [
    {
     "name": "stdout",
     "output_type": "stream",
     "text": [
      "{\"documents\":[{\"address\":{\"address_name\":\"경기 평택시 비전동\",\"b_code\":\"4122011800\",\"h_code\":\"\",\"main_address_no\":\"\",\"mountain_yn\":\"N\",\"region_1depth_name\":\"경기\",\"region_2depth_name\":\"평택시\",\"region_3depth_h_name\":\"\",\"region_3depth_name\":\"비전동\",\"sub_address_no\":\"\",\"x\":\"127.095251177566\",\"y\":\"37.0006091586062\"},\"address_name\":\"경기 평택시 비전동\",\"address_type\":\"REGION\",\"road_address\":null,\"x\":\"127.095251177566\",\"y\":\"37.0006091586062\"},{\"address\":{\"address_name\":\"경기 평택시 비전1동\",\"b_code\":\"\",\"h_code\":\"4122062000\",\"main_address_no\":\"\",\"mountain_yn\":\"N\",\"region_1depth_name\":\"경기\",\"region_2depth_name\":\"평택시\",\"region_3depth_h_name\":\"비전1동\",\"region_3depth_name\":\"\",\"sub_address_no\":\"\",\"x\":\"127.112167634516\",\"y\":\"37.0109387886742\"},\"address_name\":\"경기 평택시 비전1동\",\"address_type\":\"REGION\",\"road_address\":null,\"x\":\"127.112167634516\",\"y\":\"37.0109387886742\"},{\"address\":{\"address_name\":\"경기 평택시 비전2동\",\"b_code\":\"\",\"h_code\":\"4122063000\",\"main_address_no\":\"\",\"mountain_yn\":\"N\",\"region_1depth_name\":\"경기\",\"region_2depth_name\":\"평택시\",\"region_3depth_h_name\":\"비전2동\",\"region_3depth_name\":\"\",\"sub_address_no\":\"\",\"x\":\"127.111773318893\",\"y\":\"36.990264739188\"},\"address_name\":\"경기 평택시 비전2동\",\"address_type\":\"REGION\",\"road_address\":null,\"x\":\"127.111773318893\",\"y\":\"36.990264739188\"}],\"meta\":{\"is_end\":true,\"pageable_count\":3,\"total_count\":3}}\n"
     ]
    }
   ],
   "source": [
    "import os\n",
    "import sys\n",
    "import urllib.request # 웹 요청을 전송하고 응답을 수신하는 모듈 ( 브라우저 역할 )\n",
    "\n",
    "api_key = \"d521968522a7b6e1d1d38e13e83f1320\"\n",
    "\n",
    "encText = urllib.parse.quote(\"비전동\")\n",
    "url = \"https://dapi.kakao.com/v2/local/search/address?query={0}&size={1}\".format(encText, 10)\n",
    "request = urllib.request.Request(url)\n",
    "\n",
    "request.add_header(\"Authorization\",\"KakaoAK {0}\".format(api_key))\n",
    "\n",
    "response = urllib.request.urlopen(request) # 요청 보내기 + 응답 수신\n",
    "\n",
    "rescode = response.getcode() # 응답코드 읽기\n",
    "if(rescode==200): # 정상 응답이라면\n",
    "    response_body = response.read() # 응답 데이터 읽기\n",
    "    print(response_body.decode('utf-8')) # binary 데이터를 utf-8 text 데이터로 변환\n",
    "else:\n",
    "    print(\"Error Code:\" + rescode)"
   ]
  },
  {
   "cell_type": "code",
   "execution_count": 9,
   "metadata": {},
   "outputs": [],
   "source": [
    "# !pip install geopy"
   ]
  },
  {
   "cell_type": "code",
   "execution_count": 12,
   "metadata": {},
   "outputs": [
    {
     "name": "stdout",
     "output_type": "stream",
     "text": [
      "distance : 1.489790687002198\n"
     ]
    }
   ],
   "source": [
    "from geopy.distance import geodesic\n",
    "\n",
    "point1 = (37.0006091586062, 127.095251177566)\n",
    "point2 = (37.0138927319359, 127.097667874173)\n",
    "\n",
    "distance = geodesic(point1, point2).kilometers\n",
    "\n",
    "print(f\"distance : {distance}\")"
   ]
  }
 ],
 "metadata": {
  "kernelspec": {
   "display_name": "human-da-env",
   "language": "python",
   "name": "python3"
  },
  "language_info": {
   "codemirror_mode": {
    "name": "ipython",
    "version": 3
   },
   "file_extension": ".py",
   "mimetype": "text/x-python",
   "name": "python",
   "nbconvert_exporter": "python",
   "pygments_lexer": "ipython3",
   "version": "3.12.7"
  }
 },
 "nbformat": 4,
 "nbformat_minor": 2
}
