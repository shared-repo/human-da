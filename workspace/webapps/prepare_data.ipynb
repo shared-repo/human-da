{
 "cells": [
  {
   "cell_type": "code",
   "execution_count": 2,
   "id": "5e3de038",
   "metadata": {},
   "outputs": [
    {
     "name": "stdout",
     "output_type": "stream",
     "text": [
      "Collecting yfinance\n",
      "  Downloading yfinance-0.2.55-py2.py3-none-any.whl.metadata (5.8 kB)\n",
      "Requirement already satisfied: pandas>=1.3.0 in d:\\apps\\miniconda3\\envs\\python-env-31111\\lib\\site-packages (from yfinance) (2.2.3)\n",
      "Requirement already satisfied: numpy>=1.16.5 in d:\\apps\\miniconda3\\envs\\python-env-31111\\lib\\site-packages (from yfinance) (2.2.4)\n",
      "Requirement already satisfied: requests>=2.31 in d:\\apps\\miniconda3\\envs\\python-env-31111\\lib\\site-packages (from yfinance) (2.32.3)\n",
      "Collecting multitasking>=0.0.7 (from yfinance)\n",
      "  Downloading multitasking-0.0.11-py3-none-any.whl.metadata (5.5 kB)\n",
      "Requirement already satisfied: platformdirs>=2.0.0 in d:\\apps\\miniconda3\\envs\\python-env-31111\\lib\\site-packages (from yfinance) (4.3.7)\n",
      "Requirement already satisfied: pytz>=2022.5 in d:\\apps\\miniconda3\\envs\\python-env-31111\\lib\\site-packages (from yfinance) (2025.2)\n",
      "Collecting frozendict>=2.3.4 (from yfinance)\n",
      "  Downloading frozendict-2.4.6-py311-none-any.whl.metadata (23 kB)\n",
      "Collecting peewee>=3.16.2 (from yfinance)\n",
      "  Downloading peewee-3.17.9.tar.gz (3.0 MB)\n",
      "     ---------------------------------------- 0.0/3.0 MB ? eta -:--:--\n",
      "     ------ --------------------------------- 0.5/3.0 MB 2.8 MB/s eta 0:00:01\n",
      "     -------------------- ------------------- 1.6/3.0 MB 4.0 MB/s eta 0:00:01\n",
      "     ------------------------------- -------- 2.4/3.0 MB 3.9 MB/s eta 0:00:01\n",
      "     ---------------------------------------- 3.0/3.0 MB 4.0 MB/s eta 0:00:00\n",
      "  Installing build dependencies: started\n",
      "  Installing build dependencies: finished with status 'done'\n",
      "  Getting requirements to build wheel: started\n",
      "  Getting requirements to build wheel: finished with status 'done'\n",
      "  Preparing metadata (pyproject.toml): started\n",
      "  Preparing metadata (pyproject.toml): finished with status 'done'\n",
      "Requirement already satisfied: beautifulsoup4>=4.11.1 in d:\\apps\\miniconda3\\envs\\python-env-31111\\lib\\site-packages (from yfinance) (4.13.3)\n",
      "Requirement already satisfied: soupsieve>1.2 in d:\\apps\\miniconda3\\envs\\python-env-31111\\lib\\site-packages (from beautifulsoup4>=4.11.1->yfinance) (2.6)\n",
      "Requirement already satisfied: typing-extensions>=4.0.0 in d:\\apps\\miniconda3\\envs\\python-env-31111\\lib\\site-packages (from beautifulsoup4>=4.11.1->yfinance) (4.13.1)\n",
      "Requirement already satisfied: python-dateutil>=2.8.2 in d:\\apps\\miniconda3\\envs\\python-env-31111\\lib\\site-packages (from pandas>=1.3.0->yfinance) (2.9.0.post0)\n",
      "Requirement already satisfied: tzdata>=2022.7 in d:\\apps\\miniconda3\\envs\\python-env-31111\\lib\\site-packages (from pandas>=1.3.0->yfinance) (2025.2)\n",
      "Requirement already satisfied: charset-normalizer<4,>=2 in d:\\apps\\miniconda3\\envs\\python-env-31111\\lib\\site-packages (from requests>=2.31->yfinance) (3.4.1)\n",
      "Requirement already satisfied: idna<4,>=2.5 in d:\\apps\\miniconda3\\envs\\python-env-31111\\lib\\site-packages (from requests>=2.31->yfinance) (3.10)\n",
      "Requirement already satisfied: urllib3<3,>=1.21.1 in d:\\apps\\miniconda3\\envs\\python-env-31111\\lib\\site-packages (from requests>=2.31->yfinance) (2.3.0)\n",
      "Requirement already satisfied: certifi>=2017.4.17 in d:\\apps\\miniconda3\\envs\\python-env-31111\\lib\\site-packages (from requests>=2.31->yfinance) (2025.1.31)\n",
      "Requirement already satisfied: six>=1.5 in d:\\apps\\miniconda3\\envs\\python-env-31111\\lib\\site-packages (from python-dateutil>=2.8.2->pandas>=1.3.0->yfinance) (1.17.0)\n",
      "Downloading yfinance-0.2.55-py2.py3-none-any.whl (109 kB)\n",
      "Downloading frozendict-2.4.6-py311-none-any.whl (16 kB)\n",
      "Downloading multitasking-0.0.11-py3-none-any.whl (8.5 kB)\n",
      "Building wheels for collected packages: peewee\n",
      "  Building wheel for peewee (pyproject.toml): started\n",
      "  Building wheel for peewee (pyproject.toml): finished with status 'done'\n",
      "  Created wheel for peewee: filename=peewee-3.17.9-py3-none-any.whl size=139127 sha256=63b0a07e6449f7f5dca38394897b690d71d1172921ae9fae8d7b2627aaab4259\n",
      "  Stored in directory: c:\\users\\ohchi\\appdata\\local\\pip\\cache\\wheels\\f4\\14\\e4\\50c88c865833085aeb91e2bd40e3a683ff434806386b8ee7bc\n",
      "Successfully built peewee\n",
      "Installing collected packages: peewee, multitasking, frozendict, yfinance\n",
      "Successfully installed frozendict multitasking peewee yfinance\n"
     ]
    }
   ],
   "source": [
    "!pip install yfinance"
   ]
  },
  {
   "cell_type": "code",
   "execution_count": 1,
   "id": "a772b4ec",
   "metadata": {},
   "outputs": [],
   "source": [
    "import yfinance as yf\n",
    "import pandas as pd\n",
    "import numpy as np\n",
    "import matplotlib.pyplot as plt\n",
    "import seaborn as sns"
   ]
  },
  {
   "cell_type": "code",
   "execution_count": 2,
   "id": "2a6868f5",
   "metadata": {},
   "outputs": [],
   "source": [
    "code = \"005930\"\n",
    "ticker = yf.Ticker(f'{code}.KS')\n",
    "\n",
    "quotes = ticker.history(period=\"max\", interval=\"1d\")"
   ]
  },
  {
   "cell_type": "code",
   "execution_count": 3,
   "id": "f2170102",
   "metadata": {},
   "outputs": [
    {
     "data": {
      "text/html": [
       "<div>\n",
       "<style scoped>\n",
       "    .dataframe tbody tr th:only-of-type {\n",
       "        vertical-align: middle;\n",
       "    }\n",
       "\n",
       "    .dataframe tbody tr th {\n",
       "        vertical-align: top;\n",
       "    }\n",
       "\n",
       "    .dataframe thead th {\n",
       "        text-align: right;\n",
       "    }\n",
       "</style>\n",
       "<table border=\"1\" class=\"dataframe\">\n",
       "  <thead>\n",
       "    <tr style=\"text-align: right;\">\n",
       "      <th></th>\n",
       "      <th>Code</th>\n",
       "      <th>Date</th>\n",
       "      <th>Open</th>\n",
       "      <th>High</th>\n",
       "      <th>Low</th>\n",
       "      <th>Close</th>\n",
       "      <th>Volume</th>\n",
       "    </tr>\n",
       "  </thead>\n",
       "  <tbody>\n",
       "    <tr>\n",
       "      <th>0</th>\n",
       "      <td>005930</td>\n",
       "      <td>2000-01-04 00:00:00+09:00</td>\n",
       "      <td>4296.630300</td>\n",
       "      <td>4375.401855</td>\n",
       "      <td>4053.154583</td>\n",
       "      <td>4375.401855</td>\n",
       "      <td>74195000</td>\n",
       "    </tr>\n",
       "    <tr>\n",
       "      <th>1</th>\n",
       "      <td>005930</td>\n",
       "      <td>2000-01-05 00:00:00+09:00</td>\n",
       "      <td>4153.408308</td>\n",
       "      <td>4339.595577</td>\n",
       "      <td>3952.898942</td>\n",
       "      <td>3995.865234</td>\n",
       "      <td>74680000</td>\n",
       "    </tr>\n",
       "    <tr>\n",
       "      <th>2</th>\n",
       "      <td>005930</td>\n",
       "      <td>2000-01-06 00:00:00+09:00</td>\n",
       "      <td>4117.601659</td>\n",
       "      <td>4139.084798</td>\n",
       "      <td>3995.863871</td>\n",
       "      <td>4024.508057</td>\n",
       "      <td>54390000</td>\n",
       "    </tr>\n",
       "    <tr>\n",
       "      <th>3</th>\n",
       "      <td>005930</td>\n",
       "      <td>2000-01-07 00:00:00+09:00</td>\n",
       "      <td>3981.543045</td>\n",
       "      <td>4060.314580</td>\n",
       "      <td>3838.322072</td>\n",
       "      <td>3967.220947</td>\n",
       "      <td>40305000</td>\n",
       "    </tr>\n",
       "    <tr>\n",
       "      <th>4</th>\n",
       "      <td>005930</td>\n",
       "      <td>2000-01-10 00:00:00+09:00</td>\n",
       "      <td>4010.187933</td>\n",
       "      <td>4131.925781</td>\n",
       "      <td>3995.865834</td>\n",
       "      <td>4131.925781</td>\n",
       "      <td>46880000</td>\n",
       "    </tr>\n",
       "  </tbody>\n",
       "</table>\n",
       "</div>"
      ],
      "text/plain": [
       "     Code                      Date         Open         High          Low  \\\n",
       "0  005930 2000-01-04 00:00:00+09:00  4296.630300  4375.401855  4053.154583   \n",
       "1  005930 2000-01-05 00:00:00+09:00  4153.408308  4339.595577  3952.898942   \n",
       "2  005930 2000-01-06 00:00:00+09:00  4117.601659  4139.084798  3995.863871   \n",
       "3  005930 2000-01-07 00:00:00+09:00  3981.543045  4060.314580  3838.322072   \n",
       "4  005930 2000-01-10 00:00:00+09:00  4010.187933  4131.925781  3995.865834   \n",
       "\n",
       "         Close    Volume  \n",
       "0  4375.401855  74195000  \n",
       "1  3995.865234  74680000  \n",
       "2  4024.508057  54390000  \n",
       "3  3967.220947  40305000  \n",
       "4  4131.925781  46880000  "
      ]
     },
     "execution_count": 3,
     "metadata": {},
     "output_type": "execute_result"
    }
   ],
   "source": [
    "quotes.head()\n",
    "quotes = quotes.reset_index()\n",
    "quotes['Date'] = pd.to_datetime(quotes['Date'])\n",
    "quotes['Code'] = code\n",
    "quotes = quotes[['Code', 'Date', 'Open', 'High', 'Low', 'Close', 'Volume']]\n",
    "quotes.head()"
   ]
  },
  {
   "cell_type": "code",
   "execution_count": 6,
   "id": "5e6d8ba1",
   "metadata": {},
   "outputs": [
    {
     "name": "stdout",
     "output_type": "stream",
     "text": [
      "<class 'pandas.core.frame.DataFrame'>\n",
      "DatetimeIndex: 6323 entries, 2000-01-04 00:00:00+09:00 to 2025-04-04 00:00:00+09:00\n",
      "Data columns (total 7 columns):\n",
      " #   Column        Non-Null Count  Dtype  \n",
      "---  ------        --------------  -----  \n",
      " 0   Open          6323 non-null   float64\n",
      " 1   High          6323 non-null   float64\n",
      " 2   Low           6323 non-null   float64\n",
      " 3   Close         6323 non-null   float64\n",
      " 4   Volume        6323 non-null   int64  \n",
      " 5   Dividends     6323 non-null   float64\n",
      " 6   Stock Splits  6323 non-null   float64\n",
      "dtypes: float64(6), int64(1)\n",
      "memory usage: 395.2 KB\n"
     ]
    }
   ],
   "source": [
    "quotes.info()"
   ]
  },
  {
   "cell_type": "code",
   "execution_count": 7,
   "id": "45b70995",
   "metadata": {},
   "outputs": [],
   "source": [
    "quotes.reset_index().to_csv(f'{code}.csv', index=False)"
   ]
  },
  {
   "cell_type": "code",
   "execution_count": 5,
   "id": "8d5510bb",
   "metadata": {},
   "outputs": [],
   "source": [
    "import pymysql"
   ]
  },
  {
   "cell_type": "code",
   "execution_count": 6,
   "id": "0313eaf8",
   "metadata": {},
   "outputs": [],
   "source": [
    "conn = pymysql.connect(\n",
    "    host='localhost',\n",
    "    user='developer',\n",
    "    password='developer',\n",
    "    db='demoweb'\n",
    ")\n",
    "\n",
    "try:\n",
    "    with conn.cursor() as cursor:\n",
    "        sql = \"insert into stock_data (code, date, open, high, low, close, volume) values (%s, %s, %s, %s, %s, %s, %s)\"\n",
    "        cursor.executemany(sql, quotes.values.tolist())\n",
    "        conn.commit()\n",
    "finally:\n",
    "    cursor.close()\n",
    "    conn.close()"
   ]
  }
 ],
 "metadata": {
  "kernelspec": {
   "display_name": "python-env-31111",
   "language": "python",
   "name": "python3"
  },
  "language_info": {
   "codemirror_mode": {
    "name": "ipython",
    "version": 3
   },
   "file_extension": ".py",
   "mimetype": "text/x-python",
   "name": "python",
   "nbconvert_exporter": "python",
   "pygments_lexer": "ipython3",
   "version": "3.11.11"
  }
 },
 "nbformat": 4,
 "nbformat_minor": 5
}
