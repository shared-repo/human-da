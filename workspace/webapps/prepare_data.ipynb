{
 "cells": [
  {
   "cell_type": "code",
   "execution_count": 2,
   "id": "5e3de038",
   "metadata": {},
   "outputs": [
    {
     "name": "stdout",
     "output_type": "stream",
     "text": [
      "Collecting yfinance\n",
      "  Downloading yfinance-0.2.55-py2.py3-none-any.whl.metadata (5.8 kB)\n",
      "Requirement already satisfied: pandas>=1.3.0 in /Volumes/M2DATA/apps/miniforge3/envs/python-env-31208/lib/python3.12/site-packages (from yfinance) (2.2.3)\n",
      "Requirement already satisfied: numpy>=1.16.5 in /Volumes/M2DATA/apps/miniforge3/envs/python-env-31208/lib/python3.12/site-packages (from yfinance) (2.1.3)\n",
      "Requirement already satisfied: requests>=2.31 in /Volumes/M2DATA/apps/miniforge3/envs/python-env-31208/lib/python3.12/site-packages (from yfinance) (2.32.3)\n",
      "Collecting multitasking>=0.0.7 (from yfinance)\n",
      "  Downloading multitasking-0.0.11-py3-none-any.whl.metadata (5.5 kB)\n",
      "Requirement already satisfied: platformdirs>=2.0.0 in /Volumes/M2DATA/apps/miniforge3/envs/python-env-31208/lib/python3.12/site-packages (from yfinance) (4.3.6)\n",
      "Requirement already satisfied: pytz>=2022.5 in /Volumes/M2DATA/apps/miniforge3/envs/python-env-31208/lib/python3.12/site-packages (from yfinance) (2024.2)\n",
      "Collecting frozendict>=2.3.4 (from yfinance)\n",
      "  Downloading frozendict-2.4.6-py312-none-any.whl.metadata (23 kB)\n",
      "Collecting peewee>=3.16.2 (from yfinance)\n",
      "  Downloading peewee-3.17.9.tar.gz (3.0 MB)\n",
      "\u001b[2K     \u001b[90m━━━━━━━━━━━━━━━━━━━━━━━━━━━━━━━━━━━━━━━━\u001b[0m \u001b[32m3.0/3.0 MB\u001b[0m \u001b[31m15.5 MB/s\u001b[0m eta \u001b[36m0:00:00\u001b[0ma \u001b[36m0:00:01\u001b[0m\n",
      "\u001b[?25h  Installing build dependencies ... \u001b[?25ldone\n",
      "\u001b[?25h  Getting requirements to build wheel ... \u001b[?25ldone\n",
      "\u001b[?25h  Preparing metadata (pyproject.toml) ... \u001b[?25ldone\n",
      "\u001b[?25hRequirement already satisfied: beautifulsoup4>=4.11.1 in /Volumes/M2DATA/apps/miniforge3/envs/python-env-31208/lib/python3.12/site-packages (from yfinance) (4.12.3)\n",
      "Requirement already satisfied: soupsieve>1.2 in /Volumes/M2DATA/apps/miniforge3/envs/python-env-31208/lib/python3.12/site-packages (from beautifulsoup4>=4.11.1->yfinance) (2.6)\n",
      "Requirement already satisfied: python-dateutil>=2.8.2 in /Volumes/M2DATA/apps/miniforge3/envs/python-env-31208/lib/python3.12/site-packages (from pandas>=1.3.0->yfinance) (2.9.0.post0)\n",
      "Requirement already satisfied: tzdata>=2022.7 in /Volumes/M2DATA/apps/miniforge3/envs/python-env-31208/lib/python3.12/site-packages (from pandas>=1.3.0->yfinance) (2025.1)\n",
      "Requirement already satisfied: charset-normalizer<4,>=2 in /Volumes/M2DATA/apps/miniforge3/envs/python-env-31208/lib/python3.12/site-packages (from requests>=2.31->yfinance) (3.4.1)\n",
      "Requirement already satisfied: idna<4,>=2.5 in /Volumes/M2DATA/apps/miniforge3/envs/python-env-31208/lib/python3.12/site-packages (from requests>=2.31->yfinance) (3.10)\n",
      "Requirement already satisfied: urllib3<3,>=1.21.1 in /Volumes/M2DATA/apps/miniforge3/envs/python-env-31208/lib/python3.12/site-packages (from requests>=2.31->yfinance) (2.3.0)\n",
      "Requirement already satisfied: certifi>=2017.4.17 in /Volumes/M2DATA/apps/miniforge3/envs/python-env-31208/lib/python3.12/site-packages (from requests>=2.31->yfinance) (2024.12.14)\n",
      "Requirement already satisfied: six>=1.5 in /Volumes/M2DATA/apps/miniforge3/envs/python-env-31208/lib/python3.12/site-packages (from python-dateutil>=2.8.2->pandas>=1.3.0->yfinance) (1.17.0)\n",
      "Downloading yfinance-0.2.55-py2.py3-none-any.whl (109 kB)\n",
      "Downloading frozendict-2.4.6-py312-none-any.whl (16 kB)\n",
      "Downloading multitasking-0.0.11-py3-none-any.whl (8.5 kB)\n",
      "Building wheels for collected packages: peewee\n",
      "  Building wheel for peewee (pyproject.toml) ... \u001b[?25ldone\n",
      "\u001b[?25h  Created wheel for peewee: filename=peewee-3.17.9-cp312-cp312-macosx_11_0_arm64.whl size=272214 sha256=ffcbf38897deddffff2aaf7f5a237b027cded0e5f15d125519d38433de200cac\n",
      "  Stored in directory: /Users/chihoonoh/Library/Caches/pip/wheels/43/ef/2d/2c51d496bf084945ffdf838b4cc8767b8ba1cc20eb41588831\n",
      "Successfully built peewee\n",
      "Installing collected packages: peewee, multitasking, frozendict, yfinance\n",
      "Successfully installed frozendict-2.4.6 multitasking-0.0.11 peewee-3.17.9 yfinance-0.2.55\n"
     ]
    }
   ],
   "source": [
    "!pip install yfinance"
   ]
  },
  {
   "cell_type": "code",
   "execution_count": 3,
   "id": "a772b4ec",
   "metadata": {},
   "outputs": [],
   "source": [
    "import yfinance as yf\n",
    "import pandas as pd\n",
    "import numpy as np\n",
    "import matplotlib.pyplot as plt\n",
    "import seaborn as sns"
   ]
  },
  {
   "cell_type": "code",
   "execution_count": 4,
   "id": "2a6868f5",
   "metadata": {},
   "outputs": [],
   "source": [
    "code = \"005930\"\n",
    "ticker = yf.Ticker(f'{code}.KS')\n",
    "\n",
    "quotes = ticker.history(period=\"max\", interval=\"1d\")"
   ]
  },
  {
   "cell_type": "code",
   "execution_count": 5,
   "id": "f2170102",
   "metadata": {},
   "outputs": [
    {
     "data": {
      "text/html": [
       "<div>\n",
       "<style scoped>\n",
       "    .dataframe tbody tr th:only-of-type {\n",
       "        vertical-align: middle;\n",
       "    }\n",
       "\n",
       "    .dataframe tbody tr th {\n",
       "        vertical-align: top;\n",
       "    }\n",
       "\n",
       "    .dataframe thead th {\n",
       "        text-align: right;\n",
       "    }\n",
       "</style>\n",
       "<table border=\"1\" class=\"dataframe\">\n",
       "  <thead>\n",
       "    <tr style=\"text-align: right;\">\n",
       "      <th></th>\n",
       "      <th>Open</th>\n",
       "      <th>High</th>\n",
       "      <th>Low</th>\n",
       "      <th>Close</th>\n",
       "      <th>Volume</th>\n",
       "      <th>Dividends</th>\n",
       "      <th>Stock Splits</th>\n",
       "    </tr>\n",
       "    <tr>\n",
       "      <th>Date</th>\n",
       "      <th></th>\n",
       "      <th></th>\n",
       "      <th></th>\n",
       "      <th></th>\n",
       "      <th></th>\n",
       "      <th></th>\n",
       "      <th></th>\n",
       "    </tr>\n",
       "  </thead>\n",
       "  <tbody>\n",
       "    <tr>\n",
       "      <th>2000-01-04 00:00:00+09:00</th>\n",
       "      <td>4296.628861</td>\n",
       "      <td>4375.400391</td>\n",
       "      <td>4053.153226</td>\n",
       "      <td>4375.400391</td>\n",
       "      <td>74195000</td>\n",
       "      <td>0.0</td>\n",
       "      <td>0.0</td>\n",
       "    </tr>\n",
       "    <tr>\n",
       "      <th>2000-01-05 00:00:00+09:00</th>\n",
       "      <td>4153.407293</td>\n",
       "      <td>4339.594517</td>\n",
       "      <td>3952.897975</td>\n",
       "      <td>3995.864258</td>\n",
       "      <td>74680000</td>\n",
       "      <td>0.0</td>\n",
       "      <td>0.0</td>\n",
       "    </tr>\n",
       "    <tr>\n",
       "      <th>2000-01-06 00:00:00+09:00</th>\n",
       "      <td>4117.603158</td>\n",
       "      <td>4139.086305</td>\n",
       "      <td>3995.865326</td>\n",
       "      <td>4024.509521</td>\n",
       "      <td>54390000</td>\n",
       "      <td>0.0</td>\n",
       "      <td>0.0</td>\n",
       "    </tr>\n",
       "    <tr>\n",
       "      <th>2000-01-07 00:00:00+09:00</th>\n",
       "      <td>3981.541819</td>\n",
       "      <td>4060.313330</td>\n",
       "      <td>3838.320891</td>\n",
       "      <td>3967.219727</td>\n",
       "      <td>40305000</td>\n",
       "      <td>0.0</td>\n",
       "      <td>0.0</td>\n",
       "    </tr>\n",
       "    <tr>\n",
       "      <th>2000-01-10 00:00:00+09:00</th>\n",
       "      <td>4010.187933</td>\n",
       "      <td>4131.925781</td>\n",
       "      <td>3995.865834</td>\n",
       "      <td>4131.925781</td>\n",
       "      <td>46880000</td>\n",
       "      <td>0.0</td>\n",
       "      <td>0.0</td>\n",
       "    </tr>\n",
       "  </tbody>\n",
       "</table>\n",
       "</div>"
      ],
      "text/plain": [
       "                                  Open         High          Low        Close  \\\n",
       "Date                                                                            \n",
       "2000-01-04 00:00:00+09:00  4296.628861  4375.400391  4053.153226  4375.400391   \n",
       "2000-01-05 00:00:00+09:00  4153.407293  4339.594517  3952.897975  3995.864258   \n",
       "2000-01-06 00:00:00+09:00  4117.603158  4139.086305  3995.865326  4024.509521   \n",
       "2000-01-07 00:00:00+09:00  3981.541819  4060.313330  3838.320891  3967.219727   \n",
       "2000-01-10 00:00:00+09:00  4010.187933  4131.925781  3995.865834  4131.925781   \n",
       "\n",
       "                             Volume  Dividends  Stock Splits  \n",
       "Date                                                          \n",
       "2000-01-04 00:00:00+09:00  74195000        0.0           0.0  \n",
       "2000-01-05 00:00:00+09:00  74680000        0.0           0.0  \n",
       "2000-01-06 00:00:00+09:00  54390000        0.0           0.0  \n",
       "2000-01-07 00:00:00+09:00  40305000        0.0           0.0  \n",
       "2000-01-10 00:00:00+09:00  46880000        0.0           0.0  "
      ]
     },
     "execution_count": 5,
     "metadata": {},
     "output_type": "execute_result"
    }
   ],
   "source": [
    "quotes.head()"
   ]
  },
  {
   "cell_type": "code",
   "execution_count": 6,
   "id": "5e6d8ba1",
   "metadata": {},
   "outputs": [
    {
     "name": "stdout",
     "output_type": "stream",
     "text": [
      "<class 'pandas.core.frame.DataFrame'>\n",
      "DatetimeIndex: 6323 entries, 2000-01-04 00:00:00+09:00 to 2025-04-04 00:00:00+09:00\n",
      "Data columns (total 7 columns):\n",
      " #   Column        Non-Null Count  Dtype  \n",
      "---  ------        --------------  -----  \n",
      " 0   Open          6323 non-null   float64\n",
      " 1   High          6323 non-null   float64\n",
      " 2   Low           6323 non-null   float64\n",
      " 3   Close         6323 non-null   float64\n",
      " 4   Volume        6323 non-null   int64  \n",
      " 5   Dividends     6323 non-null   float64\n",
      " 6   Stock Splits  6323 non-null   float64\n",
      "dtypes: float64(6), int64(1)\n",
      "memory usage: 395.2 KB\n"
     ]
    }
   ],
   "source": [
    "quotes.info()"
   ]
  },
  {
   "cell_type": "code",
   "execution_count": 7,
   "id": "45b70995",
   "metadata": {},
   "outputs": [],
   "source": [
    "quotes.reset_index().to_csv(f'{code}.csv', index=False)"
   ]
  },
  {
   "cell_type": "code",
   "execution_count": null,
   "id": "8d5510bb",
   "metadata": {},
   "outputs": [],
   "source": []
  }
 ],
 "metadata": {
  "kernelspec": {
   "display_name": "python-env-31208",
   "language": "python",
   "name": "python3"
  },
  "language_info": {
   "codemirror_mode": {
    "name": "ipython",
    "version": 3
   },
   "file_extension": ".py",
   "mimetype": "text/x-python",
   "name": "python",
   "nbconvert_exporter": "python",
   "pygments_lexer": "ipython3",
   "version": "3.12.8"
  }
 },
 "nbformat": 4,
 "nbformat_minor": 5
}
