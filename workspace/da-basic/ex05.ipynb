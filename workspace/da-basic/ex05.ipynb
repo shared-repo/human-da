{
 "cells": [
  {
   "cell_type": "code",
   "execution_count": 9,
   "metadata": {},
   "outputs": [],
   "source": [
    "import numpy as np\n",
    "import pandas as pd\n",
    "import matplotlib.pyplot as plt\n",
    "import seaborn as sns\n",
    "from scipy import stats"
   ]
  },
  {
   "cell_type": "code",
   "execution_count": 3,
   "metadata": {},
   "outputs": [],
   "source": [
    "# web_page_data.csv를 사용해서 A, B 두 페이지의 접속시간 차이를 검정\n",
    "web_page_df = pd.read_csv('data-files/web_page_data.csv')"
   ]
  },
  {
   "cell_type": "code",
   "execution_count": 6,
   "metadata": {},
   "outputs": [
    {
     "data": {
      "text/plain": [
       "Page\n",
       "Page A    1.263333\n",
       "Page B    1.620000\n",
       "Name: Time, dtype: float64"
      ]
     },
     "execution_count": 6,
     "metadata": {},
     "output_type": "execute_result"
    }
   ],
   "source": [
    "# 두 페이지의 접속 시간 차이 확인\n",
    "web_page_df.groupby('Page')['Time'].mean()"
   ]
  },
  {
   "cell_type": "code",
   "execution_count": 7,
   "metadata": {},
   "outputs": [
    {
     "data": {
      "text/plain": [
       "TtestResult(statistic=np.float64(-1.1237042154424823), pvalue=np.float64(0.26901024363926024), df=np.float64(34.0))"
      ]
     },
     "execution_count": 7,
     "metadata": {},
     "output_type": "execute_result"
    }
   ],
   "source": [
    "# pvalue를 근거로 차이 없는 모집단으로부터 위에서 보인 차이가 나타나는 표본이 뽑힐 가능성이 27%\n",
    "# -> 귀무가설 기각할 수 없음 \n",
    "# -> 두 페이지의 접속시간에는 차이가 없음\n",
    "stats.ttest_ind(web_page_df[web_page_df['Page'] == 'Page A']['Time'],\n",
    "                web_page_df[web_page_df['Page'] == 'Page B']['Time'])"
   ]
  },
  {
   "cell_type": "code",
   "execution_count": 11,
   "metadata": {},
   "outputs": [
    {
     "data": {
      "text/html": [
       "<div>\n",
       "<style scoped>\n",
       "    .dataframe tbody tr th:only-of-type {\n",
       "        vertical-align: middle;\n",
       "    }\n",
       "\n",
       "    .dataframe tbody tr th {\n",
       "        vertical-align: top;\n",
       "    }\n",
       "\n",
       "    .dataframe thead th {\n",
       "        text-align: right;\n",
       "    }\n",
       "</style>\n",
       "<table border=\"1\" class=\"dataframe\">\n",
       "  <thead>\n",
       "    <tr style=\"text-align: right;\">\n",
       "      <th></th>\n",
       "      <th>total_bill</th>\n",
       "      <th>tip</th>\n",
       "      <th>sex</th>\n",
       "      <th>smoker</th>\n",
       "      <th>day</th>\n",
       "      <th>time</th>\n",
       "      <th>size</th>\n",
       "    </tr>\n",
       "  </thead>\n",
       "  <tbody>\n",
       "    <tr>\n",
       "      <th>0</th>\n",
       "      <td>16.99</td>\n",
       "      <td>1.01</td>\n",
       "      <td>Female</td>\n",
       "      <td>No</td>\n",
       "      <td>Sun</td>\n",
       "      <td>Dinner</td>\n",
       "      <td>2</td>\n",
       "    </tr>\n",
       "    <tr>\n",
       "      <th>1</th>\n",
       "      <td>10.34</td>\n",
       "      <td>1.66</td>\n",
       "      <td>Male</td>\n",
       "      <td>No</td>\n",
       "      <td>Sun</td>\n",
       "      <td>Dinner</td>\n",
       "      <td>3</td>\n",
       "    </tr>\n",
       "    <tr>\n",
       "      <th>2</th>\n",
       "      <td>21.01</td>\n",
       "      <td>3.50</td>\n",
       "      <td>Male</td>\n",
       "      <td>No</td>\n",
       "      <td>Sun</td>\n",
       "      <td>Dinner</td>\n",
       "      <td>3</td>\n",
       "    </tr>\n",
       "  </tbody>\n",
       "</table>\n",
       "</div>"
      ],
      "text/plain": [
       "   total_bill   tip     sex smoker  day    time  size\n",
       "0       16.99  1.01  Female     No  Sun  Dinner     2\n",
       "1       10.34  1.66    Male     No  Sun  Dinner     3\n",
       "2       21.01  3.50    Male     No  Sun  Dinner     3"
      ]
     },
     "execution_count": 11,
     "metadata": {},
     "output_type": "execute_result"
    }
   ],
   "source": [
    "tips_df = sns.load_dataset('tips')\n",
    "tips_df.head(3)"
   ]
  },
  {
   "cell_type": "code",
   "execution_count": null,
   "metadata": {},
   "outputs": [],
   "source": [
    "# 성별에 따라 tip에 차이가 있는지 분석\n",
    "# 흡연여부에 따라 tip에 차이가 있는지 분석\n",
    "# 식사시간에 따라 tip에 차이가 있는지 분석\n",
    "# 요일에 따라 tip에 차이가 있는지 분석"
   ]
  },
  {
   "cell_type": "code",
   "execution_count": 15,
   "metadata": {},
   "outputs": [
    {
     "name": "stdout",
     "output_type": "stream",
     "text": [
      "['Female', 'Male']\n",
      "Categories (2, object): ['Male', 'Female']\n",
      "['No', 'Yes']\n",
      "Categories (2, object): ['Yes', 'No']\n",
      "['Dinner', 'Lunch']\n",
      "Categories (2, object): ['Lunch', 'Dinner']\n",
      "['Sun', 'Sat', 'Thur', 'Fri']\n",
      "Categories (4, object): ['Thur', 'Fri', 'Sat', 'Sun']\n"
     ]
    }
   ],
   "source": [
    "print( tips_df['sex'].unique() )\n",
    "print( tips_df['smoker'].unique() )\n",
    "print( tips_df['time'].unique() )\n",
    "print( tips_df['day'].unique() )"
   ]
  },
  {
   "cell_type": "code",
   "execution_count": 17,
   "metadata": {},
   "outputs": [
    {
     "name": "stderr",
     "output_type": "stream",
     "text": [
      "C:\\Users\\human\\AppData\\Local\\Temp\\ipykernel_17916\\3736541840.py:2: FutureWarning: The default of observed=False is deprecated and will be changed to True in a future version of pandas. Pass observed=False to retain current behavior or observed=True to adopt the future default and silence this warning.\n",
      "  tips_df.groupby('time')['tip'].mean()\n"
     ]
    },
    {
     "data": {
      "text/plain": [
       "time\n",
       "Lunch     2.728088\n",
       "Dinner    3.102670\n",
       "Name: tip, dtype: float64"
      ]
     },
     "execution_count": 17,
     "metadata": {},
     "output_type": "execute_result"
    }
   ],
   "source": [
    "# 식사시간에 따라 tip에 차이가 있는지 분석\n",
    "tips_df.groupby('time')['tip'].mean()"
   ]
  },
  {
   "cell_type": "code",
   "execution_count": 18,
   "metadata": {},
   "outputs": [
    {
     "data": {
      "text/plain": [
       "TtestResult(statistic=np.float64(-1.9062569301202392), pvalue=np.float64(0.05780153475171558), df=np.float64(242.0))"
      ]
     },
     "execution_count": 18,
     "metadata": {},
     "output_type": "execute_result"
    }
   ],
   "source": [
    "stats.ttest_ind(tips_df[tips_df['time'] == 'Lunch']['tip'],\n",
    "                tips_df[tips_df['time'] == 'Dinner']['tip'])"
   ]
  },
  {
   "cell_type": "code",
   "execution_count": 19,
   "metadata": {},
   "outputs": [
    {
     "name": "stderr",
     "output_type": "stream",
     "text": [
      "C:\\Users\\human\\AppData\\Local\\Temp\\ipykernel_17916\\2102971544.py:2: FutureWarning: The default of observed=False is deprecated and will be changed to True in a future version of pandas. Pass observed=False to retain current behavior or observed=True to adopt the future default and silence this warning.\n",
      "  tips_df.groupby('day')['tip'].mean()\n"
     ]
    },
    {
     "data": {
      "text/plain": [
       "day\n",
       "Thur    2.771452\n",
       "Fri     2.734737\n",
       "Sat     2.993103\n",
       "Sun     3.255132\n",
       "Name: tip, dtype: float64"
      ]
     },
     "execution_count": 19,
     "metadata": {},
     "output_type": "execute_result"
    }
   ],
   "source": [
    "# 요일에 따라 tip에 차이가 있는지 분석\n",
    "tips_df.groupby('day')['tip'].mean()"
   ]
  },
  {
   "cell_type": "code",
   "execution_count": null,
   "metadata": {},
   "outputs": [
    {
     "data": {
      "text/plain": [
       "(np.float64(3.115276073619632),\n",
       " np.float64(2.7628395061728392),\n",
       " np.float64(0.35243656744679264))"
      ]
     },
     "execution_count": 25,
     "metadata": {},
     "output_type": "execute_result"
    }
   ],
   "source": [
    "weekend_mask = (tips_df['day'] == 'Sat') | (tips_df['day'] == 'Sun')\n",
    "tips_df[weekend_mask]['tip'].mean(), \\\n",
    "tips_df[~weekend_mask]['tip'].mean(), \\\n",
    "tips_df[weekend_mask]['tip'].mean() - tips_df[~weekend_mask]['tip'].mean()"
   ]
  },
  {
   "cell_type": "code",
   "execution_count": null,
   "metadata": {},
   "outputs": [
    {
     "data": {
      "text/plain": [
       "TtestResult(statistic=np.float64(1.8834950801996837), pvalue=np.float64(0.06083244523772748), df=np.float64(242.0))"
      ]
     },
     "execution_count": 26,
     "metadata": {},
     "output_type": "execute_result"
    }
   ],
   "source": [
    "# pvalue : 0.06 으로 귀무가설 기각할 수 없음 -> 주말과 주중은 tip의 양에 차이가 있다고 주장할 수 없음\n",
    "stats.ttest_ind(tips_df[weekend_mask]['tip'],\n",
    "                tips_df[~weekend_mask]['tip'])"
   ]
  },
  {
   "cell_type": "code",
   "execution_count": null,
   "metadata": {},
   "outputs": [
    {
     "data": {
      "text/plain": [
       "TtestResult(statistic=np.float64(1.8834950801996837), pvalue=np.float64(0.03041622261886374), df=np.float64(242.0))"
      ]
     },
     "execution_count": 33,
     "metadata": {},
     "output_type": "execute_result"
    }
   ],
   "source": [
    "# pvalue : 0.03 으로 귀무가설 기각할 수 있음 -> 주말에 tip을 더 많이 준다고 주장할 수 있다\n",
    "stats.ttest_ind(tips_df[weekend_mask]['tip'],\n",
    "                tips_df[~weekend_mask]['tip'],\n",
    "                alternative='greater')"
   ]
  },
  {
   "cell_type": "code",
   "execution_count": 34,
   "metadata": {},
   "outputs": [
    {
     "data": {
      "text/plain": [
       "(244, 7)"
      ]
     },
     "execution_count": 34,
     "metadata": {},
     "output_type": "execute_result"
    }
   ],
   "source": [
    "tips_df.shape"
   ]
  },
  {
   "cell_type": "code",
   "execution_count": 28,
   "metadata": {},
   "outputs": [],
   "source": [
    "# !pip install statsmodels"
   ]
  },
  {
   "cell_type": "code",
   "execution_count": 29,
   "metadata": {},
   "outputs": [],
   "source": [
    "import statsmodels.api as sm\n",
    "import statsmodels.formula.api as smf"
   ]
  },
  {
   "cell_type": "code",
   "execution_count": 30,
   "metadata": {},
   "outputs": [
    {
     "name": "stderr",
     "output_type": "stream",
     "text": [
      "C:\\Users\\human\\AppData\\Local\\Temp\\ipykernel_17916\\2102971544.py:2: FutureWarning: The default of observed=False is deprecated and will be changed to True in a future version of pandas. Pass observed=False to retain current behavior or observed=True to adopt the future default and silence this warning.\n",
      "  tips_df.groupby('day')['tip'].mean()\n"
     ]
    },
    {
     "data": {
      "text/plain": [
       "day\n",
       "Thur    2.771452\n",
       "Fri     2.734737\n",
       "Sat     2.993103\n",
       "Sun     3.255132\n",
       "Name: tip, dtype: float64"
      ]
     },
     "execution_count": 30,
     "metadata": {},
     "output_type": "execute_result"
    }
   ],
   "source": [
    "# 요일에 따라 tip에 차이가 있는지 분석\n",
    "tips_df.groupby('day')['tip'].mean()"
   ]
  },
  {
   "cell_type": "code",
   "execution_count": 31,
   "metadata": {},
   "outputs": [
    {
     "data": {
      "text/html": [
       "<div>\n",
       "<style scoped>\n",
       "    .dataframe tbody tr th:only-of-type {\n",
       "        vertical-align: middle;\n",
       "    }\n",
       "\n",
       "    .dataframe tbody tr th {\n",
       "        vertical-align: top;\n",
       "    }\n",
       "\n",
       "    .dataframe thead th {\n",
       "        text-align: right;\n",
       "    }\n",
       "</style>\n",
       "<table border=\"1\" class=\"dataframe\">\n",
       "  <thead>\n",
       "    <tr style=\"text-align: right;\">\n",
       "      <th></th>\n",
       "      <th>df</th>\n",
       "      <th>sum_sq</th>\n",
       "      <th>mean_sq</th>\n",
       "      <th>F</th>\n",
       "      <th>PR(&gt;F)</th>\n",
       "    </tr>\n",
       "  </thead>\n",
       "  <tbody>\n",
       "    <tr>\n",
       "      <th>day</th>\n",
       "      <td>3.0</td>\n",
       "      <td>9.525873</td>\n",
       "      <td>3.175291</td>\n",
       "      <td>1.672355</td>\n",
       "      <td>0.173589</td>\n",
       "    </tr>\n",
       "    <tr>\n",
       "      <th>Residual</th>\n",
       "      <td>240.0</td>\n",
       "      <td>455.686604</td>\n",
       "      <td>1.898694</td>\n",
       "      <td>NaN</td>\n",
       "      <td>NaN</td>\n",
       "    </tr>\n",
       "  </tbody>\n",
       "</table>\n",
       "</div>"
      ],
      "text/plain": [
       "             df      sum_sq   mean_sq         F    PR(>F)\n",
       "day         3.0    9.525873  3.175291  1.672355  0.173589\n",
       "Residual  240.0  455.686604  1.898694       NaN       NaN"
      ]
     },
     "execution_count": 31,
     "metadata": {},
     "output_type": "execute_result"
    }
   ],
   "source": [
    "model = smf.ols(\"tip ~ day\", data=tips_df).fit() # tip = f(day)\n",
    "sm.stats.anova_lm(model)"
   ]
  },
  {
   "cell_type": "code",
   "execution_count": 32,
   "metadata": {},
   "outputs": [
    {
     "data": {
      "text/html": [
       "<div>\n",
       "<style scoped>\n",
       "    .dataframe tbody tr th:only-of-type {\n",
       "        vertical-align: middle;\n",
       "    }\n",
       "\n",
       "    .dataframe tbody tr th {\n",
       "        vertical-align: top;\n",
       "    }\n",
       "\n",
       "    .dataframe thead th {\n",
       "        text-align: right;\n",
       "    }\n",
       "</style>\n",
       "<table border=\"1\" class=\"dataframe\">\n",
       "  <thead>\n",
       "    <tr style=\"text-align: right;\">\n",
       "      <th></th>\n",
       "      <th>df</th>\n",
       "      <th>sum_sq</th>\n",
       "      <th>mean_sq</th>\n",
       "      <th>F</th>\n",
       "      <th>PR(&gt;F)</th>\n",
       "    </tr>\n",
       "  </thead>\n",
       "  <tbody>\n",
       "    <tr>\n",
       "      <th>time</th>\n",
       "      <td>1.0</td>\n",
       "      <td>6.882181</td>\n",
       "      <td>6.882181</td>\n",
       "      <td>3.633815</td>\n",
       "      <td>0.057802</td>\n",
       "    </tr>\n",
       "    <tr>\n",
       "      <th>Residual</th>\n",
       "      <td>242.0</td>\n",
       "      <td>458.330296</td>\n",
       "      <td>1.893927</td>\n",
       "      <td>NaN</td>\n",
       "      <td>NaN</td>\n",
       "    </tr>\n",
       "  </tbody>\n",
       "</table>\n",
       "</div>"
      ],
      "text/plain": [
       "             df      sum_sq   mean_sq         F    PR(>F)\n",
       "time        1.0    6.882181  6.882181  3.633815  0.057802\n",
       "Residual  242.0  458.330296  1.893927       NaN       NaN"
      ]
     },
     "execution_count": 32,
     "metadata": {},
     "output_type": "execute_result"
    }
   ],
   "source": [
    "model = smf.ols(\"tip ~ time\", data=tips_df).fit() # tip = f(time)\n",
    "sm.stats.anova_lm(model)"
   ]
  }
 ],
 "metadata": {
  "kernelspec": {
   "display_name": "human-da-env",
   "language": "python",
   "name": "python3"
  },
  "language_info": {
   "codemirror_mode": {
    "name": "ipython",
    "version": 3
   },
   "file_extension": ".py",
   "mimetype": "text/x-python",
   "name": "python",
   "nbconvert_exporter": "python",
   "pygments_lexer": "ipython3",
   "version": "3.12.7"
  }
 },
 "nbformat": 4,
 "nbformat_minor": 2
}
