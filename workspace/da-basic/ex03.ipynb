{
 "cells": [
  {
   "cell_type": "code",
   "execution_count": 1,
   "metadata": {},
   "outputs": [],
   "source": [
    "import numpy as np\n",
    "import pandas as pd\n",
    "import matplotlib.pyplot as plt\n",
    "from scipy import stats"
   ]
  },
  {
   "cell_type": "code",
   "execution_count": 15,
   "metadata": {},
   "outputs": [
    {
     "name": "stdout",
     "output_type": "stream",
     "text": [
      "[0.25 0.25 0.25 0.25]\n",
      "[1 3 2 2 0 0 0 3 2 2]\n",
      "[3 1 4 2]\n",
      "Power_divergenceResult(statistic=np.float64(2.0), pvalue=np.float64(0.5724067044708798))\n",
      "Power_divergenceResult(statistic=np.float64(22.799999999999997), pvalue=np.float64(4.445073647060652e-05))\n"
     ]
    }
   ],
   "source": [
    "N = 10  # 데이터 갯수\n",
    "K = 4   # 범주 갯수\n",
    "mu_0 = np.ones(K) / K # np.ones : 모든 요소의 값이 1인 ndarray 만들기 -> 발생 확률\n",
    "print(mu_0)\n",
    "\n",
    "np.random.seed(42)\n",
    "x = np.random.choice(K, N, p=mu_0) \n",
    "\n",
    "print(x)\n",
    "\n",
    "c = np.bincount(x)\n",
    "print(c)\n",
    "\n",
    "print( stats.chisquare(c) )\n",
    "print( stats.chisquare([9, 0, 0, 1]) )"
   ]
  },
  {
   "cell_type": "code",
   "execution_count": null,
   "metadata": {},
   "outputs": [],
   "source": []
  }
 ],
 "metadata": {
  "kernelspec": {
   "display_name": "human-da-env",
   "language": "python",
   "name": "python3"
  },
  "language_info": {
   "codemirror_mode": {
    "name": "ipython",
    "version": 3
   },
   "file_extension": ".py",
   "mimetype": "text/x-python",
   "name": "python",
   "nbconvert_exporter": "python",
   "pygments_lexer": "ipython3",
   "version": "3.12.7"
  }
 },
 "nbformat": 4,
 "nbformat_minor": 2
}
