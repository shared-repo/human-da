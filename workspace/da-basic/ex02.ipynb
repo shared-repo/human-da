{
 "cells": [
  {
   "cell_type": "code",
   "execution_count": 6,
   "metadata": {},
   "outputs": [],
   "source": [
    "import numpy as np\n",
    "import pandas as pd\n",
    "import matplotlib.pyplot as plt\n",
    "from scipy.stats import pearsonr, spearmanr, kendalltau"
   ]
  },
  {
   "cell_type": "code",
   "execution_count": 4,
   "metadata": {},
   "outputs": [],
   "source": [
    "scores_df = pd.read_csv('data-files/scores_em.csv', index_col=\"student number\")"
   ]
  },
  {
   "cell_type": "code",
   "execution_count": 5,
   "metadata": {},
   "outputs": [
    {
     "data": {
      "text/plain": [
       "(50, 2)"
      ]
     },
     "execution_count": 5,
     "metadata": {},
     "output_type": "execute_result"
    }
   ],
   "source": [
    "scores_df.shape"
   ]
  },
  {
   "cell_type": "code",
   "execution_count": 7,
   "metadata": {},
   "outputs": [
    {
     "data": {
      "text/html": [
       "<div>\n",
       "<style scoped>\n",
       "    .dataframe tbody tr th:only-of-type {\n",
       "        vertical-align: middle;\n",
       "    }\n",
       "\n",
       "    .dataframe tbody tr th {\n",
       "        vertical-align: top;\n",
       "    }\n",
       "\n",
       "    .dataframe thead th {\n",
       "        text-align: right;\n",
       "    }\n",
       "</style>\n",
       "<table border=\"1\" class=\"dataframe\">\n",
       "  <thead>\n",
       "    <tr style=\"text-align: right;\">\n",
       "      <th></th>\n",
       "      <th>english</th>\n",
       "      <th>mathematics</th>\n",
       "    </tr>\n",
       "  </thead>\n",
       "  <tbody>\n",
       "    <tr>\n",
       "      <th>english</th>\n",
       "      <td>1.000000</td>\n",
       "      <td>0.723741</td>\n",
       "    </tr>\n",
       "    <tr>\n",
       "      <th>mathematics</th>\n",
       "      <td>0.723741</td>\n",
       "      <td>1.000000</td>\n",
       "    </tr>\n",
       "  </tbody>\n",
       "</table>\n",
       "</div>"
      ],
      "text/plain": [
       "              english  mathematics\n",
       "english      1.000000     0.723741\n",
       "mathematics  0.723741     1.000000"
      ]
     },
     "execution_count": 7,
     "metadata": {},
     "output_type": "execute_result"
    }
   ],
   "source": [
    "scores_df.corr()"
   ]
  },
  {
   "cell_type": "code",
   "execution_count": 10,
   "metadata": {},
   "outputs": [
    {
     "name": "stdout",
     "output_type": "stream",
     "text": [
      "PearsonRResult(statistic=np.float64(0.7237414863069243), pvalue=np.float64(2.8760870522821537e-09))\n",
      "SignificanceResult(statistic=np.float64(0.7045853895409744), pvalue=np.float64(1.1269964723609888e-08))\n",
      "SignificanceResult(statistic=np.float64(0.53131572579566), pvalue=np.float64(1.134129795679461e-07))\n"
     ]
    }
   ],
   "source": [
    "print( pearsonr( scores_df['english'], scores_df['mathematics'] ) )\n",
    "print( spearmanr( scores_df['english'], scores_df['mathematics'] ) )\n",
    "print( kendalltau( scores_df['english'], scores_df['mathematics'] ) )"
   ]
  },
  {
   "cell_type": "code",
   "execution_count": 11,
   "metadata": {},
   "outputs": [],
   "source": [
    "anscombe = np.load('data-files/anscombe.npy')"
   ]
  },
  {
   "cell_type": "code",
   "execution_count": 13,
   "metadata": {},
   "outputs": [
    {
     "data": {
      "text/plain": [
       "(4, 11, 2)"
      ]
     },
     "execution_count": 13,
     "metadata": {},
     "output_type": "execute_result"
    }
   ],
   "source": [
    "anscombe.shape"
   ]
  },
  {
   "cell_type": "code",
   "execution_count": 27,
   "metadata": {},
   "outputs": [
    {
     "data": {
      "text/plain": [
       "np.float64(0.8164205163448396)"
      ]
     },
     "execution_count": 27,
     "metadata": {},
     "output_type": "execute_result"
    }
   ],
   "source": [
    "pearsonr(anscombe[0][:, 0], anscombe[0][:, 1])[0]"
   ]
  },
  {
   "cell_type": "code",
   "execution_count": 16,
   "metadata": {},
   "outputs": [
    {
     "data": {
      "text/html": [
       "<div>\n",
       "<style scoped>\n",
       "    .dataframe tbody tr th:only-of-type {\n",
       "        vertical-align: middle;\n",
       "    }\n",
       "\n",
       "    .dataframe tbody tr th {\n",
       "        vertical-align: top;\n",
       "    }\n",
       "\n",
       "    .dataframe thead th {\n",
       "        text-align: right;\n",
       "    }\n",
       "</style>\n",
       "<table border=\"1\" class=\"dataframe\">\n",
       "  <thead>\n",
       "    <tr style=\"text-align: right;\">\n",
       "      <th></th>\n",
       "      <th>data1</th>\n",
       "      <th>data2</th>\n",
       "      <th>data3</th>\n",
       "      <th>data4</th>\n",
       "    </tr>\n",
       "  </thead>\n",
       "  <tbody>\n",
       "    <tr>\n",
       "      <th>x_mean</th>\n",
       "      <td>9.000000</td>\n",
       "      <td>9.000000</td>\n",
       "      <td>9.000000</td>\n",
       "      <td>9.000000</td>\n",
       "    </tr>\n",
       "    <tr>\n",
       "      <th>x_variance</th>\n",
       "      <td>10.000000</td>\n",
       "      <td>10.000000</td>\n",
       "      <td>10.000000</td>\n",
       "      <td>10.000000</td>\n",
       "    </tr>\n",
       "    <tr>\n",
       "      <th>y_mean</th>\n",
       "      <td>7.500909</td>\n",
       "      <td>7.500909</td>\n",
       "      <td>7.500000</td>\n",
       "      <td>7.500909</td>\n",
       "    </tr>\n",
       "    <tr>\n",
       "      <th>y_variance</th>\n",
       "      <td>3.752063</td>\n",
       "      <td>3.752390</td>\n",
       "      <td>3.747836</td>\n",
       "      <td>3.748408</td>\n",
       "    </tr>\n",
       "    <tr>\n",
       "      <th>corr</th>\n",
       "      <td>0.816421</td>\n",
       "      <td>0.816237</td>\n",
       "      <td>0.816287</td>\n",
       "      <td>0.816521</td>\n",
       "    </tr>\n",
       "    <tr>\n",
       "      <th>reg_line</th>\n",
       "      <td>0.000000</td>\n",
       "      <td>0.000000</td>\n",
       "      <td>0.000000</td>\n",
       "      <td>0.000000</td>\n",
       "    </tr>\n",
       "  </tbody>\n",
       "</table>\n",
       "</div>"
      ],
      "text/plain": [
       "                data1      data2      data3      data4\n",
       "x_mean       9.000000   9.000000   9.000000   9.000000\n",
       "x_variance  10.000000  10.000000  10.000000  10.000000\n",
       "y_mean       7.500909   7.500909   7.500000   7.500909\n",
       "y_variance   3.752063   3.752390   3.747836   3.748408\n",
       "corr         0.816421   0.816237   0.816287   0.816521\n",
       "reg_line     0.000000   0.000000   0.000000   0.000000"
      ]
     },
     "execution_count": 16,
     "metadata": {},
     "output_type": "execute_result"
    }
   ],
   "source": [
    "stats_df = pd.DataFrame(index=['x_mean', 'x_variance', 'y_mean', 'y_variance', \"corr\", \"reg_line\"])\n",
    "stats_df\n",
    "for idx, data in enumerate(anscombe):\n",
    "    X = data[:, 0] # 0열 데이터\n",
    "    y = data[:, 1] # 1열 데이터\n",
    "    stats_df[f'data{idx+1}'] = [np.mean(X), np.var(X), np.mean(y), np.var(y), pearsonr(X, y)[0], 0]\n",
    "\n",
    "stats_df"
   ]
  },
  {
   "cell_type": "code",
   "execution_count": 18,
   "metadata": {},
   "outputs": [
    {
     "data": {
      "image/png": "[encoded data removed]",
      "text/plain": [
       "<Figure size 640x480 with 4 Axes>"
      ]
     },
     "metadata": {},
     "output_type": "display_data"
    }
   ],
   "source": [
    "figure, axes = plt.subplots(2, 2)\n",
    "for idx, ax in enumerate(axes.flatten()): # flatten : n차원 배열 -> 1차원 배열 변환\n",
    "    ax.scatter(anscombe[idx][:, 0], anscombe[idx][:, 1])\n",
    "\n",
    "plt.show()"
   ]
  },
  {
   "cell_type": "code",
   "execution_count": 19,
   "metadata": {},
   "outputs": [],
   "source": [
    "import seaborn as sns"
   ]
  },
  {
   "cell_type": "code",
   "execution_count": null,
   "metadata": {},
   "outputs": [
    {
     "data": {
      "image/png": "[encoded data removed]",
      "text/plain": [
       "<Figure size 640x480 with 2 Axes>"
      ]
     },
     "metadata": {},
     "output_type": "display_data"
    }
   ],
   "source": [
    "sns.heatmap(scores_df.corr(), annot=True)\n",
    "plt.show()"
   ]
  },
  {
   "cell_type": "code",
   "execution_count": null,
   "metadata": {},
   "outputs": [],
   "source": []
  }
 ],
 "metadata": {
  "kernelspec": {
   "display_name": "human-da-env",
   "language": "python",
   "name": "python3"
  },
  "language_info": {
   "codemirror_mode": {
    "name": "ipython",
    "version": 3
   },
   "file_extension": ".py",
   "mimetype": "text/x-python",
   "name": "python",
   "nbconvert_exporter": "python",
   "pygments_lexer": "ipython3",
   "version": "3.12.7"
  }
 },
 "nbformat": 4,
 "nbformat_minor": 2
}
