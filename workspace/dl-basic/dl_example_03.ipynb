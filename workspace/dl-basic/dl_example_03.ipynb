{
  "cells": [
    {
      "cell_type": "code",
      "execution_count": 1,
      "metadata": {
        "id": "HR6LG17q03iU"
      },
      "outputs": [
        {
          "name": "stdout",
          "output_type": "stream",
          "text": [
            "WARNING:tensorflow:From c:\\Users\\human\\.conda\\envs\\human-dl-env2\\lib\\site-packages\\keras\\src\\losses.py:2976: The name tf.losses.sparse_softmax_cross_entropy is deprecated. Please use tf.compat.v1.losses.sparse_softmax_cross_entropy instead.\n",
            "\n"
          ]
        }
      ],
      "source": [
        "import tensorflow as tf\n",
        "from tensorflow import keras as tf_keras"
      ]
    },
    {
      "cell_type": "code",
      "execution_count": 2,
      "metadata": {
        "colab": {
          "base_uri": "https://localhost:8080/"
        },
        "id": "ygGNRsC-1RBI",
        "outputId": "4c5f2751-c3a4-43f5-f1ba-864d0c32bb6f"
      },
      "outputs": [
        {
          "name": "stdout",
          "output_type": "stream",
          "text": [
            "(60000, 28, 28) (10000, 28, 28) (60000,) (10000,)\n"
          ]
        }
      ],
      "source": [
        "from re import X\n",
        "# 데이터 준비 : keras 내장 데이터셋\n",
        "(X_train, y_train), (X_test, y_test) = tf_keras.datasets.mnist.load_data()\n",
        "\n",
        "print(X_train.shape, X_test.shape, y_train.shape, y_test.shape)"
      ]
    },
    {
      "cell_type": "code",
      "execution_count": 3,
      "metadata": {
        "colab": {
          "base_uri": "https://localhost:8080/"
        },
        "id": "pW5RFqRL2riX",
        "outputId": "5c58909d-49e2-4224-c678-f92d38e80e99"
      },
      "outputs": [
        {
          "name": "stdout",
          "output_type": "stream",
          "text": [
            "(60000, 784) (10000, 784)\n",
            "0 255\n",
            "0.0 1.0\n"
          ]
        }
      ],
      "source": [
        "# 입력 데이터 구조 변경\n",
        "X_train_flatten = X_train.reshape(-1, 28*28)\n",
        "X_test_flatten = X_test.reshape(-1, 28*28)\n",
        "print(X_train_flatten.shape, X_test_flatten.shape)\n",
        "print(X_train_flatten.min(), X_train_flatten.max())\n",
        "\n",
        "X_train_flatten = X_train_flatten / 255.0\n",
        "X_test_flatten = X_test_flatten / 255.0\n",
        "print(X_train_flatten.min(), X_train_flatten.max())"
      ]
    },
    {
      "cell_type": "code",
      "execution_count": 4,
      "metadata": {
        "id": "pgUTFPUv3ikA"
      },
      "outputs": [
        {
          "name": "stdout",
          "output_type": "stream",
          "text": [
            "WARNING:tensorflow:From c:\\Users\\human\\.conda\\envs\\human-dl-env2\\lib\\site-packages\\keras\\src\\backend.py:1398: The name tf.executing_eagerly_outside_functions is deprecated. Please use tf.compat.v1.executing_eagerly_outside_functions instead.\n",
            "\n"
          ]
        }
      ],
      "source": [
        "# 모델 학습 2-1\n",
        "\n",
        "model = tf_keras.Sequential([\n",
        "    tf_keras.layers.Input(shape=(784,)),            # 입력층\n",
        "    tf_keras.layers.Dense(512, activation=\"relu\"),\n",
        "    tf_keras.layers.Dense(256, activation=\"relu\"),\n",
        "    tf_keras.layers.Dense(10, activation=\"softmax\") # 출력층\n",
        "])"
      ]
    },
    {
      "cell_type": "code",
      "execution_count": 5,
      "metadata": {
        "colab": {
          "base_uri": "https://localhost:8080/"
        },
        "id": "WwpsnhLD3xym",
        "outputId": "46c21edc-c00b-413f-cd81-59637eb70d32"
      },
      "outputs": [
        {
          "name": "stdout",
          "output_type": "stream",
          "text": [
            "WARNING:tensorflow:From c:\\Users\\human\\.conda\\envs\\human-dl-env2\\lib\\site-packages\\keras\\src\\optimizers\\__init__.py:309: The name tf.train.Optimizer is deprecated. Please use tf.compat.v1.train.Optimizer instead.\n",
            "\n",
            "Epoch 1/10\n",
            "WARNING:tensorflow:From c:\\Users\\human\\.conda\\envs\\human-dl-env2\\lib\\site-packages\\keras\\src\\utils\\tf_utils.py:492: The name tf.ragged.RaggedTensorValue is deprecated. Please use tf.compat.v1.ragged.RaggedTensorValue instead.\n",
            "\n",
            "WARNING:tensorflow:From c:\\Users\\human\\.conda\\envs\\human-dl-env2\\lib\\site-packages\\keras\\src\\engine\\base_layer_utils.py:384: The name tf.executing_eagerly_outside_functions is deprecated. Please use tf.compat.v1.executing_eagerly_outside_functions instead.\n",
            "\n",
            "188/188 [==============================] - 3s 11ms/step - loss: 0.3054 - accuracy: 0.9130 - val_loss: 0.1559 - val_accuracy: 0.9528\n",
            "Epoch 2/10\n",
            "188/188 [==============================] - 2s 9ms/step - loss: 0.1097 - accuracy: 0.9681 - val_loss: 0.1005 - val_accuracy: 0.9699\n",
            "Epoch 3/10\n",
            "188/188 [==============================] - 2s 9ms/step - loss: 0.0664 - accuracy: 0.9800 - val_loss: 0.0920 - val_accuracy: 0.9728\n",
            "Epoch 4/10\n",
            "188/188 [==============================] - 2s 9ms/step - loss: 0.0449 - accuracy: 0.9861 - val_loss: 0.0874 - val_accuracy: 0.9747\n",
            "Epoch 5/10\n",
            "188/188 [==============================] - 2s 9ms/step - loss: 0.0320 - accuracy: 0.9905 - val_loss: 0.0866 - val_accuracy: 0.9741\n",
            "Epoch 6/10\n",
            "188/188 [==============================] - 2s 9ms/step - loss: 0.0232 - accuracy: 0.9931 - val_loss: 0.0861 - val_accuracy: 0.9751\n",
            "Epoch 7/10\n",
            "188/188 [==============================] - 2s 9ms/step - loss: 0.0144 - accuracy: 0.9960 - val_loss: 0.0791 - val_accuracy: 0.9785\n",
            "Epoch 8/10\n",
            "188/188 [==============================] - 2s 9ms/step - loss: 0.0123 - accuracy: 0.9966 - val_loss: 0.0874 - val_accuracy: 0.9765\n",
            "Epoch 9/10\n",
            "188/188 [==============================] - 2s 9ms/step - loss: 0.0113 - accuracy: 0.9965 - val_loss: 0.0840 - val_accuracy: 0.9778\n",
            "Epoch 10/10\n",
            "188/188 [==============================] - 2s 9ms/step - loss: 0.0068 - accuracy: 0.9980 - val_loss: 0.0933 - val_accuracy: 0.9782\n"
          ]
        },
        {
          "data": {
            "text/plain": [
              "<keras.src.callbacks.History at 0x1c8a02c5520>"
            ]
          },
          "execution_count": 5,
          "metadata": {},
          "output_type": "execute_result"
        }
      ],
      "source": [
        "# 모델 학습 2-2\n",
        "\n",
        "model.compile(loss=\"sparse_categorical_crossentropy\",\n",
        "              optimizer=\"adam\",\n",
        "              metrics=[\"accuracy\"])\n",
        "\n",
        "model.fit(X_train_flatten, y_train, batch_size=256, epochs=10, validation_split=0.2)"
      ]
    },
    {
      "cell_type": "code",
      "execution_count": 6,
      "metadata": {
        "colab": {
          "base_uri": "https://localhost:8080/"
        },
        "id": "KiUUmjAh4VmP",
        "outputId": "4d1a62c1-3bcb-4f19-b40d-f02a585d8249"
      },
      "outputs": [
        {
          "name": "stdout",
          "output_type": "stream",
          "text": [
            "1875/1875 [==============================] - 4s 2ms/step - loss: 0.0242 - accuracy: 0.9942\n",
            "313/313 [==============================] - 1s 2ms/step - loss: 0.0783 - accuracy: 0.9797\n"
          ]
        },
        {
          "data": {
            "text/plain": [
              "([0.024154476821422577, 0.9941666722297668],\n",
              " [0.07832513749599457, 0.9797000288963318])"
            ]
          },
          "execution_count": 6,
          "metadata": {},
          "output_type": "execute_result"
        }
      ],
      "source": [
        "# 모델 검증(테스트)\n",
        "\n",
        "model.evaluate(X_train_flatten, y_train), model.evaluate(X_test_flatten, y_test)"
      ]
    },
    {
      "cell_type": "code",
      "execution_count": 7,
      "metadata": {},
      "outputs": [],
      "source": [
        "model.save(\"models/mnist_model.keras\")"
      ]
    },
    {
      "cell_type": "code",
      "execution_count": 9,
      "metadata": {},
      "outputs": [
        {
          "name": "stdout",
          "output_type": "stream",
          "text": [
            "1/1 [==============================] - 0s 82ms/step\n"
          ]
        },
        {
          "data": {
            "text/plain": [
              "array([[8.7398095e-13, 1.4602013e-09, 8.4838428e-11, 1.7621791e-03,\n",
              "        1.7466726e-20, 9.9823785e-01, 9.5669851e-16, 5.7682499e-13,\n",
              "        5.1670224e-11, 1.9257375e-10]], dtype=float32)"
            ]
          },
          "execution_count": 9,
          "metadata": {},
          "output_type": "execute_result"
        }
      ],
      "source": [
        "model.predict(X_train_flatten[:1])"
      ]
    },
    {
      "cell_type": "code",
      "execution_count": 11,
      "metadata": {},
      "outputs": [
        {
          "ename": "AttributeError",
          "evalue": "'numpy.ndarray' object has no attribute 'read'",
          "output_type": "error",
          "traceback": [
            "\u001b[1;31m---------------------------------------------------------------------------\u001b[0m",
            "\u001b[1;31mAttributeError\u001b[0m                            Traceback (most recent call last)",
            "File \u001b[1;32mc:\\Users\\human\\.conda\\envs\\human-dl-env2\\lib\\site-packages\\PIL\\Image.py:3437\u001b[0m, in \u001b[0;36mopen\u001b[1;34m(fp, mode, formats)\u001b[0m\n\u001b[0;32m   3436\u001b[0m \u001b[38;5;28;01mtry\u001b[39;00m:\n\u001b[1;32m-> 3437\u001b[0m     \u001b[43mfp\u001b[49m\u001b[38;5;241;43m.\u001b[39;49m\u001b[43mseek\u001b[49m(\u001b[38;5;241m0\u001b[39m)\n\u001b[0;32m   3438\u001b[0m \u001b[38;5;28;01mexcept\u001b[39;00m (\u001b[38;5;167;01mAttributeError\u001b[39;00m, io\u001b[38;5;241m.\u001b[39mUnsupportedOperation):\n",
            "\u001b[1;31mAttributeError\u001b[0m: 'numpy.ndarray' object has no attribute 'seek'",
            "\nDuring handling of the above exception, another exception occurred:\n",
            "\u001b[1;31mAttributeError\u001b[0m                            Traceback (most recent call last)",
            "Cell \u001b[1;32mIn[11], line 3\u001b[0m\n\u001b[0;32m      1\u001b[0m \u001b[38;5;28;01mfrom\u001b[39;00m \u001b[38;5;21;01mPIL\u001b[39;00m \u001b[38;5;28;01mimport\u001b[39;00m Image\n\u001b[1;32m----> 3\u001b[0m \u001b[43mImage\u001b[49m\u001b[38;5;241;43m.\u001b[39;49m\u001b[43mopen\u001b[49m\u001b[43m(\u001b[49m\u001b[43mX_train_flatten\u001b[49m\u001b[43m[\u001b[49m\u001b[38;5;241;43m0\u001b[39;49m\u001b[43m]\u001b[49m\u001b[43m)\u001b[49m\n",
            "File \u001b[1;32mc:\\Users\\human\\.conda\\envs\\human-dl-env2\\lib\\site-packages\\PIL\\Image.py:3439\u001b[0m, in \u001b[0;36mopen\u001b[1;34m(fp, mode, formats)\u001b[0m\n\u001b[0;32m   3437\u001b[0m     fp\u001b[38;5;241m.\u001b[39mseek(\u001b[38;5;241m0\u001b[39m)\n\u001b[0;32m   3438\u001b[0m \u001b[38;5;28;01mexcept\u001b[39;00m (\u001b[38;5;167;01mAttributeError\u001b[39;00m, io\u001b[38;5;241m.\u001b[39mUnsupportedOperation):\n\u001b[1;32m-> 3439\u001b[0m     fp \u001b[38;5;241m=\u001b[39m io\u001b[38;5;241m.\u001b[39mBytesIO(\u001b[43mfp\u001b[49m\u001b[38;5;241;43m.\u001b[39;49m\u001b[43mread\u001b[49m())\n\u001b[0;32m   3440\u001b[0m     exclusive_fp \u001b[38;5;241m=\u001b[39m \u001b[38;5;28;01mTrue\u001b[39;00m\n\u001b[0;32m   3442\u001b[0m prefix \u001b[38;5;241m=\u001b[39m fp\u001b[38;5;241m.\u001b[39mread(\u001b[38;5;241m16\u001b[39m)\n",
            "\u001b[1;31mAttributeError\u001b[0m: 'numpy.ndarray' object has no attribute 'read'"
          ]
        }
      ],
      "source": [
        "from PIL import Image\n",
        "\n",
        "Image.open(X_train_flatten[0])"
      ]
    }
  ],
  "metadata": {
    "accelerator": "GPU",
    "colab": {
      "gpuType": "T4",
      "provenance": []
    },
    "kernelspec": {
      "display_name": "human-dl-env2",
      "language": "python",
      "name": "python3"
    },
    "language_info": {
      "codemirror_mode": {
        "name": "ipython",
        "version": 3
      },
      "file_extension": ".py",
      "mimetype": "text/x-python",
      "name": "python",
      "nbconvert_exporter": "python",
      "pygments_lexer": "ipython3",
      "version": "3.9.21"
    }
  },
  "nbformat": 4,
  "nbformat_minor": 0
}
