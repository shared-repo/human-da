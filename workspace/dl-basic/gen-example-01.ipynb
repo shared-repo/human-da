{
 "cells": [
  {
   "cell_type": "code",
   "execution_count": 1,
   "metadata": {},
   "outputs": [
    {
     "name": "stdout",
     "output_type": "stream",
     "text": [
      "WARNING:tensorflow:From c:\\Users\\human\\.conda\\envs\\human-dl-env2\\lib\\site-packages\\keras\\src\\losses.py:2976: The name tf.losses.sparse_softmax_cross_entropy is deprecated. Please use tf.compat.v1.losses.sparse_softmax_cross_entropy instead.\n",
      "\n"
     ]
    }
   ],
   "source": [
    "import numpy as np\n",
    "import pandas as pd\n",
    "import matplotlib.pyplot as plt\n",
    "\n",
    "import tensorflow as tf\n",
    "from tensorflow import keras as tf_keras"
   ]
  },
  {
   "cell_type": "code",
   "execution_count": 2,
   "metadata": {},
   "outputs": [
    {
     "name": "stdout",
     "output_type": "stream",
     "text": [
      "Downloading data from https://www.cs.toronto.edu/~kriz/cifar-10-python.tar.gz\n",
      "170498071/170498071 [==============================] - 1096s 6us/step\n"
     ]
    }
   ],
   "source": [
    "(X_train, y_train), (X_test, y_test) = tf_keras.datasets.cifar10.load_data()"
   ]
  },
  {
   "cell_type": "code",
   "execution_count": 3,
   "metadata": {},
   "outputs": [
    {
     "data": {
      "text/plain": [
       "((50000, 32, 32, 3), (10000, 32, 32, 3))"
      ]
     },
     "execution_count": 3,
     "metadata": {},
     "output_type": "execute_result"
    }
   ],
   "source": [
    "X_train.shape, X_test.shape"
   ]
  },
  {
   "cell_type": "code",
   "execution_count": 12,
   "metadata": {},
   "outputs": [
    {
     "data": {
      "image/png": "[encoded data removed]",
      "text/plain": [
       "<Figure size 100x100 with 1 Axes>"
      ]
     },
     "metadata": {},
     "output_type": "display_data"
    }
   ],
   "source": [
    "plt.figure(figsize=(1, 1))\n",
    "plt.imshow(X_train[6])\n",
    "plt.axis('off')\n",
    "plt.show()"
   ]
  },
  {
   "cell_type": "code",
   "execution_count": 18,
   "metadata": {},
   "outputs": [
    {
     "data": {
      "text/plain": [
       "(50000, 1)"
      ]
     },
     "execution_count": 18,
     "metadata": {},
     "output_type": "execute_result"
    }
   ],
   "source": [
    "y_train.shape"
   ]
  },
  {
   "cell_type": "code",
   "execution_count": 27,
   "metadata": {},
   "outputs": [
    {
     "name": "stdout",
     "output_type": "stream",
     "text": [
      "[0 1 2 3 4 5 6 7 8 9]\n"
     ]
    },
    {
     "data": {
      "text/plain": [
       "(5000, 32, 32, 3)"
      ]
     },
     "execution_count": 27,
     "metadata": {},
     "output_type": "execute_result"
    }
   ],
   "source": [
    "# 생성 모델 학습 데이터 준비\n",
    "\n",
    "print( np.unique(y_train) )\n",
    "\n",
    "X_train_dog = X_train[y_train.flatten() == 5] # 개 이미지만 뽑기\n",
    "\n",
    "# X_train_dog.max() # 255\n",
    "X_train_dog_scaled = X_train_dog / X_train_dog.max()\n",
    "X_train_dog_scaled = X_train_dog_scaled.astype('float32')\n",
    "\n",
    "X_train_dog_scaled.dtype\n",
    "X_train_dog.shape"
   ]
  },
  {
   "cell_type": "code",
   "execution_count": 13,
   "metadata": {},
   "outputs": [],
   "source": [
    "# parameter 설정\n",
    "width = 32\n",
    "height = 32\n",
    "channels = 3\n",
    "latent_dim = 32 # 이미지 생성을 위해 초기 데이터를 추출하는 데이터 공간"
   ]
  },
  {
   "cell_type": "code",
   "execution_count": 28,
   "metadata": {},
   "outputs": [
    {
     "name": "stdout",
     "output_type": "stream",
     "text": [
      "WARNING:tensorflow:From c:\\Users\\human\\.conda\\envs\\human-dl-env2\\lib\\site-packages\\keras\\src\\backend.py:1398: The name tf.executing_eagerly_outside_functions is deprecated. Please use tf.compat.v1.executing_eagerly_outside_functions instead.\n",
      "\n",
      "Model: \"model\"\n",
      "_________________________________________________________________\n",
      " Layer (type)                Output Shape              Param #   \n",
      "=================================================================\n",
      " input_1 (InputLayer)        [(None, 32, 32, 3)]       0         \n",
      "                                                                 \n",
      " conv2d (Conv2D)             (None, 30, 30, 32)        896       \n",
      "                                                                 \n",
      " leaky_re_lu (LeakyReLU)     (None, 30, 30, 32)        0         \n",
      "                                                                 \n",
      " conv2d_1 (Conv2D)           (None, 28, 28, 64)        18496     \n",
      "                                                                 \n",
      " leaky_re_lu_1 (LeakyReLU)   (None, 28, 28, 64)        0         \n",
      "                                                                 \n",
      " conv2d_2 (Conv2D)           (None, 26, 26, 64)        36928     \n",
      "                                                                 \n",
      " leaky_re_lu_2 (LeakyReLU)   (None, 26, 26, 64)        0         \n",
      "                                                                 \n",
      " flatten (Flatten)           (None, 43264)             0         \n",
      "                                                                 \n",
      " dense (Dense)               (None, 1)                 43265     \n",
      "                                                                 \n",
      "=================================================================\n",
      "Total params: 99585 (389.00 KB)\n",
      "Trainable params: 99585 (389.00 KB)\n",
      "Non-trainable params: 0 (0.00 Byte)\n",
      "_________________________________________________________________\n"
     ]
    }
   ],
   "source": [
    "# 판별 모델 구조 설계\n",
    "\n",
    "# discriminator = tf_keras.models.Sequential([\n",
    "#     tf_keras.layers.Input(shape=(width, height, channels)),\n",
    "#     tf_keras.layers.Conv2D(filters=32, kernel_size=3),\n",
    "#     tf_keras.layers.LeakyReLU(),\n",
    "#     tf_keras.layers.Conv2D(filters=64, kernel_size=3),\n",
    "#     tf_keras.layers.LeakyReLU(),\n",
    "#     tf_keras.layers.Conv2D(filters=64, kernel_size=3),\n",
    "#     tf_keras.layers.LeakyReLU(),\n",
    "#     tf_keras.layers.Flatten(),\n",
    "#     tf_keras.layers.Dense(1, activation=\"sigmoid\")\n",
    "# ])\n",
    "\n",
    "d_input = tf_keras.layers.Input(shape=(width, height, channels))\n",
    "d_x = tf_keras.layers.Conv2D(filters=32, kernel_size=3)(d_input)\n",
    "d_x = tf_keras.layers.LeakyReLU()(d_x)\n",
    "d_x = tf_keras.layers.Conv2D(filters=64, kernel_size=3)(d_x)\n",
    "d_x = tf_keras.layers.LeakyReLU()(d_x)\n",
    "d_x = tf_keras.layers.Conv2D(filters=64, kernel_size=3)(d_x)\n",
    "d_x = tf_keras.layers.LeakyReLU()(d_x)\n",
    "d_x = tf_keras.layers.Flatten()(d_x)\n",
    "d_output = tf_keras.layers.Dense(1, activation=\"sigmoid\")(d_x)\n",
    "\n",
    "discriminator = tf_keras.models.Model(d_input, d_output)\n",
    "\n",
    "discriminator.summary()"
   ]
  },
  {
   "cell_type": "code",
   "execution_count": 29,
   "metadata": {},
   "outputs": [
    {
     "name": "stdout",
     "output_type": "stream",
     "text": [
      "WARNING:tensorflow:From c:\\Users\\human\\.conda\\envs\\human-dl-env2\\lib\\site-packages\\keras\\src\\optimizers\\__init__.py:309: The name tf.train.Optimizer is deprecated. Please use tf.compat.v1.train.Optimizer instead.\n",
      "\n"
     ]
    }
   ],
   "source": [
    "# 판별 모델 학습 설계\n",
    "\n",
    "discriminator.compile(loss=\"binary_crossentropy\", optimizer=\"adam\", metrics=['accuracy'])"
   ]
  },
  {
   "cell_type": "code",
   "execution_count": 34,
   "metadata": {},
   "outputs": [
    {
     "name": "stdout",
     "output_type": "stream",
     "text": [
      "Model: \"model_1\"\n",
      "_________________________________________________________________\n",
      " Layer (type)                Output Shape              Param #   \n",
      "=================================================================\n",
      " input_6 (InputLayer)        [(None, 32)]              0         \n",
      "                                                                 \n",
      " dense_5 (Dense)             (None, 32768)             1081344   \n",
      "                                                                 \n",
      " leaky_re_lu_8 (LeakyReLU)   (None, 32768)             0         \n",
      "                                                                 \n",
      " reshape_3 (Reshape)         (None, 16, 16, 128)       0         \n",
      "                                                                 \n",
      " conv2d_6 (Conv2D)           (None, 16, 16, 256)       524544    \n",
      "                                                                 \n",
      " leaky_re_lu_9 (LeakyReLU)   (None, 16, 16, 256)       0         \n",
      "                                                                 \n",
      " conv2d_transpose (Conv2DTr  (None, 32, 32, 256)       1048832   \n",
      " anspose)                                                        \n",
      "                                                                 \n",
      " leaky_re_lu_10 (LeakyReLU)  (None, 32, 32, 256)       0         \n",
      "                                                                 \n",
      " conv2d_7 (Conv2D)           (None, 32, 32, 256)       1048832   \n",
      "                                                                 \n",
      " leaky_re_lu_11 (LeakyReLU)  (None, 32, 32, 256)       0         \n",
      "                                                                 \n",
      " conv2d_8 (Conv2D)           (None, 32, 32, 256)       1048832   \n",
      "                                                                 \n",
      " leaky_re_lu_12 (LeakyReLU)  (None, 32, 32, 256)       0         \n",
      "                                                                 \n",
      " conv2d_9 (Conv2D)           (None, 32, 32, 3)         19203     \n",
      "                                                                 \n",
      "=================================================================\n",
      "Total params: 4771587 (18.20 MB)\n",
      "Trainable params: 4771587 (18.20 MB)\n",
      "Non-trainable params: 0 (0.00 Byte)\n",
      "_________________________________________________________________\n"
     ]
    }
   ],
   "source": [
    "# 생성 모델 구조 설계\n",
    "\n",
    "g_input = tf_keras.layers.Input(shape=(latent_dim,))\n",
    "g_x = tf_keras.layers.Dense(units=128*16*16)(g_input)\n",
    "g_x = tf_keras.layers.LeakyReLU()(g_x)\n",
    "g_x = tf_keras.layers.Reshape(target_shape=(16, 16, 128))(g_x)\n",
    "\n",
    "g_x = tf_keras.layers.Conv2D(filters=256, kernel_size=4, padding=\"same\")(g_x)\n",
    "g_x = tf_keras.layers.LeakyReLU()(g_x)\n",
    "\n",
    "# Conv2DTranspose : 이미지 확대 ( padding=='same'인 경우 width*stride, height*stride )\n",
    "g_x = tf_keras.layers.Conv2DTranspose(filters=256, kernel_size=4, \n",
    "                                      strides=2, padding=\"same\")(g_x)\n",
    "g_x = tf_keras.layers.LeakyReLU()(g_x)\n",
    "\n",
    "g_x = tf_keras.layers.Conv2D(filters=256, kernel_size=4, padding=\"same\")(g_x)\n",
    "g_x = tf_keras.layers.LeakyReLU()(g_x)\n",
    "g_x = tf_keras.layers.Conv2D(filters=256, kernel_size=4, padding=\"same\")(g_x)\n",
    "g_x = tf_keras.layers.LeakyReLU()(g_x)\n",
    "\n",
    "g_output = tf_keras.layers.Conv2D(filters=channels, kernel_size=5, \n",
    "                                  activation=\"sigmoid\", padding=\"same\")(g_x)\n",
    "\n",
    "generator = tf_keras.models.Model(g_input, g_output)\n",
    "\n",
    "generator.summary()"
   ]
  }
 ],
 "metadata": {
  "kernelspec": {
   "display_name": "human-dl-env2",
   "language": "python",
   "name": "python3"
  },
  "language_info": {
   "codemirror_mode": {
    "name": "ipython",
    "version": 3
   },
   "file_extension": ".py",
   "mimetype": "text/x-python",
   "name": "python",
   "nbconvert_exporter": "python",
   "pygments_lexer": "ipython3",
   "version": "3.9.21"
  }
 },
 "nbformat": 4,
 "nbformat_minor": 2
}
