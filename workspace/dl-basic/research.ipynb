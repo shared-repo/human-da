{
 "cells": [
  {
   "cell_type": "code",
   "execution_count": 22,
   "metadata": {},
   "outputs": [
    {
     "name": "stdout",
     "output_type": "stream",
     "text": [
      "[0.45842294 0.30193282 0.23964424]\n",
      "[[1 0 0]]\n",
      "0\n"
     ]
    }
   ],
   "source": [
    "import numpy as np\n",
    "preds = [0.7, 0.2, 0.1]\n",
    "temperature = 3\n",
    "# print( np.log(preds) )\n",
    "# print( np.log(preds) / temperature )\n",
    "exp_preds = np.exp( np.log(preds) / temperature )\n",
    "# print( exp_preds )\n",
    "preds = exp_preds / np.sum(exp_preds)\n",
    "print(preds)\n",
    "probas = np.random.multinomial(1, preds, 1)\n",
    "print(probas)\n",
    "print( np.argmax(probas) )"
   ]
  }
 ],
 "metadata": {
  "kernelspec": {
   "display_name": "human-dl-env2",
   "language": "python",
   "name": "python3"
  },
  "language_info": {
   "codemirror_mode": {
    "name": "ipython",
    "version": 3
   },
   "file_extension": ".py",
   "mimetype": "text/x-python",
   "name": "python",
   "nbconvert_exporter": "python",
   "pygments_lexer": "ipython3",
   "version": "3.9.21"
  }
 },
 "nbformat": 4,
 "nbformat_minor": 2
}
