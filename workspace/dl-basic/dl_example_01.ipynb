{
  "nbformat": 4,
  "nbformat_minor": 0,
  "metadata": {
    "colab": {
      "provenance": []
    },
    "kernelspec": {
      "name": "python3",
      "display_name": "Python 3"
    },
    "language_info": {
      "name": "python"
    }
  },
  "cells": [
    {
      "cell_type": "code",
      "execution_count": null,
      "metadata": {
        "id": "o2SJi8TQMhY0"
      },
      "outputs": [],
      "source": []
    },
    {
      "cell_type": "code",
      "source": [
        "!ls -l"
      ],
      "metadata": {
        "colab": {
          "base_uri": "https://localhost:8080/"
        },
        "id": "cvWMD20PQgE_",
        "outputId": "85191ae3-ffc1-4475-b91c-82f3495494a4"
      },
      "execution_count": null,
      "outputs": [
        {
          "output_type": "stream",
          "name": "stdout",
          "text": [
            "total 8\n",
            "drwx------ 6 root root 4096 Dec  5 00:37 drive\n",
            "drwxr-xr-x 1 root root 4096 Dec  3 19:31 sample_data\n"
          ]
        }
      ]
    },
    {
      "cell_type": "code",
      "source": [
        "%%bash\n",
        "\n",
        "ls -l\n",
        "ls -l drive/MyDrive"
      ],
      "metadata": {
        "colab": {
          "base_uri": "https://localhost:8080/"
        },
        "id": "YhE-QzpFQvA2",
        "outputId": "3dc6b4d0-a653-4303-ddb2-b23c9f3229e2"
      },
      "execution_count": null,
      "outputs": [
        {
          "output_type": "stream",
          "name": "stdout",
          "text": [
            "total 8\n",
            "drwx------ 6 root root 4096 Dec  5 00:37 drive\n",
            "drwxr-xr-x 1 root root 4096 Dec  3 19:31 sample_data\n",
            "total 5927\n",
            "drwx------ 2 root root    4096 Nov 10  2023 01.ncs-evaluation\n",
            "drwx------ 2 root root    4096 Nov 10  2023 02.shared-resources\n",
            "-rw------- 1 root root     178 Aug 21 00:25 account-info.gdoc\n",
            "-rw------- 1 root root     873 Jul 22 01:08 account.txt\n",
            "drwx------ 2 root root    4096 Nov  9  2021 Colab Notebooks\n",
            "-rw------- 1 root root     206 Jan 19  2024 github-recovery-codes.txt\n",
            "-rw------- 1 root root 3740637 Aug 18 15:10 sqld-summary.pptx\n",
            "-rw------- 1 root root  654508 Aug  8 09:24 Use Open API2.pptx\n",
            "-rw------- 1 root root 1658599 Aug  9 16:49 Use Open API3.pptx\n"
          ]
        }
      ]
    },
    {
      "cell_type": "code",
      "source": [
        "import tensorflow as tf\n",
        "from tensorflow import keras as tf_keras\n",
        "import sklearn as sk\n",
        "\n",
        "print( tf.__version__ )\n",
        "print( tf_keras.__version__ )\n",
        "print( sk.__version__ )"
      ],
      "metadata": {
        "colab": {
          "base_uri": "https://localhost:8080/"
        },
        "id": "3Nbse_ZzRZo2",
        "outputId": "0f459945-3c3f-4329-8dc3-d7be86d9646a"
      },
      "execution_count": null,
      "outputs": [
        {
          "output_type": "stream",
          "name": "stdout",
          "text": [
            "2.17.1\n",
            "3.5.0\n",
            "1.5.2\n"
          ]
        }
      ]
    }
  ]
}