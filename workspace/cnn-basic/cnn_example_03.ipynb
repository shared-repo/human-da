{
  "nbformat": 4,
  "nbformat_minor": 0,
  "metadata": {
    "colab": {
      "provenance": []
    },
    "kernelspec": {
      "name": "python3",
      "display_name": "Python 3"
    },
    "language_info": {
      "name": "python"
    }
  },
  "cells": [
    {
      "cell_type": "code",
      "source": [
        "# 파일 확인 ( ls 명령어 사용 )\n",
        "%%bash\n",
        "\n",
        "ls -l drive/MyDrive/Colab\\ Notebooks/data-files"
      ],
      "metadata": {
        "colab": {
          "base_uri": "https://localhost:8080/"
        },
        "id": "NrwDGmQ5uFJ0",
        "outputId": "60ae4fda-0243-4496-ced5-266b13a0464f"
      },
      "execution_count": 5,
      "outputs": [
        {
          "output_type": "stream",
          "name": "stdout",
          "text": [
            "total 831524\n",
            "-rw------- 1 root root     30286 May 22  2023 auto-mpg.data\n",
            "-rw------- 1 root root 851449253 Feb  8  2024 dogs-vs-cats.zip\n"
          ]
        }
      ]
    },
    {
      "cell_type": "code",
      "source": [
        "# 파일 복사 ( google driver -> sample_date )\n",
        "%%bash\n",
        "\n",
        "# cp drive/MyDrive/Colab\\ Notebooks/data-files/dogs-vs-cats.zip sample_data/"
      ],
      "metadata": {
        "id": "rvduf7EevGiL"
      },
      "execution_count": 6,
      "outputs": []
    },
    {
      "cell_type": "code",
      "source": [
        "# 압축 풀기\n",
        "%%bash\n",
        "\n",
        "# mkdir sample_data/dogs-vs-cats\n",
        "# unzip sample_data/dogs-vs-cats.zip -d sample_data/dogs-vs-cats/\n",
        "\n",
        "# unzip sample_data/dogs-vs-cats.zip -d sample_data/\n"
      ],
      "metadata": {
        "colab": {
          "base_uri": "https://localhost:8080/"
        },
        "id": "BOcztCaUvkT7",
        "outputId": "a70020d6-3738-4621-c38a-d2796268f4a9"
      },
      "execution_count": 7,
      "outputs": [
        {
          "output_type": "stream",
          "name": "stdout",
          "text": [
            "Archive:  sample_data/dogs-vs-cats.zip\n",
            "   creating: sample_data/dogs-vs-cats/\n",
            "  inflating: sample_data/__MACOSX/._dogs-vs-cats  \n",
            "  inflating: sample_data/dogs-vs-cats/.DS_Store  \n",
            "  inflating: sample_data/__MACOSX/dogs-vs-cats/._.DS_Store  \n",
            "  inflating: sample_data/dogs-vs-cats/test1.zip  \n",
            "  inflating: sample_data/__MACOSX/dogs-vs-cats/._test1.zip  \n",
            "  inflating: sample_data/dogs-vs-cats/train.zip  \n",
            "  inflating: sample_data/__MACOSX/dogs-vs-cats/._train.zip  \n"
          ]
        }
      ]
    },
    {
      "cell_type": "code",
      "source": [
        "# 불필요한 파일 제거\n",
        "%%bash\n",
        "rm -rf sample_data/__MACOSX"
      ],
      "metadata": {
        "id": "U-haOa48v7-K"
      },
      "execution_count": 8,
      "outputs": []
    },
    {
      "cell_type": "code",
      "source": [
        "# 압축 풀기 2 (하위 폴더의 train.zip, test1.zip 파일 압축 해제)\n",
        "%%bash\n",
        "\n",
        "# mkdir sample_data/dogs-vs-cats/train\n",
        "# unzip sample_data/dogs-vs-cats/train.zip -d sample_data/dogs-vs-cats/train/\n",
        "# mkdir sample_data/dogs-vs-cats/test\n",
        "# unzip sample_data/dogs-vs-cats/test1.zip -d sample_data/dogs-vs-cats/test/\n",
        "\n",
        "# unzip sample_data/dogs-vs-cats/train.zip -d sample_data/dogs-vs-cats\n",
        "# unzip sample_data/dogs-vs-cats/test1.zip -d sample_data/dogs-vs-cats\n",
        "# mv sample_data/dogs-vs-cats/test1 sample_data/dogs-vs-cats/test"
      ],
      "metadata": {
        "id": "lhaYkuMSwWd6"
      },
      "execution_count": 10,
      "outputs": []
    },
    {
      "cell_type": "code",
      "source": [
        "# 위 작업 일괄 처리 (파일 압축 해제)\n",
        "\n",
        "%%bash\n",
        "\n",
        "rm -rf sample_data/dogs-vs-cats\n",
        "\n",
        "cp drive/MyDrive/Colab\\ Notebooks/data-files/dogs-vs-cats.zip sample_data/\n",
        "unzip sample_data/dogs-vs-cats.zip -d sample_data/\n",
        "\n",
        "unzip sample_data/dogs-vs-cats/train.zip -d sample_data/dogs-vs-cats\n",
        "unzip sample_data/dogs-vs-cats/test1.zip -d sample_data/dogs-vs-cats\n",
        "mv sample_data/dogs-vs-cats/test1 sample_data/dogs-vs-cats/test\n",
        "\n",
        "rm -rf sample_data/__MACOSX"
      ],
      "metadata": {
        "id": "Mtoi6Ay6E18r"
      },
      "execution_count": null,
      "outputs": []
    },
    {
      "cell_type": "code",
      "source": [
        "# 데이터 디렉터리 구성\n",
        "# train_dir, test_dir, validation_dir # 훈련, 테스트, 검증 세트 폴드\n",
        "# train_dir -> cats, dogs # 범주로 사용될 폴더\n",
        "# test_dir -> cats, dogs\n",
        "# validation_dir -> cats, dogs\n",
        "\n",
        "import os, shutil\n",
        "\n",
        "src_base = 'sample_data/dogs-vs-cats'\n",
        "dest_base = 'sample_data/dogs-vs-cats2'\n",
        "\n",
        "if os.path.exists(dest_base): # 이미 존재하는 폴더라면\n",
        "  shutil.rmtree(dest_base)    # 폴더 제거 후\n",
        "os.makedirs(dest_base)        # 새로 폴더 만들기\n",
        "\n",
        "# train 폴더의 0 ~ 1000 : trainset,  1000 ~ 1500 : validationset, 1500 ~ 2000 : testset\n",
        "for start, stop, path in zip([0, 1000, 1500], [1000, 1500, 2000], ['train', 'validation', 'test']):\n",
        "  os.mkdir(os.path.join(dest_base, path)) # train or validation or test 폴더 생성\n",
        "  for sub_path in ['cat', 'dog']:\n",
        "    os.mkdir(os.path.join(dest_base, path, sub_path)) # train, validation, test 하위에 cats or dog 폴더 생성\n",
        "    for idx in np.arange(start, stop):\n",
        "      fname = f'{sub_path}.{idx}.jpg'\n",
        "      shutil.copy(os.path.join(src_base, 'train', fname), os.path.join(dest_base, path, sub_path, fname))"
      ],
      "metadata": {
        "id": "E5dN2dM_GmLs"
      },
      "execution_count": 11,
      "outputs": []
    },
    {
      "cell_type": "code",
      "source": [
        "for path in ['train', 'test', 'validation']:\n",
        "  for subpath in ['dog', 'cat']:\n",
        "    print(path, '/', subpath, ':', len(os.listdir(f'sample_data/dogs-vs-cats2/{path}/{subpath}')))"
      ],
      "metadata": {
        "colab": {
          "base_uri": "https://localhost:8080/"
        },
        "id": "Ck0CtZ-_LoCm",
        "outputId": "88839c81-1fc1-4ac7-a54e-3517313f2699"
      },
      "execution_count": 12,
      "outputs": [
        {
          "output_type": "stream",
          "name": "stdout",
          "text": [
            "train / dog : 1000\n",
            "train / cat : 1000\n",
            "test / dog : 500\n",
            "test / cat : 500\n",
            "validation / dog : 500\n",
            "validation / cat : 500\n"
          ]
        }
      ]
    },
    {
      "cell_type": "code",
      "execution_count": 1,
      "metadata": {
        "id": "SSId6bmwtEW3"
      },
      "outputs": [],
      "source": [
        "import numpy as np\n",
        "import pandas as pd\n",
        "import matplotlib.pyplot as plt\n",
        "\n",
        "import tensorflow as tf\n",
        "from tensorflow import keras as tf_keras"
      ]
    }
  ]
}