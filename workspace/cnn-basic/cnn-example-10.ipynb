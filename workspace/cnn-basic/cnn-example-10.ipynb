{
 "cells": [
  {
   "cell_type": "code",
   "execution_count": 2,
   "metadata": {},
   "outputs": [],
   "source": [
    "# opencv 설치\n",
    "\n",
    "# !pip install opencv-python"
   ]
  },
  {
   "cell_type": "code",
   "execution_count": 4,
   "metadata": {},
   "outputs": [
    {
     "data": {
      "text/plain": [
       "'4.10.0'"
      ]
     },
     "execution_count": 4,
     "metadata": {},
     "output_type": "execute_result"
    }
   ],
   "source": [
    "import cv2\n",
    "import numpy as np\n",
    "import pandas as pd\n",
    "import matplotlib.pyplot as plt\n",
    "\n",
    "import tensorflow as tf\n",
    "from tensorflow import keras as tf_keras\n",
    "\n",
    "cv2.__version__"
   ]
  },
  {
   "cell_type": "code",
   "execution_count": 5,
   "metadata": {},
   "outputs": [],
   "source": [
    "# 모델 가져오기\n",
    "model = tf_keras.models.load_model(\"models/mnist-cnn-model.keras\")\n"
   ]
  },
  {
   "cell_type": "code",
   "execution_count": 29,
   "metadata": {},
   "outputs": [],
   "source": [
    "cap = cv2.VideoCapture(0) # 카메라 열기\n",
    "\n",
    "if cap.isOpened():\n",
    "    # print(\"camera is opened\")    \n",
    "    while True:\n",
    "        ret, img = cap.read()\n",
    "        if ret:\n",
    "            gray_img = cv2.cvtColor(img, cv2.COLOR_BGR2GRAY) # 흑백이미지로 변환\n",
    "            # threshold, bin_img = cv2.threshold(gray_img, 110, 255, cv2.THRESH_BINARY)     # 이미지 이진화 (흑백으로 대비)\n",
    "            threshold, bin_img = cv2.threshold(gray_img, 110, 255, cv2.THRESH_BINARY_INV)   # 이미지 이진화 (흑백으로 대비)\n",
    "\n",
    "            contours, hierachy = \\\n",
    "                cv2.findContours(bin_img, cv2.RETR_EXTERNAL, cv2.CHAIN_APPROX_SIMPLE) # 경계영역(경계선) 찾기\n",
    "            \n",
    "            for contour in contours:\n",
    "                (x, y), radius = \\\n",
    "                    cv2.minEnclosingCircle(contour) # 경계영역을 포함하는 가장 작은 원 찾기\n",
    "                if radius > 3:\n",
    "                    # 원으로부터 사각형 정보 도출\n",
    "                    xs, xe = int(x-radius), int(x+radius)\n",
    "                    ys, ye = int(y-radius), int(y+radius)\n",
    "                    # 이미지에 사각형 그리기\n",
    "                    cv2.rectangle(bin_img, (xs, ys), (xe, ye), (200, 0, 0), 1)\n",
    "\n",
    "                    roi = bin_img[ys:ye, xs:xe]\n",
    "                    if roi.shape[0] == 0 or roi.shape[1] == 0:\n",
    "                        continue\n",
    "                    dst = cv2.resize(roi, dsize=(50, 50), interpolation=cv2.INTER_AREA)\n",
    "                    dst = cv2.resize(dst, dsize=(26, 26), interpolation=cv2.INTER_AREA)\n",
    "                    input = np.zeros((28, 28)) # 모델에 입력할 이미지\n",
    "                    input[1:-1, 1:-1] = dst[:, :]\n",
    "                    input = input.reshape((-1, 28, 28, 1))\n",
    "\n",
    "                    output = model.predict(input, verbose=0)   # 예측모델에 이미지를 통과시켜서 예측 수행\n",
    "                    digit = output.argmax()         # 예측 결과에서 CLASS 값 찾기 \n",
    "                    cv2.putText(bin_img, str(digit), (xs, ys), cv2.FONT_ITALIC, 2, (200, 0, 0))\n",
    "\n",
    "            cv2.imshow(\"Image\", bin_img) # 창 생성하고 창에 이미지 표시\n",
    "            if cv2.waitKey(1)&0xFF == 27: # ESC Key가 눌린 경우\n",
    "                break\n",
    "else:\n",
    "    print(\"fail to open camera\")\n",
    "\n",
    "cap.release() # 카메라 닫기\n",
    "cap.release()\n",
    "cap.release()\n",
    "cap.release()\n",
    "cap.release()\n",
    "cv2.destroyAllWindows()"
   ]
  }
 ],
 "metadata": {
  "kernelspec": {
   "display_name": "human-dl-env",
   "language": "python",
   "name": "python3"
  },
  "language_info": {
   "codemirror_mode": {
    "name": "ipython",
    "version": 3
   },
   "file_extension": ".py",
   "mimetype": "text/x-python",
   "name": "python",
   "nbconvert_exporter": "python",
   "pygments_lexer": "ipython3",
   "version": "3.9.20"
  }
 },
 "nbformat": 4,
 "nbformat_minor": 2
}
