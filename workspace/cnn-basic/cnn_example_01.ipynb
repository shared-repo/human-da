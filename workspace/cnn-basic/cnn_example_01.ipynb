{
  "cells": [
    {
      "cell_type": "code",
      "execution_count": 1,
      "metadata": {
        "id": "pMBkA-cBbOFm"
      },
      "outputs": [
        {
          "name": "stdout",
          "output_type": "stream",
          "text": [
            "WARNING:tensorflow:From c:\\Users\\human\\.conda\\envs\\human-dl-env2\\lib\\site-packages\\keras\\src\\losses.py:2976: The name tf.losses.sparse_softmax_cross_entropy is deprecated. Please use tf.compat.v1.losses.sparse_softmax_cross_entropy instead.\n",
            "\n"
          ]
        }
      ],
      "source": [
        "import numpy as np\n",
        "import pandas as pd\n",
        "import matplotlib.pyplot as plt\n",
        "\n",
        "import tensorflow as tf\n",
        "from tensorflow import keras as tf_keras"
      ]
    },
    {
      "cell_type": "code",
      "execution_count": 2,
      "metadata": {
        "id": "rMwdvU6TcNQb"
      },
      "outputs": [],
      "source": [
        "(X_train, y_train), (X_test, y_test) = tf_keras.datasets.mnist.load_data()"
      ]
    },
    {
      "cell_type": "code",
      "execution_count": 3,
      "metadata": {
        "colab": {
          "base_uri": "https://localhost:8080/",
          "height": 228
        },
        "id": "uUoB9L8NcVlj",
        "outputId": "bce3f558-d011-4def-d6f0-e54ad456b9b0"
      },
      "outputs": [
        {
          "name": "stdout",
          "output_type": "stream",
          "text": [
            "(60000, 28, 28)\n"
          ]
        },
        {
          "data": {
            "text/plain": [
              "array([[  0,   0,   0,   0,   0,   0,   0,   0,   0,   0],\n",
              "       [  0,   0,   0,   0,   0,   0,   0,   0,   0,   0],\n",
              "       [  0,   0,   0,   0,   0,   0,   0,   0,   0,   0],\n",
              "       [  0,   0,   0,   0,   0,   0,   0,   0,   0,   0],\n",
              "       [  0,   0,   0,   0,   0,   0,   0,   0,   0,   0],\n",
              "       [  0,   0,   0,   0,   0,   0,   0,   0,   0,   0],\n",
              "       [  0,   0,   0,   0,   0,   0,   0,   0,  30,  36],\n",
              "       [  0,   0,   0,   0,   0,   0,   0,  49, 238, 253],\n",
              "       [  0,   0,   0,   0,   0,   0,   0,  18, 219, 253],\n",
              "       [  0,   0,   0,   0,   0,   0,   0,   0,  80, 156]], dtype=uint8)"
            ]
          },
          "execution_count": 3,
          "metadata": {},
          "output_type": "execute_result"
        }
      ],
      "source": [
        "# 데이터 확인\n",
        "\n",
        "print( X_train.shape )\n",
        "X_train[0, :10, :10]"
      ]
    },
    {
      "cell_type": "code",
      "execution_count": 4,
      "metadata": {
        "colab": {
          "base_uri": "https://localhost:8080/"
        },
        "id": "SNwBeI_uc-e5",
        "outputId": "b210844d-4346-4dd5-cedb-ae3c3a8dcc71"
      },
      "outputs": [
        {
          "data": {
            "text/plain": [
              "(0.0, 1.0)"
            ]
          },
          "execution_count": 4,
          "metadata": {},
          "output_type": "execute_result"
        }
      ],
      "source": [
        "# 데이터 변환 0 ~ 255 -> 0 ~ 1\n",
        "X_train_scaled = X_train / 255\n",
        "X_test_scaled = X_test / 255\n",
        "\n",
        "# X_train_scaled[0, 10:20, 10:20]\n",
        "X_train_scaled.min(), X_train_scaled.max()"
      ]
    },
    {
      "cell_type": "code",
      "execution_count": 5,
      "metadata": {
        "colab": {
          "base_uri": "https://localhost:8080/",
          "height": 353
        },
        "id": "BpE1bnW4dGgh",
        "outputId": "c3dd6b77-8df6-47fd-a433-c827a8db1edb"
      },
      "outputs": [
        {
          "name": "stdout",
          "output_type": "stream",
          "text": [
            "WARNING:tensorflow:From c:\\Users\\human\\.conda\\envs\\human-dl-env2\\lib\\site-packages\\keras\\src\\backend.py:873: The name tf.get_default_graph is deprecated. Please use tf.compat.v1.get_default_graph instead.\n",
            "\n",
            "WARNING:tensorflow:From c:\\Users\\human\\.conda\\envs\\human-dl-env2\\lib\\site-packages\\keras\\src\\layers\\pooling\\max_pooling2d.py:161: The name tf.nn.max_pool is deprecated. Please use tf.nn.max_pool2d instead.\n",
            "\n",
            "Model: \"sequential\"\n",
            "_________________________________________________________________\n",
            " Layer (type)                Output Shape              Param #   \n",
            "=================================================================\n",
            " conv2d (Conv2D)             (None, 28, 28, 32)        320       \n",
            "                                                                 \n",
            " max_pooling2d (MaxPooling2  (None, 14, 14, 32)        0         \n",
            " D)                                                              \n",
            "                                                                 \n",
            " conv2d_1 (Conv2D)           (None, 14, 14, 64)        18496     \n",
            "                                                                 \n",
            " max_pooling2d_1 (MaxPoolin  (None, 7, 7, 64)          0         \n",
            " g2D)                                                            \n",
            "                                                                 \n",
            " flatten (Flatten)           (None, 3136)              0         \n",
            "                                                                 \n",
            " dense (Dense)               (None, 128)               401536    \n",
            "                                                                 \n",
            " dense_1 (Dense)             (None, 10)                1290      \n",
            "                                                                 \n",
            "=================================================================\n",
            "Total params: 421642 (1.61 MB)\n",
            "Trainable params: 421642 (1.61 MB)\n",
            "Non-trainable params: 0 (0.00 Byte)\n",
            "_________________________________________________________________\n"
          ]
        }
      ],
      "source": [
        "# 모델 구조 설계\n",
        "\n",
        "model = tf_keras.models.Sequential()\n",
        "model.add(tf_keras.layers.Input(shape=(28, 28, 1)))\n",
        "model.add(tf_keras.layers.Conv2D(filters=32,\n",
        "                                 kernel_size=3, # 3 x 3 크기의 필터 사용\n",
        "                                 padding='same', # zero padding을 적용해서 입력 이미지의 크기와 출력 피처맵의 크기를 같게 설정\n",
        "                                 activation='relu'))\n",
        "model.add(tf_keras.layers.MaxPool2D(pool_size=2))\n",
        "model.add(tf_keras.layers.Conv2D(filters=64,\n",
        "                                 kernel_size=3,\n",
        "                                 padding='same',\n",
        "                                 activation='relu'))\n",
        "model.add(tf_keras.layers.MaxPool2D(pool_size=2))\n",
        "\n",
        "model.add(tf_keras.layers.Flatten())\n",
        "\n",
        "model.add(tf_keras.layers.Dense(units=128, activation='relu'))\n",
        "model.add(tf_keras.layers.Dense(units=10, activation='softmax'))\n",
        "\n",
        "model.summary()\n"
      ]
    },
    {
      "cell_type": "code",
      "execution_count": 6,
      "metadata": {
        "id": "5vFbrjvzkaoq"
      },
      "outputs": [
        {
          "name": "stdout",
          "output_type": "stream",
          "text": [
            "WARNING:tensorflow:From c:\\Users\\human\\.conda\\envs\\human-dl-env2\\lib\\site-packages\\keras\\src\\optimizers\\__init__.py:309: The name tf.train.Optimizer is deprecated. Please use tf.compat.v1.train.Optimizer instead.\n",
            "\n"
          ]
        }
      ],
      "source": [
        "# 모델 학습 설계\n",
        "\n",
        "model.compile(loss='sparse_categorical_crossentropy',\n",
        "              optimizer='adam',\n",
        "              metrics=['accuracy'])"
      ]
    },
    {
      "cell_type": "code",
      "execution_count": 7,
      "metadata": {
        "colab": {
          "base_uri": "https://localhost:8080/"
        },
        "id": "Dju2uEFPklCZ",
        "outputId": "b4acb20e-f493-4b6a-c90a-59c5751e7e3c"
      },
      "outputs": [
        {
          "name": "stdout",
          "output_type": "stream",
          "text": [
            "Epoch 1/20\n",
            "WARNING:tensorflow:From c:\\Users\\human\\.conda\\envs\\human-dl-env2\\lib\\site-packages\\keras\\src\\utils\\tf_utils.py:492: The name tf.ragged.RaggedTensorValue is deprecated. Please use tf.compat.v1.ragged.RaggedTensorValue instead.\n",
            "\n",
            "WARNING:tensorflow:From c:\\Users\\human\\.conda\\envs\\human-dl-env2\\lib\\site-packages\\keras\\src\\engine\\base_layer_utils.py:384: The name tf.executing_eagerly_outside_functions is deprecated. Please use tf.compat.v1.executing_eagerly_outside_functions instead.\n",
            "\n",
            "750/750 [==============================] - 16s 20ms/step - loss: 0.1786 - accuracy: 0.9449 - val_loss: 0.0609 - val_accuracy: 0.9831\n",
            "Epoch 2/20\n",
            "750/750 [==============================] - 15s 19ms/step - loss: 0.0515 - accuracy: 0.9844 - val_loss: 0.0518 - val_accuracy: 0.9839\n",
            "Epoch 3/20\n",
            "750/750 [==============================] - 15s 20ms/step - loss: 0.0340 - accuracy: 0.9895 - val_loss: 0.0445 - val_accuracy: 0.9863\n",
            "Epoch 4/20\n",
            "750/750 [==============================] - 15s 20ms/step - loss: 0.0279 - accuracy: 0.9909 - val_loss: 0.0380 - val_accuracy: 0.9885\n",
            "Epoch 5/20\n",
            "750/750 [==============================] - 15s 20ms/step - loss: 0.0196 - accuracy: 0.9938 - val_loss: 0.0363 - val_accuracy: 0.9902\n",
            "Epoch 6/20\n",
            "750/750 [==============================] - 15s 20ms/step - loss: 0.0142 - accuracy: 0.9952 - val_loss: 0.0483 - val_accuracy: 0.9873\n",
            "Epoch 7/20\n",
            "750/750 [==============================] - 15s 19ms/step - loss: 0.0119 - accuracy: 0.9959 - val_loss: 0.0377 - val_accuracy: 0.9901\n",
            "Epoch 8/20\n",
            "750/750 [==============================] - 15s 20ms/step - loss: 0.0106 - accuracy: 0.9966 - val_loss: 0.0510 - val_accuracy: 0.9864\n",
            "Epoch 9/20\n",
            "750/750 [==============================] - 15s 20ms/step - loss: 0.0080 - accuracy: 0.9973 - val_loss: 0.0388 - val_accuracy: 0.9911\n",
            "Epoch 10/20\n",
            "750/750 [==============================] - 15s 19ms/step - loss: 0.0066 - accuracy: 0.9979 - val_loss: 0.0430 - val_accuracy: 0.9898\n",
            "Epoch 11/20\n",
            "750/750 [==============================] - 15s 20ms/step - loss: 0.0071 - accuracy: 0.9975 - val_loss: 0.0492 - val_accuracy: 0.9890\n",
            "Epoch 12/20\n",
            "750/750 [==============================] - 16s 21ms/step - loss: 0.0061 - accuracy: 0.9978 - val_loss: 0.0475 - val_accuracy: 0.9891\n",
            "Epoch 13/20\n",
            "750/750 [==============================] - 15s 20ms/step - loss: 0.0046 - accuracy: 0.9984 - val_loss: 0.0560 - val_accuracy: 0.9886\n",
            "Epoch 14/20\n",
            "750/750 [==============================] - 15s 20ms/step - loss: 0.0048 - accuracy: 0.9984 - val_loss: 0.0494 - val_accuracy: 0.9898\n",
            "Epoch 15/20\n",
            "750/750 [==============================] - 15s 20ms/step - loss: 0.0033 - accuracy: 0.9987 - val_loss: 0.0622 - val_accuracy: 0.9882\n",
            "Epoch 16/20\n",
            "750/750 [==============================] - 15s 20ms/step - loss: 0.0044 - accuracy: 0.9989 - val_loss: 0.0539 - val_accuracy: 0.9901\n",
            "Epoch 17/20\n",
            "750/750 [==============================] - 15s 20ms/step - loss: 0.0034 - accuracy: 0.9989 - val_loss: 0.0709 - val_accuracy: 0.9866\n",
            "Epoch 18/20\n",
            "750/750 [==============================] - 15s 20ms/step - loss: 0.0035 - accuracy: 0.9989 - val_loss: 0.0585 - val_accuracy: 0.9888\n",
            "Epoch 19/20\n",
            "750/750 [==============================] - 15s 20ms/step - loss: 0.0046 - accuracy: 0.9986 - val_loss: 0.0646 - val_accuracy: 0.9885\n",
            "Epoch 20/20\n",
            "750/750 [==============================] - 15s 20ms/step - loss: 0.0040 - accuracy: 0.9986 - val_loss: 0.0608 - val_accuracy: 0.9898\n"
          ]
        }
      ],
      "source": [
        "# 모델 학습 (훈련)\n",
        "\n",
        "fit_history = model.fit(X_train_scaled, y_train, batch_size=64, epochs=20, validation_split=0.2)"
      ]
    },
    {
      "cell_type": "code",
      "execution_count": 8,
      "metadata": {
        "colab": {
          "base_uri": "https://localhost:8080/"
        },
        "id": "MUMH_WZzr_hC",
        "outputId": "28c5a3e5-b877-4a39-9d95-71c6adf91240"
      },
      "outputs": [
        {
          "name": "stdout",
          "output_type": "stream",
          "text": [
            "313/313 [==============================] - 1s 4ms/step - loss: 0.0462 - accuracy: 0.9906\n"
          ]
        },
        {
          "data": {
            "text/plain": [
              "[0.04622270166873932, 0.9905999898910522]"
            ]
          },
          "execution_count": 8,
          "metadata": {},
          "output_type": "execute_result"
        }
      ],
      "source": [
        "model.evaluate(X_test_scaled, y_test)"
      ]
    },
    {
      "cell_type": "code",
      "execution_count": 9,
      "metadata": {},
      "outputs": [],
      "source": [
        "# 모델 저장\n",
        "import pickle\n",
        "\n",
        "model.save(\"models/mnist-cnn-model.keras\")\n",
        "\n",
        "with open(\"models/mnist-cnn-model2.keras\", \"wb\") as f:\n",
        "    pickle.dump(model, f)"
      ]
    },
    {
      "cell_type": "code",
      "execution_count": 15,
      "metadata": {},
      "outputs": [],
      "source": [
        "# 저장된 모델 가져오기\n",
        "\n",
        "model2 = tf_keras.models.load_model(\"models/mnist-cnn-model.keras\")\n",
        "\n",
        "with open(\"models/mnist-cnn-model2.keras\", \"rb\") as f:\n",
        "    model3 = pickle.load(f)"
      ]
    },
    {
      "cell_type": "code",
      "execution_count": 16,
      "metadata": {},
      "outputs": [
        {
          "name": "stdout",
          "output_type": "stream",
          "text": [
            "\u001b[1m313/313\u001b[0m \u001b[32m━━━━━━━━━━━━━━━━━━━━\u001b[0m\u001b[37m\u001b[0m \u001b[1m1s\u001b[0m 4ms/step - accuracy: 0.9892 - loss: 0.0509\n",
            "\u001b[1m313/313\u001b[0m \u001b[32m━━━━━━━━━━━━━━━━━━━━\u001b[0m\u001b[37m\u001b[0m \u001b[1m1s\u001b[0m 4ms/step - accuracy: 0.9892 - loss: 0.0509\n"
          ]
        },
        {
          "data": {
            "text/plain": [
              "([0.040924008935689926, 0.9919000267982483],\n",
              " [0.040924008935689926, 0.9919000267982483])"
            ]
          },
          "execution_count": 16,
          "metadata": {},
          "output_type": "execute_result"
        }
      ],
      "source": [
        "model2.evaluate(X_test_scaled, y_test), model3.evaluate(X_test_scaled, y_test)"
      ]
    },
    {
      "cell_type": "code",
      "execution_count": 12,
      "metadata": {},
      "outputs": [
        {
          "name": "stdout",
          "output_type": "stream",
          "text": [
            "1/1 [==============================] - 0s 32ms/step\n",
            "1/1 [==============================] - 0s 30ms/step\n"
          ]
        },
        {
          "data": {
            "text/plain": [
              "(7, 1.0)"
            ]
          },
          "execution_count": 12,
          "metadata": {},
          "output_type": "execute_result"
        }
      ],
      "source": [
        "np.argmax(model.predict(X_test_scaled[:1])), np.max(model.predict(X_test_scaled[:1]))"
      ]
    },
    {
      "cell_type": "code",
      "execution_count": 15,
      "metadata": {},
      "outputs": [
        {
          "data": {
            "text/plain": [
              "(28, 28)"
            ]
          },
          "execution_count": 15,
          "metadata": {},
          "output_type": "execute_result"
        }
      ],
      "source": [
        "X_train_scaled[0].shape"
      ]
    },
    {
      "cell_type": "code",
      "execution_count": 26,
      "metadata": {},
      "outputs": [],
      "source": [
        "from PIL import Image\n",
        "\n",
        "img = Image.fromarray(X_train_scaled[0] * 255)\n",
        "img = img.convert(\"L\")\n",
        "img.save('digit.png')"
      ]
    },
    {
      "cell_type": "code",
      "execution_count": 25,
      "metadata": {},
      "outputs": [
        {
          "ename": "TypeError",
          "evalue": "unsupported operand type(s) for *: 'ImagingCore' and 'int'",
          "output_type": "error",
          "traceback": [
            "\u001b[1;31m---------------------------------------------------------------------------\u001b[0m",
            "\u001b[1;31mTypeError\u001b[0m                                 Traceback (most recent call last)",
            "Cell \u001b[1;32mIn[25], line 1\u001b[0m\n\u001b[1;32m----> 1\u001b[0m np\u001b[38;5;241m.\u001b[39mmax(\u001b[43mimg\u001b[49m\u001b[38;5;241;43m.\u001b[39;49m\u001b[43mgetdata\u001b[49m\u001b[43m(\u001b[49m\u001b[43m)\u001b[49m\u001b[43m \u001b[49m\u001b[38;5;241;43m*\u001b[39;49m\u001b[43m \u001b[49m\u001b[38;5;241;43m255\u001b[39;49m)\n",
            "\u001b[1;31mTypeError\u001b[0m: unsupported operand type(s) for *: 'ImagingCore' and 'int'"
          ]
        }
      ],
      "source": [
        "np.max(img.getdata() * 255)"
      ]
    }
  ],
  "metadata": {
    "colab": {
      "provenance": []
    },
    "kernelspec": {
      "display_name": "human-dl-env2",
      "language": "python",
      "name": "python3"
    },
    "language_info": {
      "codemirror_mode": {
        "name": "ipython",
        "version": 3
      },
      "file_extension": ".py",
      "mimetype": "text/x-python",
      "name": "python",
      "nbconvert_exporter": "python",
      "pygments_lexer": "ipython3",
      "version": "3.9.21"
    }
  },
  "nbformat": 4,
  "nbformat_minor": 0
}
