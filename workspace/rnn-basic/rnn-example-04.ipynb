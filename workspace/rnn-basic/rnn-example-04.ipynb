{
 "cells": [
  {
   "cell_type": "code",
   "execution_count": null,
   "metadata": {},
   "outputs": [],
   "source": [
    "# SMSSpamCollection 파일의 데이터를 사용해서 순환신경망 모델 개발"
   ]
  },
  {
   "cell_type": "code",
   "execution_count": 1,
   "metadata": {},
   "outputs": [
    {
     "name": "stdout",
     "output_type": "stream",
     "text": [
      "WARNING:tensorflow:From c:\\Users\\human\\.conda\\envs\\human-dl-env2\\lib\\site-packages\\keras\\src\\losses.py:2976: The name tf.losses.sparse_softmax_cross_entropy is deprecated. Please use tf.compat.v1.losses.sparse_softmax_cross_entropy instead.\n",
      "\n"
     ]
    }
   ],
   "source": [
    "import numpy as np\n",
    "import pandas as pd\n",
    "import matplotlib.pyplot as plt\n",
    "\n",
    "import tensorflow as tf\n",
    "import tensorflow.keras as tf_keras"
   ]
  },
  {
   "cell_type": "code",
   "execution_count": 5,
   "metadata": {},
   "outputs": [
    {
     "data": {
      "text/html": [
       "<div>\n",
       "<style scoped>\n",
       "    .dataframe tbody tr th:only-of-type {\n",
       "        vertical-align: middle;\n",
       "    }\n",
       "\n",
       "    .dataframe tbody tr th {\n",
       "        vertical-align: top;\n",
       "    }\n",
       "\n",
       "    .dataframe thead th {\n",
       "        text-align: right;\n",
       "    }\n",
       "</style>\n",
       "<table border=\"1\" class=\"dataframe\">\n",
       "  <thead>\n",
       "    <tr style=\"text-align: right;\">\n",
       "      <th></th>\n",
       "      <th>label</th>\n",
       "      <th>msg</th>\n",
       "    </tr>\n",
       "  </thead>\n",
       "  <tbody>\n",
       "    <tr>\n",
       "      <th>0</th>\n",
       "      <td>ham</td>\n",
       "      <td>Go until jurong point, crazy.. Available only ...</td>\n",
       "    </tr>\n",
       "    <tr>\n",
       "      <th>1</th>\n",
       "      <td>ham</td>\n",
       "      <td>Ok lar... Joking wif u oni...</td>\n",
       "    </tr>\n",
       "    <tr>\n",
       "      <th>2</th>\n",
       "      <td>spam</td>\n",
       "      <td>Free entry in 2 a wkly comp to win FA Cup fina...</td>\n",
       "    </tr>\n",
       "    <tr>\n",
       "      <th>3</th>\n",
       "      <td>ham</td>\n",
       "      <td>U dun say so early hor... U c already then say...</td>\n",
       "    </tr>\n",
       "    <tr>\n",
       "      <th>4</th>\n",
       "      <td>ham</td>\n",
       "      <td>Nah I don't think he goes to usf, he lives aro...</td>\n",
       "    </tr>\n",
       "  </tbody>\n",
       "</table>\n",
       "</div>"
      ],
      "text/plain": [
       "  label                                                msg\n",
       "0   ham  Go until jurong point, crazy.. Available only ...\n",
       "1   ham                      Ok lar... Joking wif u oni...\n",
       "2  spam  Free entry in 2 a wkly comp to win FA Cup fina...\n",
       "3   ham  U dun say so early hor... U c already then say...\n",
       "4   ham  Nah I don't think he goes to usf, he lives aro..."
      ]
     },
     "execution_count": 5,
     "metadata": {},
     "output_type": "execute_result"
    }
   ],
   "source": [
    "spam_df = pd.read_csv(\"data-files/SMSSpamCollection.tsv\", \n",
    "                      sep=\"\\t\", header=None, names=['label', 'msg'])\n",
    "spam_df.head()"
   ]
  },
  {
   "cell_type": "code",
   "execution_count": 6,
   "metadata": {},
   "outputs": [],
   "source": [
    "from sklearn.preprocessing import LabelEncoder\n",
    "from sklearn.model_selection import train_test_split\n",
    "\n",
    "X, y = spam_df['msg'], spam_df['label']\n",
    "y = LabelEncoder().fit_transform(y)\n",
    "X_train, X_test, y_train, y_test = train_test_split(X, y, \n",
    "                                                    stratify=y,\n",
    "                                                    random_state=42)\n"
   ]
  },
  {
   "cell_type": "code",
   "execution_count": 17,
   "metadata": {},
   "outputs": [],
   "source": [
    "# numpy array -> tensorflow's dataset\n",
    "train_dataset = tf.data.Dataset.from_tensor_slices((X_train, y_train))\n",
    "batched_train_dataset = train_dataset.shuffle(buffer_size=3).batch(32)\n",
    "test_dataset = tf.data.Dataset.from_tensor_slices((X_test, y_test))\n",
    "batched_test_dataset = test_dataset.shuffle(buffer_size=3).batch(32)"
   ]
  },
  {
   "cell_type": "code",
   "execution_count": 18,
   "metadata": {},
   "outputs": [
    {
     "name": "stdout",
     "output_type": "stream",
     "text": [
      "(32,) (32,)\n",
      "tf.Tensor(\n",
      "[b\"Alex says he's not ok with you not being ok with it\"\n",
      " b'Lol yes. But it will add some spice to your day.'\n",
      " b'Will \\xc3\\xbc b going to esplanade fr home?'\n",
      " b'Good morning princess! How are you?'\n",
      " b'Congratulations ur awarded 500 of CD vouchers or 125gift guaranteed & Free entry 2 100 wkly draw txt MUSIC to 87066 TnCs www.Ldew.com1win150ppmx3age16'\n",
      " b'Had your mobile 11mths ? Update for FREE to Oranges latest colour camera mobiles & unlimited weekend calls. Call Mobile Upd8 on freefone 08000839402 or 2StopTx'\n",
      " b\"And also I've sorta blown him off a couple times recently so id rather not text him out of the blue looking for weed\"\n",
      " b'Orh i tot u say she now still dun believe.'\n",
      " b'If you ask her or she say any please message.'\n",
      " b'Old Orchard near univ. How about you?'\n",
      " b'No need to say anything to me. I know i am an outsider'\n",
      " b'NEFT Transaction with reference number  &lt;#&gt;  for Rs. &lt;DECIMAL&gt;  has been credited to the beneficiary account on  &lt;#&gt;  at  &lt;TIME&gt; : &lt;#&gt;'\n",
      " b\"LOL .. *grins* .. I'm not babe, but thanks for thinking of me!\"\n",
      " b'08714712388 between 10am-7pm Cost 10p'\n",
      " b'Get me out of this dump heap. My mom decided to come to lowes. BORING.'\n",
      " b'500 New Mobiles from 2004, MUST GO! Txt: NOKIA to No: 89545 & collect yours today!From ONLY \\xc2\\xa31 www.4-tc.biz 2optout 087187262701.50gbp/mtmsg18 TXTAUCTION'\n",
      " b'Yes i think so. I am in office but my lap is in room i think thats on for the last few days. I didnt shut that down'\n",
      " b'Hey you told your name to gautham ah?'\n",
      " b'Oh Howda gud gud.. Mathe en samachara chikku:-)'\n",
      " b\"fyi I'm at usf now, swing by the room whenever\"\n",
      " b'Haha yeah I see that now, be there in a sec'\n",
      " b\"Hi! You just spoke to MANEESHA V. We'd like to know if you were satisfied with the experience. Reply Toll Free with Yes or No.\"\n",
      " b'Yo! Howz u? girls never rang after india. L'\n",
      " b'Good Morning my Dear........... Have a great &amp; successful day.'\n",
      " b'How many times i told in the stage all use to laugh. You not listen aha.'\n",
      " b'Wat happened to the cruise thing'\n",
      " b'Doing nothing, then u not having dinner w us?'\n",
      " b\"Hey, iouri gave me your number, I'm wylie, ryan's friend\"\n",
      " b'ALRITE HUNNY!WOT U UP 2 2NITE? DIDNT END UP GOIN DOWN TOWN JUS DA PUB INSTEAD! JUS CHILLIN AT DA MO IN ME BEDROOM!LOVE JEN XXX.'\n",
      " b\"(You didn't hear it from me)\"\n",
      " b'All these nice new shirts and the only thing I can wear them to is nudist themed ;_; you in mu?'\n",
      " b'Huh so fast... Dat means u havent finished painting?'], shape=(32,), dtype=string)\n"
     ]
    }
   ],
   "source": [
    "# dataset 구성 확인\n",
    "# for X2, y2 in train_dataset:\n",
    "for X2, y2 in batched_train_dataset:\n",
    "    print(X2.shape, y2.shape)\n",
    "    print(X2)\n",
    "    break "
   ]
  }
 ],
 "metadata": {
  "kernelspec": {
   "display_name": "human-dl-env2",
   "language": "python",
   "name": "python3"
  },
  "language_info": {
   "codemirror_mode": {
    "name": "ipython",
    "version": 3
   },
   "file_extension": ".py",
   "mimetype": "text/x-python",
   "name": "python",
   "nbconvert_exporter": "python",
   "pygments_lexer": "ipython3",
   "version": "3.9.21"
  }
 },
 "nbformat": 4,
 "nbformat_minor": 2
}
