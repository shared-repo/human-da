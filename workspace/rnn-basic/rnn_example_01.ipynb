{
  "cells": [
    {
      "cell_type": "code",
      "execution_count": null,
      "metadata": {},
      "outputs": [],
      "source": [
        "# !pip install kagglehub"
      ]
    },
    {
      "cell_type": "code",
      "execution_count": 1,
      "metadata": {
        "colab": {
          "base_uri": "https://localhost:8080/"
        },
        "id": "XUSErUOrPyA5",
        "outputId": "c7f8959b-6215-4259-aa21-ccebdf0b894f"
      },
      "outputs": [
        {
          "name": "stdout",
          "output_type": "stream",
          "text": [
            "Path to dataset files: C:\\Users\\human\\.cache\\kagglehub\\datasets\\mnassrib\\jena-climate\\versions\\1\n"
          ]
        }
      ],
      "source": [
        "# 데이터 준비\n",
        "\n",
        "import kagglehub\n",
        "\n",
        "# Download latest version\n",
        "path = kagglehub.dataset_download(\"mnassrib/jena-climate\")\n",
        "\n",
        "print(\"Path to dataset files:\", path)"
      ]
    },
    {
      "cell_type": "code",
      "execution_count": 2,
      "metadata": {
        "colab": {
          "base_uri": "https://localhost:8080/"
        },
        "id": "GjpoPjKiRODi",
        "outputId": "9b9ea75e-51d9-46ea-f1a3-bc4602649df1"
      },
      "outputs": [
        {
          "name": "stdout",
          "output_type": "stream",
          "text": [
            " C ����̺��� �������� �̸��� �����ϴ�.\n",
            " ���� �Ϸ� ��ȣ: DFF3-B27A\n",
            "\n",
            " C:\\Users\\human\\.cache\\kagglehub\\datasets\\mnassrib\\jena-climate\\versions\\1 ���͸�\n",
            "\n",
            "2024-12-16  ���� 05:16    <DIR>          .\n",
            "2024-12-16  ���� 05:16    <DIR>          ..\n",
            "2024-12-16  ���� 05:16        43,164,220 jena_climate_2009_2016.csv\n",
            "               1�� ����          43,164,220 ����Ʈ\n",
            "               2�� ���͸�  39,529,394,176 ����Ʈ ����\n",
            "C:\\Users\\human\\.cache\\kagglehub\\datasets\\mnassrib\\jena-climate\\versions\\1\\jena_climate_2009_2016.csv\n",
            "        1�� ������ ����Ǿ����ϴ�.\n"
          ]
        }
      ],
      "source": [
        "# 데이터 준비\n",
        "\n",
        "!dir C:\\Users\\human\\.cache\\kagglehub\\datasets\\mnassrib\\jena-climate\\versions\\1\n",
        "\n",
        "!copy C:\\Users\\human\\.cache\\kagglehub\\datasets\\mnassrib\\jena-climate\\versions\\1\\* data-files\\"
      ]
    },
    {
      "cell_type": "code",
      "execution_count": 3,
      "metadata": {
        "id": "o54Kazc1R0TS"
      },
      "outputs": [
        {
          "name": "stdout",
          "output_type": "stream",
          "text": [
            "\"Date Time\",\"p (mbar)\",\"T (degC)\",\"Tpot (K)\",\"Tdew (degC)\",\"rh (%)\",\"VPmax (mbar)\",\"VPact (mbar)\",\"VPdef (mbar)\",\"sh (g/kg)\",\"H2OC (mmol/mol)\",\"rho (g/m**3)\",\"wv (m/s)\",\"max. wv (m/s)\",\"wd (deg)\"\n",
            "\n",
            "01.01.2009 00:10:00,996.52,-8.02,265.40,-8.90,93.30,3.33,3.11,0.22,1.94,3.12,1307.75,1.03,1.75,152.30\n",
            "\n"
          ]
        }
      ],
      "source": [
        "# 데이터 확인\n",
        "\n",
        "with open('data-files/jena_climate_2009_2016.csv') as f:\n",
        "    data = f.readlines()\n",
        "\n",
        "print( data[0] )\n",
        "print( data[1] )\n",
        "\n",
        "del data # 변수를 메모리에서 제거"
      ]
    },
    {
      "cell_type": "code",
      "execution_count": 4,
      "metadata": {
        "id": "3v1QMIxQSMVZ"
      },
      "outputs": [],
      "source": [
        "import pandas as pd\n",
        "\n",
        "# 데이터 읽기\n",
        "jena_climate = pd.read_csv('data-files/jena_climate_2009_2016.csv')"
      ]
    },
    {
      "cell_type": "code",
      "execution_count": 5,
      "metadata": {
        "colab": {
          "base_uri": "https://localhost:8080/"
        },
        "id": "75ROO_DzS5iC",
        "outputId": "263e60f1-190f-45df-962d-ac4c04d72c99"
      },
      "outputs": [
        {
          "name": "stdout",
          "output_type": "stream",
          "text": [
            "<class 'pandas.core.frame.DataFrame'>\n",
            "RangeIndex: 420551 entries, 0 to 420550\n",
            "Data columns (total 15 columns):\n",
            " #   Column           Non-Null Count   Dtype  \n",
            "---  ------           --------------   -----  \n",
            " 0   Date Time        420551 non-null  object \n",
            " 1   p (mbar)         420551 non-null  float64\n",
            " 2   T (degC)         420551 non-null  float64\n",
            " 3   Tpot (K)         420551 non-null  float64\n",
            " 4   Tdew (degC)      420551 non-null  float64\n",
            " 5   rh (%)           420551 non-null  float64\n",
            " 6   VPmax (mbar)     420551 non-null  float64\n",
            " 7   VPact (mbar)     420551 non-null  float64\n",
            " 8   VPdef (mbar)     420551 non-null  float64\n",
            " 9   sh (g/kg)        420551 non-null  float64\n",
            " 10  H2OC (mmol/mol)  420551 non-null  float64\n",
            " 11  rho (g/m**3)     420551 non-null  float64\n",
            " 12  wv (m/s)         420551 non-null  float64\n",
            " 13  max. wv (m/s)    420551 non-null  float64\n",
            " 14  wd (deg)         420551 non-null  float64\n",
            "dtypes: float64(14), object(1)\n",
            "memory usage: 48.1+ MB\n"
          ]
        }
      ],
      "source": [
        "jena_climate.info()"
      ]
    },
    {
      "cell_type": "code",
      "execution_count": 6,
      "metadata": {
        "colab": {
          "base_uri": "https://localhost:8080/",
          "height": 347
        },
        "id": "f374UsX1TETx",
        "outputId": "5eeda3fa-b212-46ba-ad3d-9088e35aac8d"
      },
      "outputs": [
        {
          "data": {
            "text/html": [
              "<div>\n",
              "<style scoped>\n",
              "    .dataframe tbody tr th:only-of-type {\n",
              "        vertical-align: middle;\n",
              "    }\n",
              "\n",
              "    .dataframe tbody tr th {\n",
              "        vertical-align: top;\n",
              "    }\n",
              "\n",
              "    .dataframe thead th {\n",
              "        text-align: right;\n",
              "    }\n",
              "</style>\n",
              "<table border=\"1\" class=\"dataframe\">\n",
              "  <thead>\n",
              "    <tr style=\"text-align: right;\">\n",
              "      <th></th>\n",
              "      <th>Date Time</th>\n",
              "      <th>p (mbar)</th>\n",
              "      <th>T (degC)</th>\n",
              "      <th>Tpot (K)</th>\n",
              "      <th>Tdew (degC)</th>\n",
              "      <th>rh (%)</th>\n",
              "      <th>VPmax (mbar)</th>\n",
              "      <th>VPact (mbar)</th>\n",
              "      <th>VPdef (mbar)</th>\n",
              "      <th>sh (g/kg)</th>\n",
              "      <th>H2OC (mmol/mol)</th>\n",
              "      <th>rho (g/m**3)</th>\n",
              "      <th>wv (m/s)</th>\n",
              "      <th>max. wv (m/s)</th>\n",
              "      <th>wd (deg)</th>\n",
              "    </tr>\n",
              "  </thead>\n",
              "  <tbody>\n",
              "    <tr>\n",
              "      <th>0</th>\n",
              "      <td>01.01.2009 00:10:00</td>\n",
              "      <td>996.52</td>\n",
              "      <td>-8.02</td>\n",
              "      <td>265.40</td>\n",
              "      <td>-8.90</td>\n",
              "      <td>93.3</td>\n",
              "      <td>3.33</td>\n",
              "      <td>3.11</td>\n",
              "      <td>0.22</td>\n",
              "      <td>1.94</td>\n",
              "      <td>3.12</td>\n",
              "      <td>1307.75</td>\n",
              "      <td>1.03</td>\n",
              "      <td>1.75</td>\n",
              "      <td>152.3</td>\n",
              "    </tr>\n",
              "    <tr>\n",
              "      <th>1</th>\n",
              "      <td>01.01.2009 00:20:00</td>\n",
              "      <td>996.57</td>\n",
              "      <td>-8.41</td>\n",
              "      <td>265.01</td>\n",
              "      <td>-9.28</td>\n",
              "      <td>93.4</td>\n",
              "      <td>3.23</td>\n",
              "      <td>3.02</td>\n",
              "      <td>0.21</td>\n",
              "      <td>1.89</td>\n",
              "      <td>3.03</td>\n",
              "      <td>1309.80</td>\n",
              "      <td>0.72</td>\n",
              "      <td>1.50</td>\n",
              "      <td>136.1</td>\n",
              "    </tr>\n",
              "    <tr>\n",
              "      <th>2</th>\n",
              "      <td>01.01.2009 00:30:00</td>\n",
              "      <td>996.53</td>\n",
              "      <td>-8.51</td>\n",
              "      <td>264.91</td>\n",
              "      <td>-9.31</td>\n",
              "      <td>93.9</td>\n",
              "      <td>3.21</td>\n",
              "      <td>3.01</td>\n",
              "      <td>0.20</td>\n",
              "      <td>1.88</td>\n",
              "      <td>3.02</td>\n",
              "      <td>1310.24</td>\n",
              "      <td>0.19</td>\n",
              "      <td>0.63</td>\n",
              "      <td>171.6</td>\n",
              "    </tr>\n",
              "    <tr>\n",
              "      <th>3</th>\n",
              "      <td>01.01.2009 00:40:00</td>\n",
              "      <td>996.51</td>\n",
              "      <td>-8.31</td>\n",
              "      <td>265.12</td>\n",
              "      <td>-9.07</td>\n",
              "      <td>94.2</td>\n",
              "      <td>3.26</td>\n",
              "      <td>3.07</td>\n",
              "      <td>0.19</td>\n",
              "      <td>1.92</td>\n",
              "      <td>3.08</td>\n",
              "      <td>1309.19</td>\n",
              "      <td>0.34</td>\n",
              "      <td>0.50</td>\n",
              "      <td>198.0</td>\n",
              "    </tr>\n",
              "    <tr>\n",
              "      <th>4</th>\n",
              "      <td>01.01.2009 00:50:00</td>\n",
              "      <td>996.51</td>\n",
              "      <td>-8.27</td>\n",
              "      <td>265.15</td>\n",
              "      <td>-9.04</td>\n",
              "      <td>94.1</td>\n",
              "      <td>3.27</td>\n",
              "      <td>3.08</td>\n",
              "      <td>0.19</td>\n",
              "      <td>1.92</td>\n",
              "      <td>3.09</td>\n",
              "      <td>1309.00</td>\n",
              "      <td>0.32</td>\n",
              "      <td>0.63</td>\n",
              "      <td>214.3</td>\n",
              "    </tr>\n",
              "  </tbody>\n",
              "</table>\n",
              "</div>"
            ],
            "text/plain": [
              "             Date Time  p (mbar)  T (degC)  Tpot (K)  Tdew (degC)  rh (%)  \\\n",
              "0  01.01.2009 00:10:00    996.52     -8.02    265.40        -8.90    93.3   \n",
              "1  01.01.2009 00:20:00    996.57     -8.41    265.01        -9.28    93.4   \n",
              "2  01.01.2009 00:30:00    996.53     -8.51    264.91        -9.31    93.9   \n",
              "3  01.01.2009 00:40:00    996.51     -8.31    265.12        -9.07    94.2   \n",
              "4  01.01.2009 00:50:00    996.51     -8.27    265.15        -9.04    94.1   \n",
              "\n",
              "   VPmax (mbar)  VPact (mbar)  VPdef (mbar)  sh (g/kg)  H2OC (mmol/mol)  \\\n",
              "0          3.33          3.11          0.22       1.94             3.12   \n",
              "1          3.23          3.02          0.21       1.89             3.03   \n",
              "2          3.21          3.01          0.20       1.88             3.02   \n",
              "3          3.26          3.07          0.19       1.92             3.08   \n",
              "4          3.27          3.08          0.19       1.92             3.09   \n",
              "\n",
              "   rho (g/m**3)  wv (m/s)  max. wv (m/s)  wd (deg)  \n",
              "0       1307.75      1.03           1.75     152.3  \n",
              "1       1309.80      0.72           1.50     136.1  \n",
              "2       1310.24      0.19           0.63     171.6  \n",
              "3       1309.19      0.34           0.50     198.0  \n",
              "4       1309.00      0.32           0.63     214.3  "
            ]
          },
          "execution_count": 6,
          "metadata": {},
          "output_type": "execute_result"
        }
      ],
      "source": [
        "jena_climate.head()"
      ]
    },
    {
      "cell_type": "code",
      "execution_count": 7,
      "metadata": {
        "id": "a1JJ6WdoTmlZ"
      },
      "outputs": [],
      "source": [
        "# features = jena_climate.drop(['Date Time', 'T (degC)'], axis=1)\n",
        "features = jena_climate.drop(jena_climate.columns[[0, 2]], axis=1)  # --> X\n",
        "# temperature = jena_climate['T (degC)']\n",
        "temperature = jena_climate[jena_climate.columns[2]] # --> y"
      ]
    },
    {
      "cell_type": "code",
      "execution_count": 8,
      "metadata": {
        "colab": {
          "base_uri": "https://localhost:8080/"
        },
        "id": "UDkL-1RUUaHx",
        "outputId": "f16b1936-f6b0-486e-8364-8475d663a029"
      },
      "outputs": [
        {
          "data": {
            "text/plain": [
              "((420551, 13), (420551,))"
            ]
          },
          "execution_count": 8,
          "metadata": {},
          "output_type": "execute_result"
        }
      ],
      "source": [
        "features.shape, temperature.shape"
      ]
    },
    {
      "cell_type": "code",
      "execution_count": 9,
      "metadata": {
        "colab": {
          "base_uri": "https://localhost:8080/",
          "height": 341
        },
        "id": "fyKt6789Uvx5",
        "outputId": "7c1b4b14-6802-4399-ae60-6aa65a4bd4a7"
      },
      "outputs": [
        {
          "data": {
            "image/png": "[encoded data removed]",
            "text/plain": [
              "<Figure size 1200x400 with 1 Axes>"
            ]
          },
          "metadata": {},
          "output_type": "display_data"
        }
      ],
      "source": [
        "import matplotlib.pyplot as plt\n",
        "\n",
        "plt.figure(figsize=(12, 4))\n",
        "plt.plot(temperature)\n",
        "plt.show()"
      ]
    },
    {
      "cell_type": "code",
      "execution_count": 10,
      "metadata": {
        "colab": {
          "base_uri": "https://localhost:8080/",
          "height": 219
        },
        "id": "ckulJ2-oVAvB",
        "outputId": "79d6ad13-afe2-4d95-afc1-088461434a7b"
      },
      "outputs": [
        {
          "name": "stdout",
          "output_type": "stream",
          "text": [
            "-23.01 37.28\n"
          ]
        },
        {
          "data": {
            "text/html": [
              "<div>\n",
              "<style scoped>\n",
              "    .dataframe tbody tr th:only-of-type {\n",
              "        vertical-align: middle;\n",
              "    }\n",
              "\n",
              "    .dataframe tbody tr th {\n",
              "        vertical-align: top;\n",
              "    }\n",
              "\n",
              "    .dataframe thead th {\n",
              "        text-align: right;\n",
              "    }\n",
              "</style>\n",
              "<table border=\"1\" class=\"dataframe\">\n",
              "  <thead>\n",
              "    <tr style=\"text-align: right;\">\n",
              "      <th></th>\n",
              "      <th>Date Time</th>\n",
              "      <th>p (mbar)</th>\n",
              "      <th>T (degC)</th>\n",
              "      <th>Tpot (K)</th>\n",
              "      <th>Tdew (degC)</th>\n",
              "      <th>rh (%)</th>\n",
              "      <th>VPmax (mbar)</th>\n",
              "      <th>VPact (mbar)</th>\n",
              "      <th>VPdef (mbar)</th>\n",
              "      <th>sh (g/kg)</th>\n",
              "      <th>H2OC (mmol/mol)</th>\n",
              "      <th>rho (g/m**3)</th>\n",
              "      <th>wv (m/s)</th>\n",
              "      <th>max. wv (m/s)</th>\n",
              "      <th>wd (deg)</th>\n",
              "    </tr>\n",
              "  </thead>\n",
              "  <tbody>\n",
              "    <tr>\n",
              "      <th>882</th>\n",
              "      <td>07.01.2009 03:10:00</td>\n",
              "      <td>993.67</td>\n",
              "      <td>-23.01</td>\n",
              "      <td>250.60</td>\n",
              "      <td>-25.01</td>\n",
              "      <td>83.40</td>\n",
              "      <td>0.95</td>\n",
              "      <td>0.79</td>\n",
              "      <td>0.16</td>\n",
              "      <td>0.50</td>\n",
              "      <td>0.80</td>\n",
              "      <td>1383.38</td>\n",
              "      <td>0.80</td>\n",
              "      <td>1.5</td>\n",
              "      <td>137.6</td>\n",
              "    </tr>\n",
              "    <tr>\n",
              "      <th>342323</th>\n",
              "      <td>04.07.2015 16:00:00</td>\n",
              "      <td>991.42</td>\n",
              "      <td>37.28</td>\n",
              "      <td>311.21</td>\n",
              "      <td>15.61</td>\n",
              "      <td>27.85</td>\n",
              "      <td>63.77</td>\n",
              "      <td>17.76</td>\n",
              "      <td>46.01</td>\n",
              "      <td>11.22</td>\n",
              "      <td>17.91</td>\n",
              "      <td>1104.99</td>\n",
              "      <td>1.73</td>\n",
              "      <td>5.0</td>\n",
              "      <td>147.4</td>\n",
              "    </tr>\n",
              "  </tbody>\n",
              "</table>\n",
              "</div>"
            ],
            "text/plain": [
              "                  Date Time  p (mbar)  T (degC)  Tpot (K)  Tdew (degC)  \\\n",
              "882     07.01.2009 03:10:00    993.67    -23.01    250.60       -25.01   \n",
              "342323  04.07.2015 16:00:00    991.42     37.28    311.21        15.61   \n",
              "\n",
              "        rh (%)  VPmax (mbar)  VPact (mbar)  VPdef (mbar)  sh (g/kg)  \\\n",
              "882      83.40          0.95          0.79          0.16       0.50   \n",
              "342323   27.85         63.77         17.76         46.01      11.22   \n",
              "\n",
              "        H2OC (mmol/mol)  rho (g/m**3)  wv (m/s)  max. wv (m/s)  wd (deg)  \n",
              "882                0.80       1383.38      0.80            1.5     137.6  \n",
              "342323            17.91       1104.99      1.73            5.0     147.4  "
            ]
          },
          "execution_count": 10,
          "metadata": {},
          "output_type": "execute_result"
        }
      ],
      "source": [
        "print( temperature.min(), temperature.max() )\n",
        "min_mask = jena_climate['T (degC)'] == temperature.min()\n",
        "max_mask = jena_climate['T (degC)'] == temperature.max()\n",
        "jena_climate[min_mask | max_mask]"
      ]
    },
    {
      "cell_type": "code",
      "execution_count": 11,
      "metadata": {
        "colab": {
          "base_uri": "https://localhost:8080/",
          "height": 337
        },
        "id": "__Q7tuwvWJth",
        "outputId": "f9c02f85-8ae0-4187-9012-e3a173c06dd0"
      },
      "outputs": [
        {
          "data": {
            "image/png": "[encoded data removed]",
            "text/plain": [
              "<Figure size 1200x400 with 1 Axes>"
            ]
          },
          "metadata": {},
          "output_type": "display_data"
        }
      ],
      "source": [
        "plt.figure(figsize=(12, 4))\n",
        "plt.plot(temperature[::6*24]) # 1일 단위 데이터  시각화\n",
        "plt.show()"
      ]
    },
    {
      "cell_type": "code",
      "execution_count": 12,
      "metadata": {
        "colab": {
          "base_uri": "https://localhost:8080/",
          "height": 337
        },
        "id": "DmIonxddWtTh",
        "outputId": "ee19d9a8-6484-4cc9-b36a-9e4e9b9fead5"
      },
      "outputs": [
        {
          "data": {
            "image/png": "[encoded data removed]",
            "text/plain": [
              "<Figure size 1200x400 with 1 Axes>"
            ]
          },
          "metadata": {},
          "output_type": "display_data"
        }
      ],
      "source": [
        "plt.figure(figsize=(12, 4))\n",
        "plt.plot(temperature[:6*24*10]) # 처음 10일간의 데이터 시각화\n",
        "plt.show()"
      ]
    },
    {
      "cell_type": "code",
      "execution_count": 14,
      "metadata": {
        "id": "MrJaYr7HXM5g"
      },
      "outputs": [],
      "source": []
    },
    {
      "cell_type": "code",
      "execution_count": 13,
      "metadata": {
        "id": "gFyeKl7KbLO5"
      },
      "outputs": [
        {
          "name": "stdout",
          "output_type": "stream",
          "text": [
            "WARNING:tensorflow:From c:\\Users\\human\\.conda\\envs\\human-dl-env2\\lib\\site-packages\\keras\\src\\losses.py:2976: The name tf.losses.sparse_softmax_cross_entropy is deprecated. Please use tf.compat.v1.losses.sparse_softmax_cross_entropy instead.\n",
            "\n"
          ]
        }
      ],
      "source": [
        "import tensorflow as tf\n",
        "from tensorflow import keras as tf_keras"
      ]
    },
    {
      "cell_type": "code",
      "execution_count": 15,
      "metadata": {},
      "outputs": [
        {
          "name": "stdout",
          "output_type": "stream",
          "text": [
            "2.15.0\n"
          ]
        }
      ],
      "source": [
        "print( tf.__version__)"
      ]
    },
    {
      "cell_type": "code",
      "execution_count": 16,
      "metadata": {
        "id": "_8LHT03PXNWY"
      },
      "outputs": [
        {
          "name": "stdout",
          "output_type": "stream",
          "text": [
            "WARNING:tensorflow:From c:\\Users\\human\\.conda\\envs\\human-dl-env2\\lib\\site-packages\\keras\\src\\backend.py:1398: The name tf.executing_eagerly_outside_functions is deprecated. Please use tf.compat.v1.executing_eagerly_outside_functions instead.\n",
            "\n"
          ]
        }
      ],
      "source": [
        "# 모델 구조 설계 1 : 완전 연결망 (Dense)\n",
        "\n",
        "model1 = tf_keras.models.Sequential([\n",
        "    tf_keras.layers.Input(shape=(features.shape[1],)),\n",
        "    tf_keras.layers.Dense(units=128, activation='relu'),\n",
        "    tf_keras.layers.Dense(units=64, activation='relu'),\n",
        "    tf_keras.layers.Dense(units=1) # 회귀 모델인 경우 출력층 유닛 갯수는 1, 활성함수는 None(항등함수효과)\n",
        "])"
      ]
    },
    {
      "cell_type": "code",
      "execution_count": 17,
      "metadata": {
        "id": "Ep60b55jcJWB"
      },
      "outputs": [
        {
          "name": "stdout",
          "output_type": "stream",
          "text": [
            "WARNING:tensorflow:From c:\\Users\\human\\.conda\\envs\\human-dl-env2\\lib\\site-packages\\keras\\src\\optimizers\\__init__.py:309: The name tf.train.Optimizer is deprecated. Please use tf.compat.v1.train.Optimizer instead.\n",
            "\n"
          ]
        }
      ],
      "source": [
        "# 모델 학습 설계 1\n",
        "\n",
        "model1.compile(loss='mse', optimizer='adam', metrics=['mae'])"
      ]
    },
    {
      "cell_type": "code",
      "execution_count": 18,
      "metadata": {
        "id": "PcWKvRXZci33"
      },
      "outputs": [],
      "source": []
    },
    {
      "cell_type": "code",
      "execution_count": 18,
      "metadata": {
        "colab": {
          "base_uri": "https://localhost:8080/"
        },
        "id": "pOoz7FHQcYDh",
        "outputId": "a72b08b0-9b32-4977-9c09-70a13f650de6"
      },
      "outputs": [
        {
          "name": "stdout",
          "output_type": "stream",
          "text": [
            "Epoch 1/10\n",
            "WARNING:tensorflow:From c:\\Users\\human\\.conda\\envs\\human-dl-env2\\lib\\site-packages\\keras\\src\\utils\\tf_utils.py:492: The name tf.ragged.RaggedTensorValue is deprecated. Please use tf.compat.v1.ragged.RaggedTensorValue instead.\n",
            "\n",
            "WARNING:tensorflow:From c:\\Users\\human\\.conda\\envs\\human-dl-env2\\lib\\site-packages\\keras\\src\\engine\\base_layer_utils.py:384: The name tf.executing_eagerly_outside_functions is deprecated. Please use tf.compat.v1.executing_eagerly_outside_functions instead.\n",
            "\n",
            "37/37 [==============================] - 1s 8ms/step - loss: 253.5046 - mae: 11.9743 - val_loss: 2313.3142 - val_mae: 6.5937\n",
            "Epoch 2/10\n",
            "37/37 [==============================] - 0s 3ms/step - loss: 20.8864 - mae: 3.5368 - val_loss: 3005.2620 - val_mae: 5.1573\n",
            "Epoch 3/10\n",
            "37/37 [==============================] - 0s 3ms/step - loss: 12.1607 - mae: 2.7325 - val_loss: 3631.6121 - val_mae: 5.4705\n",
            "Epoch 4/10\n",
            "37/37 [==============================] - 0s 3ms/step - loss: 12.8223 - mae: 2.8262 - val_loss: 4199.7534 - val_mae: 5.5285\n",
            "Epoch 5/10\n",
            "37/37 [==============================] - 0s 3ms/step - loss: 13.3696 - mae: 2.9099 - val_loss: 4505.5771 - val_mae: 5.5501\n",
            "Epoch 6/10\n",
            "37/37 [==============================] - 0s 3ms/step - loss: 11.5702 - mae: 2.6532 - val_loss: 4838.8989 - val_mae: 6.0549\n",
            "Epoch 7/10\n",
            "37/37 [==============================] - 0s 3ms/step - loss: 11.3706 - mae: 2.6297 - val_loss: 5111.8784 - val_mae: 6.0058\n",
            "Epoch 8/10\n",
            "37/37 [==============================] - 0s 3ms/step - loss: 10.8510 - mae: 2.5964 - val_loss: 5335.1162 - val_mae: 5.7344\n",
            "Epoch 9/10\n",
            "37/37 [==============================] - 0s 3ms/step - loss: 11.7237 - mae: 2.7009 - val_loss: 5528.6416 - val_mae: 5.8286\n",
            "Epoch 10/10\n",
            "37/37 [==============================] - 0s 3ms/step - loss: 12.1285 - mae: 2.7331 - val_loss: 5582.9297 - val_mae: 6.0028\n"
          ]
        }
      ],
      "source": [
        "# 훈련 1. 당일 데이터로 당일 기온 예측 ( 예측 불가능 모델 )\n",
        "# model1.fit(features[::6*24], temperature[::6*24],\n",
        "#            epochs=10, batch_size=64, validation_split=0.2)\n",
        "\n",
        "# 훈련 1. 전일 데이터로 당일 기온 예측\n",
        "# numpy_array[시작:끝:스텝]\n",
        "fit_history1 = model1.fit(features[:-6*24:6*24], temperature[6*24::6*24],\n",
        "                          epochs=10, batch_size=64, validation_split=0.2)"
      ]
    },
    {
      "cell_type": "code",
      "execution_count": 19,
      "metadata": {
        "id": "fdlfYaNYafZw"
      },
      "outputs": [
        {
          "name": "stdout",
          "output_type": "stream",
          "text": [
            "92/92 [==============================] - 0s 1ms/step - loss: 1125.1184 - mae: 3.2570\n"
          ]
        },
        {
          "data": {
            "text/plain": [
              "[1125.118408203125, 3.2570440769195557]"
            ]
          },
          "execution_count": 19,
          "metadata": {},
          "output_type": "execute_result"
        }
      ],
      "source": [
        "model1.evaluate(features[:-6*24:6*24], temperature[6*24::6*24])"
      ]
    },
    {
      "cell_type": "code",
      "execution_count": 20,
      "metadata": {
        "id": "ucj_0N7Yec94"
      },
      "outputs": [],
      "source": [
        "# 1시간 단위의 이전 10일 데이터를 사용해서 다음날 기온 예측\n",
        "\n",
        "jena_climate_per_hour = jena_climate.iloc[::6, :].copy() # step : 6 --> 1시간 단위 데이터"
      ]
    },
    {
      "cell_type": "code",
      "execution_count": 21,
      "metadata": {
        "colab": {
          "base_uri": "https://localhost:8080/",
          "height": 347
        },
        "id": "jiLMCjY4ez8A",
        "outputId": "bd5af41d-5fa1-41d3-9a2d-af0898fd2ddb"
      },
      "outputs": [
        {
          "data": {
            "text/html": [
              "<div>\n",
              "<style scoped>\n",
              "    .dataframe tbody tr th:only-of-type {\n",
              "        vertical-align: middle;\n",
              "    }\n",
              "\n",
              "    .dataframe tbody tr th {\n",
              "        vertical-align: top;\n",
              "    }\n",
              "\n",
              "    .dataframe thead th {\n",
              "        text-align: right;\n",
              "    }\n",
              "</style>\n",
              "<table border=\"1\" class=\"dataframe\">\n",
              "  <thead>\n",
              "    <tr style=\"text-align: right;\">\n",
              "      <th></th>\n",
              "      <th>Date Time</th>\n",
              "      <th>p (mbar)</th>\n",
              "      <th>T (degC)</th>\n",
              "      <th>Tpot (K)</th>\n",
              "      <th>Tdew (degC)</th>\n",
              "      <th>rh (%)</th>\n",
              "      <th>VPmax (mbar)</th>\n",
              "      <th>VPact (mbar)</th>\n",
              "      <th>VPdef (mbar)</th>\n",
              "      <th>sh (g/kg)</th>\n",
              "      <th>H2OC (mmol/mol)</th>\n",
              "      <th>rho (g/m**3)</th>\n",
              "      <th>wv (m/s)</th>\n",
              "      <th>max. wv (m/s)</th>\n",
              "      <th>wd (deg)</th>\n",
              "    </tr>\n",
              "  </thead>\n",
              "  <tbody>\n",
              "    <tr>\n",
              "      <th>0</th>\n",
              "      <td>01.01.2009 00:10:00</td>\n",
              "      <td>996.52</td>\n",
              "      <td>-8.02</td>\n",
              "      <td>265.40</td>\n",
              "      <td>-8.90</td>\n",
              "      <td>93.3</td>\n",
              "      <td>3.33</td>\n",
              "      <td>3.11</td>\n",
              "      <td>0.22</td>\n",
              "      <td>1.94</td>\n",
              "      <td>3.12</td>\n",
              "      <td>1307.75</td>\n",
              "      <td>1.03</td>\n",
              "      <td>1.75</td>\n",
              "      <td>152.3</td>\n",
              "    </tr>\n",
              "    <tr>\n",
              "      <th>6</th>\n",
              "      <td>01.01.2009 01:10:00</td>\n",
              "      <td>996.50</td>\n",
              "      <td>-7.62</td>\n",
              "      <td>265.81</td>\n",
              "      <td>-8.30</td>\n",
              "      <td>94.8</td>\n",
              "      <td>3.44</td>\n",
              "      <td>3.26</td>\n",
              "      <td>0.18</td>\n",
              "      <td>2.04</td>\n",
              "      <td>3.27</td>\n",
              "      <td>1305.68</td>\n",
              "      <td>0.18</td>\n",
              "      <td>0.63</td>\n",
              "      <td>166.5</td>\n",
              "    </tr>\n",
              "    <tr>\n",
              "      <th>12</th>\n",
              "      <td>01.01.2009 02:10:00</td>\n",
              "      <td>996.63</td>\n",
              "      <td>-8.85</td>\n",
              "      <td>264.57</td>\n",
              "      <td>-9.70</td>\n",
              "      <td>93.5</td>\n",
              "      <td>3.12</td>\n",
              "      <td>2.92</td>\n",
              "      <td>0.20</td>\n",
              "      <td>1.82</td>\n",
              "      <td>2.93</td>\n",
              "      <td>1312.11</td>\n",
              "      <td>0.16</td>\n",
              "      <td>0.50</td>\n",
              "      <td>158.3</td>\n",
              "    </tr>\n",
              "    <tr>\n",
              "      <th>18</th>\n",
              "      <td>01.01.2009 03:10:00</td>\n",
              "      <td>996.87</td>\n",
              "      <td>-8.84</td>\n",
              "      <td>264.56</td>\n",
              "      <td>-9.69</td>\n",
              "      <td>93.5</td>\n",
              "      <td>3.13</td>\n",
              "      <td>2.92</td>\n",
              "      <td>0.20</td>\n",
              "      <td>1.83</td>\n",
              "      <td>2.93</td>\n",
              "      <td>1312.37</td>\n",
              "      <td>0.07</td>\n",
              "      <td>0.25</td>\n",
              "      <td>129.3</td>\n",
              "    </tr>\n",
              "    <tr>\n",
              "      <th>24</th>\n",
              "      <td>01.01.2009 04:10:00</td>\n",
              "      <td>997.05</td>\n",
              "      <td>-9.23</td>\n",
              "      <td>264.15</td>\n",
              "      <td>-10.25</td>\n",
              "      <td>92.2</td>\n",
              "      <td>3.03</td>\n",
              "      <td>2.79</td>\n",
              "      <td>0.24</td>\n",
              "      <td>1.74</td>\n",
              "      <td>2.80</td>\n",
              "      <td>1314.62</td>\n",
              "      <td>0.10</td>\n",
              "      <td>0.38</td>\n",
              "      <td>203.9</td>\n",
              "    </tr>\n",
              "  </tbody>\n",
              "</table>\n",
              "</div>"
            ],
            "text/plain": [
              "              Date Time  p (mbar)  T (degC)  Tpot (K)  Tdew (degC)  rh (%)  \\\n",
              "0   01.01.2009 00:10:00    996.52     -8.02    265.40        -8.90    93.3   \n",
              "6   01.01.2009 01:10:00    996.50     -7.62    265.81        -8.30    94.8   \n",
              "12  01.01.2009 02:10:00    996.63     -8.85    264.57        -9.70    93.5   \n",
              "18  01.01.2009 03:10:00    996.87     -8.84    264.56        -9.69    93.5   \n",
              "24  01.01.2009 04:10:00    997.05     -9.23    264.15       -10.25    92.2   \n",
              "\n",
              "    VPmax (mbar)  VPact (mbar)  VPdef (mbar)  sh (g/kg)  H2OC (mmol/mol)  \\\n",
              "0           3.33          3.11          0.22       1.94             3.12   \n",
              "6           3.44          3.26          0.18       2.04             3.27   \n",
              "12          3.12          2.92          0.20       1.82             2.93   \n",
              "18          3.13          2.92          0.20       1.83             2.93   \n",
              "24          3.03          2.79          0.24       1.74             2.80   \n",
              "\n",
              "    rho (g/m**3)  wv (m/s)  max. wv (m/s)  wd (deg)  \n",
              "0        1307.75      1.03           1.75     152.3  \n",
              "6        1305.68      0.18           0.63     166.5  \n",
              "12       1312.11      0.16           0.50     158.3  \n",
              "18       1312.37      0.07           0.25     129.3  \n",
              "24       1314.62      0.10           0.38     203.9  "
            ]
          },
          "execution_count": 21,
          "metadata": {},
          "output_type": "execute_result"
        }
      ],
      "source": [
        "jena_climate_per_hour.head()"
      ]
    },
    {
      "cell_type": "code",
      "execution_count": 23,
      "metadata": {
        "colab": {
          "base_uri": "https://localhost:8080/",
          "height": 153
        },
        "id": "quPSA7mvfA6H",
        "outputId": "b022f1b1-6481-480a-ca7e-2b4749d5ef61"
      },
      "outputs": [
        {
          "data": {
            "text/html": [
              "<div>\n",
              "<style scoped>\n",
              "    .dataframe tbody tr th:only-of-type {\n",
              "        vertical-align: middle;\n",
              "    }\n",
              "\n",
              "    .dataframe tbody tr th {\n",
              "        vertical-align: top;\n",
              "    }\n",
              "\n",
              "    .dataframe thead th {\n",
              "        text-align: right;\n",
              "    }\n",
              "</style>\n",
              "<table border=\"1\" class=\"dataframe\">\n",
              "  <thead>\n",
              "    <tr style=\"text-align: right;\">\n",
              "      <th></th>\n",
              "      <th>Date Time</th>\n",
              "      <th>p (mbar)</th>\n",
              "      <th>T (degC)</th>\n",
              "      <th>Tpot (K)</th>\n",
              "      <th>Tdew (degC)</th>\n",
              "      <th>rh (%)</th>\n",
              "      <th>VPmax (mbar)</th>\n",
              "      <th>VPact (mbar)</th>\n",
              "      <th>VPdef (mbar)</th>\n",
              "      <th>sh (g/kg)</th>\n",
              "      <th>H2OC (mmol/mol)</th>\n",
              "      <th>rho (g/m**3)</th>\n",
              "      <th>wv (m/s)</th>\n",
              "      <th>max. wv (m/s)</th>\n",
              "      <th>wd (deg)</th>\n",
              "    </tr>\n",
              "  </thead>\n",
              "  <tbody>\n",
              "    <tr>\n",
              "      <th>12</th>\n",
              "      <td>01.01.2009 02:10:00</td>\n",
              "      <td>996.63</td>\n",
              "      <td>-8.85</td>\n",
              "      <td>264.57</td>\n",
              "      <td>-9.7</td>\n",
              "      <td>93.5</td>\n",
              "      <td>3.12</td>\n",
              "      <td>2.92</td>\n",
              "      <td>0.2</td>\n",
              "      <td>1.82</td>\n",
              "      <td>2.93</td>\n",
              "      <td>1312.11</td>\n",
              "      <td>0.16</td>\n",
              "      <td>0.5</td>\n",
              "      <td>158.3</td>\n",
              "    </tr>\n",
              "  </tbody>\n",
              "</table>\n",
              "</div>"
            ],
            "text/plain": [
              "              Date Time  p (mbar)  T (degC)  Tpot (K)  Tdew (degC)  rh (%)  \\\n",
              "12  01.01.2009 02:10:00    996.63     -8.85    264.57         -9.7    93.5   \n",
              "\n",
              "    VPmax (mbar)  VPact (mbar)  VPdef (mbar)  sh (g/kg)  H2OC (mmol/mol)  \\\n",
              "12          3.12          2.92           0.2       1.82             2.93   \n",
              "\n",
              "    rho (g/m**3)  wv (m/s)  max. wv (m/s)  wd (deg)  \n",
              "12       1312.11      0.16            0.5     158.3  "
            ]
          },
          "execution_count": 23,
          "metadata": {},
          "output_type": "execute_result"
        }
      ],
      "source": [
        "jena_climate_per_hour.iloc[:240:240, :]\n",
        "jena_climate_per_hour.iloc[1:241:240, :]\n",
        "jena_climate_per_hour.iloc[2:242:240, :]"
      ]
    },
    {
      "cell_type": "code",
      "execution_count": 23,
      "metadata": {
        "id": "SzZ2gNFtfrKw"
      },
      "outputs": [],
      "source": [
        "days = 10   # 10일\n",
        "stride = 6  # 한 시간 단위 ( 몇 개 마다 데이터를 뽑을지 결정 )\n",
        "delay = (days + 0) * stride * 24 # 입력 시퀀스(리스트) 크기 (범위) --> 여기서는 10일 (갯수로는 1440)"
      ]
    },
    {
      "cell_type": "code",
      "execution_count": 24,
      "metadata": {
        "colab": {
          "base_uri": "https://localhost:8080/"
        },
        "id": "1UNW2NMSgMCX",
        "outputId": "8939be0f-99b2-402b-ff5d-861c1a3827ec"
      },
      "outputs": [
        {
          "name": "stdout",
          "output_type": "stream",
          "text": [
            "336440.80000000005\n",
            "269152.6400000001\n"
          ]
        }
      ],
      "source": [
        "# 훈련, 검증, 테스트 데이터 범위\n",
        "\n",
        "print( features.shape[0] * 0.8 ) # 훈련데이터\n",
        "print( features.shape[0] * 0.8 * 0.8 ) # 검증데이터"
      ]
    },
    {
      "cell_type": "code",
      "execution_count": 25,
      "metadata": {
        "id": "tu-xb2w35c5t"
      },
      "outputs": [],
      "source": [
        "from sklearn.preprocessing import StandardScaler, MinMaxScaler\n",
        "\n",
        "features2 = StandardScaler().fit_transform(features)\n",
        "features3 = MinMaxScaler().fit_transform(features)"
      ]
    },
    {
      "cell_type": "code",
      "execution_count": 26,
      "metadata": {
        "id": "9JuLj4gQgssY"
      },
      "outputs": [],
      "source": [
        "# 데이터 셋 만들기 1\n",
        "train_dataset = tf_keras.utils.timeseries_dataset_from_array(\n",
        "    data=features[:-delay], # 전체 기간 중에서 마지막 11일치의 데이터는 제외\n",
        "    targets=temperature[delay:],\n",
        "    sequence_length=24 * days,\n",
        "    sampling_rate=stride,\n",
        "    start_index=0,\n",
        "    end_index=270000,\n",
        "    batch_size=32,\n",
        "    shuffle=True,\n",
        ")\n",
        "validation_dataset = tf_keras.utils.timeseries_dataset_from_array(\n",
        "    data=features[:-delay], # 전체 기간 중에서 마지막 11일치의 데이터는 제외\n",
        "    targets=temperature[delay:],\n",
        "    sequence_length=24 * days,\n",
        "    sampling_rate=stride,\n",
        "    start_index=270000,\n",
        "    end_index=330000,\n",
        "    batch_size=32,\n",
        "    shuffle=True,\n",
        ")\n",
        "test_dataset = tf_keras.utils.timeseries_dataset_from_array(\n",
        "    data=features[:-delay], # 전체 기간 중에서 마지막 11일치의 데이터는 제외\n",
        "    targets=temperature[delay:],\n",
        "    sequence_length=24 * days,\n",
        "    sampling_rate=stride,\n",
        "    start_index=330000,\n",
        "    batch_size=32,\n",
        "    shuffle=True,\n",
        ")"
      ]
    },
    {
      "cell_type": "code",
      "execution_count": 27,
      "metadata": {
        "id": "JgamTSdfi9IA"
      },
      "outputs": [],
      "source": [
        "# 데이터 셋 만들기 2\n",
        "\n",
        "datasets = []\n",
        "for sidx, eidx in zip([0, 270000, 330000], [270000, 330000, None]):\n",
        "  dataset = tf_keras.utils.timeseries_dataset_from_array(\n",
        "    data=features[:-delay], # 전체 기간 중에서 마지막 11일치의 데이터는 제외\n",
        "    targets=temperature[delay:],\n",
        "    sequence_length=24 * days,\n",
        "    sampling_rate=stride,\n",
        "    start_index=sidx,\n",
        "    end_index=eidx,\n",
        "    batch_size=32,\n",
        "    shuffle=True)\n",
        "  datasets.append(dataset)"
      ]
    },
    {
      "cell_type": "code",
      "execution_count": 28,
      "metadata": {
        "colab": {
          "base_uri": "https://localhost:8080/"
        },
        "id": "4NfSCR5Gkiz_",
        "outputId": "52719e42-9f89-447a-d2b3-b4b5eede9a95"
      },
      "outputs": [
        {
          "name": "stdout",
          "output_type": "stream",
          "text": [
            "(32, 240, 13) (32,)\n",
            "(32, 240, 13) (32,)\n"
          ]
        }
      ],
      "source": [
        "for X, y in train_dataset:\n",
        "  print(X.shape, y.shape)\n",
        "  break\n",
        "\n",
        "for X, y in datasets[0]:\n",
        "  print(X.shape, y.shape)\n",
        "  break"
      ]
    },
    {
      "cell_type": "code",
      "execution_count": 30,
      "metadata": {},
      "outputs": [],
      "source": [
        "import numpy as np\n",
        "np.set_printoptions(suppress=True) # 지수 표기법을 사용하지 않도록 설정"
      ]
    },
    {
      "cell_type": "code",
      "execution_count": 31,
      "metadata": {
        "colab": {
          "base_uri": "https://localhost:8080/"
        },
        "id": "_8XOGdQYnsSO",
        "outputId": "0eac94a7-3a25-491a-c679-828c99052a2b"
      },
      "outputs": [
        {
          "name": "stdout",
          "output_type": "stream",
          "text": [
            "tf.Tensor([991.75 289.7    9.66  66.62  18.04], shape=(5,), dtype=float64)\n",
            "tf.Tensor(14.51, shape=(), dtype=float64)\n",
            "                Date Time  p (mbar)  T (degC)  Tpot (K)  Tdew (degC)  rh (%)  \\\n",
            "1434  10.01.2009 23:10:00   1002.72    -10.98    261.98       -11.88    93.0   \n",
            "1435  10.01.2009 23:20:00   1002.76    -10.66    262.29       -11.60    92.7   \n",
            "1436  10.01.2009 23:30:00   1002.74    -10.43    262.52       -11.39    92.6   \n",
            "1437  10.01.2009 23:40:00   1002.74    -10.90    262.05       -12.02    91.4   \n",
            "1438  10.01.2009 23:50:00   1002.76    -10.87    262.08       -11.86    92.3   \n",
            "1439  11.01.2009 00:00:00   1002.72    -10.75    262.21       -11.76    92.2   \n",
            "\n",
            "      VPmax (mbar)  \n",
            "1434          2.64  \n",
            "1435          2.70  \n",
            "1436          2.75  \n",
            "1437          2.65  \n",
            "1438          2.66  \n",
            "1439          2.69  \n"
          ]
        }
      ],
      "source": [
        "# 데이터셋 구성 확인\n",
        "for X, y in train_dataset: # 32개의 데이터 반환\n",
        "  print(X[0, -1, :5])\n",
        "  print(y[0]) # X는 1440(1439)번째 데이터,y는 1441(1440)번째 데이터\n",
        "  break\n",
        "print(jena_climate.iloc[1440 - 6:1440, :7])"
      ]
    },
    {
      "cell_type": "code",
      "execution_count": null,
      "metadata": {
        "id": "V7UvbdvvMBtc"
      },
      "outputs": [],
      "source": []
    },
    {
      "cell_type": "code",
      "execution_count": 32,
      "metadata": {
        "colab": {
          "base_uri": "https://localhost:8080/",
          "height": 193
        },
        "id": "901pEDugoLVG",
        "outputId": "ca947e68-88c3-4ff3-ef9d-92f644dfe70f"
      },
      "outputs": [
        {
          "name": "stdout",
          "output_type": "stream",
          "text": [
            "Model: \"sequential_1\"\n",
            "_________________________________________________________________\n",
            " Layer (type)                Output Shape              Param #   \n",
            "=================================================================\n",
            " flatten (Flatten)           (None, 3120)              0         \n",
            "                                                                 \n",
            " dense_3 (Dense)             (None, 128)               399488    \n",
            "                                                                 \n",
            " dense_4 (Dense)             (None, 64)                8256      \n",
            "                                                                 \n",
            " dense_5 (Dense)             (None, 1)                 65        \n",
            "                                                                 \n",
            "=================================================================\n",
            "Total params: 407809 (1.56 MB)\n",
            "Trainable params: 407809 (1.56 MB)\n",
            "Non-trainable params: 0 (0.00 Byte)\n",
            "_________________________________________________________________\n"
          ]
        }
      ],
      "source": [
        "# 모델 구조 설계 2 : 완전 연결망\n",
        "model2 = tf_keras.models.Sequential([\n",
        "    tf_keras.layers.Input(shape=(240, 13)), # 시계열 데이터를\n",
        "    tf_keras.layers.Flatten(),              # 비시계열 데이터로 변경\n",
        "    tf_keras.layers.Dense(units=128, activation='relu'),\n",
        "    tf_keras.layers.Dense(units=64, activation='relu'),\n",
        "    tf_keras.layers.Dense(units=1)\n",
        "])\n",
        "model2.summary()"
      ]
    },
    {
      "cell_type": "code",
      "execution_count": 33,
      "metadata": {
        "id": "-9ZzIZtL4qkU"
      },
      "outputs": [],
      "source": [
        "# 모델 학습 설계 2\n",
        "model2.compile(loss='mse', optimizer='adam', metrics=['mae'])"
      ]
    },
    {
      "cell_type": "code",
      "execution_count": 34,
      "metadata": {
        "colab": {
          "base_uri": "https://localhost:8080/",
          "height": 1000
        },
        "id": "M67uptx84v-c",
        "outputId": "50c8c6a1-9568-4504-97ba-0d9feae17e1f"
      },
      "outputs": [
        {
          "name": "stdout",
          "output_type": "stream",
          "text": [
            "Epoch 1/10\n",
            "8393/8393 [==============================] - 47s 6ms/step - loss: 562.9315 - mae: 4.9822 - val_loss: 7.7627 - val_mae: 2.3582\n",
            "Epoch 2/10\n",
            "8393/8393 [==============================] - 53s 6ms/step - loss: 58.9791 - mae: 5.4701 - val_loss: 55.4629 - val_mae: 6.1752\n",
            "Epoch 3/10\n",
            "8393/8393 [==============================] - 49s 6ms/step - loss: 74.3732 - mae: 7.0381 - val_loss: 55.5017 - val_mae: 6.1767\n",
            "Epoch 4/10\n",
            "8393/8393 [==============================] - 47s 6ms/step - loss: 74.3780 - mae: 7.0382 - val_loss: 55.3895 - val_mae: 6.1725\n",
            "Epoch 5/10\n",
            "8393/8393 [==============================] - 47s 6ms/step - loss: 74.3793 - mae: 7.0383 - val_loss: 55.5047 - val_mae: 6.1768\n",
            "Epoch 6/10\n",
            "8393/8393 [==============================] - 46s 5ms/step - loss: 74.3792 - mae: 7.0382 - val_loss: 55.5263 - val_mae: 6.1775\n",
            "Epoch 7/10\n",
            "8393/8393 [==============================] - 49s 6ms/step - loss: 74.3793 - mae: 7.0383 - val_loss: 55.5413 - val_mae: 6.1781\n",
            "Epoch 8/10\n",
            "8393/8393 [==============================] - 44s 5ms/step - loss: 74.3783 - mae: 7.0382 - val_loss: 55.5381 - val_mae: 6.1780\n",
            "Epoch 9/10\n",
            "8393/8393 [==============================] - 46s 5ms/step - loss: 74.3790 - mae: 7.0383 - val_loss: 55.4833 - val_mae: 6.1760\n",
            "Epoch 10/10\n",
            "8393/8393 [==============================] - 47s 6ms/step - loss: 74.3787 - mae: 7.0382 - val_loss: 55.5648 - val_mae: 6.1790\n"
          ]
        },
        {
          "data": {
            "text/plain": [
              "<keras.src.callbacks.History at 0x21cc0d8fb50>"
            ]
          },
          "execution_count": 34,
          "metadata": {},
          "output_type": "execute_result"
        }
      ],
      "source": [
        "model2.fit(datasets[0], epochs=10, validation_data=datasets[1])"
      ]
    },
    {
      "cell_type": "code",
      "execution_count": 35,
      "metadata": {},
      "outputs": [
        {
          "name": "stdout",
          "output_type": "stream",
          "text": [
            "2740/2740 [==============================] - 7s 3ms/step - loss: 910.7639 - mae: 9.3751\n"
          ]
        },
        {
          "data": {
            "text/plain": [
              "[910.763916015625, 9.375123023986816]"
            ]
          },
          "execution_count": 35,
          "metadata": {},
          "output_type": "execute_result"
        }
      ],
      "source": [
        "model2.evaluate(datasets[2])"
      ]
    },
    {
      "cell_type": "code",
      "execution_count": null,
      "metadata": {
        "id": "BhaRjH098v-0"
      },
      "outputs": [],
      "source": []
    },
    {
      "cell_type": "code",
      "execution_count": 36,
      "metadata": {
        "colab": {
          "base_uri": "https://localhost:8080/",
          "height": 225
        },
        "id": "TXqWsS2c8yes",
        "outputId": "d4356a50-1dd2-4aaf-e705-b5f20a1b962c"
      },
      "outputs": [
        {
          "name": "stdout",
          "output_type": "stream",
          "text": [
            "Model: \"model\"\n",
            "_________________________________________________________________\n",
            " Layer (type)                Output Shape              Param #   \n",
            "=================================================================\n",
            " input_3 (InputLayer)        [(None, 240, 13)]         0         \n",
            "                                                                 \n",
            " simple_rnn (SimpleRNN)      (None, 16)                480       \n",
            "                                                                 \n",
            " dense_6 (Dense)             (None, 1)                 17        \n",
            "                                                                 \n",
            "=================================================================\n",
            "Total params: 497 (1.94 KB)\n",
            "Trainable params: 497 (1.94 KB)\n",
            "Non-trainable params: 0 (0.00 Byte)\n",
            "_________________________________________________________________\n"
          ]
        }
      ],
      "source": [
        "# 모델 구조 설계 3 : 순환 신경망 모델\n",
        "\n",
        "input = tf_keras.layers.Input(shape=(240, 13))\n",
        "x = tf_keras.layers.SimpleRNN(units=16)(input) # activate 지정 X\n",
        "output = tf_keras.layers.Dense(units=1)(x)\n",
        "\n",
        "model3 = tf_keras.models.Model(input, output)\n",
        "\n",
        "model3.summary()"
      ]
    },
    {
      "cell_type": "code",
      "execution_count": 37,
      "metadata": {
        "id": "juO2Mm5Q9jCU"
      },
      "outputs": [],
      "source": [
        "# 모델 학습 설계 3 :\n",
        "\n",
        "model3.compile(loss='mse', optimizer='adam', metrics=['mae'])"
      ]
    },
    {
      "cell_type": "code",
      "execution_count": 38,
      "metadata": {
        "colab": {
          "base_uri": "https://localhost:8080/",
          "height": 426
        },
        "id": "rx3zXNnL-m-j",
        "outputId": "7b6c0018-eec4-4fbc-da53-e287cc8f3208"
      },
      "outputs": [
        {
          "name": "stdout",
          "output_type": "stream",
          "text": [
            "Epoch 1/10\n"
          ]
        },
        {
          "name": "stdout",
          "output_type": "stream",
          "text": [
            "8393/8393 [==============================] - 237s 28ms/step - loss: 41.1123 - mae: 4.8198 - val_loss: 16.3316 - val_mae: 3.1924\n",
            "Epoch 2/10\n",
            "8393/8393 [==============================] - 231s 27ms/step - loss: 24.5266 - mae: 3.9499 - val_loss: 17.2234 - val_mae: 3.3404\n",
            "Epoch 3/10\n",
            "8393/8393 [==============================] - 229s 27ms/step - loss: 24.4117 - mae: 3.9542 - val_loss: 17.2746 - val_mae: 3.3433\n",
            "Epoch 4/10\n",
            "8393/8393 [==============================] - 230s 27ms/step - loss: 24.3353 - mae: 3.9480 - val_loss: 21.5776 - val_mae: 3.6693\n",
            "Epoch 5/10\n",
            "8393/8393 [==============================] - 230s 27ms/step - loss: 24.2993 - mae: 3.9451 - val_loss: 16.9590 - val_mae: 3.3122\n",
            "Epoch 6/10\n",
            "8393/8393 [==============================] - 231s 28ms/step - loss: 24.2265 - mae: 3.9383 - val_loss: 18.8795 - val_mae: 3.4657\n",
            "Epoch 7/10\n",
            "8393/8393 [==============================] - 232s 28ms/step - loss: 24.0505 - mae: 3.9236 - val_loss: 25.4492 - val_mae: 3.9666\n",
            "Epoch 8/10\n",
            "8393/8393 [==============================] - 232s 28ms/step - loss: 23.9155 - mae: 3.9087 - val_loss: 17.8650 - val_mae: 3.3815\n",
            "Epoch 9/10\n",
            "8393/8393 [==============================] - 231s 28ms/step - loss: 23.1370 - mae: 3.8372 - val_loss: 15.5914 - val_mae: 3.1628\n",
            "Epoch 10/10\n",
            "8393/8393 [==============================] - 230s 27ms/step - loss: 18.9258 - mae: 3.3742 - val_loss: 10.6864 - val_mae: 2.5890\n"
          ]
        },
        {
          "data": {
            "text/plain": [
              "<keras.src.callbacks.History at 0x21cc923c970>"
            ]
          },
          "execution_count": 38,
          "metadata": {},
          "output_type": "execute_result"
        }
      ],
      "source": [
        "# 모델 훈련 3\n",
        "model3.fit(datasets[0], epochs=10, validation_data=datasets[1])"
      ]
    },
    {
      "cell_type": "code",
      "execution_count": 39,
      "metadata": {},
      "outputs": [
        {
          "name": "stdout",
          "output_type": "stream",
          "text": [
            "2740/2740 [==============================] - 23s 8ms/step - loss: 14.0569 - mae: 2.8384\n"
          ]
        },
        {
          "data": {
            "text/plain": [
              "[14.05685806274414, 2.83837628364563]"
            ]
          },
          "execution_count": 39,
          "metadata": {},
          "output_type": "execute_result"
        }
      ],
      "source": [
        "model3.evaluate(datasets[2])"
      ]
    },
    {
      "cell_type": "code",
      "execution_count": 40,
      "metadata": {
        "colab": {
          "base_uri": "https://localhost:8080/",
          "height": 225
        },
        "id": "DUuKBbxU-n_X",
        "outputId": "177f2274-752c-4f9d-f26b-189e8b11d8f3"
      },
      "outputs": [
        {
          "name": "stdout",
          "output_type": "stream",
          "text": [
            "Model: \"model_1\"\n",
            "_________________________________________________________________\n",
            " Layer (type)                Output Shape              Param #   \n",
            "=================================================================\n",
            " input_4 (InputLayer)        [(None, 240, 13)]         0         \n",
            "                                                                 \n",
            " lstm (LSTM)                 (None, 16)                1920      \n",
            "                                                                 \n",
            " dense_7 (Dense)             (None, 1)                 17        \n",
            "                                                                 \n",
            "=================================================================\n",
            "Total params: 1937 (7.57 KB)\n",
            "Trainable params: 1937 (7.57 KB)\n",
            "Non-trainable params: 0 (0.00 Byte)\n",
            "_________________________________________________________________\n"
          ]
        }
      ],
      "source": [
        "# 모델 구조 설계 4 : LSTM\n",
        "\n",
        "input = tf_keras.layers.Input(shape=(240, 13))\n",
        "x = tf_keras.layers.LSTM(units=16)(input)\n",
        "output = tf_keras.layers.Dense(units=1)(x)\n",
        "\n",
        "model4 = tf_keras.models.Model(input, output)\n",
        "\n",
        "model4.summary()"
      ]
    },
    {
      "cell_type": "code",
      "execution_count": 41,
      "metadata": {
        "id": "T7z1zXTiS_SR"
      },
      "outputs": [],
      "source": [
        "# 모델 학습 설계 4\n",
        "\n",
        "model4.compile(loss='mse', optimizer='adam', metrics=['mae'])"
      ]
    },
    {
      "cell_type": "code",
      "execution_count": 42,
      "metadata": {
        "colab": {
          "base_uri": "https://localhost:8080/"
        },
        "id": "T00ua8HxTFk_",
        "outputId": "29ab7cab-93fc-442b-85a9-d6cb9050b125"
      },
      "outputs": [
        {
          "name": "stdout",
          "output_type": "stream",
          "text": [
            "Epoch 1/10\n"
          ]
        },
        {
          "name": "stdout",
          "output_type": "stream",
          "text": [
            "8393/8393 [==============================] - 409s 48ms/step - loss: 65.7389 - mae: 6.2002 - val_loss: 28.6401 - val_mae: 4.0001\n",
            "Epoch 2/10\n",
            "8393/8393 [==============================] - 400s 48ms/step - loss: 32.2412 - mae: 3.9763 - val_loss: 13.4225 - val_mae: 2.4188\n",
            "Epoch 3/10\n",
            "8393/8393 [==============================] - 414s 49ms/step - loss: 17.3654 - mae: 2.6982 - val_loss: 6.7594 - val_mae: 1.6455\n",
            "Epoch 4/10\n",
            "8393/8393 [==============================] - 425s 51ms/step - loss: 9.8354 - mae: 1.9868 - val_loss: 4.1612 - val_mae: 1.3367\n",
            "Epoch 5/10\n",
            "8393/8393 [==============================] - 425s 51ms/step - loss: 6.4394 - mae: 1.6445 - val_loss: 4.6979 - val_mae: 1.6620\n",
            "Epoch 6/10\n",
            "8393/8393 [==============================] - 426s 51ms/step - loss: 4.9960 - mae: 1.4959 - val_loss: 3.3398 - val_mae: 1.3314\n",
            "Epoch 7/10\n",
            "8393/8393 [==============================] - 441s 53ms/step - loss: 4.3815 - mae: 1.4386 - val_loss: 3.1248 - val_mae: 1.3022\n",
            "Epoch 8/10\n",
            "8393/8393 [==============================] - 431s 51ms/step - loss: 4.0608 - mae: 1.4122 - val_loss: 4.4760 - val_mae: 1.7250\n",
            "Epoch 9/10\n",
            "8393/8393 [==============================] - 428s 51ms/step - loss: 3.8015 - mae: 1.3755 - val_loss: 3.4925 - val_mae: 1.4539\n",
            "Epoch 10/10\n",
            "8393/8393 [==============================] - 429s 51ms/step - loss: 3.6612 - mae: 1.3633 - val_loss: 2.7237 - val_mae: 1.2155\n"
          ]
        }
      ],
      "source": [
        "fit_history4 = model4.fit(datasets[0], epochs=10, validation_data=datasets[1])"
      ]
    },
    {
      "cell_type": "code",
      "execution_count": 43,
      "metadata": {
        "colab": {
          "base_uri": "https://localhost:8080/"
        },
        "id": "3jyJX1zLaRPA",
        "outputId": "f02b0224-865d-4cab-b284-5862e75a1d58"
      },
      "outputs": [
        {
          "name": "stdout",
          "output_type": "stream",
          "text": [
            "2740/2740 [==============================] - 43s 16ms/step - loss: 3.6209 - mae: 1.3351\n"
          ]
        },
        {
          "data": {
            "text/plain": [
              "[3.6209399700164795, 1.3351093530654907]"
            ]
          },
          "execution_count": 43,
          "metadata": {},
          "output_type": "execute_result"
        }
      ],
      "source": [
        "model4.evaluate(datasets[2])"
      ]
    },
    {
      "cell_type": "code",
      "execution_count": null,
      "metadata": {},
      "outputs": [],
      "source": []
    },
    {
      "cell_type": "code",
      "execution_count": 57,
      "metadata": {},
      "outputs": [
        {
          "name": "stdout",
          "output_type": "stream",
          "text": [
            "Model: \"model_7\"\n",
            "_________________________________________________________________\n",
            " Layer (type)                Output Shape              Param #   \n",
            "=================================================================\n",
            " input_12 (InputLayer)       [(None, 240, 13)]         0         \n",
            "                                                                 \n",
            " conv1d_18 (Conv1D)          (None, 240, 16)           5008      \n",
            "                                                                 \n",
            " max_pooling1d_16 (MaxPooli  (None, 120, 16)           0         \n",
            " ng1D)                                                           \n",
            "                                                                 \n",
            " conv1d_19 (Conv1D)          (None, 120, 16)           3088      \n",
            "                                                                 \n",
            " max_pooling1d_17 (MaxPooli  (None, 60, 16)            0         \n",
            " ng1D)                                                           \n",
            "                                                                 \n",
            " conv1d_20 (Conv1D)          (None, 60, 16)            1552      \n",
            "                                                                 \n",
            " max_pooling1d_18 (MaxPooli  (None, 30, 16)            0         \n",
            " ng1D)                                                           \n",
            "                                                                 \n",
            " global_average_pooling1d_2  (None, 16)                0         \n",
            "  (GlobalAveragePooling1D)                                       \n",
            "                                                                 \n",
            " dense_13 (Dense)            (None, 1)                 17        \n",
            "                                                                 \n",
            "=================================================================\n",
            "Total params: 9665 (37.75 KB)\n",
            "Trainable params: 9665 (37.75 KB)\n",
            "Non-trainable params: 0 (0.00 Byte)\n",
            "_________________________________________________________________\n"
          ]
        }
      ],
      "source": [
        "# 모델 구조 설계 5 : CNN을 사용해서 순환 신경망 모방 모델 \n",
        "\n",
        "from tensorflow.keras.layers import Conv1D, MaxPool1D, GlobalAvgPool1D\n",
        "from tensorflow.keras.layers import Input, Flatten, Dense\n",
        "\n",
        "input = Input(shape=(240, 13))\n",
        "x = Conv1D(filters=16, kernel_size=24, activation=\"relu\", padding=\"same\")(input)\n",
        "x = MaxPool1D(pool_size=2)(x)\n",
        "x = Conv1D(filters=16, kernel_size=12, activation=\"relu\", padding=\"same\")(x)\n",
        "x = MaxPool1D(pool_size=2)(x)\n",
        "x = Conv1D(filters=16, kernel_size=6, activation=\"relu\", padding=\"same\")(x)\n",
        "x = MaxPool1D(pool_size=2)(x)         \n",
        "# x = Flatten()(x)              # (None, 480)\n",
        "x = GlobalAvgPool1D()(x)        # (None, 16)\n",
        "output = Dense(1)(x)\n",
        "model5 = tf_keras.models.Model(input, output)\n",
        "\n",
        "model5.summary()"
      ]
    },
    {
      "cell_type": "code",
      "execution_count": 58,
      "metadata": {},
      "outputs": [],
      "source": [
        "# 모델 학습 설계 5\n",
        "\n",
        "model5.compile(loss='mse', optimizer='adam', metrics=['mae'])"
      ]
    },
    {
      "cell_type": "code",
      "execution_count": 59,
      "metadata": {},
      "outputs": [
        {
          "name": "stdout",
          "output_type": "stream",
          "text": [
            "Epoch 1/10\n",
            "8393/8393 [==============================] - 73s 9ms/step - loss: 12.6408 - mae: 1.4789 - val_loss: 1.8546 - val_mae: 1.1425\n",
            "Epoch 2/10\n",
            "8393/8393 [==============================] - 77s 9ms/step - loss: 0.7966 - mae: 0.6592 - val_loss: 0.9227 - val_mae: 0.7401\n",
            "Epoch 3/10\n",
            "8393/8393 [==============================] - 79s 9ms/step - loss: 0.7040 - mae: 0.6095 - val_loss: 0.7954 - val_mae: 0.6720\n",
            "Epoch 4/10\n",
            "8393/8393 [==============================] - 72s 9ms/step - loss: 0.6612 - mae: 0.5849 - val_loss: 0.6171 - val_mae: 0.5581\n",
            "Epoch 5/10\n",
            "8393/8393 [==============================] - 72s 9ms/step - loss: 0.6398 - mae: 0.5736 - val_loss: 0.6027 - val_mae: 0.5444\n",
            "Epoch 6/10\n",
            "8393/8393 [==============================] - 74s 9ms/step - loss: 0.6183 - mae: 0.5619 - val_loss: 0.5781 - val_mae: 0.5326\n",
            "Epoch 7/10\n",
            "8393/8393 [==============================] - 74s 9ms/step - loss: 0.6089 - mae: 0.5556 - val_loss: 0.5726 - val_mae: 0.5278\n",
            "Epoch 8/10\n",
            "8393/8393 [==============================] - 76s 9ms/step - loss: 0.6003 - mae: 0.5501 - val_loss: 0.6236 - val_mae: 0.5655\n",
            "Epoch 9/10\n",
            "8393/8393 [==============================] - 79s 9ms/step - loss: 0.5935 - mae: 0.5468 - val_loss: 0.5697 - val_mae: 0.5254\n",
            "Epoch 10/10\n",
            "8393/8393 [==============================] - 78s 9ms/step - loss: 0.5874 - mae: 0.5433 - val_loss: 0.6056 - val_mae: 0.5523\n"
          ]
        }
      ],
      "source": [
        "fit_history5 = model5.fit(datasets[0], epochs=10, validation_data=datasets[1])"
      ]
    },
    {
      "cell_type": "code",
      "execution_count": 60,
      "metadata": {},
      "outputs": [
        {
          "name": "stdout",
          "output_type": "stream",
          "text": [
            "2740/2740 [==============================] - 12s 4ms/step - loss: 258.0229 - mae: 2.0756\n"
          ]
        },
        {
          "data": {
            "text/plain": [
              "[258.02288818359375, 2.0756468772888184]"
            ]
          },
          "execution_count": 60,
          "metadata": {},
          "output_type": "execute_result"
        }
      ],
      "source": [
        "model5.evaluate(datasets[2])"
      ]
    }
  ],
  "metadata": {
    "accelerator": "GPU",
    "colab": {
      "gpuType": "T4",
      "provenance": []
    },
    "kernelspec": {
      "display_name": "human-dl-env2",
      "language": "python",
      "name": "python3"
    },
    "language_info": {
      "codemirror_mode": {
        "name": "ipython",
        "version": 3
      },
      "file_extension": ".py",
      "mimetype": "text/x-python",
      "name": "python",
      "nbconvert_exporter": "python",
      "pygments_lexer": "ipython3",
      "version": "3.9.21"
    }
  },
  "nbformat": 4,
  "nbformat_minor": 0
}
