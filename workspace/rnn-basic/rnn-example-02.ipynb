{
 "cells": [
  {
   "cell_type": "code",
   "execution_count": 2,
   "metadata": {},
   "outputs": [],
   "source": [
    "# 패키지 설치\n",
    "# !pip install yfinance"
   ]
  },
  {
   "cell_type": "code",
   "execution_count": 1,
   "metadata": {},
   "outputs": [],
   "source": [
    "import yfinance as yf"
   ]
  },
  {
   "cell_type": "code",
   "execution_count": 2,
   "metadata": {},
   "outputs": [
    {
     "data": {
      "text/html": [
       "<div>\n",
       "<style scoped>\n",
       "    .dataframe tbody tr th:only-of-type {\n",
       "        vertical-align: middle;\n",
       "    }\n",
       "\n",
       "    .dataframe tbody tr th {\n",
       "        vertical-align: top;\n",
       "    }\n",
       "\n",
       "    .dataframe thead th {\n",
       "        text-align: right;\n",
       "    }\n",
       "</style>\n",
       "<table border=\"1\" class=\"dataframe\">\n",
       "  <thead>\n",
       "    <tr style=\"text-align: right;\">\n",
       "      <th></th>\n",
       "      <th>Open</th>\n",
       "      <th>High</th>\n",
       "      <th>Low</th>\n",
       "      <th>Close</th>\n",
       "      <th>Volume</th>\n",
       "      <th>Dividends</th>\n",
       "      <th>Stock Splits</th>\n",
       "    </tr>\n",
       "    <tr>\n",
       "      <th>Date</th>\n",
       "      <th></th>\n",
       "      <th></th>\n",
       "      <th></th>\n",
       "      <th></th>\n",
       "      <th></th>\n",
       "      <th></th>\n",
       "      <th></th>\n",
       "    </tr>\n",
       "  </thead>\n",
       "  <tbody>\n",
       "    <tr>\n",
       "      <th>2024-11-18 00:00:00+09:00</th>\n",
       "      <td>57000.0</td>\n",
       "      <td>57500.0</td>\n",
       "      <td>55900.0</td>\n",
       "      <td>56700.0</td>\n",
       "      <td>48095234</td>\n",
       "      <td>0.0</td>\n",
       "      <td>0.0</td>\n",
       "    </tr>\n",
       "    <tr>\n",
       "      <th>2024-11-19 00:00:00+09:00</th>\n",
       "      <td>56500.0</td>\n",
       "      <td>57500.0</td>\n",
       "      <td>55900.0</td>\n",
       "      <td>56300.0</td>\n",
       "      <td>31539632</td>\n",
       "      <td>0.0</td>\n",
       "      <td>0.0</td>\n",
       "    </tr>\n",
       "    <tr>\n",
       "      <th>2024-11-20 00:00:00+09:00</th>\n",
       "      <td>56100.0</td>\n",
       "      <td>56500.0</td>\n",
       "      <td>54800.0</td>\n",
       "      <td>55300.0</td>\n",
       "      <td>20864667</td>\n",
       "      <td>0.0</td>\n",
       "      <td>0.0</td>\n",
       "    </tr>\n",
       "    <tr>\n",
       "      <th>2024-11-21 00:00:00+09:00</th>\n",
       "      <td>54900.0</td>\n",
       "      <td>56900.0</td>\n",
       "      <td>54700.0</td>\n",
       "      <td>56400.0</td>\n",
       "      <td>19096850</td>\n",
       "      <td>0.0</td>\n",
       "      <td>0.0</td>\n",
       "    </tr>\n",
       "    <tr>\n",
       "      <th>2024-11-22 00:00:00+09:00</th>\n",
       "      <td>56000.0</td>\n",
       "      <td>56700.0</td>\n",
       "      <td>55900.0</td>\n",
       "      <td>56000.0</td>\n",
       "      <td>15281543</td>\n",
       "      <td>0.0</td>\n",
       "      <td>0.0</td>\n",
       "    </tr>\n",
       "  </tbody>\n",
       "</table>\n",
       "</div>"
      ],
      "text/plain": [
       "                              Open     High      Low    Close    Volume  \\\n",
       "Date                                                                      \n",
       "2024-11-18 00:00:00+09:00  57000.0  57500.0  55900.0  56700.0  48095234   \n",
       "2024-11-19 00:00:00+09:00  56500.0  57500.0  55900.0  56300.0  31539632   \n",
       "2024-11-20 00:00:00+09:00  56100.0  56500.0  54800.0  55300.0  20864667   \n",
       "2024-11-21 00:00:00+09:00  54900.0  56900.0  54700.0  56400.0  19096850   \n",
       "2024-11-22 00:00:00+09:00  56000.0  56700.0  55900.0  56000.0  15281543   \n",
       "\n",
       "                           Dividends  Stock Splits  \n",
       "Date                                                \n",
       "2024-11-18 00:00:00+09:00        0.0           0.0  \n",
       "2024-11-19 00:00:00+09:00        0.0           0.0  \n",
       "2024-11-20 00:00:00+09:00        0.0           0.0  \n",
       "2024-11-21 00:00:00+09:00        0.0           0.0  \n",
       "2024-11-22 00:00:00+09:00        0.0           0.0  "
      ]
     },
     "execution_count": 2,
     "metadata": {},
     "output_type": "execute_result"
    }
   ],
   "source": [
    "# stock = yf.Ticker(\"GOOG\") # 주가 조회 도구\n",
    "# stock = yf.Ticker(\"MSFT\") # 주가 조회 도구\n",
    "# stock = yf.Ticker(\"AAPL\") # 주가 조회 도구\n",
    "# stock = yf.Ticker(\"TSLA\") # 주가 조회 도구\n",
    "# stock = yf.Ticker(\"NVDA\") # 주가 조회 도구\n",
    "stock = yf.Ticker(\"005930.KS\") # 주가 조회 도구\n",
    "\n",
    "stock.history().head()"
   ]
  },
  {
   "cell_type": "code",
   "execution_count": 11,
   "metadata": {},
   "outputs": [
    {
     "name": "stdout",
     "output_type": "stream",
     "text": [
      "                                  Open         High          Low        Close  \\\n",
      "Date                                                                            \n",
      "2000-01-04 00:00:00+09:00  4325.925736  4405.234375  4080.789945  4405.234375   \n",
      "2000-01-05 00:00:00+09:00  4181.728621  4369.185421  3979.852067  4023.111328   \n",
      "\n",
      "                             Volume  Dividends  Stock Splits  \n",
      "Date                                                          \n",
      "2000-01-04 00:00:00+09:00  74195000        0.0           0.0  \n",
      "2000-01-05 00:00:00+09:00  74680000        0.0           0.0  \n",
      "                              Open     High      Low    Close    Volume  \\\n",
      "Date                                                                      \n",
      "2024-12-16 00:00:00+09:00  56300.0  56600.0  55200.0  55600.0  15277277   \n",
      "2024-12-17 00:00:00+09:00  54700.0  55200.0  54500.0  54600.0   6536557   \n",
      "\n",
      "                           Dividends  Stock Splits  \n",
      "Date                                                \n",
      "2024-12-16 00:00:00+09:00        0.0           0.0  \n",
      "2024-12-17 00:00:00+09:00        0.0           0.0  \n"
     ]
    }
   ],
   "source": [
    "stock = yf.Ticker(\"005930.KS\")\n",
    "\n",
    "# quotes = stock.history(start=\"2024-01-01\", end=\"2024-12-16\")\n",
    "quotes = stock.history(start=\"2000-01-01\", end=\"2024-12-31\")\n",
    "print( quotes.head(2) )\n",
    "print( quotes.tail(2) )"
   ]
  },
  {
   "cell_type": "code",
   "execution_count": null,
   "metadata": {},
   "outputs": [],
   "source": []
  }
 ],
 "metadata": {
  "kernelspec": {
   "display_name": "human-dl-env2",
   "language": "python",
   "name": "python3"
  },
  "language_info": {
   "codemirror_mode": {
    "name": "ipython",
    "version": 3
   },
   "file_extension": ".py",
   "mimetype": "text/x-python",
   "name": "python",
   "nbconvert_exporter": "python",
   "pygments_lexer": "ipython3",
   "version": "3.9.21"
  }
 },
 "nbformat": 4,
 "nbformat_minor": 2
}
