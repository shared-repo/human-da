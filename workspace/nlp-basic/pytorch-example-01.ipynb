{
 "cells": [
  {
   "cell_type": "code",
   "execution_count": 2,
   "metadata": {},
   "outputs": [],
   "source": [
    "# install pytorch\n",
    "\n",
    "# !pip3 install torch torchvision torchaudio"
   ]
  },
  {
   "cell_type": "code",
   "execution_count": 5,
   "metadata": {},
   "outputs": [],
   "source": [
    "import numpy as np\n",
    "import pandas as pd\n",
    "import matplotlib.pyplot as plt\n",
    "\n",
    "import torch\n",
    "import torch.nn as nn\n",
    "import torch.nn.functional as F\n",
    "from torchvision import transforms, datasets"
   ]
  },
  {
   "cell_type": "code",
   "execution_count": 4,
   "metadata": {},
   "outputs": [
    {
     "name": "stdout",
     "output_type": "stream",
     "text": [
      "cpu\n"
     ]
    }
   ],
   "source": [
    "# GPU 사용 가능 여부 확인 -> GPU or CPU 선택\n",
    "\n",
    "if torch.cuda.is_available():\n",
    "    device = torch.device('cuda')\n",
    "else:\n",
    "    device = torch.device('cpu')\n",
    "\n",
    "print(device)"
   ]
  },
  {
   "cell_type": "code",
   "execution_count": 6,
   "metadata": {},
   "outputs": [],
   "source": [
    "# 데이터 준비 1.\n",
    "transform = transforms.Compose([transforms.ToTensor()])"
   ]
  },
  {
   "cell_type": "code",
   "execution_count": null,
   "metadata": {},
   "outputs": [],
   "source": [
    "# 데이터 준비 2.\n",
    "train_dataset = datasets.MNIST(root=\"data-files\",\n",
    "                               train=True,\n",
    "                               download=True,\n",
    "                               # transform=transforms.ToTensor(),\n",
    "                               transform=transform)\n",
    "\n",
    "test_dataset = datasets.MNIST(root=\"data-files\",\n",
    "                              train=False,\n",
    "                              download=True,\n",
    "                              # transform=transforms.ToTensor(),\n",
    "                              transform=transform)"
   ]
  },
  {
   "cell_type": "code",
   "execution_count": 9,
   "metadata": {},
   "outputs": [],
   "source": [
    "# 데이터 준비 3.\n",
    "\n",
    "train_loader = torch.utils.data.DataLoader(dataset=train_dataset,\n",
    "                                           batch_size=32,\n",
    "                                           shuffle=True)\n",
    "test_loader = torch.utils.data.DataLoader(dataset=test_dataset,\n",
    "                                          batch_size=32,\n",
    "                                          shuffle=True)"
   ]
  },
  {
   "cell_type": "code",
   "execution_count": 10,
   "metadata": {},
   "outputs": [
    {
     "name": "stdout",
     "output_type": "stream",
     "text": [
      "torch.Size([32, 1, 28, 28]) torch.Size([32])\n"
     ]
    }
   ],
   "source": [
    "# 데이터 확인\n",
    "\n",
    "for X, y in train_loader:\n",
    "    print(X.shape, y.shape)\n",
    "    break"
   ]
  },
  {
   "cell_type": "code",
   "execution_count": 16,
   "metadata": {},
   "outputs": [
    {
     "data": {
      "image/png": "[encoded data removed]",
      "text/plain": [
       "<Figure size 640x480 with 10 Axes>"
      ]
     },
     "metadata": {},
     "output_type": "display_data"
    },
    {
     "data": {
      "text/plain": [
       "tensor([3, 9, 5, 8, 7, 4, 9, 0, 0, 7])"
      ]
     },
     "execution_count": 16,
     "metadata": {},
     "output_type": "execute_result"
    }
   ],
   "source": [
    "for idx in range(10):\n",
    "    plt.subplot(1, 10, idx+1)\n",
    "    plt.axis('off')\n",
    "    plt.imshow(X[idx, :, :, :].reshape(28, 28), cmap=\"gray_r\")\n",
    "plt.show()\n",
    "y[:10]"
   ]
  },
  {
   "cell_type": "code",
   "execution_count": 20,
   "metadata": {},
   "outputs": [],
   "source": [
    "# 모델 구조 설계\n",
    "\n",
    "class MnistNet(nn.Module):\n",
    "    def __init__(self):\n",
    "        super(MnistNet, self).__init__()\n",
    "        self.fc1 = nn.Linear(28*28, 512)\n",
    "        self.fc2 = nn.Linear(512, 256)\n",
    "        self.fc3 = nn.Linear(256, 10)\n",
    "\n",
    "    def forward(self, x):\n",
    "        x = x.view(-1, 28*28)\n",
    "        x = self.fc1(x)\n",
    "        x = F.relu(x)\n",
    "        x = self.fc2(x)\n",
    "        x = F.relu(x)\n",
    "        x = self.fc3(x)\n",
    "        x = F.log_softmax(x, dim=1)\n",
    "        return x"
   ]
  },
  {
   "cell_type": "code",
   "execution_count": 21,
   "metadata": {},
   "outputs": [
    {
     "name": "stdout",
     "output_type": "stream",
     "text": [
      "MnistNet(\n",
      "  (fc1): Linear(in_features=784, out_features=512, bias=True)\n",
      "  (fc2): Linear(in_features=512, out_features=256, bias=True)\n",
      "  (fc3): Linear(in_features=256, out_features=10, bias=True)\n",
      ")\n"
     ]
    }
   ],
   "source": [
    "# 학습 도구 구성\n",
    "model = MnistNet().to(device)\n",
    "# loss = nn.CrossEntropyLoss()\n",
    "criterion = nn.CrossEntropyLoss()\n",
    "optimizer = torch.optim.Adam(model.parameters())\n",
    "\n",
    "print(model)"
   ]
  },
  {
   "cell_type": "code",
   "execution_count": 28,
   "metadata": {},
   "outputs": [],
   "source": [
    "# 훈련 함수 정의 (학습 설계)\n",
    "def train(model, train_loader, optimizer):\n",
    "    model.train() # train mode로 설정\n",
    "    for idx, (images, labels) in enumerate(train_loader):\n",
    "        images = images.to(device)\n",
    "        labels = labels.to(device)\n",
    "        optimizer.zero_grad()\n",
    "        output = model(images)\n",
    "        loss = criterion(output, labels)\n",
    "        loss.backward()\n",
    "        optimizer.step()\n",
    "\n",
    "        if idx % 300 == 0:\n",
    "            print(f\"Batch : {idx}, Loss : {loss.item()}\")"
   ]
  },
  {
   "cell_type": "code",
   "execution_count": 26,
   "metadata": {},
   "outputs": [],
   "source": [
    "def evaluate(model, test_loader):\n",
    "    loss_total = 0\n",
    "    correct_total = 0\n",
    "    model.eval() # evaluation mode로 설정 -> batch-normalization, drop-out 수행 중지\n",
    "    with torch.no_grad(): # 가중치 업데이트 수행 중지\n",
    "        for images, labels in test_loader:\n",
    "            images = images.to(device)\n",
    "            labels = labels.to(device)\n",
    "            output = model(images)\n",
    "            loss = criterion(output, labels).item()\n",
    "            loss_total += loss\n",
    "            predicted_values = output.max(1, keepdim=True)[1]\n",
    "            correct = predicted_values.eq(labels.view_as(predicted_values)).sum().item()\n",
    "            correct_total += correct\n",
    "\n",
    "    loss_total /= ( len(test_dataset) / 32 )\n",
    "    accuracy = correct_total / len(test_dataset)\n",
    "\n",
    "    return loss_total, accuracy\n",
    "\n"
   ]
  },
  {
   "cell_type": "code",
   "execution_count": 29,
   "metadata": {},
   "outputs": [
    {
     "name": "stdout",
     "output_type": "stream",
     "text": [
      "Batch : 0, Loss : 0.0005693210405297577\n",
      "Batch : 300, Loss : 0.02889356203377247\n",
      "Batch : 600, Loss : 0.00044296655687503517\n",
      "Batch : 900, Loss : 8.909129246603698e-05\n",
      "Batch : 1200, Loss : 0.008195111528038979\n",
      "Batch : 1500, Loss : 0.016145076602697372\n",
      "Batch : 1800, Loss : 0.0014470124151557684\n",
      "Epoch : 1, Loss: 0.13149555208267266, Accuracy : 0.9771\n",
      "Batch : 0, Loss : 5.711977064493112e-05\n",
      "Batch : 300, Loss : 0.001355308573693037\n",
      "Batch : 600, Loss : 0.0027128050569444895\n",
      "Batch : 900, Loss : 0.0023941537365317345\n",
      "Batch : 1200, Loss : 0.0002611472737044096\n",
      "Batch : 1500, Loss : 0.000810751284006983\n",
      "Batch : 1800, Loss : 8.403330866713077e-06\n",
      "Epoch : 2, Loss: 0.12069949616411596, Accuracy : 0.9788\n",
      "Batch : 0, Loss : 0.004294903017580509\n",
      "Batch : 300, Loss : 0.0011683676857501268\n",
      "Batch : 600, Loss : 0.13851507008075714\n",
      "Batch : 900, Loss : 0.0002233110135421157\n",
      "Batch : 1200, Loss : 0.011711741797626019\n",
      "Batch : 1500, Loss : 0.17186003923416138\n",
      "Batch : 1800, Loss : 0.0002492988423909992\n",
      "Epoch : 3, Loss: 0.13285454845477962, Accuracy : 0.9767\n",
      "Batch : 0, Loss : 0.0004757156712003052\n",
      "Batch : 300, Loss : 0.0033248469699174166\n",
      "Batch : 600, Loss : 2.9376327802310698e-05\n",
      "Batch : 900, Loss : 0.001291258609853685\n",
      "Batch : 1200, Loss : 0.19927851855754852\n",
      "Batch : 1500, Loss : 1.542258928566298e-06\n",
      "Batch : 1800, Loss : 0.007759259548038244\n",
      "Epoch : 4, Loss: 0.11102652648849726, Accuracy : 0.9808\n",
      "Batch : 0, Loss : 7.29901876184158e-05\n",
      "Batch : 300, Loss : 4.593157882482046e-06\n",
      "Batch : 600, Loss : 0.00029405628447420895\n",
      "Batch : 900, Loss : 0.0036219742614775896\n",
      "Batch : 1200, Loss : 5.2859008974337485e-06\n",
      "Batch : 1500, Loss : 2.6171293939114548e-05\n",
      "Batch : 1800, Loss : 0.0014953144127503037\n",
      "Epoch : 5, Loss: 0.12537459692472594, Accuracy : 0.9803\n",
      "Batch : 0, Loss : 0.020573044195771217\n",
      "Batch : 300, Loss : 0.02894606441259384\n",
      "Batch : 600, Loss : 8.387890557060018e-05\n",
      "Batch : 900, Loss : 0.0008574475650675595\n",
      "Batch : 1200, Loss : 0.0009225166286341846\n",
      "Batch : 1500, Loss : 0.0011274932185187936\n",
      "Batch : 1800, Loss : 0.03035261295735836\n",
      "Epoch : 6, Loss: 0.13860621193474656, Accuracy : 0.9808\n",
      "Batch : 0, Loss : 0.00013727250916417688\n",
      "Batch : 300, Loss : 0.0022255806252360344\n",
      "Batch : 600, Loss : 0.00017323254724033177\n",
      "Batch : 900, Loss : 2.677406337170396e-05\n",
      "Batch : 1200, Loss : 3.2037405617302284e-07\n",
      "Batch : 1500, Loss : 5.7550637393433135e-06\n",
      "Batch : 1800, Loss : 3.524525891407393e-05\n",
      "Epoch : 7, Loss: 0.11436699410292239, Accuracy : 0.9823\n",
      "Batch : 0, Loss : 8.659877494210377e-05\n",
      "Batch : 300, Loss : 2.2079522750573233e-05\n",
      "Batch : 600, Loss : 4.5820837613064214e-07\n",
      "Batch : 900, Loss : 0.00301452842541039\n",
      "Batch : 1200, Loss : 0.0008003719849511981\n",
      "Batch : 1500, Loss : 5.471985332405893e-06\n",
      "Batch : 1800, Loss : 8.419107189183705e-07\n",
      "Epoch : 8, Loss: 0.11505029636752452, Accuracy : 0.9816\n",
      "Batch : 0, Loss : 0.0042059109546244144\n",
      "Batch : 300, Loss : 8.336444443557411e-05\n",
      "Batch : 600, Loss : 4.366592111182399e-05\n",
      "Batch : 900, Loss : 0.0004929211572743952\n",
      "Batch : 1200, Loss : 0.003371357684955001\n",
      "Batch : 1500, Loss : 2.495936541890842e-07\n",
      "Batch : 1800, Loss : 0.005444772075861692\n",
      "Epoch : 9, Loss: 0.12864598870961466, Accuracy : 0.9815\n",
      "Batch : 0, Loss : 0.0002063186839222908\n",
      "Batch : 300, Loss : 5.215403220404369e-08\n",
      "Batch : 600, Loss : 0.0003976168227382004\n",
      "Batch : 900, Loss : 2.3766865524521563e-06\n",
      "Batch : 1200, Loss : 0.002094586379826069\n",
      "Batch : 1500, Loss : 0.06049249693751335\n",
      "Batch : 1800, Loss : 0.5554401278495789\n",
      "Epoch : 10, Loss: 0.12628592658374513, Accuracy : 0.9822\n"
     ]
    }
   ],
   "source": [
    "# 학습 실행\n",
    "\n",
    "for epoch in range(10):    \n",
    "    train(model, train_loader, optimizer)\n",
    "    loss, accuracy = evaluate(model, test_loader)\n",
    "    print(f\"Epoch : {epoch + 1}, Loss: {loss}, Accuracy : {accuracy}\")\n",
    "\n",
    "    "
   ]
  },
  {
   "cell_type": "code",
   "execution_count": 30,
   "metadata": {},
   "outputs": [
    {
     "data": {
      "text/plain": [
       "(0.12653801807692777, 0.9822)"
      ]
     },
     "execution_count": 30,
     "metadata": {},
     "output_type": "execute_result"
    }
   ],
   "source": [
    "evaluate(model, test_loader)"
   ]
  }
 ],
 "metadata": {
  "kernelspec": {
   "display_name": "human-dl-env2",
   "language": "python",
   "name": "python3"
  },
  "language_info": {
   "codemirror_mode": {
    "name": "ipython",
    "version": 3
   },
   "file_extension": ".py",
   "mimetype": "text/x-python",
   "name": "python",
   "nbconvert_exporter": "python",
   "pygments_lexer": "ipython3",
   "version": "3.9.21"
  }
 },
 "nbformat": 4,
 "nbformat_minor": 2
}
