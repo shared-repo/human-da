{
 "cells": [
  {
   "cell_type": "code",
   "execution_count": 1,
   "metadata": {},
   "outputs": [],
   "source": [
    "import numpy as np\n",
    "import pandas as pd\n",
    "import matplotlib.pyplot as plt\n",
    "\n",
    "import torch\n",
    "import torch.nn as nn\n",
    "import torch.nn.functional as F\n",
    "from torchvision import transforms, datasets"
   ]
  },
  {
   "cell_type": "code",
   "execution_count": 2,
   "metadata": {},
   "outputs": [
    {
     "name": "stdout",
     "output_type": "stream",
     "text": [
      "cpu\n"
     ]
    }
   ],
   "source": [
    "# GPU 사용 가능 여부 확인 -> GPU or CPU 선택\n",
    "\n",
    "if torch.cuda.is_available():\n",
    "    device = torch.device('cuda')\n",
    "else:\n",
    "    device = torch.device('cpu')\n",
    "\n",
    "print(device)"
   ]
  },
  {
   "cell_type": "code",
   "execution_count": 3,
   "metadata": {},
   "outputs": [],
   "source": [
    "# 데이터 준비 1.\n",
    "transform = transforms.Compose([transforms.ToTensor()])"
   ]
  },
  {
   "cell_type": "code",
   "execution_count": 4,
   "metadata": {},
   "outputs": [],
   "source": [
    "# 데이터 준비 2.\n",
    "train_dataset = datasets.MNIST(root=\"data-files\",\n",
    "                               train=True,\n",
    "                               download=True,\n",
    "                               # transform=transforms.ToTensor(),\n",
    "                               transform=transform)\n",
    "\n",
    "test_dataset = datasets.MNIST(root=\"data-files\",\n",
    "                              train=False,\n",
    "                              download=True,\n",
    "                              # transform=transforms.ToTensor(),\n",
    "                              transform=transform)"
   ]
  },
  {
   "cell_type": "code",
   "execution_count": 5,
   "metadata": {},
   "outputs": [],
   "source": [
    "# 데이터 준비 3.\n",
    "\n",
    "train_loader = torch.utils.data.DataLoader(dataset=train_dataset,\n",
    "                                           batch_size=32,\n",
    "                                           shuffle=True)\n",
    "test_loader = torch.utils.data.DataLoader(dataset=test_dataset,\n",
    "                                          batch_size=32,\n",
    "                                          shuffle=True)"
   ]
  },
  {
   "cell_type": "code",
   "execution_count": 6,
   "metadata": {},
   "outputs": [
    {
     "name": "stdout",
     "output_type": "stream",
     "text": [
      "torch.Size([32, 1, 28, 28]) torch.Size([32])\n"
     ]
    }
   ],
   "source": [
    "# 데이터 확인\n",
    "\n",
    "for X, y in train_loader:\n",
    "    print(X.shape, y.shape)\n",
    "    break"
   ]
  },
  {
   "cell_type": "code",
   "execution_count": 7,
   "metadata": {},
   "outputs": [
    {
     "data": {
      "image/png": "[encoded data removed]",
      "text/plain": [
       "<Figure size 640x480 with 10 Axes>"
      ]
     },
     "metadata": {},
     "output_type": "display_data"
    },
    {
     "data": {
      "text/plain": [
       "tensor([8, 1, 8, 5, 1, 0, 1, 8, 5, 5])"
      ]
     },
     "execution_count": 7,
     "metadata": {},
     "output_type": "execute_result"
    }
   ],
   "source": [
    "for idx in range(10):\n",
    "    plt.subplot(1, 10, idx+1)\n",
    "    plt.axis('off')\n",
    "    plt.imshow(X[idx, :, :, :].reshape(28, 28), cmap=\"gray_r\")\n",
    "plt.show()\n",
    "y[:10]"
   ]
  },
  {
   "cell_type": "code",
   "execution_count": 10,
   "metadata": {},
   "outputs": [],
   "source": [
    "# 모델 구조 설계\n",
    "\n",
    "class MnistCnn(nn.Module):\n",
    "    def __init__(self):\n",
    "        super(MnistCnn, self).__init__()\n",
    "        self.conv1 = nn.Conv2d(in_channels=1, out_channels=8, kernel_size=3, padding=1)\n",
    "        self.conv2 = nn.Conv2d(in_channels=8, out_channels=16, kernel_size=3, padding=1)\n",
    "        self.pool = nn.MaxPool2d(kernel_size=2, stride=2)\n",
    "        self.fc1 = nn.Linear(7*7*16, 32)\n",
    "        self.fc2 = nn.Linear(32, 10)\n",
    "\n",
    "    def forward(self, x):\n",
    "        x = self.conv1(x)\n",
    "        x = F.relu(x)\n",
    "        x = self.pool(x)\n",
    "        x = self.conv2(x)\n",
    "        x = F.relu(x)\n",
    "        x = self.pool(x)\n",
    "\n",
    "        x = x.view(-1, 7*7*16)\n",
    "        x = self.fc1(x)\n",
    "        x = F.relu(x)\n",
    "        x = self.fc2(x)\n",
    "        x = F.log_softmax(x, dim=1)\n",
    "        return x"
   ]
  },
  {
   "cell_type": "code",
   "execution_count": 11,
   "metadata": {},
   "outputs": [
    {
     "name": "stdout",
     "output_type": "stream",
     "text": [
      "MnistCnn(\n",
      "  (conv1): Conv2d(1, 8, kernel_size=(3, 3), stride=(1, 1), padding=(1, 1))\n",
      "  (conv2): Conv2d(8, 16, kernel_size=(3, 3), stride=(1, 1), padding=(1, 1))\n",
      "  (pool): MaxPool2d(kernel_size=2, stride=2, padding=0, dilation=1, ceil_mode=False)\n",
      "  (fc1): Linear(in_features=784, out_features=32, bias=True)\n",
      "  (fc2): Linear(in_features=32, out_features=10, bias=True)\n",
      ")\n"
     ]
    }
   ],
   "source": [
    "# 학습 도구 구성\n",
    "model = MnistCnn().to(device)\n",
    "# loss = nn.CrossEntropyLoss()\n",
    "criterion = nn.CrossEntropyLoss()\n",
    "optimizer = torch.optim.Adam(model.parameters())\n",
    "\n",
    "print(model)"
   ]
  },
  {
   "cell_type": "code",
   "execution_count": 12,
   "metadata": {},
   "outputs": [],
   "source": [
    "# 훈련 함수 정의 (학습 설계)\n",
    "def train(model, train_loader, optimizer):\n",
    "    model.train() # train mode로 설정\n",
    "    for idx, (images, labels) in enumerate(train_loader):\n",
    "        images = images.to(device)\n",
    "        labels = labels.to(device)\n",
    "        optimizer.zero_grad()\n",
    "        output = model(images)\n",
    "        loss = criterion(output, labels)\n",
    "        loss.backward()\n",
    "        optimizer.step()\n",
    "\n",
    "        if idx % 300 == 0:\n",
    "            print(f\"Batch : {idx}, Loss : {loss.item()}\")"
   ]
  },
  {
   "cell_type": "code",
   "execution_count": 13,
   "metadata": {},
   "outputs": [],
   "source": [
    "def evaluate(model, test_loader):\n",
    "    loss_total = 0\n",
    "    correct_total = 0\n",
    "    model.eval() # evaluation mode로 설정 -> batch-normalization, drop-out 수행 중지\n",
    "    with torch.no_grad(): # 가중치 업데이트 수행 중지\n",
    "        for images, labels in test_loader:\n",
    "            images = images.to(device)\n",
    "            labels = labels.to(device)\n",
    "            output = model(images)\n",
    "            loss = criterion(output, labels).item()\n",
    "            loss_total += loss\n",
    "            predicted_values = output.max(1, keepdim=True)[1]\n",
    "            correct = predicted_values.eq(labels.view_as(predicted_values)).sum().item()\n",
    "            correct_total += correct\n",
    "\n",
    "    loss_total /= ( len(test_dataset) / 32 )\n",
    "    accuracy = correct_total / len(test_dataset)\n",
    "\n",
    "    return loss_total, accuracy\n",
    "\n"
   ]
  },
  {
   "cell_type": "code",
   "execution_count": 14,
   "metadata": {},
   "outputs": [
    {
     "name": "stdout",
     "output_type": "stream",
     "text": [
      "Batch : 0, Loss : 2.316305637359619\n",
      "Batch : 300, Loss : 0.5155354738235474\n",
      "Batch : 600, Loss : 0.07583935558795929\n",
      "Batch : 900, Loss : 0.021108627319335938\n",
      "Batch : 1200, Loss : 0.11227381974458694\n",
      "Batch : 1500, Loss : 0.16222144663333893\n",
      "Batch : 1800, Loss : 0.08029793202877045\n",
      "Epoch : 1, Loss: 0.09327018895447255, Accuracy : 0.9711\n",
      "Batch : 0, Loss : 0.2635621428489685\n",
      "Batch : 300, Loss : 0.13565628230571747\n",
      "Batch : 600, Loss : 0.21897147595882416\n",
      "Batch : 900, Loss : 0.039723195135593414\n",
      "Batch : 1200, Loss : 0.18333806097507477\n",
      "Batch : 1500, Loss : 0.1801956444978714\n",
      "Batch : 1800, Loss : 0.010146952234208584\n",
      "Epoch : 2, Loss: 0.06020489181354642, Accuracy : 0.9812\n",
      "Batch : 0, Loss : 0.04186301678419113\n",
      "Batch : 300, Loss : 0.005837844219058752\n",
      "Batch : 600, Loss : 0.025162871927022934\n",
      "Batch : 900, Loss : 0.010805541649460793\n",
      "Batch : 1200, Loss : 0.0075221280567348\n",
      "Batch : 1500, Loss : 0.03031468391418457\n",
      "Batch : 1800, Loss : 0.04174387827515602\n",
      "Epoch : 3, Loss: 0.04666935867331922, Accuracy : 0.9846\n",
      "Batch : 0, Loss : 0.0665198490023613\n",
      "Batch : 300, Loss : 0.006134224124252796\n",
      "Batch : 600, Loss : 0.02017197012901306\n",
      "Batch : 900, Loss : 0.008987744338810444\n",
      "Batch : 1200, Loss : 0.011851241812109947\n",
      "Batch : 1500, Loss : 0.2134103626012802\n",
      "Batch : 1800, Loss : 0.054723210632801056\n",
      "Epoch : 4, Loss: 0.04292395513448864, Accuracy : 0.9852\n",
      "Batch : 0, Loss : 0.004300273954868317\n",
      "Batch : 300, Loss : 0.0022084475494921207\n",
      "Batch : 600, Loss : 0.0026104645803570747\n",
      "Batch : 900, Loss : 0.014853649772703648\n",
      "Batch : 1200, Loss : 0.19343210756778717\n",
      "Batch : 1500, Loss : 0.04009854421019554\n",
      "Batch : 1800, Loss : 0.014770383946597576\n",
      "Epoch : 5, Loss: 0.051331529162544756, Accuracy : 0.9822\n",
      "Batch : 0, Loss : 0.0018201522761955857\n",
      "Batch : 300, Loss : 0.0029510201420634985\n",
      "Batch : 600, Loss : 0.0032427613623440266\n",
      "Batch : 900, Loss : 0.0505349300801754\n",
      "Batch : 1200, Loss : 0.08348803222179413\n",
      "Batch : 1500, Loss : 0.04770875349640846\n",
      "Batch : 1800, Loss : 0.00047398998867720366\n",
      "Epoch : 6, Loss: 0.04307216745372862, Accuracy : 0.9855\n",
      "Batch : 0, Loss : 0.012014947831630707\n",
      "Batch : 300, Loss : 0.19693639874458313\n",
      "Batch : 600, Loss : 0.011679085902869701\n",
      "Batch : 900, Loss : 0.005149197764694691\n",
      "Batch : 1200, Loss : 0.0033615012653172016\n",
      "Batch : 1500, Loss : 0.009662965312600136\n",
      "Batch : 1800, Loss : 0.005573124159127474\n",
      "Epoch : 7, Loss: 0.03579770078249276, Accuracy : 0.9882\n",
      "Batch : 0, Loss : 0.0035244545433670282\n",
      "Batch : 300, Loss : 0.1897064596414566\n",
      "Batch : 600, Loss : 0.007171063218265772\n",
      "Batch : 900, Loss : 0.010347666218876839\n",
      "Batch : 1200, Loss : 0.001099804532714188\n",
      "Batch : 1500, Loss : 0.002993172500282526\n",
      "Batch : 1800, Loss : 0.1788223534822464\n",
      "Epoch : 8, Loss: 0.03823561121770181, Accuracy : 0.986\n",
      "Batch : 0, Loss : 0.002779471455141902\n",
      "Batch : 300, Loss : 0.003533383598551154\n",
      "Batch : 600, Loss : 0.03818383812904358\n",
      "Batch : 900, Loss : 0.006725698709487915\n",
      "Batch : 1200, Loss : 0.0014671168755739927\n",
      "Batch : 1500, Loss : 0.025564149022102356\n",
      "Batch : 1800, Loss : 0.015225766226649284\n",
      "Epoch : 9, Loss: 0.03339910344453528, Accuracy : 0.9879\n",
      "Batch : 0, Loss : 0.0043520014733076096\n",
      "Batch : 300, Loss : 0.006333781406283379\n",
      "Batch : 600, Loss : 0.08273123949766159\n",
      "Batch : 900, Loss : 0.002357322024181485\n",
      "Batch : 1200, Loss : 0.001847408595494926\n",
      "Batch : 1500, Loss : 0.028056826442480087\n",
      "Batch : 1800, Loss : 0.0037630172446370125\n",
      "Epoch : 10, Loss: 0.039610804109694434, Accuracy : 0.9872\n"
     ]
    }
   ],
   "source": [
    "# 학습 실행\n",
    "\n",
    "for epoch in range(10):    \n",
    "    train(model, train_loader, optimizer)\n",
    "    loss, accuracy = evaluate(model, test_loader)\n",
    "    print(f\"Epoch : {epoch + 1}, Loss: {loss}, Accuracy : {accuracy}\")\n",
    "\n",
    "    "
   ]
  },
  {
   "cell_type": "code",
   "execution_count": 15,
   "metadata": {},
   "outputs": [
    {
     "ename": "KeyboardInterrupt",
     "evalue": "",
     "output_type": "error",
     "traceback": [
      "\u001b[1;31m---------------------------------------------------------------------------\u001b[0m",
      "\u001b[1;31mKeyboardInterrupt\u001b[0m                         Traceback (most recent call last)",
      "Cell \u001b[1;32mIn[15], line 1\u001b[0m\n\u001b[1;32m----> 1\u001b[0m \u001b[43mevaluate\u001b[49m\u001b[43m(\u001b[49m\u001b[43mmodel\u001b[49m\u001b[43m,\u001b[49m\u001b[43m \u001b[49m\u001b[43mtest_loader\u001b[49m\u001b[43m)\u001b[49m\n",
      "Cell \u001b[1;32mIn[13], line 6\u001b[0m, in \u001b[0;36mevaluate\u001b[1;34m(model, test_loader)\u001b[0m\n\u001b[0;32m      4\u001b[0m model\u001b[38;5;241m.\u001b[39meval() \u001b[38;5;66;03m# evaluation mode로 설정 -> batch-normalization, drop-out 수행 중지\u001b[39;00m\n\u001b[0;32m      5\u001b[0m \u001b[38;5;28;01mwith\u001b[39;00m torch\u001b[38;5;241m.\u001b[39mno_grad(): \u001b[38;5;66;03m# 가중치 업데이트 수행 중지\u001b[39;00m\n\u001b[1;32m----> 6\u001b[0m     \u001b[38;5;28;01mfor\u001b[39;00m images, labels \u001b[38;5;129;01min\u001b[39;00m test_loader:\n\u001b[0;32m      7\u001b[0m         images \u001b[38;5;241m=\u001b[39m images\u001b[38;5;241m.\u001b[39mto(device)\n\u001b[0;32m      8\u001b[0m         labels \u001b[38;5;241m=\u001b[39m labels\u001b[38;5;241m.\u001b[39mto(device)\n",
      "Cell \u001b[1;32mIn[13], line 6\u001b[0m, in \u001b[0;36mevaluate\u001b[1;34m(model, test_loader)\u001b[0m\n\u001b[0;32m      4\u001b[0m model\u001b[38;5;241m.\u001b[39meval() \u001b[38;5;66;03m# evaluation mode로 설정 -> batch-normalization, drop-out 수행 중지\u001b[39;00m\n\u001b[0;32m      5\u001b[0m \u001b[38;5;28;01mwith\u001b[39;00m torch\u001b[38;5;241m.\u001b[39mno_grad(): \u001b[38;5;66;03m# 가중치 업데이트 수행 중지\u001b[39;00m\n\u001b[1;32m----> 6\u001b[0m     \u001b[38;5;28;01mfor\u001b[39;00m images, labels \u001b[38;5;129;01min\u001b[39;00m test_loader:\n\u001b[0;32m      7\u001b[0m         images \u001b[38;5;241m=\u001b[39m images\u001b[38;5;241m.\u001b[39mto(device)\n\u001b[0;32m      8\u001b[0m         labels \u001b[38;5;241m=\u001b[39m labels\u001b[38;5;241m.\u001b[39mto(device)\n",
      "File \u001b[1;32m_pydevd_bundle\\\\pydevd_cython.pyx:1697\u001b[0m, in \u001b[0;36m_pydevd_bundle.pydevd_cython.SafeCallWrapper.__call__\u001b[1;34m()\u001b[0m\n",
      "File \u001b[1;32m_pydevd_bundle\\\\pydevd_cython.pyx:634\u001b[0m, in \u001b[0;36m_pydevd_bundle.pydevd_cython.PyDBFrame.trace_dispatch\u001b[1;34m()\u001b[0m\n",
      "File \u001b[1;32m_pydevd_bundle\\\\pydevd_cython.pyx:1112\u001b[0m, in \u001b[0;36m_pydevd_bundle.pydevd_cython.PyDBFrame.trace_dispatch\u001b[1;34m()\u001b[0m\n",
      "File \u001b[1;32m_pydevd_bundle\\\\pydevd_cython.pyx:1090\u001b[0m, in \u001b[0;36m_pydevd_bundle.pydevd_cython.PyDBFrame.trace_dispatch\u001b[1;34m()\u001b[0m\n",
      "File \u001b[1;32m_pydevd_bundle\\\\pydevd_cython.pyx:494\u001b[0m, in \u001b[0;36m_pydevd_bundle.pydevd_cython.PyDBFrame.do_wait_suspend\u001b[1;34m()\u001b[0m\n",
      "File \u001b[1;32mc:\\Users\\human\\.conda\\envs\\human-dl-env2\\lib\\site-packages\\debugpy\\_vendored\\pydevd\\pydevd.py:2185\u001b[0m, in \u001b[0;36mPyDB.do_wait_suspend\u001b[1;34m(self, thread, frame, event, arg, exception_type)\u001b[0m\n\u001b[0;32m   2182\u001b[0m             from_this_thread\u001b[38;5;241m.\u001b[39mappend(frame_custom_thread_id)\n\u001b[0;32m   2184\u001b[0m     \u001b[38;5;28;01mwith\u001b[39;00m \u001b[38;5;28mself\u001b[39m\u001b[38;5;241m.\u001b[39m_threads_suspended_single_notification\u001b[38;5;241m.\u001b[39mnotify_thread_suspended(thread_id, thread, stop_reason):\n\u001b[1;32m-> 2185\u001b[0m         keep_suspended \u001b[38;5;241m=\u001b[39m \u001b[38;5;28;43mself\u001b[39;49m\u001b[38;5;241;43m.\u001b[39;49m\u001b[43m_do_wait_suspend\u001b[49m\u001b[43m(\u001b[49m\u001b[43mthread\u001b[49m\u001b[43m,\u001b[49m\u001b[43m \u001b[49m\u001b[43mframe\u001b[49m\u001b[43m,\u001b[49m\u001b[43m \u001b[49m\u001b[43mevent\u001b[49m\u001b[43m,\u001b[49m\u001b[43m \u001b[49m\u001b[43marg\u001b[49m\u001b[43m,\u001b[49m\u001b[43m \u001b[49m\u001b[43mtrace_suspend_type\u001b[49m\u001b[43m,\u001b[49m\u001b[43m \u001b[49m\u001b[43mfrom_this_thread\u001b[49m\u001b[43m,\u001b[49m\u001b[43m \u001b[49m\u001b[43mframes_tracker\u001b[49m\u001b[43m)\u001b[49m\n\u001b[0;32m   2187\u001b[0m frames_list \u001b[38;5;241m=\u001b[39m \u001b[38;5;28;01mNone\u001b[39;00m\n\u001b[0;32m   2189\u001b[0m \u001b[38;5;28;01mif\u001b[39;00m keep_suspended:\n\u001b[0;32m   2190\u001b[0m     \u001b[38;5;66;03m# This means that we should pause again after a set next statement.\u001b[39;00m\n",
      "File \u001b[1;32mc:\\Users\\human\\.conda\\envs\\human-dl-env2\\lib\\site-packages\\debugpy\\_vendored\\pydevd\\pydevd.py:2254\u001b[0m, in \u001b[0;36mPyDB._do_wait_suspend\u001b[1;34m(self, thread, frame, event, arg, trace_suspend_type, from_this_thread, frames_tracker)\u001b[0m\n\u001b[0;32m   2251\u001b[0m                 queue\u001b[38;5;241m.\u001b[39mput(internal_cmd)\n\u001b[0;32m   2252\u001b[0m                 wait_timeout \u001b[38;5;241m=\u001b[39m TIMEOUT_FAST\n\u001b[1;32m-> 2254\u001b[0m         \u001b[43mnotify_event\u001b[49m\u001b[38;5;241;43m.\u001b[39;49m\u001b[43mwait\u001b[49m\u001b[43m(\u001b[49m\u001b[43mwait_timeout\u001b[49m\u001b[43m)\u001b[49m\n\u001b[0;32m   2255\u001b[0m         notify_event\u001b[38;5;241m.\u001b[39mclear()\n\u001b[0;32m   2257\u001b[0m \u001b[38;5;28;01mfinally\u001b[39;00m:\n",
      "File \u001b[1;32mc:\\Users\\human\\.conda\\envs\\human-dl-env2\\lib\\threading.py:581\u001b[0m, in \u001b[0;36mEvent.wait\u001b[1;34m(self, timeout)\u001b[0m\n\u001b[0;32m    579\u001b[0m signaled \u001b[38;5;241m=\u001b[39m \u001b[38;5;28mself\u001b[39m\u001b[38;5;241m.\u001b[39m_flag\n\u001b[0;32m    580\u001b[0m \u001b[38;5;28;01mif\u001b[39;00m \u001b[38;5;129;01mnot\u001b[39;00m signaled:\n\u001b[1;32m--> 581\u001b[0m     signaled \u001b[38;5;241m=\u001b[39m \u001b[38;5;28;43mself\u001b[39;49m\u001b[38;5;241;43m.\u001b[39;49m\u001b[43m_cond\u001b[49m\u001b[38;5;241;43m.\u001b[39;49m\u001b[43mwait\u001b[49m\u001b[43m(\u001b[49m\u001b[43mtimeout\u001b[49m\u001b[43m)\u001b[49m\n\u001b[0;32m    582\u001b[0m \u001b[38;5;28;01mreturn\u001b[39;00m signaled\n",
      "File \u001b[1;32mc:\\Users\\human\\.conda\\envs\\human-dl-env2\\lib\\threading.py:316\u001b[0m, in \u001b[0;36mCondition.wait\u001b[1;34m(self, timeout)\u001b[0m\n\u001b[0;32m    314\u001b[0m \u001b[38;5;28;01melse\u001b[39;00m:\n\u001b[0;32m    315\u001b[0m     \u001b[38;5;28;01mif\u001b[39;00m timeout \u001b[38;5;241m>\u001b[39m \u001b[38;5;241m0\u001b[39m:\n\u001b[1;32m--> 316\u001b[0m         gotit \u001b[38;5;241m=\u001b[39m \u001b[43mwaiter\u001b[49m\u001b[38;5;241;43m.\u001b[39;49m\u001b[43macquire\u001b[49m\u001b[43m(\u001b[49m\u001b[38;5;28;43;01mTrue\u001b[39;49;00m\u001b[43m,\u001b[49m\u001b[43m \u001b[49m\u001b[43mtimeout\u001b[49m\u001b[43m)\u001b[49m\n\u001b[0;32m    317\u001b[0m     \u001b[38;5;28;01melse\u001b[39;00m:\n\u001b[0;32m    318\u001b[0m         gotit \u001b[38;5;241m=\u001b[39m waiter\u001b[38;5;241m.\u001b[39macquire(\u001b[38;5;28;01mFalse\u001b[39;00m)\n",
      "\u001b[1;31mKeyboardInterrupt\u001b[0m: "
     ]
    }
   ],
   "source": [
    "evaluate(model, test_loader)"
   ]
  }
 ],
 "metadata": {
  "kernelspec": {
   "display_name": "human-dl-env2",
   "language": "python",
   "name": "python3"
  },
  "language_info": {
   "codemirror_mode": {
    "name": "ipython",
    "version": 3
   },
   "file_extension": ".py",
   "mimetype": "text/x-python",
   "name": "python",
   "nbconvert_exporter": "python",
   "pygments_lexer": "ipython3",
   "version": "3.9.21"
  }
 },
 "nbformat": 4,
 "nbformat_minor": 2
}
