{
 "cells": [
  {
   "cell_type": "code",
   "execution_count": null,
   "metadata": {},
   "outputs": [],
   "source": [
    "# !pip install Korpora\n",
    "# !pip install tokenizers"
   ]
  },
  {
   "cell_type": "code",
   "execution_count": 4,
   "metadata": {},
   "outputs": [],
   "source": [
    "from Korpora import Korpora"
   ]
  },
  {
   "cell_type": "code",
   "execution_count": null,
   "metadata": {},
   "outputs": [],
   "source": [
    "nsmc = Korpora.load('nsmc', force_download=True)"
   ]
  },
  {
   "cell_type": "code",
   "execution_count": 8,
   "metadata": {},
   "outputs": [],
   "source": [
    "import os\n",
    "import shutil\n",
    "\n",
    "if os.path.exists('data-files/nsmc'):\n",
    "    shutil.rmtree('data-files/nsmc')\n",
    "\n",
    "os.mkdir('data-files/nsmc')\n",
    "\n",
    "with open('data-files/nsmc/train.txt', 'w', encoding='utf-8') as f:\n",
    "    for line in nsmc.train.get_all_texts():\n",
    "        f.write(f\"{line}\\n\")\n",
    "with open('data-files/nsmc/test.txt', 'w', encoding='utf-8') as f:\n",
    "    for line in nsmc.test.get_all_texts():\n",
    "        f.write(f\"{line}\\n\")"
   ]
  },
  {
   "cell_type": "code",
   "execution_count": 9,
   "metadata": {},
   "outputs": [],
   "source": [
    "from tokenizers import BertWordPieceTokenizer\n",
    "from transformers import BertTokenizer"
   ]
  },
  {
   "cell_type": "code",
   "execution_count": null,
   "metadata": {},
   "outputs": [
    {
     "data": {
      "text/plain": [
       "['data-files/nsmc/wordpiece\\\\vocab.txt']"
      ]
     },
     "execution_count": 11,
     "metadata": {},
     "output_type": "execute_result"
    }
   ],
   "source": [
    "wordpiece_tokenizer = BertWordPieceTokenizer(lowercase=False)\n",
    "wordpiece_tokenizer.train(\n",
    "    ['data-files/nsmc/train.txt', 'data-files/nsmc/test.txt'],\n",
    "    vocab_size=10000\n",
    ")\n",
    "\n",
    "if os.path.exists('data-files/nsmc/wordpiece'):\n",
    "    shutil.rmtree('data-files/nsmc/wordpiece')\n",
    "os.mkdir('data-files/nsmc/wordpiece')\n",
    "\n",
    "wordpiece_tokenizer.save_model('data-files/nsmc/wordpiece')"
   ]
  },
  {
   "cell_type": "code",
   "execution_count": null,
   "metadata": {},
   "outputs": [],
   "source": [
    "bert_tokenizer = \\\n",
    "    BertTokenizer.from_pretrained('data-files/nsmc/wordpiece', do_lower_case=False)\n",
    "\n",
    "\n",
    "[ bert_tokenizer.tokenize(text) for text in nsmc.train.texts[:10] ]"
   ]
  },
  {
   "cell_type": "code",
   "execution_count": 16,
   "metadata": {},
   "outputs": [
    {
     "data": {
      "text/plain": [
       "{'input_ids': [[2, 620, 2631, 16, 16, 1993, 3678, 1990, 3323, 3, 0, 0], [2, 997, 16, 16, 16, 2609, 2045, 2796, 1981, 1112, 16, 3], [2, 1, 3, 0, 0, 0, 0, 0, 0, 0, 0, 0], [2, 155, 1054, 1151, 2111, 9393, 16, 16, 2245, 2942, 2080, 3], [2, 3167, 1883, 1454, 1232, 1027, 711, 1333, 3326, 2342, 3153, 3]], 'token_type_ids': [[0, 0, 0, 0, 0, 0, 0, 0, 0, 0, 0, 0], [0, 0, 0, 0, 0, 0, 0, 0, 0, 0, 0, 0], [0, 0, 0, 0, 0, 0, 0, 0, 0, 0, 0, 0], [0, 0, 0, 0, 0, 0, 0, 0, 0, 0, 0, 0], [0, 0, 0, 0, 0, 0, 0, 0, 0, 0, 0, 0]], 'attention_mask': [[1, 1, 1, 1, 1, 1, 1, 1, 1, 1, 0, 0], [1, 1, 1, 1, 1, 1, 1, 1, 1, 1, 1, 1], [1, 1, 1, 0, 0, 0, 0, 0, 0, 0, 0, 0], [1, 1, 1, 1, 1, 1, 1, 1, 1, 1, 1, 1], [1, 1, 1, 1, 1, 1, 1, 1, 1, 1, 1, 1]]}"
      ]
     },
     "execution_count": 16,
     "metadata": {},
     "output_type": "execute_result"
    }
   ],
   "source": [
    "result = bert_tokenizer(\n",
    "    nsmc.train.texts[:5],\n",
    "    padding='max_length',\n",
    "    max_length=12,\n",
    "    truncation=True\n",
    ")\n",
    "result"
   ]
  },
  {
   "cell_type": "code",
   "execution_count": 13,
   "metadata": {},
   "outputs": [],
   "source": [
    "from tokenizers import ByteLevelBPETokenizer\n",
    "from transformers import GPT2Tokenizer"
   ]
  },
  {
   "cell_type": "code",
   "execution_count": 23,
   "metadata": {},
   "outputs": [
    {
     "data": {
      "text/plain": [
       "['data-files/nsmc/bpe\\\\vocab.json', 'data-files/nsmc/bpe\\\\merges.txt']"
      ]
     },
     "execution_count": 23,
     "metadata": {},
     "output_type": "execute_result"
    }
   ],
   "source": [
    "bpe_tokenizer = ByteLevelBPETokenizer()\n",
    "bpe_tokenizer.train(\n",
    "    ['data-files/nsmc/train.txt', 'data-files/nsmc/test.txt'],\n",
    "    vocab_size=10000,\n",
    "    special_tokens=['[PAD]']\n",
    ")\n",
    "\n",
    "if os.path.exists('data-files/nsmc/bpe'):\n",
    "    shutil.rmtree('data-files/nsmc/bpe')\n",
    "os.mkdir('data-files/nsmc/bpe')\n",
    "\n",
    "bpe_tokenizer.save_model('data-files/nsmc/bpe')"
   ]
  },
  {
   "cell_type": "code",
   "execution_count": null,
   "metadata": {},
   "outputs": [],
   "source": [
    "gpt_tokenizer = GPT2Tokenizer.from_pretrained('data-files/nsmc/bpe')\n",
    "gpt_tokenizer.pad_token = '[PAD]'\n",
    "\n",
    "[gpt_tokenizer.tokenize(text) for text in nsmc.train.texts[:5]]"
   ]
  },
  {
   "cell_type": "code",
   "execution_count": 25,
   "metadata": {},
   "outputs": [
    {
     "data": {
      "text/plain": [
       "{'input_ids': [[335, 2339, 264, 582, 4056, 465, 3809, 0, 0, 0, 0, 0], [3694, 337, 2877, 759, 2884, 357, 807, 423, 9876, 876, 2961, 7293], [695, 478, 109, 242, 644, 3966, 1068, 2286, 2717, 970, 0, 0], [936, 295, 573, 997, 9463, 1252, 1693, 3056, 898, 264, 849, 743], [4537, 5654, 2199, 7775, 5022, 1018, 3099, 1574, 2855, 3525, 302, 1]], 'attention_mask': [[1, 1, 1, 1, 1, 1, 1, 0, 0, 0, 0, 0], [1, 1, 1, 1, 1, 1, 1, 1, 1, 1, 1, 1], [1, 1, 1, 1, 1, 1, 1, 1, 1, 1, 0, 0], [1, 1, 1, 1, 1, 1, 1, 1, 1, 1, 1, 1], [1, 1, 1, 1, 1, 1, 1, 1, 1, 1, 1, 1]]}"
      ]
     },
     "execution_count": 25,
     "metadata": {},
     "output_type": "execute_result"
    }
   ],
   "source": [
    "result = gpt_tokenizer(\n",
    "    nsmc.train.texts[:5],\n",
    "    padding='max_length',\n",
    "    max_length=12,\n",
    "    truncation=True\n",
    ")\n",
    "result"
   ]
  }
 ],
 "metadata": {
  "kernelspec": {
   "display_name": "human-dl-env2",
   "language": "python",
   "name": "python3"
  },
  "language_info": {
   "codemirror_mode": {
    "name": "ipython",
    "version": 3
   },
   "file_extension": ".py",
   "mimetype": "text/x-python",
   "name": "python",
   "nbconvert_exporter": "python",
   "pygments_lexer": "ipython3",
   "version": "3.9.21"
  }
 },
 "nbformat": 4,
 "nbformat_minor": 2
}
